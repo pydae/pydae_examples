{
 "cells": [
  {
   "cell_type": "code",
   "execution_count": 2,
   "id": "9585ccd8",
   "metadata": {},
   "outputs": [],
   "source": [
    "import numpy as np\n",
    "import sympy as sym\n",
    "import pydae.build_v2 as bldr"
   ]
  },
  {
   "cell_type": "code",
   "execution_count": 3,
   "id": "a4a15c18",
   "metadata": {},
   "outputs": [],
   "source": [
    "u_dict = {}\n",
    "f_list = []\n",
    "x_list = []\n",
    "g_list = []\n",
    "y_list = []\n",
    "h_dict = {}\n",
    "params_dict = {}"
   ]
  },
  {
   "cell_type": "code",
   "execution_count": null,
   "id": "c921ea69",
   "metadata": {},
   "outputs": [],
   "source": []
  },
  {
   "cell_type": "markdown",
   "id": "856be2d0",
   "metadata": {},
   "source": [
    "## Low Pass Filter (lpf)"
   ]
  },
  {
   "cell_type": "code",
   "execution_count": 7,
   "id": "3f106d5d",
   "metadata": {},
   "outputs": [],
   "source": [
    "x,u = sym.symbols('x_lpf,u_lpf', real=True)\n",
    "T,K = sym.symbols('T_lpf,K_lpf', real=True)\n",
    "\n",
    "#           ┌─────────────┐        \n",
    "#    u      │      K      │    x   \n",
    "#    ──────►│ ─────────── ├───────►\n",
    "#           │   T s + 1   │        \n",
    "#           └─────────────┘        \n",
    "\n",
    "dx = 1/T*(K*u - x)\n",
    "\n",
    "f_list += [dx]\n",
    "x_list += [ x]\n",
    "\n",
    "u_dict.update({str(u):0.0})\n",
    "h_dict.update({str(u):u, str(x):x})\n",
    "params_dict.update({str(T):0.2,str(K):1.0})\n"
   ]
  },
  {
   "cell_type": "markdown",
   "id": "89b8863a",
   "metadata": {},
   "source": [
    "## Second order system "
   ]
  },
  {
   "cell_type": "code",
   "execution_count": 8,
   "id": "d21aa6be",
   "metadata": {},
   "outputs": [],
   "source": [
    "x,v,f= sym.symbols('x_ms,v_ms,f_ms', real=True)\n",
    "M,D,K = sym.symbols('M_ms,D_ms,K_ms', real=True)\n",
    "\n",
    "#           ┌────────────────┐        \n",
    "#    u      │        1       │    z   \n",
    "#    ───────┤ ────────────── ├───────►\n",
    "#           │  Ms² + Ds + K  │        \n",
    "#           └────────────────┘        \n",
    "\n",
    "\n",
    "dx = v\n",
    "dv = 1/M*(f - D*v - K*x)\n",
    "\n",
    "f_list += [dx,dv]\n",
    "x_list += [ x, v]\n",
    "\n",
    "u_dict.update({str(f):0.0})\n",
    "h_dict.update({'E_k_ms':1/2*M*v_ms**2, 'E_p_ms':K*x_ms})\n",
    "params_dict.update({'M':1.0,'D':0.1,'K':10})"
   ]
  },
  {
   "cell_type": "markdown",
   "id": "9fbb5b67",
   "metadata": {},
   "source": [
    "## Lead-lag "
   ]
  },
  {
   "cell_type": "code",
   "execution_count": 6,
   "id": "0a47b85a",
   "metadata": {},
   "outputs": [],
   "source": [
    "u,x= sym.symbols('u_ll,x_ll', real=True)\n",
    "T_1,T_2 = sym.symbols('T_1,T_2', real=True)\n",
    "\n",
    "#            ┌───────────┐        \n",
    "#     u      │  T₁s + 1  │    z   \n",
    "#     ──────►│ ───────── ├───────►\n",
    "#            │  T₂s + 1  │        \n",
    "#            └───────────┘        \n",
    " \n",
    "\n",
    "dx =  (u - x)/T_2\n",
    "\n",
    "\n",
    "h = (u - x)*T_1/T_2 + x\n",
    "\n",
    "f_list += [dx]\n",
    "x_list += [ x]\n",
    "\n",
    "u_dict.update({str(u):0.0})\n",
    "h_dict.update({'z_ll':h})\n",
    "params_dict.update({'T_1':1.0,'T_2':1.0})"
   ]
  },
  {
   "cell_type": "markdown",
   "id": "0378b2f2",
   "metadata": {},
   "source": [
    "### Washout "
   ]
  },
  {
   "cell_type": "code",
   "execution_count": 9,
   "id": "ef6f2e67",
   "metadata": {},
   "outputs": [],
   "source": [
    "u,x= sym.symbols('u_wo,x_wo', real=True)\n",
    "T = sym.symbols('T_wo', real=True)\n",
    "\n",
    "#            ┌───────────┐        \n",
    "#     u      │    T·s    │    z   \n",
    "#     ──────►│ ───────── ├───────►\n",
    "#            │  T·s + 1  │        \n",
    "#            └───────────┘        \n",
    " \n",
    "\n",
    "dx =  (u - x)/T\n",
    "\n",
    "h = u - x\n",
    "\n",
    "f_list += [dx]\n",
    "x_list += [ x]\n",
    "\n",
    "u_dict.update({str(u):0.0})\n",
    "h_dict.update({'z_wo':h})\n",
    "params_dict.update({'T_wo':10.0})"
   ]
  },
  {
   "cell_type": "markdown",
   "id": "47f65351",
   "metadata": {},
   "source": [
    "### Derivative (aproximate)"
   ]
  },
  {
   "cell_type": "code",
   "execution_count": 10,
   "id": "029a5695",
   "metadata": {},
   "outputs": [],
   "source": [
    "u,x= sym.symbols('u_d,x_d', real=True)\n",
    "T = sym.symbols('T_d', real=True)\n",
    "\n",
    "#            ┌───────────┐        \n",
    "#     u      │     s     │    z   \n",
    "#     ──────►│ ───────── ├───────►\n",
    "#            │  T·s + 1  │        \n",
    "#            └───────────┘        \n",
    " \n",
    "\n",
    "dx =  (u - x)/T\n",
    "\n",
    "h = (u - x)/T\n",
    "\n",
    "f_list += [dx]\n",
    "x_list += [ x]\n",
    "\n",
    "u_dict.update({str(u):0.0})\n",
    "h_dict.update({'z_d':h})\n",
    "params_dict.update({'T_d':10.0})"
   ]
  },
  {
   "cell_type": "markdown",
   "id": "7c6dabf7",
   "metadata": {},
   "source": [
    "### PI control over LPF"
   ]
  },
  {
   "cell_type": "code",
   "execution_count": 11,
   "id": "0e6f65d1",
   "metadata": {},
   "outputs": [],
   "source": [
    "u,x= sym.symbols('u_d,x_d', real=True)\n",
    "T = sym.symbols('T_d', real=True)\n",
    "\n",
    "#  z*   ┌───┐       ┌───┐                             ┌────────────┐         \n",
    "#  ────►│+  │       │Kp │                  ┌───┐      │     1      │    z    \n",
    "#       │   ├───────┤   ├─┬───────────────►│+  ├─────►│ ─────────  ├───┬───► \n",
    "#  ┌───►│-  │       └───┘ │                │   │      │  Ts + 1    │   │     \n",
    "#  │    └───┘             │           ┌───►│+  │      └────────────┘   │     \n",
    "#  │                      │           │    └───┘                       │     \n",
    "#  │                      │   ┌─────┐ │                                │     \n",
    "#  │                      │   │  1  │ │                                │     \n",
    "#  │                      └───┤ ─── ├─┘                                │     \n",
    "#  │                          │ Tis │                                  │     \n",
    "#  │                          └─────┘                                  │     \n",
    "#  │                                                                   │     \n",
    "#  └───────────────────────────────────────────────────────────────────┘     \n",
    " \n",
    "\n",
    "dx =  (u - x)/T\n",
    "\n",
    "h = (u - x)/T\n",
    "\n",
    "f_list += [dx]\n",
    "x_list += [ x]\n",
    "\n",
    "u_dict.update({str(u):0.0})\n",
    "h_dict.update({'z_d':h})\n",
    "params_dict.update({'T_d':10.0})"
   ]
  },
  {
   "cell_type": "code",
   "execution_count": null,
   "id": "140604cf",
   "metadata": {},
   "outputs": [],
   "source": [
    "u,x= sym.symbols('u_d,x_d', real=True)\n",
    "T = sym.symbols('T_d', real=True)\n",
    "\n",
    "#            ┌───────────┐        \n",
    "#     u      │     s     │    z   \n",
    "#     ──────►│ ───────── ├───────►\n",
    "#            │  T·s + 1  │        \n",
    "#            └───────────┘        \n",
    " \n",
    "\n",
    "dx =  (u - x)/T\n",
    "\n",
    "h = (u - x)/T\n",
    "\n",
    "f_list += [dx]\n",
    "x_list += [ x]\n",
    "\n",
    "u_dict.update({str(u):0.0})\n",
    "h_dict.update({'z_d':h})\n",
    "params_dict.update({'T_d':10.0})"
   ]
  },
  {
   "cell_type": "code",
   "execution_count": 2,
   "id": "7f57a080",
   "metadata": {},
   "outputs": [],
   "source": [
    "params_dict = {'C_1':1.0,\n",
    "               'C_2':2.0,\n",
    "               'C_3':3.0,\n",
    "               'C_4':4.0}\n",
    "\n",
    "\n",
    "u_ini_dict = {'u_1':1.0,'u_2':2.0}  # for the initialization problem\n",
    "u_run_dict = {'u_1':1.0,'u_2':2.0}  # for the running problem (here initialization and running problem are the same)\n",
    "\n",
    "\n",
    "x_list = ['x_1','x_2']    # [inductor current, PI integrator]\n",
    "y_ini_list = ['y_1','y_2'] # for the initialization problem\n",
    "y_run_list = ['y_1','y_2'] # for the running problem (here initialization and running problem are the same)\n",
    "\n",
    "sys_vars = {'params':params_dict,\n",
    "            'u_list':u_run_dict,\n",
    "            'x_list':x_list,\n",
    "            'y_list':y_run_list}\n",
    "\n",
    "exec(db.sym_gen_str())  # exec to generate the required symbolic varables and constants"
   ]
  },
  {
   "cell_type": "code",
   "execution_count": 3,
   "id": "78e51260",
   "metadata": {},
   "outputs": [],
   "source": [
    "u_1,u_2 = sym.symbols('u_1,u_2',real=True)\n",
    "dx_1 = C_1*u_1 - C_2*x_1 \n",
    "dx_2 = C_3*y_1 - C_2*x_2 + y_2*x_1 \n",
    "\n",
    "eq_y_1 = -y_1 + u_2\n",
    "eq_y_2 = -y_2 + x_1\n",
    "\n",
    "f_list = [dx_1,dx_2]\n",
    "g_list = [eq_y_1,eq_y_2]\n",
    "h_dict = {'z_1':x_1,'z_2':u_1*y_1}"
   ]
  },
  {
   "cell_type": "code",
   "execution_count": 4,
   "id": "6be005e8",
   "metadata": {},
   "outputs": [
    {
     "name": "stdout",
     "output_type": "stream",
     "text": [
      "check_system (time: 0.0)\n",
      "computing jacobians Fx_run,Fy_run  (time: 0.030 s)\n",
      "computing jacobians Gx_run,Gy_run  (time: 0.050 s)\n",
      "computing jacobians Fu_run,Gu_run  (time: 0.056 s)\n",
      "Matrix([[C_1*u_1 - C_2*x_1, -C_2*x_2 + C_3*y_1 + x_1*y_2]])\n",
      "Matrix([[u_1, u_2]])\n",
      "Matrix([[C_1, 0], [0, 0]])\n",
      "computing jacobians Fx_ini,Fy_ini  (time: 0.064 s)\n",
      "computing jacobians Gx_ini,Gy_ini  (time: 0.066 s)\n",
      "computing jacobians Hx_run,Hy_run,Hu_run  (time: 0.06881451606750488 s)\n",
      "end system  (time: 0.073 s)\n",
      "computing jac_ini (time: 0.0)\n",
      "computing jac_run (time: 0.000997304916381836)\n",
      "computing jac_trap (time: 0.0019953250885009766)\n",
      "end of jacobians computation (time: 0.014)\n",
      "writting f_ini and g_ini code (time: 0.000 s)\n",
      "writting f_run and g_run code (time: 0.037 s)\n",
      "writting h_run code (time: 0.037 s)\n",
      "converting jac_ini to sp_jac_ini  (time: 0.037 s)\n",
      "running sym2rhs for sp_jac_ini (time: 0.037 s)\n",
      "converting jac_run to sp_jac_run  (time: 0.069 s)\n",
      "running sym2rhs for sp_jac_run (time: 0.069 s)\n",
      "converting jac_trap to sp_jac_trap  (time: 0.069 s)\n",
      "running sym2rhs for sp_jac_trap (time: 0.069 s)\n",
      "wrtting  de_jac_trap code (time: 0.116 s)\n",
      "writting sp_jac_trap code (time: 0.116 s)\n",
      "converting Fu_run to sparse (time: 0.116 s)\n",
      "Matrix([[C_1, 0], [0, 0]])\n",
      "running sym2rhs for Fu_run (time: 0.116 s)\n",
      "writting  Fu_run code (time: 0.116 s)\n",
      "writting Fu_run code (time: 0.116 s)\n",
      "converting Gu_run to sparse (time: 0.128 s)\n",
      "Matrix([[0, 1], [0, 0]])\n",
      "running sym2rhs for Gu_run (time: 0.129 s)\n",
      "writting  Gu_run code (time: 0.131 s)\n",
      "writting Gu_run code (time: 0.131 s)\n",
      "converting Hx_run to sparse (time: 0.138 s)\n",
      "Matrix([[1, 0], [0, 0]])\n",
      "running sym2rhs for Hx_run (time: 0.141 s)\n",
      "writting  Hx_run code (time: 0.143 s)\n",
      "writting Hx_run code (time: 0.143 s)\n",
      "converting Hy_run to sparse (time: 0.151 s)\n",
      "Matrix([[0, 0], [u_1, 0]])\n",
      "running sym2rhs for Hy_run (time: 0.153 s)\n",
      "writting  Hy_run code (time: 0.154 s)\n",
      "writting Hy_run code (time: 0.155 s)\n",
      "converting Hu_run to sparse (time: 0.164 s)\n",
      "Matrix([[0, 0], [y_1, 0]])\n",
      "running sym2rhs for Hu_run (time: 0.165 s)\n",
      "writting  Hu_run code (time: 0.166 s)\n",
      "writting Hu_run code (time: 0.166 s)\n",
      "writting full source (time: 0.175 s)\n",
      "Code wrote in 0.186 s\n",
      "Compilation time: 12.38 s\n",
      "sys2num (time: 0.060)\n"
     ]
    }
   ],
   "source": [
    "sys = {'name':f\"basic_1\",'uz_jacs':True,\n",
    "       'params_dict':params_dict,\n",
    "       'f_list':f_list,\n",
    "       'g_list':g_list,\n",
    "       'x_list':x_list,\n",
    "       'y_ini_list':y_list,\n",
    "       'y_run_list':y_list,\n",
    "       'u_run_dict':u_run_dict,\n",
    "       'u_ini_dict':u_ini_dict,\n",
    "       'h_dict':h_dict\n",
    "      }\n",
    "\n",
    "sys = db.build(sys,verbose=True)"
   ]
  },
  {
   "cell_type": "code",
   "execution_count": 5,
   "id": "25ae3d9a",
   "metadata": {},
   "outputs": [
    {
     "data": {
      "text/latex": [
       "$\\displaystyle \\left[\\begin{matrix}0 & 0\\\\u_{1} & 0\\end{matrix}\\right]$"
      ],
      "text/plain": [
       "Matrix([\n",
       "[  0, 0],\n",
       "[u_1, 0]])"
      ]
     },
     "execution_count": 5,
     "metadata": {},
     "output_type": "execute_result"
    }
   ],
   "source": [
    "sys['Hy_run']"
   ]
  },
  {
   "cell_type": "code",
   "execution_count": 8,
   "id": "e058e5fb",
   "metadata": {},
   "outputs": [],
   "source": [
    "from sympy.matrices.sparsetools import _doktocsr\n",
    "from sympy import SparseMatrix\n"
   ]
  },
  {
   "cell_type": "code",
   "execution_count": 9,
   "id": "4e3237a4",
   "metadata": {},
   "outputs": [],
   "source": [
    "sp_jac_list = _doktocsr(SparseMatrix(Fu_run))  "
   ]
  },
  {
   "cell_type": "code",
   "execution_count": 10,
   "id": "3b537646",
   "metadata": {},
   "outputs": [
    {
     "data": {
      "text/plain": [
       "[[C_1], [0], [0, 1, 1], [2, 2]]"
      ]
     },
     "execution_count": 10,
     "metadata": {},
     "output_type": "execute_result"
    }
   ],
   "source": [
    "sp_jac_list"
   ]
  },
  {
   "cell_type": "code",
   "execution_count": null,
   "id": "63e138bb",
   "metadata": {},
   "outputs": [],
   "source": []
  }
 ],
 "metadata": {
  "kernelspec": {
   "display_name": "Python 3 (ipykernel)",
   "language": "python",
   "name": "python3"
  },
  "language_info": {
   "codemirror_mode": {
    "name": "ipython",
    "version": 3
   },
   "file_extension": ".py",
   "mimetype": "text/x-python",
   "name": "python",
   "nbconvert_exporter": "python",
   "pygments_lexer": "ipython3",
   "version": "3.11.8"
  }
 },
 "nbformat": 4,
 "nbformat_minor": 5
}

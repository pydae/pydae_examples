{
 "cells": [
  {
   "cell_type": "code",
   "execution_count": 1,
   "metadata": {},
   "outputs": [],
   "source": [
    "import numpy as np\n",
    "import sympy as sym\n",
    "import json\n",
    "from pydae.urisi.urisi_builder import urisi\n",
    "import pydae.build_cffi as db\n",
    "from pydae.build_v2 import builder\n"
   ]
  },
  {
   "cell_type": "code",
   "execution_count": 2,
   "metadata": {
    "scrolled": true
   },
   "outputs": [
    {
     "name": "stdout",
     "output_type": "stream",
     "text": [
      "-0.5235987755982988\n"
     ]
    }
   ],
   "source": [
    "grid = urisi('acdc_7bus.hjson')\n",
    "grid.uz_jacs = True\n",
    "grid.construct('acdc_7bus')\n",
    "# grid.compile('acdc_7bus')"
   ]
  },
  {
   "cell_type": "code",
   "execution_count": 3,
   "metadata": {},
   "outputs": [],
   "source": [
    "b = db.builder(grid.sys_dict)\n",
    "b.build()"
   ]
  },
  {
   "cell_type": "code",
   "execution_count": null,
   "metadata": {},
   "outputs": [],
   "source": []
  },
  {
   "cell_type": "code",
   "execution_count": null,
   "metadata": {},
   "outputs": [],
   "source": []
  },
  {
   "cell_type": "code",
   "execution_count": 15,
   "metadata": {},
   "outputs": [
    {
     "name": "stdout",
     "output_type": "stream",
     "text": [
      "build_v2.py, line 137  g Matrix([[0.0392156862745098*V_A0_0_i + 0.00980392156862745*V_A0_0_r - 0.0196078431372549*V_A0_1_i - 0.00490196078431373*V_A0_1_r - 0.0196078431372549*V_A0_2_i - 0.00490196078431373*V_A0_2_r - 1.69808902702831*V_A1_0_i - 0.424522256757078*V_A1_0_r + 1.69808902702831*V_A1_1_i + 0.424522256757078*V_A1_1_r - i_vsc_A0_a_r, 0.00980392156862745*V_A0_0_i - 0.0392156862745098*V_A0_0_r - 0.00490196078431373*V_A0_1_i + 0.0196078431372549*V_A0_1_r - 0.00490196078431373*V_A0_2_i + 0.0196078431372549*V_A0_2_r - 0.424522256757078*V_A1_0_i + 1.69808902702831*V_A1_0_r + 0.424522256757078*V_A1_1_i - 1.69808902702831*V_A1_1_r - i_vsc_A0_a_i, -0.0196078431372549*V_A0_0_i - 0.00490196078431373*V_A0_0_r + 0.0392156862745098*V_A0_1_i + 0.00980392156862745*V_A0_1_r - 0.0196078431372549*V_A0_2_i - 0.00490196078431373*V_A0_2_r - 1.69808902702831*V_A1_1_i - 0.424522256757078*V_A1_1_r + 1.69808902702831*V_A1_2_i + 0.424522256757078*V_A1_2_r - i_vsc_A0_b_r, -0.00490196078431373*V_A0_0_i + 0.0196078431372549*V_A0_0_r + 0.00980392156862745*V_A0_1_i - 0.0392156862745098*V_A0_1_r - 0.00490196078431373*V_A0_2_i + 0.0196078431372549*V_A0_2_r - 0.424522256757078*V_A1_1_i + 1.69808902702831*V_A1_1_r + 0.424522256757078*V_A1_2_i - 1.69808902702831*V_A1_2_r - i_vsc_A0_b_i, -0.0196078431372549*V_A0_0_i - 0.00490196078431373*V_A0_0_r - 0.0196078431372549*V_A0_1_i - 0.00490196078431373*V_A0_1_r + 0.0392156862745098*V_A0_2_i + 0.00980392156862745*V_A0_2_r + 1.69808902702831*V_A1_0_i + 0.424522256757078*V_A1_0_r - 1.69808902702831*V_A1_2_i - 0.424522256757078*V_A1_2_r - i_vsc_A0_c_r, -0.00490196078431373*V_A0_0_i + 0.0196078431372549*V_A0_0_r - 0.00490196078431373*V_A0_1_i + 0.0196078431372549*V_A0_1_r + 0.00980392156862745*V_A0_2_i - 0.0392156862745098*V_A0_2_r + 0.424522256757078*V_A1_0_i - 1.69808902702831*V_A1_0_r - 0.424522256757078*V_A1_2_i + 1.69808902702831*V_A1_2_r - i_vsc_A0_c_i, -1.69808902702831*V_A0_0_i - 0.424522256757078*V_A0_0_r + 1.69808902702831*V_A0_2_i + 0.424522256757078*V_A0_2_r + 147.058823529412*V_A1_0_i + 36.7647058823529*V_A1_0_r - 147.058823529412*V_A1_3_i - 36.7647058823529*V_A1_3_r - i_brk_A1_a_r*u_brk_A1, -0.424522256757078*V_A0_0_i + 1.69808902702831*V_A0_0_r + 0.424522256757078*V_A0_2_i - 1.69808902702831*V_A0_2_r + 36.7647058823529*V_A1_0_i - 147.058823529412*V_A1_0_r - 36.7647058823529*V_A1_3_i + 147.058823529412*V_A1_3_r - i_brk_A1_a_i*u_brk_A1, 1.69808902702831*V_A0_0_i + 0.424522256757078*V_A0_0_r - 1.69808902702831*V_A0_1_i - 0.424522256757078*V_A0_1_r + 147.058823529412*V_A1_1_i + 36.7647058823529*V_A1_1_r - 147.058823529412*V_A1_3_i - 36.7647058823529*V_A1_3_r - i_brk_A1_b_r*u_brk_A1, 0.424522256757078*V_A0_0_i - 1.69808902702831*V_A0_0_r - 0.424522256757078*V_A0_1_i + 1.69808902702831*V_A0_1_r + 36.7647058823529*V_A1_1_i - 147.058823529412*V_A1_1_r - 36.7647058823529*V_A1_3_i + 147.058823529412*V_A1_3_r - i_brk_A1_b_i*u_brk_A1, 1.69808902702831*V_A0_1_i + 0.424522256757078*V_A0_1_r - 1.69808902702831*V_A0_2_i - 0.424522256757078*V_A0_2_r + 147.058823529412*V_A1_2_i + 36.7647058823529*V_A1_2_r - 147.058823529412*V_A1_3_i - 36.7647058823529*V_A1_3_r - i_brk_A1_c_r*u_brk_A1, 0.424522256757078*V_A0_1_i - 1.69808902702831*V_A0_1_r - 0.424522256757078*V_A0_2_i + 1.69808902702831*V_A0_2_r + 36.7647058823529*V_A1_2_i - 147.058823529412*V_A1_2_r - 36.7647058823529*V_A1_3_i + 147.058823529412*V_A1_3_r - i_brk_A1_c_i*u_brk_A1, -147.058823529412*V_A1_0_i - 36.7647058823529*V_A1_0_r - 147.058823529412*V_A1_1_i - 36.7647058823529*V_A1_1_r - 147.058823529412*V_A1_2_i - 36.7647058823529*V_A1_2_r - V_A1_3_i*(b_shunt_A1_3 - 441.176470588235) + V_A1_3_r*g_shunt_A1_3 + 110.294117647059*V_A1_3_r - i_brk_A1_n_r*u_brk_A1, -36.7647058823529*V_A1_0_i + 147.058823529412*V_A1_0_r - 36.7647058823529*V_A1_1_i + 147.058823529412*V_A1_1_r - 36.7647058823529*V_A1_2_i + 147.058823529412*V_A1_2_r + V_A1_3_i*g_shunt_A1_3 + 110.294117647059*V_A1_3_i + V_A1_3_r*(b_shunt_A1_3 - 441.176470588235) - i_brk_A1_n_i*u_brk_A1, -V_A2_0_i*b_A2_0_A3_0_0 + V_A2_0_r*g_A2_0_A3_0_0 - V_A2_1_i*b_A2_0_A3_0_1 + V_A2_1_r*g_A2_0_A3_0_1 - V_A2_2_i*b_A2_0_A3_0_2 + V_A2_2_r*g_A2_0_A3_0_2 - V_A2_3_i*b_A2_0_A3_0_3 + V_A2_3_r*g_A2_0_A3_0_3 + V_A3_0_i*b_A2_0_A3_0_0 - V_A3_0_r*g_A2_0_A3_0_0 + V_A3_1_i*b_A2_0_A3_0_1 - V_A3_1_r*g_A2_0_A3_0_1 + V_A3_2_i*b_A2_0_A3_0_2 - V_A3_2_r*g_A2_0_A3_0_2 + V_A3_3_i*b_A2_0_A3_0_3 - V_A3_3_r*g_A2_0_A3_0_3 + i_brk_A1_a_r*u_brk_A1 - i_load_A2_a_r - i_vsc_A2_a_r, V_A2_0_i*g_A2_0_A3_0_0 + V_A2_0_r*b_A2_0_A3_0_0 + V_A2_1_i*g_A2_0_A3_0_1 + V_A2_1_r*b_A2_0_A3_0_1 + V_A2_2_i*g_A2_0_A3_0_2 + V_A2_2_r*b_A2_0_A3_0_2 + V_A2_3_i*g_A2_0_A3_0_3 + V_A2_3_r*b_A2_0_A3_0_3 - V_A3_0_i*g_A2_0_A3_0_0 - V_A3_0_r*b_A2_0_A3_0_0 - V_A3_1_i*g_A2_0_A3_0_1 - V_A3_1_r*b_A2_0_A3_0_1 - V_A3_2_i*g_A2_0_A3_0_2 - V_A3_2_r*b_A2_0_A3_0_2 - V_A3_3_i*g_A2_0_A3_0_3 - V_A3_3_r*b_A2_0_A3_0_3 + i_brk_A1_a_i*u_brk_A1 - i_load_A2_a_i - i_vsc_A2_a_i, -V_A2_0_i*b_A2_1_A3_1_0 + V_A2_0_r*g_A2_1_A3_1_0 - V_A2_1_i*b_A2_1_A3_1_1 + V_A2_1_r*g_A2_1_A3_1_1 - V_A2_2_i*b_A2_1_A3_1_2 + V_A2_2_r*g_A2_1_A3_1_2 - V_A2_3_i*b_A2_1_A3_1_3 + V_A2_3_r*g_A2_1_A3_1_3 + V_A3_0_i*b_A2_1_A3_1_0 - V_A3_0_r*g_A2_1_A3_1_0 + V_A3_1_i*b_A2_1_A3_1_1 - V_A3_1_r*g_A2_1_A3_1_1 + V_A3_2_i*b_A2_1_A3_1_2 - V_A3_2_r*g_A2_1_A3_1_2 + V_A3_3_i*b_A2_1_A3_1_3 - V_A3_3_r*g_A2_1_A3_1_3 + i_brk_A1_b_r*u_brk_A1 - i_load_A2_b_r - i_vsc_A2_b_r, V_A2_0_i*g_A2_1_A3_1_0 + V_A2_0_r*b_A2_1_A3_1_0 + V_A2_1_i*g_A2_1_A3_1_1 + V_A2_1_r*b_A2_1_A3_1_1 + V_A2_2_i*g_A2_1_A3_1_2 + V_A2_2_r*b_A2_1_A3_1_2 + V_A2_3_i*g_A2_1_A3_1_3 + V_A2_3_r*b_A2_1_A3_1_3 - V_A3_0_i*g_A2_1_A3_1_0 - V_A3_0_r*b_A2_1_A3_1_0 - V_A3_1_i*g_A2_1_A3_1_1 - V_A3_1_r*b_A2_1_A3_1_1 - V_A3_2_i*g_A2_1_A3_1_2 - V_A3_2_r*b_A2_1_A3_1_2 - V_A3_3_i*g_A2_1_A3_1_3 - V_A3_3_r*b_A2_1_A3_1_3 + i_brk_A1_b_i*u_brk_A1 - i_load_A2_b_i - i_vsc_A2_b_i, -V_A2_0_i*b_A2_2_A3_2_0 + V_A2_0_r*g_A2_2_A3_2_0 - V_A2_1_i*b_A2_2_A3_2_1 + V_A2_1_r*g_A2_2_A3_2_1 - V_A2_2_i*b_A2_2_A3_2_2 + V_A2_2_r*g_A2_2_A3_2_2 - V_A2_3_i*b_A2_2_A3_2_3 + V_A2_3_r*g_A2_2_A3_2_3 + V_A3_0_i*b_A2_2_A3_2_0 - V_A3_0_r*g_A2_2_A3_2_0 + V_A3_1_i*b_A2_2_A3_2_1 - V_A3_1_r*g_A2_2_A3_2_1 + V_A3_2_i*b_A2_2_A3_2_2 - V_A3_2_r*g_A2_2_A3_2_2 + V_A3_3_i*b_A2_2_A3_2_3 - V_A3_3_r*g_A2_2_A3_2_3 + i_brk_A1_c_r*u_brk_A1 - i_load_A2_c_r - i_vsc_A2_c_r, V_A2_0_i*g_A2_2_A3_2_0 + V_A2_0_r*b_A2_2_A3_2_0 + V_A2_1_i*g_A2_2_A3_2_1 + V_A2_1_r*b_A2_2_A3_2_1 + V_A2_2_i*g_A2_2_A3_2_2 + V_A2_2_r*b_A2_2_A3_2_2 + V_A2_3_i*g_A2_2_A3_2_3 + V_A2_3_r*b_A2_2_A3_2_3 - V_A3_0_i*g_A2_2_A3_2_0 - V_A3_0_r*b_A2_2_A3_2_0 - V_A3_1_i*g_A2_2_A3_2_1 - V_A3_1_r*b_A2_2_A3_2_1 - V_A3_2_i*g_A2_2_A3_2_2 - V_A3_2_r*b_A2_2_A3_2_2 - V_A3_3_i*g_A2_2_A3_2_3 - V_A3_3_r*b_A2_2_A3_2_3 + i_brk_A1_c_i*u_brk_A1 - i_load_A2_c_i - i_vsc_A2_c_i, -V_A2_0_i*b_A2_3_A3_3_0 + V_A2_0_r*g_A2_3_A3_3_0 - V_A2_1_i*b_A2_3_A3_3_1 + V_A2_1_r*g_A2_3_A3_3_1 - V_A2_2_i*b_A2_3_A3_3_2 + V_A2_2_r*g_A2_3_A3_3_2 - V_A2_3_i*(b_A2_3_A3_3_3 + b_shunt_A2_3) + V_A2_3_r*g_A2_3_A3_3_3 + V_A2_3_r*g_shunt_A2_3 + V_A3_0_i*b_A2_3_A3_3_0 - V_A3_0_r*g_A2_3_A3_3_0 + V_A3_1_i*b_A2_3_A3_3_1 - V_A3_1_r*g_A2_3_A3_3_1 + V_A3_2_i*b_A2_3_A3_3_2 - V_A3_2_r*g_A2_3_A3_3_2 + V_A3_3_i*b_A2_3_A3_3_3 - V_A3_3_r*g_A2_3_A3_3_3 + i_brk_A1_n_r*u_brk_A1 - i_load_A2_n_r - i_vsc_A2_n_r, V_A2_0_i*g_A2_3_A3_3_0 + V_A2_0_r*b_A2_3_A3_3_0 + V_A2_1_i*g_A2_3_A3_3_1 + V_A2_1_r*b_A2_3_A3_3_1 + V_A2_2_i*g_A2_3_A3_3_2 + V_A2_2_r*b_A2_3_A3_3_2 + V_A2_3_i*g_A2_3_A3_3_3 + V_A2_3_i*g_shunt_A2_3 + V_A2_3_r*(b_A2_3_A3_3_3 + b_shunt_A2_3) - V_A3_0_i*g_A2_3_A3_3_0 - V_A3_0_r*b_A2_3_A3_3_0 - V_A3_1_i*g_A2_3_A3_3_1 - V_A3_1_r*b_A2_3_A3_3_1 - V_A3_2_i*g_A2_3_A3_3_2 - V_A3_2_r*b_A2_3_A3_3_2 - V_A3_3_i*g_A2_3_A3_3_3 - V_A3_3_r*b_A2_3_A3_3_3 + i_brk_A1_n_i*u_brk_A1 - i_load_A2_n_i - i_vsc_A2_n_i, V_A2_0_i*b_A2_0_A3_0_0 - V_A2_0_r*g_A2_0_A3_0_0 + V_A2_1_i*b_A2_0_A3_0_1 - V_A2_1_r*g_A2_0_A3_0_1 + V_A2_2_i*b_A2_0_A3_0_2 - V_A2_2_r*g_A2_0_A3_0_2 + V_A2_3_i*b_A2_0_A3_0_3 - V_A2_3_r*g_A2_0_A3_0_3 - V_A3_0_i*(b_A2_0_A3_0_0 + b_A3_0_A4_0_0) + V_A3_0_r*g_A2_0_A3_0_0 + V_A3_0_r*g_A3_0_A4_0_0 - V_A3_1_i*(b_A2_0_A3_0_1 + b_A3_0_A4_0_1) + V_A3_1_r*g_A2_0_A3_0_1 + V_A3_1_r*g_A3_0_A4_0_1 - V_A3_2_i*(b_A2_0_A3_0_2 + b_A3_0_A4_0_2) + V_A3_2_r*g_A2_0_A3_0_2 + V_A3_2_r*g_A3_0_A4_0_2 - V_A3_3_i*(b_A2_0_A3_0_3 + b_A3_0_A4_0_3) + V_A3_3_r*g_A2_0_A3_0_3 + V_A3_3_r*g_A3_0_A4_0_3 + V_A4_0_i*b_A3_0_A4_0_0 - V_A4_0_r*g_A3_0_A4_0_0 + V_A4_1_i*b_A3_0_A4_0_1 - V_A4_1_r*g_A3_0_A4_0_1 + V_A4_2_i*b_A3_0_A4_0_2 - V_A4_2_r*g_A3_0_A4_0_2 + V_A4_3_i*b_A3_0_A4_0_3 - V_A4_3_r*g_A3_0_A4_0_3 - i_load_A3_a_r - i_vsc_A3_a_r, -V_A2_0_i*g_A2_0_A3_0_0 - V_A2_0_r*b_A2_0_A3_0_0 - V_A2_1_i*g_A2_0_A3_0_1 - V_A2_1_r*b_A2_0_A3_0_1 - V_A2_2_i*g_A2_0_A3_0_2 - V_A2_2_r*b_A2_0_A3_0_2 - V_A2_3_i*g_A2_0_A3_0_3 - V_A2_3_r*b_A2_0_A3_0_3 + V_A3_0_i*g_A2_0_A3_0_0 + V_A3_0_i*g_A3_0_A4_0_0 + V_A3_0_r*(b_A2_0_A3_0_0 + b_A3_0_A4_0_0) + V_A3_1_i*g_A2_0_A3_0_1 + V_A3_1_i*g_A3_0_A4_0_1 + V_A3_1_r*(b_A2_0_A3_0_1 + b_A3_0_A4_0_1) + V_A3_2_i*g_A2_0_A3_0_2 + V_A3_2_i*g_A3_0_A4_0_2 + V_A3_2_r*(b_A2_0_A3_0_2 + b_A3_0_A4_0_2) + V_A3_3_i*g_A2_0_A3_0_3 + V_A3_3_i*g_A3_0_A4_0_3 + V_A3_3_r*(b_A2_0_A3_0_3 + b_A3_0_A4_0_3) - V_A4_0_i*g_A3_0_A4_0_0 - V_A4_0_r*b_A3_0_A4_0_0 - V_A4_1_i*g_A3_0_A4_0_1 - V_A4_1_r*b_A3_0_A4_0_1 - V_A4_2_i*g_A3_0_A4_0_2 - V_A4_2_r*b_A3_0_A4_0_2 - V_A4_3_i*g_A3_0_A4_0_3 - V_A4_3_r*b_A3_0_A4_0_3 - i_load_A3_a_i - i_vsc_A3_a_i, V_A2_0_i*b_A2_1_A3_1_0 - V_A2_0_r*g_A2_1_A3_1_0 + V_A2_1_i*b_A2_1_A3_1_1 - V_A2_1_r*g_A2_1_A3_1_1 + V_A2_2_i*b_A2_1_A3_1_2 - V_A2_2_r*g_A2_1_A3_1_2 + V_A2_3_i*b_A2_1_A3_1_3 - V_A2_3_r*g_A2_1_A3_1_3 - V_A3_0_i*(b_A2_1_A3_1_0 + b_A3_1_A4_1_0) + V_A3_0_r*g_A2_1_A3_1_0 + V_A3_0_r*g_A3_1_A4_1_0 - V_A3_1_i*(b_A2_1_A3_1_1 + b_A3_1_A4_1_1) + V_A3_1_r*g_A2_1_A3_1_1 + V_A3_1_r*g_A3_1_A4_1_1 - V_A3_2_i*(b_A2_1_A3_1_2 + b_A3_1_A4_1_2) + V_A3_2_r*g_A2_1_A3_1_2 + V_A3_2_r*g_A3_1_A4_1_2 - V_A3_3_i*(b_A2_1_A3_1_3 + b_A3_1_A4_1_3) + V_A3_3_r*g_A2_1_A3_1_3 + V_A3_3_r*g_A3_1_A4_1_3 + V_A4_0_i*b_A3_1_A4_1_0 - V_A4_0_r*g_A3_1_A4_1_0 + V_A4_1_i*b_A3_1_A4_1_1 - V_A4_1_r*g_A3_1_A4_1_1 + V_A4_2_i*b_A3_1_A4_1_2 - V_A4_2_r*g_A3_1_A4_1_2 + V_A4_3_i*b_A3_1_A4_1_3 - V_A4_3_r*g_A3_1_A4_1_3 - i_load_A3_b_r - i_vsc_A3_b_r, -V_A2_0_i*g_A2_1_A3_1_0 - V_A2_0_r*b_A2_1_A3_1_0 - V_A2_1_i*g_A2_1_A3_1_1 - V_A2_1_r*b_A2_1_A3_1_1 - V_A2_2_i*g_A2_1_A3_1_2 - V_A2_2_r*b_A2_1_A3_1_2 - V_A2_3_i*g_A2_1_A3_1_3 - V_A2_3_r*b_A2_1_A3_1_3 + V_A3_0_i*g_A2_1_A3_1_0 + V_A3_0_i*g_A3_1_A4_1_0 + V_A3_0_r*(b_A2_1_A3_1_0 + b_A3_1_A4_1_0) + V_A3_1_i*g_A2_1_A3_1_1 + V_A3_1_i*g_A3_1_A4_1_1 + V_A3_1_r*(b_A2_1_A3_1_1 + b_A3_1_A4_1_1) + V_A3_2_i*g_A2_1_A3_1_2 + V_A3_2_i*g_A3_1_A4_1_2 + V_A3_2_r*(b_A2_1_A3_1_2 + b_A3_1_A4_1_2) + V_A3_3_i*g_A2_1_A3_1_3 + V_A3_3_i*g_A3_1_A4_1_3 + V_A3_3_r*(b_A2_1_A3_1_3 + b_A3_1_A4_1_3) - V_A4_0_i*g_A3_1_A4_1_0 - V_A4_0_r*b_A3_1_A4_1_0 - V_A4_1_i*g_A3_1_A4_1_1 - V_A4_1_r*b_A3_1_A4_1_1 - V_A4_2_i*g_A3_1_A4_1_2 - V_A4_2_r*b_A3_1_A4_1_2 - V_A4_3_i*g_A3_1_A4_1_3 - V_A4_3_r*b_A3_1_A4_1_3 - i_load_A3_b_i - i_vsc_A3_b_i, V_A2_0_i*b_A2_2_A3_2_0 - V_A2_0_r*g_A2_2_A3_2_0 + V_A2_1_i*b_A2_2_A3_2_1 - V_A2_1_r*g_A2_2_A3_2_1 + V_A2_2_i*b_A2_2_A3_2_2 - V_A2_2_r*g_A2_2_A3_2_2 + V_A2_3_i*b_A2_2_A3_2_3 - V_A2_3_r*g_A2_2_A3_2_3 - V_A3_0_i*(b_A2_2_A3_2_0 + b_A3_2_A4_2_0) + V_A3_0_r*g_A2_2_A3_2_0 + V_A3_0_r*g_A3_2_A4_2_0 - V_A3_1_i*(b_A2_2_A3_2_1 + b_A3_2_A4_2_1) + V_A3_1_r*g_A2_2_A3_2_1 + V_A3_1_r*g_A3_2_A4_2_1 - V_A3_2_i*(b_A2_2_A3_2_2 + b_A3_2_A4_2_2) + V_A3_2_r*g_A2_2_A3_2_2 + V_A3_2_r*g_A3_2_A4_2_2 - V_A3_3_i*(b_A2_2_A3_2_3 + b_A3_2_A4_2_3) + V_A3_3_r*g_A2_2_A3_2_3 + V_A3_3_r*g_A3_2_A4_2_3 + V_A4_0_i*b_A3_2_A4_2_0 - V_A4_0_r*g_A3_2_A4_2_0 + V_A4_1_i*b_A3_2_A4_2_1 - V_A4_1_r*g_A3_2_A4_2_1 + V_A4_2_i*b_A3_2_A4_2_2 - V_A4_2_r*g_A3_2_A4_2_2 + V_A4_3_i*b_A3_2_A4_2_3 - V_A4_3_r*g_A3_2_A4_2_3 - i_load_A3_c_r - i_vsc_A3_c_r, -V_A2_0_i*g_A2_2_A3_2_0 - V_A2_0_r*b_A2_2_A3_2_0 - V_A2_1_i*g_A2_2_A3_2_1 - V_A2_1_r*b_A2_2_A3_2_1 - V_A2_2_i*g_A2_2_A3_2_2 - V_A2_2_r*b_A2_2_A3_2_2 - V_A2_3_i*g_A2_2_A3_2_3 - V_A2_3_r*b_A2_2_A3_2_3 + V_A3_0_i*g_A2_2_A3_2_0 + V_A3_0_i*g_A3_2_A4_2_0 + V_A3_0_r*(b_A2_2_A3_2_0 + b_A3_2_A4_2_0) + V_A3_1_i*g_A2_2_A3_2_1 + V_A3_1_i*g_A3_2_A4_2_1 + V_A3_1_r*(b_A2_2_A3_2_1 + b_A3_2_A4_2_1) + V_A3_2_i*g_A2_2_A3_2_2 + V_A3_2_i*g_A3_2_A4_2_2 + V_A3_2_r*(b_A2_2_A3_2_2 + b_A3_2_A4_2_2) + V_A3_3_i*g_A2_2_A3_2_3 + V_A3_3_i*g_A3_2_A4_2_3 + V_A3_3_r*(b_A2_2_A3_2_3 + b_A3_2_A4_2_3) - V_A4_0_i*g_A3_2_A4_2_0 - V_A4_0_r*b_A3_2_A4_2_0 - V_A4_1_i*g_A3_2_A4_2_1 - V_A4_1_r*b_A3_2_A4_2_1 - V_A4_2_i*g_A3_2_A4_2_2 - V_A4_2_r*b_A3_2_A4_2_2 - V_A4_3_i*g_A3_2_A4_2_3 - V_A4_3_r*b_A3_2_A4_2_3 - i_load_A3_c_i - i_vsc_A3_c_i, V_A2_0_i*b_A2_3_A3_3_0 - V_A2_0_r*g_A2_3_A3_3_0 + V_A2_1_i*b_A2_3_A3_3_1 - V_A2_1_r*g_A2_3_A3_3_1 + V_A2_2_i*b_A2_3_A3_3_2 - V_A2_2_r*g_A2_3_A3_3_2 + V_A2_3_i*b_A2_3_A3_3_3 - V_A2_3_r*g_A2_3_A3_3_3 - V_A3_0_i*(b_A2_3_A3_3_0 + b_A3_3_A4_3_0) + V_A3_0_r*g_A2_3_A3_3_0 + V_A3_0_r*g_A3_3_A4_3_0 - V_A3_1_i*(b_A2_3_A3_3_1 + b_A3_3_A4_3_1) + V_A3_1_r*g_A2_3_A3_3_1 + V_A3_1_r*g_A3_3_A4_3_1 - V_A3_2_i*(b_A2_3_A3_3_2 + b_A3_3_A4_3_2) + V_A3_2_r*g_A2_3_A3_3_2 + V_A3_2_r*g_A3_3_A4_3_2 - V_A3_3_i*(b_A2_3_A3_3_3 + b_A3_3_A4_3_3) + V_A3_3_r*g_A2_3_A3_3_3 + V_A3_3_r*g_A3_3_A4_3_3 + V_A4_0_i*b_A3_3_A4_3_0 - V_A4_0_r*g_A3_3_A4_3_0 + V_A4_1_i*b_A3_3_A4_3_1 - V_A4_1_r*g_A3_3_A4_3_1 + V_A4_2_i*b_A3_3_A4_3_2 - V_A4_2_r*g_A3_3_A4_3_2 + V_A4_3_i*b_A3_3_A4_3_3 - V_A4_3_r*g_A3_3_A4_3_3 - i_load_A3_n_r - i_vsc_A3_n_r, -V_A2_0_i*g_A2_3_A3_3_0 - V_A2_0_r*b_A2_3_A3_3_0 - V_A2_1_i*g_A2_3_A3_3_1 - V_A2_1_r*b_A2_3_A3_3_1 - V_A2_2_i*g_A2_3_A3_3_2 - V_A2_2_r*b_A2_3_A3_3_2 - V_A2_3_i*g_A2_3_A3_3_3 - V_A2_3_r*b_A2_3_A3_3_3 + V_A3_0_i*g_A2_3_A3_3_0 + V_A3_0_i*g_A3_3_A4_3_0 + V_A3_0_r*(b_A2_3_A3_3_0 + b_A3_3_A4_3_0) + V_A3_1_i*g_A2_3_A3_3_1 + V_A3_1_i*g_A3_3_A4_3_1 + V_A3_1_r*(b_A2_3_A3_3_1 + b_A3_3_A4_3_1) + V_A3_2_i*g_A2_3_A3_3_2 + V_A3_2_i*g_A3_3_A4_3_2 + V_A3_2_r*(b_A2_3_A3_3_2 + b_A3_3_A4_3_2) + V_A3_3_i*g_A2_3_A3_3_3 + V_A3_3_i*g_A3_3_A4_3_3 + V_A3_3_r*(b_A2_3_A3_3_3 + b_A3_3_A4_3_3) - V_A4_0_i*g_A3_3_A4_3_0 - V_A4_0_r*b_A3_3_A4_3_0 - V_A4_1_i*g_A3_3_A4_3_1 - V_A4_1_r*b_A3_3_A4_3_1 - V_A4_2_i*g_A3_3_A4_3_2 - V_A4_2_r*b_A3_3_A4_3_2 - V_A4_3_i*g_A3_3_A4_3_3 - V_A4_3_r*b_A3_3_A4_3_3 - i_load_A3_n_i - i_vsc_A3_n_i, V_A3_0_i*b_A3_0_A4_0_0 - V_A3_0_r*g_A3_0_A4_0_0 + V_A3_1_i*b_A3_0_A4_0_1 - V_A3_1_r*g_A3_0_A4_0_1 + V_A3_2_i*b_A3_0_A4_0_2 - V_A3_2_r*g_A3_0_A4_0_2 + V_A3_3_i*b_A3_0_A4_0_3 - V_A3_3_r*g_A3_0_A4_0_3 - V_A4_0_i*b_A3_0_A4_0_0 + V_A4_0_r*g_A3_0_A4_0_0 - V_A4_1_i*b_A3_0_A4_0_1 + V_A4_1_r*g_A3_0_A4_0_1 - V_A4_2_i*b_A3_0_A4_0_2 + V_A4_2_r*g_A3_0_A4_0_2 - V_A4_3_i*b_A3_0_A4_0_3 + V_A4_3_r*g_A3_0_A4_0_3 - i_load_A4_a_r - i_vsc_A4_a_r, -V_A3_0_i*g_A3_0_A4_0_0 - V_A3_0_r*b_A3_0_A4_0_0 - V_A3_1_i*g_A3_0_A4_0_1 - V_A3_1_r*b_A3_0_A4_0_1 - V_A3_2_i*g_A3_0_A4_0_2 - V_A3_2_r*b_A3_0_A4_0_2 - V_A3_3_i*g_A3_0_A4_0_3 - V_A3_3_r*b_A3_0_A4_0_3 + V_A4_0_i*g_A3_0_A4_0_0 + V_A4_0_r*b_A3_0_A4_0_0 + V_A4_1_i*g_A3_0_A4_0_1 + V_A4_1_r*b_A3_0_A4_0_1 + V_A4_2_i*g_A3_0_A4_0_2 + V_A4_2_r*b_A3_0_A4_0_2 + V_A4_3_i*g_A3_0_A4_0_3 + V_A4_3_r*b_A3_0_A4_0_3 - i_load_A4_a_i - i_vsc_A4_a_i, V_A3_0_i*b_A3_1_A4_1_0 - V_A3_0_r*g_A3_1_A4_1_0 + V_A3_1_i*b_A3_1_A4_1_1 - V_A3_1_r*g_A3_1_A4_1_1 + V_A3_2_i*b_A3_1_A4_1_2 - V_A3_2_r*g_A3_1_A4_1_2 + V_A3_3_i*b_A3_1_A4_1_3 - V_A3_3_r*g_A3_1_A4_1_3 - V_A4_0_i*b_A3_1_A4_1_0 + V_A4_0_r*g_A3_1_A4_1_0 - V_A4_1_i*b_A3_1_A4_1_1 + V_A4_1_r*g_A3_1_A4_1_1 - V_A4_2_i*b_A3_1_A4_1_2 + V_A4_2_r*g_A3_1_A4_1_2 - V_A4_3_i*b_A3_1_A4_1_3 + V_A4_3_r*g_A3_1_A4_1_3 - i_load_A4_b_r - i_vsc_A4_b_r, -V_A3_0_i*g_A3_1_A4_1_0 - V_A3_0_r*b_A3_1_A4_1_0 - V_A3_1_i*g_A3_1_A4_1_1 - V_A3_1_r*b_A3_1_A4_1_1 - V_A3_2_i*g_A3_1_A4_1_2 - V_A3_2_r*b_A3_1_A4_1_2 - V_A3_3_i*g_A3_1_A4_1_3 - V_A3_3_r*b_A3_1_A4_1_3 + V_A4_0_i*g_A3_1_A4_1_0 + V_A4_0_r*b_A3_1_A4_1_0 + V_A4_1_i*g_A3_1_A4_1_1 + V_A4_1_r*b_A3_1_A4_1_1 + V_A4_2_i*g_A3_1_A4_1_2 + V_A4_2_r*b_A3_1_A4_1_2 + V_A4_3_i*g_A3_1_A4_1_3 + V_A4_3_r*b_A3_1_A4_1_3 - i_load_A4_b_i - i_vsc_A4_b_i, V_A3_0_i*b_A3_2_A4_2_0 - V_A3_0_r*g_A3_2_A4_2_0 + V_A3_1_i*b_A3_2_A4_2_1 - V_A3_1_r*g_A3_2_A4_2_1 + V_A3_2_i*b_A3_2_A4_2_2 - V_A3_2_r*g_A3_2_A4_2_2 + V_A3_3_i*b_A3_2_A4_2_3 - V_A3_3_r*g_A3_2_A4_2_3 - V_A4_0_i*b_A3_2_A4_2_0 + V_A4_0_r*g_A3_2_A4_2_0 - V_A4_1_i*b_A3_2_A4_2_1 + V_A4_1_r*g_A3_2_A4_2_1 - V_A4_2_i*b_A3_2_A4_2_2 + V_A4_2_r*g_A3_2_A4_2_2 - V_A4_3_i*b_A3_2_A4_2_3 + V_A4_3_r*g_A3_2_A4_2_3 - i_load_A4_c_r - i_vsc_A4_c_r, -V_A3_0_i*g_A3_2_A4_2_0 - V_A3_0_r*b_A3_2_A4_2_0 - V_A3_1_i*g_A3_2_A4_2_1 - V_A3_1_r*b_A3_2_A4_2_1 - V_A3_2_i*g_A3_2_A4_2_2 - V_A3_2_r*b_A3_2_A4_2_2 - V_A3_3_i*g_A3_2_A4_2_3 - V_A3_3_r*b_A3_2_A4_2_3 + V_A4_0_i*g_A3_2_A4_2_0 + V_A4_0_r*b_A3_2_A4_2_0 + V_A4_1_i*g_A3_2_A4_2_1 + V_A4_1_r*b_A3_2_A4_2_1 + V_A4_2_i*g_A3_2_A4_2_2 + V_A4_2_r*b_A3_2_A4_2_2 + V_A4_3_i*g_A3_2_A4_2_3 + V_A4_3_r*b_A3_2_A4_2_3 - i_load_A4_c_i - i_vsc_A4_c_i, V_A3_0_i*b_A3_3_A4_3_0 - V_A3_0_r*g_A3_3_A4_3_0 + V_A3_1_i*b_A3_3_A4_3_1 - V_A3_1_r*g_A3_3_A4_3_1 + V_A3_2_i*b_A3_3_A4_3_2 - V_A3_2_r*g_A3_3_A4_3_2 + V_A3_3_i*b_A3_3_A4_3_3 - V_A3_3_r*g_A3_3_A4_3_3 - V_A4_0_i*b_A3_3_A4_3_0 + V_A4_0_r*g_A3_3_A4_3_0 - V_A4_1_i*b_A3_3_A4_3_1 + V_A4_1_r*g_A3_3_A4_3_1 - V_A4_2_i*b_A3_3_A4_3_2 + V_A4_2_r*g_A3_3_A4_3_2 - V_A4_3_i*b_A3_3_A4_3_3 + V_A4_3_r*g_A3_3_A4_3_3 - i_load_A4_n_r - i_vsc_A4_n_r, -V_A3_0_i*g_A3_3_A4_3_0 - V_A3_0_r*b_A3_3_A4_3_0 - V_A3_1_i*g_A3_3_A4_3_1 - V_A3_1_r*b_A3_3_A4_3_1 - V_A3_2_i*g_A3_3_A4_3_2 - V_A3_2_r*b_A3_3_A4_3_2 - V_A3_3_i*g_A3_3_A4_3_3 - V_A3_3_r*b_A3_3_A4_3_3 + V_A4_0_i*g_A3_3_A4_3_0 + V_A4_0_r*b_A3_3_A4_3_0 + V_A4_1_i*g_A3_3_A4_3_1 + V_A4_1_r*b_A3_3_A4_3_1 + V_A4_2_i*g_A3_3_A4_3_2 + V_A4_2_r*b_A3_3_A4_3_2 + V_A4_3_i*g_A3_3_A4_3_3 + V_A4_3_r*b_A3_3_A4_3_3 - i_load_A4_n_i - i_vsc_A4_n_i, 47.39336492891*V_D2_0_r - 47.39336492891*V_D3_0_r + i_load_D2_p_r - i_vsc_pos_D2_sp, 47.39436492891*V_D2_0_i - 47.39336492891*V_D3_0_i, 47.39336492891*V_D2_1_r - 47.39336492891*V_D3_1_r - i_load_D2_p_r - i_vsc_D2_sn, 47.39436492891*V_D2_1_i - 47.39336492891*V_D3_1_i, -47.39336492891*V_D2_0_r + 94.7867298578199*V_D3_0_r - 47.39336492891*V_D4_0_r + i_load_D3_p_r - (-Droop_i_D3*i_h_f_D3/2 - Droop_p_D3*i_h_f_D3*(V_D3_0_r - V_D3_1_r)/2 + K_soc_D3*(-K_i_D3*xi_soc_D3 - K_p_D3*(-soc_D3 + soc_ref_D3))/2 + R_g_D3*(V_D3_0_r + V_D3_1_r)/(2*R_g_D3 + R_h_D3) - V_D3_0_r + e_h_ref_D3/2)/R_h_D3, -47.39336492891*V_D2_0_i + 94.7857298578199*V_D3_0_i - 47.39336492891*V_D4_0_i, -47.39336492891*V_D2_1_r + 94.7867298578199*V_D3_1_r - 47.39336492891*V_D4_1_r - i_load_D3_p_r - (Droop_i_D3*i_h_f_D3/2 + Droop_p_D3*i_h_f_D3*(V_D3_0_r - V_D3_1_r)/2 - K_soc_D3*(-K_i_D3*xi_soc_D3 - K_p_D3*(-soc_D3 + soc_ref_D3))/2 + R_g_D3*(V_D3_0_r + V_D3_1_r)/(2*R_g_D3 + R_h_D3) - V_D3_1_r - e_h_ref_D3/2)/R_h_D3, -47.39336492891*V_D2_1_i + 94.7857298578199*V_D3_1_i - 47.39336492891*V_D4_1_i, -47.39336492891*V_D3_0_r + 47.39336492891*V_D4_0_r + i_load_D4_p_r + i_vsc_pos_D4_sp, -47.39336492891*V_D3_0_i + 47.39436492891*V_D4_0_i, -47.39336492891*V_D3_1_r + 47.39336492891*V_D4_1_r - i_load_D4_p_r + i_vsc_D4_sn, -47.39336492891*V_D3_1_i + 47.39436492891*V_D4_1_i, K_abc_A2*(V_A2_0_i**2*g_load_A2_a - 2*V_A2_0_i*V_A2_3_i*g_load_A2_a + V_A2_0_r**2*g_load_A2_a - 2*V_A2_0_r*V_A2_3_r*g_load_A2_a + V_A2_3_i**2*g_load_A2_a + V_A2_3_r**2*g_load_A2_a + p_load_A2_a + (V_A2_0_i*i_load_A2_a_i + V_A2_0_r*i_load_A2_a_r - V_A2_3_i*i_load_A2_a_i - V_A2_3_r*i_load_A2_a_r)*Piecewise((1/((V_A2_0_i**2 + V_A2_0_r**2)**0.5 + 0.3), (V_A2_0_i**2 + V_A2_0_r**2)**0.5 < 0.7), (1.0, True))), K_abc_A2*(V_A2_1_i**2*g_load_A2_b - 2*V_A2_1_i*V_A2_3_i*g_load_A2_b + V_A2_1_r**2*g_load_A2_b - 2*V_A2_1_r*V_A2_3_r*g_load_A2_b + V_A2_3_i**2*g_load_A2_b + V_A2_3_r**2*g_load_A2_b + p_load_A2_b + (V_A2_1_i*i_load_A2_b_i + V_A2_1_r*i_load_A2_b_r - V_A2_3_i*i_load_A2_b_i - V_A2_3_r*i_load_A2_b_r)*Piecewise((1/((V_A2_1_i**2 + V_A2_1_r**2)**0.5 + 0.3), (V_A2_1_i**2 + V_A2_1_r**2)**0.5 < 0.7), (1.0, True))), K_abc_A2*(V_A2_2_i**2*g_load_A2_c - 2*V_A2_2_i*V_A2_3_i*g_load_A2_c + V_A2_2_r**2*g_load_A2_c - 2*V_A2_2_r*V_A2_3_r*g_load_A2_c + V_A2_3_i**2*g_load_A2_c + V_A2_3_r**2*g_load_A2_c + p_load_A2_c + (V_A2_2_i*i_load_A2_c_i + V_A2_2_r*i_load_A2_c_r - V_A2_3_i*i_load_A2_c_i - V_A2_3_r*i_load_A2_c_r)*Piecewise((1/((V_A2_2_i**2 + V_A2_2_r**2)**0.5 + 0.3), (V_A2_2_i**2 + V_A2_2_r**2)**0.5 < 0.7), (1.0, True))), K_abc_A2*(-1.0*V_A2_0_i**2*b_load_A2_a + 2.0*V_A2_0_i*V_A2_3_i*b_load_A2_a - 1.0*V_A2_0_r**2*b_load_A2_a + 2.0*V_A2_0_r*V_A2_3_r*b_load_A2_a - 1.0*V_A2_3_i**2*b_load_A2_a - 1.0*V_A2_3_r**2*b_load_A2_a + q_load_A2_a + (V_A2_0_i*i_load_A2_a_r - V_A2_0_r*i_load_A2_a_i - V_A2_3_i*i_load_A2_a_r + V_A2_3_r*i_load_A2_a_i)*Piecewise((1/((V_A2_0_i**2 + V_A2_0_r**2)**0.5 + 0.3), (V_A2_0_i**2 + V_A2_0_r**2)**0.5 < 0.7), (1.0, True))), K_abc_A2*(-1.0*V_A2_1_i**2*b_load_A2_b + 2.0*V_A2_1_i*V_A2_3_i*b_load_A2_b - 1.0*V_A2_1_r**2*b_load_A2_b + 2.0*V_A2_1_r*V_A2_3_r*b_load_A2_b - 1.0*V_A2_3_i**2*b_load_A2_b - 1.0*V_A2_3_r**2*b_load_A2_b + q_load_A2_b + (V_A2_1_i*i_load_A2_b_r - V_A2_1_r*i_load_A2_b_i - V_A2_3_i*i_load_A2_b_r + V_A2_3_r*i_load_A2_b_i)*Piecewise((1/((V_A2_1_i**2 + V_A2_1_r**2)**0.5 + 0.3), (V_A2_1_i**2 + V_A2_1_r**2)**0.5 < 0.7), (1.0, True))), K_abc_A2*(-1.0*V_A2_2_i**2*b_load_A2_c + 2.0*V_A2_2_i*V_A2_3_i*b_load_A2_c - 1.0*V_A2_2_r**2*b_load_A2_c + 2.0*V_A2_2_r*V_A2_3_r*b_load_A2_c - 1.0*V_A2_3_i**2*b_load_A2_c - 1.0*V_A2_3_r**2*b_load_A2_c + q_load_A2_c + (V_A2_2_i*i_load_A2_c_r - V_A2_2_r*i_load_A2_c_i - V_A2_3_i*i_load_A2_c_r + V_A2_3_r*i_load_A2_c_i)*Piecewise((1/((V_A2_2_i**2 + V_A2_2_r**2)**0.5 + 0.3), (V_A2_2_i**2 + V_A2_2_r**2)**0.5 < 0.7), (1.0, True))), i_load_A2_a_r + i_load_A2_b_r + i_load_A2_c_r + i_load_A2_n_r, i_load_A2_a_i + i_load_A2_b_i + i_load_A2_c_i + i_load_A2_n_i, K_abc_A3*(V_A3_0_i**2*g_load_A3_a - 2*V_A3_0_i*V_A3_3_i*g_load_A3_a + V_A3_0_r**2*g_load_A3_a - 2*V_A3_0_r*V_A3_3_r*g_load_A3_a + V_A3_3_i**2*g_load_A3_a + V_A3_3_r**2*g_load_A3_a + p_load_A3_a + (V_A3_0_i*i_load_A3_a_i + V_A3_0_r*i_load_A3_a_r - V_A3_3_i*i_load_A3_a_i - V_A3_3_r*i_load_A3_a_r)*Piecewise((1/((V_A3_0_i**2 + V_A3_0_r**2)**0.5 + 0.3), (V_A3_0_i**2 + V_A3_0_r**2)**0.5 < 0.7), (1.0, True))), K_abc_A3*(V_A3_1_i**2*g_load_A3_b - 2*V_A3_1_i*V_A3_3_i*g_load_A3_b + V_A3_1_r**2*g_load_A3_b - 2*V_A3_1_r*V_A3_3_r*g_load_A3_b + V_A3_3_i**2*g_load_A3_b + V_A3_3_r**2*g_load_A3_b + p_load_A3_b + (V_A3_1_i*i_load_A3_b_i + V_A3_1_r*i_load_A3_b_r - V_A3_3_i*i_load_A3_b_i - V_A3_3_r*i_load_A3_b_r)*Piecewise((1/((V_A3_1_i**2 + V_A3_1_r**2)**0.5 + 0.3), (V_A3_1_i**2 + V_A3_1_r**2)**0.5 < 0.7), (1.0, True))), K_abc_A3*(V_A3_2_i**2*g_load_A3_c - 2*V_A3_2_i*V_A3_3_i*g_load_A3_c + V_A3_2_r**2*g_load_A3_c - 2*V_A3_2_r*V_A3_3_r*g_load_A3_c + V_A3_3_i**2*g_load_A3_c + V_A3_3_r**2*g_load_A3_c + p_load_A3_c + (V_A3_2_i*i_load_A3_c_i + V_A3_2_r*i_load_A3_c_r - V_A3_3_i*i_load_A3_c_i - V_A3_3_r*i_load_A3_c_r)*Piecewise((1/((V_A3_2_i**2 + V_A3_2_r**2)**0.5 + 0.3), (V_A3_2_i**2 + V_A3_2_r**2)**0.5 < 0.7), (1.0, True))), K_abc_A3*(-1.0*V_A3_0_i**2*b_load_A3_a + 2.0*V_A3_0_i*V_A3_3_i*b_load_A3_a - 1.0*V_A3_0_r**2*b_load_A3_a + 2.0*V_A3_0_r*V_A3_3_r*b_load_A3_a - 1.0*V_A3_3_i**2*b_load_A3_a - 1.0*V_A3_3_r**2*b_load_A3_a + q_load_A3_a + (V_A3_0_i*i_load_A3_a_r - V_A3_0_r*i_load_A3_a_i - V_A3_3_i*i_load_A3_a_r + V_A3_3_r*i_load_A3_a_i)*Piecewise((1/((V_A3_0_i**2 + V_A3_0_r**2)**0.5 + 0.3), (V_A3_0_i**2 + V_A3_0_r**2)**0.5 < 0.7), (1.0, True))), K_abc_A3*(-1.0*V_A3_1_i**2*b_load_A3_b + 2.0*V_A3_1_i*V_A3_3_i*b_load_A3_b - 1.0*V_A3_1_r**2*b_load_A3_b + 2.0*V_A3_1_r*V_A3_3_r*b_load_A3_b - 1.0*V_A3_3_i**2*b_load_A3_b - 1.0*V_A3_3_r**2*b_load_A3_b + q_load_A3_b + (V_A3_1_i*i_load_A3_b_r - V_A3_1_r*i_load_A3_b_i - V_A3_3_i*i_load_A3_b_r + V_A3_3_r*i_load_A3_b_i)*Piecewise((1/((V_A3_1_i**2 + V_A3_1_r**2)**0.5 + 0.3), (V_A3_1_i**2 + V_A3_1_r**2)**0.5 < 0.7), (1.0, True))), K_abc_A3*(-1.0*V_A3_2_i**2*b_load_A3_c + 2.0*V_A3_2_i*V_A3_3_i*b_load_A3_c - 1.0*V_A3_2_r**2*b_load_A3_c + 2.0*V_A3_2_r*V_A3_3_r*b_load_A3_c - 1.0*V_A3_3_i**2*b_load_A3_c - 1.0*V_A3_3_r**2*b_load_A3_c + q_load_A3_c + (V_A3_2_i*i_load_A3_c_r - V_A3_2_r*i_load_A3_c_i - V_A3_3_i*i_load_A3_c_r + V_A3_3_r*i_load_A3_c_i)*Piecewise((1/((V_A3_2_i**2 + V_A3_2_r**2)**0.5 + 0.3), (V_A3_2_i**2 + V_A3_2_r**2)**0.5 < 0.7), (1.0, True))), i_load_A3_a_r + i_load_A3_b_r + i_load_A3_c_r + i_load_A3_n_r, i_load_A3_a_i + i_load_A3_b_i + i_load_A3_c_i + i_load_A3_n_i, K_abc_A4*(V_A4_0_i**2*g_load_A4_a - 2*V_A4_0_i*V_A4_3_i*g_load_A4_a + V_A4_0_r**2*g_load_A4_a - 2*V_A4_0_r*V_A4_3_r*g_load_A4_a + V_A4_3_i**2*g_load_A4_a + V_A4_3_r**2*g_load_A4_a + p_load_A4_a + (V_A4_0_i*i_load_A4_a_i + V_A4_0_r*i_load_A4_a_r - V_A4_3_i*i_load_A4_a_i - V_A4_3_r*i_load_A4_a_r)*Piecewise((1/((V_A4_0_i**2 + V_A4_0_r**2)**0.5 + 0.3), (V_A4_0_i**2 + V_A4_0_r**2)**0.5 < 0.7), (1.0, True))), K_abc_A4*(V_A4_1_i**2*g_load_A4_b - 2*V_A4_1_i*V_A4_3_i*g_load_A4_b + V_A4_1_r**2*g_load_A4_b - 2*V_A4_1_r*V_A4_3_r*g_load_A4_b + V_A4_3_i**2*g_load_A4_b + V_A4_3_r**2*g_load_A4_b + p_load_A4_b + (V_A4_1_i*i_load_A4_b_i + V_A4_1_r*i_load_A4_b_r - V_A4_3_i*i_load_A4_b_i - V_A4_3_r*i_load_A4_b_r)*Piecewise((1/((V_A4_1_i**2 + V_A4_1_r**2)**0.5 + 0.3), (V_A4_1_i**2 + V_A4_1_r**2)**0.5 < 0.7), (1.0, True))), K_abc_A4*(V_A4_2_i**2*g_load_A4_c - 2*V_A4_2_i*V_A4_3_i*g_load_A4_c + V_A4_2_r**2*g_load_A4_c - 2*V_A4_2_r*V_A4_3_r*g_load_A4_c + V_A4_3_i**2*g_load_A4_c + V_A4_3_r**2*g_load_A4_c + p_load_A4_c + (V_A4_2_i*i_load_A4_c_i + V_A4_2_r*i_load_A4_c_r - V_A4_3_i*i_load_A4_c_i - V_A4_3_r*i_load_A4_c_r)*Piecewise((1/((V_A4_2_i**2 + V_A4_2_r**2)**0.5 + 0.3), (V_A4_2_i**2 + V_A4_2_r**2)**0.5 < 0.7), (1.0, True))), K_abc_A4*(-1.0*V_A4_0_i**2*b_load_A4_a + 2.0*V_A4_0_i*V_A4_3_i*b_load_A4_a - 1.0*V_A4_0_r**2*b_load_A4_a + 2.0*V_A4_0_r*V_A4_3_r*b_load_A4_a - 1.0*V_A4_3_i**2*b_load_A4_a - 1.0*V_A4_3_r**2*b_load_A4_a + q_load_A4_a + (V_A4_0_i*i_load_A4_a_r - V_A4_0_r*i_load_A4_a_i - V_A4_3_i*i_load_A4_a_r + V_A4_3_r*i_load_A4_a_i)*Piecewise((1/((V_A4_0_i**2 + V_A4_0_r**2)**0.5 + 0.3), (V_A4_0_i**2 + V_A4_0_r**2)**0.5 < 0.7), (1.0, True))), K_abc_A4*(-1.0*V_A4_1_i**2*b_load_A4_b + 2.0*V_A4_1_i*V_A4_3_i*b_load_A4_b - 1.0*V_A4_1_r**2*b_load_A4_b + 2.0*V_A4_1_r*V_A4_3_r*b_load_A4_b - 1.0*V_A4_3_i**2*b_load_A4_b - 1.0*V_A4_3_r**2*b_load_A4_b + q_load_A4_b + (V_A4_1_i*i_load_A4_b_r - V_A4_1_r*i_load_A4_b_i - V_A4_3_i*i_load_A4_b_r + V_A4_3_r*i_load_A4_b_i)*Piecewise((1/((V_A4_1_i**2 + V_A4_1_r**2)**0.5 + 0.3), (V_A4_1_i**2 + V_A4_1_r**2)**0.5 < 0.7), (1.0, True))), K_abc_A4*(-1.0*V_A4_2_i**2*b_load_A4_c + 2.0*V_A4_2_i*V_A4_3_i*b_load_A4_c - 1.0*V_A4_2_r**2*b_load_A4_c + 2.0*V_A4_2_r*V_A4_3_r*b_load_A4_c - 1.0*V_A4_3_i**2*b_load_A4_c - 1.0*V_A4_3_r**2*b_load_A4_c + q_load_A4_c + (V_A4_2_i*i_load_A4_c_r - V_A4_2_r*i_load_A4_c_i - V_A4_3_i*i_load_A4_c_r + V_A4_3_r*i_load_A4_c_i)*Piecewise((1/((V_A4_2_i**2 + V_A4_2_r**2)**0.5 + 0.3), (V_A4_2_i**2 + V_A4_2_r**2)**0.5 < 0.7), (1.0, True))), i_load_A4_a_r + i_load_A4_b_r + i_load_A4_c_r + i_load_A4_n_r, i_load_A4_a_i + i_load_A4_b_i + i_load_A4_c_i + i_load_A4_n_i, i_load_D2_p_r*(V_D2_0_r - V_D2_1_r) - p_load_D2, i_load_D3_p_r*(V_D3_0_r - V_D3_1_r) - p_load_D3, i_load_D4_p_r*(V_D4_0_r - V_D4_1_r) - p_load_D4, C_a_A2*p_vsc_D2 - p_a_d_A2, C_b_A2*p_vsc_D2 - p_b_d_A2, C_c_A2*p_vsc_D2 - p_c_d_A2, 1.0*V_A2_3_i*i_vsc_A2_n_i + V_A2_3_r*i_vsc_A2_n_r - p_n_d_A2, A_A2*(i_vsc_A2_a_i**2 + i_vsc_A2_a_r**2 + 0.001) + A_A2*(i_vsc_A2_n_i**2 + i_vsc_A2_n_r**2 + 0.001)/3 + B_A2*sqrt(i_vsc_A2_a_i**2 + i_vsc_A2_a_r**2 + 0.001) + B_A2*sqrt(i_vsc_A2_n_i**2 + i_vsc_A2_n_r**2 + 0.001)/3 + 4*C_A2/3 + 1.0*V_A2_0_i*i_vsc_A2_a_i + V_A2_0_r*i_vsc_A2_a_r - 1.0*V_A2_3_i*i_vsc_A2_a_i - V_A2_3_r*i_vsc_A2_a_r - p_a_d_A2, 1.0*V_A2_0_i*i_vsc_A2_a_r - 1.0*V_A2_0_r*i_vsc_A2_a_i - 1.0*V_A2_3_i*i_vsc_A2_a_r + 1.0*V_A2_3_r*i_vsc_A2_a_i - q_vsc_a_A2, A_A2*(i_vsc_A2_b_i**2 + i_vsc_A2_b_r**2 + 0.001) + A_A2*(i_vsc_A2_n_i**2 + i_vsc_A2_n_r**2 + 0.001)/3 + B_A2*sqrt(i_vsc_A2_b_i**2 + i_vsc_A2_b_r**2 + 0.001) + B_A2*sqrt(i_vsc_A2_n_i**2 + i_vsc_A2_n_r**2 + 0.001)/3 + 4*C_A2/3 + 1.0*V_A2_1_i*i_vsc_A2_b_i + V_A2_1_r*i_vsc_A2_b_r - 1.0*V_A2_3_i*i_vsc_A2_b_i - V_A2_3_r*i_vsc_A2_b_r - p_b_d_A2, 1.0*V_A2_1_i*i_vsc_A2_b_r - 1.0*V_A2_1_r*i_vsc_A2_b_i - 1.0*V_A2_3_i*i_vsc_A2_b_r + 1.0*V_A2_3_r*i_vsc_A2_b_i - q_vsc_b_A2, A_A2*(i_vsc_A2_c_i**2 + i_vsc_A2_c_r**2 + 0.001) + A_A2*(i_vsc_A2_n_i**2 + i_vsc_A2_n_r**2 + 0.001)/3 + B_A2*sqrt(i_vsc_A2_c_i**2 + i_vsc_A2_c_r**2 + 0.001) + B_A2*sqrt(i_vsc_A2_n_i**2 + i_vsc_A2_n_r**2 + 0.001)/3 + 4*C_A2/3 + 1.0*V_A2_2_i*i_vsc_A2_c_i + V_A2_2_r*i_vsc_A2_c_r - 1.0*V_A2_3_i*i_vsc_A2_c_i - V_A2_3_r*i_vsc_A2_c_r - p_c_d_A2, 1.0*V_A2_2_i*i_vsc_A2_c_r - 1.0*V_A2_2_r*i_vsc_A2_c_i - 1.0*V_A2_3_i*i_vsc_A2_c_r + 1.0*V_A2_3_r*i_vsc_A2_c_i - q_vsc_c_A2, i_vsc_A2_a_r + i_vsc_A2_b_r + i_vsc_A2_c_r + i_vsc_A2_n_r, i_vsc_A2_a_i + i_vsc_A2_b_i + i_vsc_A2_c_i + i_vsc_A2_n_i, -0.5*K_droop_A2*p_vsc_D2 - R_dc_D2*i_vsc_pos_D2_sp - V_D2_0_r + 0.5*v_dc_D2_ref + v_og_D2, 0.5*K_droop_A2*p_vsc_D2 - R_dc_D2*i_vsc_D2_sn - V_D2_1_r - 0.5*v_dc_D2_ref + v_og_D2, -i_vsc_D2_sn - i_vsc_pos_D2_sp - v_og_D2/R_gdc_D2, i_vsc_D2_sn*(-K_droop_A2*p_vsc_D2/2 + v_dc_D2_ref/2) - i_vsc_pos_D2_sp*(-K_droop_A2*p_vsc_D2/2 + v_dc_D2_ref/2) - p_vsc_D2, 1.0*V_A4_0_i*i_vsc_A4_a_i + V_A4_0_r*i_vsc_A4_a_r - 1.0*V_A4_3_i*i_vsc_A4_a_i - V_A4_3_r*i_vsc_A4_a_r - p_vsc_a_A4, 1.0*V_A4_0_i*i_vsc_A4_a_r - 1.0*V_A4_0_r*i_vsc_A4_a_i - 1.0*V_A4_3_i*i_vsc_A4_a_r + 1.0*V_A4_3_r*i_vsc_A4_a_i - q_vsc_a_A4, 1.0*V_A4_1_i*i_vsc_A4_b_i + V_A4_1_r*i_vsc_A4_b_r - 1.0*V_A4_3_i*i_vsc_A4_b_i - V_A4_3_r*i_vsc_A4_b_r - p_vsc_b_A4, 1.0*V_A4_1_i*i_vsc_A4_b_r - 1.0*V_A4_1_r*i_vsc_A4_b_i - 1.0*V_A4_3_i*i_vsc_A4_b_r + 1.0*V_A4_3_r*i_vsc_A4_b_i - q_vsc_b_A4, 1.0*V_A4_2_i*i_vsc_A4_c_i + V_A4_2_r*i_vsc_A4_c_r - 1.0*V_A4_3_i*i_vsc_A4_c_i - V_A4_3_r*i_vsc_A4_c_r - p_vsc_c_A4, 1.0*V_A4_2_i*i_vsc_A4_c_r - 1.0*V_A4_2_r*i_vsc_A4_c_i - 1.0*V_A4_3_i*i_vsc_A4_c_r + 1.0*V_A4_3_r*i_vsc_A4_c_i - q_vsc_c_A4, i_vsc_A4_a_r + i_vsc_A4_b_r + i_vsc_A4_c_r + i_vsc_A4_n_r, i_vsc_A4_a_i + i_vsc_A4_b_i + i_vsc_A4_c_i + i_vsc_A4_n_i, -i_vsc_pos_D4_sp + p_vsc_D4/(V_D4_0_r - V_D4_1_r), -i_vsc_D4_sn - p_vsc_D4/(V_D4_0_r - V_D4_1_r), 4*A_loss_A4 + B_loss_A4*sqrt(i_vsc_A4_a_i**2 + i_vsc_A4_a_r**2 + 0.01) + B_loss_A4*sqrt(i_vsc_A4_b_i**2 + i_vsc_A4_b_r**2 + 0.01) + B_loss_A4*sqrt(i_vsc_A4_c_i**2 + i_vsc_A4_c_r**2 + 0.01) + B_loss_A4*sqrt(i_vsc_A4_n_i**2 + i_vsc_A4_n_r**2 + 0.01) + C_loss_A4*(i_vsc_A4_a_i**2 + i_vsc_A4_a_r**2 + 0.01) + C_loss_A4*(i_vsc_A4_b_i**2 + i_vsc_A4_b_r**2 + 0.01) + C_loss_A4*(i_vsc_A4_c_i**2 + i_vsc_A4_c_r**2 + 0.01) + C_loss_A4*(i_vsc_A4_n_i**2 + i_vsc_A4_n_r**2 + 0.01) - p_vsc_D4 + p_vsc_a_A4 + p_vsc_b_A4 + p_vsc_c_A4, K_acdc_A4*(-0.00433012701892219*((V_A4_0_i - V_A4_3_i)**2 + (V_A4_0_r - V_A4_3_r)**2)**0.5 + 0.00125*((V_D4_0_i - V_D4_1_i)**2 + (V_D4_0_r - V_D4_1_r)**2)**0.5) - p_vsc_a_A4, K_acdc_A4*(-0.00433012701892219*((V_A4_1_i - V_A4_3_i)**2 + (V_A4_1_r - V_A4_3_r)**2)**0.5 + 0.00125*((V_D4_0_i - V_D4_1_i)**2 + (V_D4_0_r - V_D4_1_r)**2)**0.5) - p_vsc_b_A4, K_acdc_A4*(-0.00433012701892219*((V_A4_2_i - V_A4_3_i)**2 + (V_A4_2_r - V_A4_3_r)**2)**0.5 + 0.00125*((V_D4_0_i - V_D4_1_i)**2 + (V_D4_0_r - V_D4_1_r)**2)**0.5) - p_vsc_c_A4, -R_A3_s*i_vsc_A3_a_r - V_A3_0_r + 1.0*X_A3_s*i_vsc_A3_a_i + v_A3_o_r + (De_ao_m_A3 + e_ao_m_A3)*cos(phi_A3 + phi_a_A3), -R_A3_s*i_vsc_A3_b_r - V_A3_1_r + 1.0*X_A3_s*i_vsc_A3_b_i + v_A3_o_r + (De_bo_m_A3 + e_bo_m_A3)*cos(phi_A3 + phi_b_A3 - 2.0943951023932), -R_A3_s*i_vsc_A3_c_r - V_A3_2_r + 1.0*X_A3_s*i_vsc_A3_c_i + v_A3_o_r + (De_co_m_A3 + e_co_m_A3)*cos(phi_A3 + phi_c_A3 - 4.18879020478639), -R_A3_sn*i_vsc_A3_n_r - V_A3_3_r + 1.0*X_A3_sn*i_vsc_A3_n_i + v_A3_o_r + (De_no_m_A3 + e_no_m_A3)*cos(phi_A3 + phi_n_A3), R_A3_ng*v_A3_o_r/(R_A3_ng**2 + 1.0*X_A3_ng**2) + 1.0*X_A3_ng*v_A3_o_i/(R_A3_ng**2 + 1.0*X_A3_ng**2) + i_vsc_A3_a_r + i_vsc_A3_b_r + i_vsc_A3_c_r + i_vsc_A3_n_r, -1.0*R_A3_s*i_vsc_A3_a_i - 1.0*V_A3_0_i - 1.0*X_A3_s*i_vsc_A3_a_r + 1.0*v_A3_o_i + 1.0*(De_ao_m_A3 + e_ao_m_A3)*sin(phi_A3 + phi_a_A3), -1.0*R_A3_s*i_vsc_A3_b_i - 1.0*V_A3_1_i - 1.0*X_A3_s*i_vsc_A3_b_r + 1.0*v_A3_o_i + 1.0*(De_bo_m_A3 + e_bo_m_A3)*sin(phi_A3 + phi_b_A3 - 2.0943951023932), -1.0*R_A3_s*i_vsc_A3_c_i - 1.0*V_A3_2_i - 1.0*X_A3_s*i_vsc_A3_c_r + 1.0*v_A3_o_i + 1.0*(De_co_m_A3 + e_co_m_A3)*sin(phi_A3 + phi_c_A3 - 4.18879020478639), -1.0*R_A3_sn*i_vsc_A3_n_i - 1.0*V_A3_3_i - 1.0*X_A3_sn*i_vsc_A3_n_r + 1.0*v_A3_o_i + 1.0*(De_no_m_A3 + e_no_m_A3)*sin(phi_A3 + phi_n_A3), 1.0*R_A3_ng*v_A3_o_i/(R_A3_ng**2 + 1.0*X_A3_ng**2) - 1.0*X_A3_ng*v_A3_o_r/(R_A3_ng**2 + 1.0*X_A3_ng**2) + 1.0*i_vsc_A3_a_i + 1.0*i_vsc_A3_b_i + 1.0*i_vsc_A3_c_i + 1.0*i_vsc_A3_n_i, K_p_A3*(-p_ef_A3 + p_m_A3 + xi_p_A3/T_p_A3) - omega_A3 + 1, K_agc_A3*xi_freq + p_cf_A3 - p_m_A3 - (omega_A3 - omega_A3_ref)/Droop_A3, -R_A0_s*i_vsc_A0_a_r - V_A0_0_r + 1.0*X_A0_s*i_vsc_A0_a_i + e_ao_m_A0*cos(phi_A0), -R_A0_s*i_vsc_A0_b_r - V_A0_1_r + 1.0*X_A0_s*i_vsc_A0_b_i + e_bo_m_A0*cos(phi_A0 - 2.0943951023932), -R_A0_s*i_vsc_A0_c_r - V_A0_2_r + 1.0*X_A0_s*i_vsc_A0_c_i + e_co_m_A0*cos(phi_A0 - 4.18879020478639), -1.0*R_A0_s*i_vsc_A0_a_i - 1.0*V_A0_0_i - 1.0*X_A0_s*i_vsc_A0_a_r + 1.0*e_ao_m_A0*sin(phi_A0), -1.0*R_A0_s*i_vsc_A0_b_i - 1.0*V_A0_1_i - 1.0*X_A0_s*i_vsc_A0_b_r + 1.0*e_bo_m_A0*sin(phi_A0 - 2.0943951023932), -1.0*R_A0_s*i_vsc_A0_c_i - 1.0*V_A0_2_i - 1.0*X_A0_s*i_vsc_A0_c_r + 1.0*e_co_m_A0*sin(phi_A0 - 4.18879020478639), -R_bat_D3*(-K_charger_D3*(-K_i_D3*xi_soc_D3 - K_p_D3*(-soc_D3 + soc_ref_D3))/v_bat_D3 + (A_D3*(-Droop_i_D3*i_h_f_D3/2 - Droop_p_D3*i_h_f_D3*(V_D3_0_r - V_D3_1_r)/2 + K_soc_D3*(-K_i_D3*xi_soc_D3 - K_p_D3*(-soc_D3 + soc_ref_D3))/2 + R_g_D3*(V_D3_0_r + V_D3_1_r)/(2*R_g_D3 + R_h_D3) - V_D3_0_r + e_h_ref_D3/2)**2/R_h_D3**2 + B_D3*Abs((Droop_i_D3*i_h_f_D3/2 + Droop_p_D3*i_h_f_D3*(V_D3_0_r - V_D3_1_r)/2 + K_soc_D3*(K_i_D3*xi_soc_D3 + K_p_D3*(-soc_D3 + soc_ref_D3))/2 - R_g_D3*(V_D3_0_r + V_D3_1_r)/(2*R_g_D3 + R_h_D3) + V_D3_0_r - e_h_ref_D3/2)/R_h_D3) + C_D3 + (-Droop_i_D3*i_h_f_D3 - Droop_p_D3*i_h_f_D3*(V_D3_0_r - V_D3_1_r) + K_soc_D3*(-K_i_D3*xi_soc_D3 - K_p_D3*(-soc_D3 + soc_ref_D3)) + e_h_ref_D3)*(-Droop_i_D3*i_h_f_D3/2 - Droop_p_D3*i_h_f_D3*(V_D3_0_r - V_D3_1_r)/2 + K_soc_D3*(-K_i_D3*xi_soc_D3 - K_p_D3*(-soc_D3 + soc_ref_D3))/2 + R_g_D3*(V_D3_0_r + V_D3_1_r)/(2*R_g_D3 + R_h_D3) - V_D3_0_r + e_h_ref_D3/2)/R_h_D3)/v_bat_D3) - v_bat_D3 + Piecewise((500.0*soc_D3 + 600.0, (soc_D3 <= 0.1) & (soc_D3 >= 0)), (300.0*soc_D3 + 620.0, (soc_D3 >= 0.1) & (soc_D3 <= 0.2)), (33.3333333333333*soc_D3 + 673.333333333333, (soc_D3 >= 0.2) & (soc_D3 <= 0.8)), (100.0*soc_D3 + 620.0, (soc_D3 >= 0.8) & (soc_D3 <= 0.9)), (400.0*soc_D3 + 350.0, (soc_D3 >= 0.9) & (soc_D3 <= 1.0)), (0, True)), -R_A1*i_brk_A1_a_r + V_A1_0_r - V_A2_0_r + 1.0*X_A1*i_brk_A1_a_i, -R_A1*i_brk_A1_b_r + V_A1_1_r - V_A2_1_r + 1.0*X_A1*i_brk_A1_b_i, -R_A1*i_brk_A1_c_r + V_A1_2_r - V_A2_2_r + 1.0*X_A1*i_brk_A1_c_i, -R_A1*i_brk_A1_n_r + V_A1_3_r - V_A2_3_r + 1.0*X_A1*i_brk_A1_n_i, -1.0*R_A1*i_brk_A1_a_i + 1.0*V_A1_0_i - 1.0*V_A2_0_i - 1.0*X_A1*i_brk_A1_a_r, -1.0*R_A1*i_brk_A1_b_i + 1.0*V_A1_1_i - 1.0*V_A2_1_i - 1.0*X_A1*i_brk_A1_b_r, -1.0*R_A1*i_brk_A1_c_i + 1.0*V_A1_2_i - 1.0*V_A2_2_i - 1.0*X_A1*i_brk_A1_c_r, -1.0*R_A1*i_brk_A1_n_i + 1.0*V_A1_3_i - 1.0*V_A2_3_i - 1.0*X_A1*i_brk_A1_n_r, -omega_coi + (S_n_A3*omega_A3 + 2.0)/(S_n_A3 + 2.0), K_i_agc*xi_freq + K_p_agc*(1 - omega_coi) - p_agc]])\n",
      "build_v2.py, line 137  u_run Matrix([[p_load_A2_a, q_load_A2_a, g_load_A2_a, b_load_A2_a, p_load_A2_b, q_load_A2_b, g_load_A2_b, b_load_A2_b, p_load_A2_c, q_load_A2_c, g_load_A2_c, b_load_A2_c, p_load_A3_a, q_load_A3_a, g_load_A3_a, b_load_A3_a, p_load_A3_b, q_load_A3_b, g_load_A3_b, b_load_A3_b, p_load_A3_c, q_load_A3_c, g_load_A3_c, b_load_A3_c, p_load_A4_a, q_load_A4_a, g_load_A4_a, b_load_A4_a, p_load_A4_b, q_load_A4_b, g_load_A4_b, b_load_A4_b, p_load_A4_c, q_load_A4_c, g_load_A4_c, b_load_A4_c, p_load_D2, p_load_D3, p_load_D4, v_dc_D2_ref, q_vsc_a_A2, q_vsc_b_A2, q_vsc_c_A2, v_dc_D4_ref, q_vsc_a_A4, q_vsc_b_A4, q_vsc_c_A4, e_ao_m_A3, e_bo_m_A3, e_co_m_A3, e_no_m_A3, v_ra_A3, v_rb_A3, v_rc_A3, v_rn_A3, phi_a_A3, phi_b_A3, phi_c_A3, phi_n_A3, p_c_A3, omega_A3_ref, e_ao_m_A0, e_bo_m_A0, e_co_m_A0, phi_A0, e_h_ref_D3, soc_ref_D3, u_brk_A1, u_freq]])\n"
     ]
    }
   ],
   "source": [
    "b = builder(grid.sys_dict)\n",
    "b.sparse = False\n",
    "b.mkl = False\n",
    "b.uz_jacs = True\n",
    "b.dict2system()\n",
    "b.functions()\n",
    "b.jacobians()\n",
    "b.cwrite()\n",
    "b.template()\n",
    "b.compile()\n"
   ]
  },
  {
   "cell_type": "code",
   "execution_count": null,
   "metadata": {},
   "outputs": [],
   "source": []
  },
  {
   "cell_type": "code",
   "execution_count": null,
   "metadata": {},
   "outputs": [],
   "source": []
  },
  {
   "cell_type": "code",
   "execution_count": 12,
   "metadata": {},
   "outputs": [
    {
     "name": "stdout",
     "output_type": "stream",
     "text": [
      "C_loss = 0.031999999999999994\n",
      "A_loss = 333.3333333333333\n"
     ]
    }
   ],
   "source": [
    "U = 400\n",
    "S = 100e3\n",
    "I = S/(np.sqrt(3)*U)\n",
    "P_cond = 0.02*S\n",
    "C_loss = P_cond/(I**2)/3\n",
    "print(f'C_loss = {C_loss}')\n",
    "P_sw = 0.01*S\n",
    "A_loss = P_sw/3\n",
    "print(f'A_loss = {A_loss}')\n"
   ]
  },
  {
   "cell_type": "code",
   "execution_count": 6,
   "metadata": {},
   "outputs": [
    {
     "data": {
      "text/plain": [
       "625.0"
      ]
     },
     "execution_count": 6,
     "metadata": {},
     "output_type": "execute_result"
    }
   ],
   "source": [
    "I**2*0.03"
   ]
  },
  {
   "cell_type": "code",
   "execution_count": null,
   "metadata": {},
   "outputs": [],
   "source": []
  },
  {
   "cell_type": "code",
   "execution_count": null,
   "metadata": {},
   "outputs": [],
   "source": []
  },
  {
   "cell_type": "code",
   "execution_count": null,
   "metadata": {},
   "outputs": [],
   "source": []
  },
  {
   "cell_type": "code",
   "execution_count": null,
   "metadata": {},
   "outputs": [],
   "source": []
  },
  {
   "cell_type": "code",
   "execution_count": 7,
   "metadata": {},
   "outputs": [
    {
     "ename": "FileNotFoundError",
     "evalue": "[Errno 2] No such file or directory: 'acdc_7bus_s.json'",
     "output_type": "error",
     "traceback": [
      "\u001b[1;31m---------------------------------------------------------------------------\u001b[0m",
      "\u001b[1;31mFileNotFoundError\u001b[0m                         Traceback (most recent call last)",
      "Cell \u001b[1;32mIn[7], line 1\u001b[0m\n\u001b[1;32m----> 1\u001b[0m grid \u001b[38;5;241m=\u001b[39m urisi(\u001b[38;5;124m'\u001b[39m\u001b[38;5;124macdc_7bus_s.json\u001b[39m\u001b[38;5;124m'\u001b[39m)\n\u001b[0;32m      2\u001b[0m grid\u001b[38;5;241m.\u001b[39muz_jacs \u001b[38;5;241m=\u001b[39m \u001b[38;5;28;01mFalse\u001b[39;00m\n\u001b[0;32m      3\u001b[0m grid\u001b[38;5;241m.\u001b[39mconstruct(\u001b[38;5;124m'\u001b[39m\u001b[38;5;124macdc_7bus_s\u001b[39m\u001b[38;5;124m'\u001b[39m)\n",
      "File \u001b[1;32mc:\\Users\\jmmau\\anaconda3\\Lib\\site-packages\\pydae\\urisi\\urisi_builder.py:57\u001b[0m, in \u001b[0;36murisi.__init__\u001b[1;34m(self, data_input)\u001b[0m\n\u001b[0;32m     55\u001b[0m \u001b[38;5;28;01melse\u001b[39;00m:\n\u001b[0;32m     56\u001b[0m     \u001b[38;5;28;01mif\u001b[39;00m os\u001b[38;5;241m.\u001b[39mpath\u001b[38;5;241m.\u001b[39msplitext(data_input)[\u001b[38;5;241m1\u001b[39m] \u001b[38;5;241m==\u001b[39m \u001b[38;5;124m'\u001b[39m\u001b[38;5;124m.json\u001b[39m\u001b[38;5;124m'\u001b[39m:\n\u001b[1;32m---> 57\u001b[0m         \u001b[38;5;28;01mwith\u001b[39;00m \u001b[38;5;28mopen\u001b[39m(data_input,\u001b[38;5;124m'\u001b[39m\u001b[38;5;124mr\u001b[39m\u001b[38;5;124m'\u001b[39m) \u001b[38;5;28;01mas\u001b[39;00m fobj:\n\u001b[0;32m     58\u001b[0m             data \u001b[38;5;241m=\u001b[39m json\u001b[38;5;241m.\u001b[39mloads(fobj\u001b[38;5;241m.\u001b[39mread()\u001b[38;5;241m.\u001b[39mreplace(\u001b[38;5;124m\"\u001b[39m\u001b[38;5;124m'\u001b[39m\u001b[38;5;124m\"\u001b[39m,\u001b[38;5;124m'\u001b[39m\u001b[38;5;124m\"\u001b[39m\u001b[38;5;124m'\u001b[39m))\n\u001b[0;32m     59\u001b[0m     \u001b[38;5;28;01mif\u001b[39;00m os\u001b[38;5;241m.\u001b[39mpath\u001b[38;5;241m.\u001b[39msplitext(data_input)[\u001b[38;5;241m1\u001b[39m] \u001b[38;5;241m==\u001b[39m \u001b[38;5;124m'\u001b[39m\u001b[38;5;124m.hjson\u001b[39m\u001b[38;5;124m'\u001b[39m:\n",
      "\u001b[1;31mFileNotFoundError\u001b[0m: [Errno 2] No such file or directory: 'acdc_7bus_s.json'"
     ]
    }
   ],
   "source": [
    "grid = urisi('acdc_7bus_s.json')\n",
    "grid.uz_jacs = False\n",
    "grid.construct('acdc_7bus_s')\n",
    "#grid.verbose = True\n",
    "grid.compile_mkl('acdc_7bus_s')"
   ]
  },
  {
   "cell_type": "code",
   "execution_count": null,
   "metadata": {},
   "outputs": [
    {
     "name": "stderr",
     "output_type": "stream",
     "text": [
      "2023-07-03 22:45:01,393 check_system\n",
      "2023-07-03 22:45:01,411 computing jacobians Fx_run,Fy_run\n",
      "2023-07-03 22:45:01,530 computing jacobians Gx_run,Gy_run\n",
      "2023-07-03 22:45:03,091 computing jacobians Fu_run,Gu_run\n",
      "2023-07-03 22:45:03,396 computing jacobians Fx_ini,Fy_ini\n",
      "2023-07-03 22:45:03,483 computing jacobians Gy_ini\n",
      "2023-07-03 22:45:05,571 computing jacobians Hx_run,Hy_run,Hu_run\n",
      "2023-07-03 22:45:07,263 end checking and computing jacobians\n",
      "2023-07-03 22:45:07,266 f_ini symbolic to c and xyup\n",
      "2023-07-03 22:45:07,304 end f_ini symbolic to c and xyup\n",
      "2023-07-03 22:45:07,306 f_run symbolic to c and xyup\n",
      "2023-07-03 22:45:07,329 end f symbolic to c and xyup\n",
      "2023-07-03 22:45:07,330 g_ini symbolic to c and xyup\n",
      "2023-07-03 22:45:07,781 end g_ini symbolic to c and xyup\n",
      "2023-07-03 22:45:07,783 g_run symbolic to c and xyup\n",
      "2023-07-03 22:45:08,215 end g_run symbolic to c and xyup\n",
      "2023-07-03 22:45:08,218 h symbolic to c and xyup\n",
      "2023-07-03 22:45:08,377 end h symbolic to c and xyup\n",
      "2023-07-03 22:45:08,378 computing jac_ini\n",
      "2023-07-03 22:45:08,392 computing jac_run\n",
      "2023-07-03 22:45:08,410 computing jac_trap\n",
      "2023-07-03 22:45:08,453 end of large jacobians computation\n",
      "2023-07-03 22:45:08,466 jac_ini symbolic to c\n",
      "2023-07-03 22:45:09,397 end jac_ini symbolic to c\n",
      "2023-07-03 22:45:09,398 jac_ini c to c xyup\n",
      "2023-07-03 22:45:09,422 end jac_ini c to c xyup\n",
      "2023-07-03 22:45:09,431 jac_run symbolic to c\n",
      "2023-07-03 22:45:10,240 end jac_run symbolic to c\n",
      "2023-07-03 22:45:10,241 jac_run c to c xyup\n",
      "2023-07-03 22:45:10,263 end jac_run c to c xyup\n",
      "2023-07-03 22:45:10,272 jac_trap symbolic to c\n",
      "2023-07-03 22:45:11,239 end jac_trap symbolic to c\n",
      "2023-07-03 22:45:11,240 jac_trap c to c xyup\n",
      "2023-07-03 22:45:11,268 end jac_trap c to c xyup\n",
      "2023-07-03 22:45:11,269 Fu_run_sp symbolic to c\n",
      "2023-07-03 22:45:11,271 end Fu_run_sp symbolic to c\n",
      "2023-07-03 22:45:11,272 Fu_run_sp c to c xyup\n",
      "2023-07-03 22:45:11,278 end Fu_run_sp c to c xyup\n",
      "2023-07-03 22:45:13,264 start compiling ini\n",
      "2023-07-03 22:45:17,503 end compiling ini (time for ini: 4.2 s)\n",
      "2023-07-03 22:45:17,517 start compiling run\n",
      "2023-07-03 22:45:21,757 end compiling run (time for run: 4.2 s)\n"
     ]
    }
   ],
   "source": [
    "grid = urisi('acdc_7bus.json')\n",
    "grid.construct('acdc_7bus_c')\n",
    "#grid.verbose = True\n",
    "#grid.construct('acdc_7bus')\n",
    "\n",
    "vscs_end = [{'bus_ac':'A4','bus_dc':'D4'}]\n",
    "\n",
    "for vsc in vscs_end:\n",
    "\n",
    "    bus_ac = vsc['bus_ac']\n",
    "    bus_dc = vsc['bus_dc']\n",
    "\n",
    "    V_0_r,V_0_i = sym.symbols(f'V_{bus_ac}_0_r,V_{bus_ac}_0_i', real = True)\n",
    "    V_1_r,V_1_i = sym.symbols(f'V_{bus_ac}_1_r,V_{bus_ac}_1_i', real = True)\n",
    "    V_2_r,V_2_i = sym.symbols(f'V_{bus_ac}_2_r,V_{bus_ac}_2_i', real = True)\n",
    "    V_3_r,V_3_i = sym.symbols(f'V_{bus_ac}_3_r,V_{bus_ac}_3_i', real = True)\n",
    "\n",
    "    V_dc_0_r,V_dc_0_i = sym.symbols(f'V_{bus_dc}_0_r,V_{bus_dc}_0_i', real = True)\n",
    "    V_dc_1_r,V_dc_1_i = sym.symbols(f'V_{bus_dc}_1_r,V_{bus_dc}_1_i', real = True)\n",
    "\n",
    "\n",
    "    V_an = sym.sqrt((V_0_r-V_3_r)**2 + (V_0_i-V_3_i)**2)\n",
    "    V_bn = sym.sqrt((V_1_r-V_3_r)**2 + (V_1_i-V_3_i)**2)\n",
    "    V_cn = sym.sqrt((V_2_r-V_3_r)**2 + (V_2_i-V_3_i)**2)\n",
    "\n",
    "    V_dc = sym.sqrt((V_dc_0_r-V_dc_1_r)**2 + (V_dc_0_i-V_dc_1_i)**2)\n",
    "\n",
    "    p_vsc_a,p_vsc_b,p_vsc_c = sym.symbols(f'p_vsc_a_{bus_ac},p_vsc_b_{bus_ac},p_vsc_c_{bus_ac}',real=True)\n",
    "    p_vsc_a,p_vsc_b,p_vsc_c = sym.symbols(f'p_vsc_a_{bus_ac},p_vsc_b_{bus_ac},p_vsc_c_{bus_ac}',real=True)\n",
    "\n",
    "    K_droop,T_droop = sym.symbols(f'K_droop_{bus_ac},T_droop_{bus_ac}',real=True)\n",
    "\n",
    "    dp_vsc_a = 1/T_droop*(-p_vsc_a - K_droop*(V_an/231 - V_dc/800))\n",
    "    dp_vsc_b = 1/T_droop*(-p_vsc_b - K_droop*(V_bn/231 - V_dc/800))\n",
    "    dp_vsc_c = 1/T_droop*(-p_vsc_c - K_droop*(V_cn/231 - V_dc/800))\n",
    "\n",
    "    grid.dae['f'] += [dp_vsc_a]\n",
    "    grid.dae['f'] += [dp_vsc_b]\n",
    "    grid.dae['f'] += [dp_vsc_c]\n",
    "\n",
    "    grid.dae['x'] += [p_vsc_a]\n",
    "    grid.dae['x'] += [p_vsc_b]\n",
    "    grid.dae['x'] += [p_vsc_c]\n",
    "\n",
    "    grid.dae['u_ini_dict'].pop(f'p_vsc_a_{bus_ac}')\n",
    "    grid.dae['u_ini_dict'].pop(f'p_vsc_b_{bus_ac}')\n",
    "    grid.dae['u_ini_dict'].pop(f'p_vsc_c_{bus_ac}')\n",
    "\n",
    "    grid.dae['u_run_dict'].pop(f'p_vsc_a_{bus_ac}')\n",
    "    grid.dae['u_run_dict'].pop(f'p_vsc_b_{bus_ac}')\n",
    "    grid.dae['u_run_dict'].pop(f'p_vsc_c_{bus_ac}')\n",
    "\n",
    "    grid.dae['params_dict'].update({f'K_droop_{bus_ac}':0.0,f'T_droop_{bus_ac}':1.0})\n",
    "\n",
    "grid.compile_mkl('acdc_7bus_c')"
   ]
  },
  {
   "cell_type": "code",
   "execution_count": null,
   "metadata": {},
   "outputs": [],
   "source": [
    "import hjson"
   ]
  },
  {
   "cell_type": "code",
   "execution_count": null,
   "metadata": {},
   "outputs": [],
   "source": []
  },
  {
   "cell_type": "code",
   "execution_count": null,
   "metadata": {},
   "outputs": [],
   "source": [
    "def change_line(model,bus_j,bus_k,data_line_code,length,N_branches):\n",
    "    \"\"\"\n",
    "    Change line parameters.\n",
    "\n",
    "    If the argument 'additional' is passed, then it is appended after the main info.\n",
    "\n",
    "    Parameters\n",
    "    ----------\n",
    "    model : pydae object\n",
    "            pydae model of the grid where the line will be modified\n",
    "    bus_j : str\n",
    "            name of the from bus of the line\n",
    "    bus_k : str\n",
    "            name of the to bus of the line\n",
    "    data_line_code : dict \n",
    "            dictionary with 2 keys 'R' and 'X' and the respective matrices as list of lists (see example below)\n",
    "\n",
    "            \n",
    "    Returns\n",
    "    -------\n",
    "    None\n",
    "\n",
    "\n",
    "    Example\n",
    "    -------\n",
    "\n",
    "    data_line_code = {\"R\":[[ 0.211,  0.049,  0.049,  0.049],\n",
    "                           [ 0.049,  0.211,  0.049,  0.049],\n",
    "                           [ 0.049,  0.049,  0.211,  0.049],\n",
    "                           [ 0.049,  0.049,  0.049,  0.211]],\n",
    "                      \"X\":[[ 0.747,  0.673,  0.651,  0.673],\n",
    "                           [ 0.673,  0.747,  0.673,  0.651],\n",
    "                           [ 0.651,  0.673,  0.747,  0.673],\n",
    "                           [ 0.673,  0.651,  0.673,  0.747]], \"I_max\":430.0}\n",
    "    \n",
    "    length = 10\n",
    "    N_branches = 4\n",
    "    change_line(model,'A2','A3',data_line_code,length,N_branches)\n",
    "    \n",
    "    \"\"\"\n",
    "    \n",
    "\n",
    "    R_primitive_matrix = np.array(data_line_code['R'])\n",
    "    X_primitive_matrix = np.array(data_line_code['X'])\n",
    "    Z_primitive_matrix = R_primitive_matrix + 1j*X_primitive_matrix\n",
    "    Y_primitive_matrix = np.linalg.inv(Z_primitive_matrix*length/1000)\n",
    "\n",
    "    for ibranch in range(N_branches):\n",
    "\n",
    "        node_j = ibranch\n",
    "        node_k = ibranch    \n",
    "\n",
    "        for icol in range(N_branches):\n",
    "            line_name = f\"{bus_j}_{node_j}_{bus_k}_{node_k}_{icol}\"\n",
    "            g_jk  = f\"g_{line_name}\" \n",
    "            b_jk  = f\"b_{line_name}\" \n",
    "            bs_jk = f\"bs_{line_name}\"\n",
    "                           \n",
    "            model.set_value(g_jk,Y_primitive_matrix[ibranch,icol].real)\n",
    "            model.set_value(b_jk,Y_primitive_matrix[ibranch,icol].imag)\n",
    "\n",
    "    return None"
   ]
  },
  {
   "cell_type": "code",
   "execution_count": null,
   "metadata": {},
   "outputs": [
    {
     "ename": "NameError",
     "evalue": "name 'jacs' is not defined",
     "output_type": "error",
     "traceback": [
      "\u001b[1;31m---------------------------------------------------------------------------\u001b[0m",
      "\u001b[1;31mNameError\u001b[0m                                 Traceback (most recent call last)",
      "Cell \u001b[1;32mIn[7], line 10\u001b[0m\n\u001b[0;32m      1\u001b[0m data_line_code \u001b[39m=\u001b[39m {\u001b[39m\"\u001b[39m\u001b[39mR\u001b[39m\u001b[39m\"\u001b[39m:[[ \u001b[39m0.211\u001b[39m,  \u001b[39m0.049\u001b[39m,  \u001b[39m0.049\u001b[39m,  \u001b[39m0.049\u001b[39m],\n\u001b[0;32m      2\u001b[0m                        [ \u001b[39m0.049\u001b[39m,  \u001b[39m0.211\u001b[39m,  \u001b[39m0.049\u001b[39m,  \u001b[39m0.049\u001b[39m],\n\u001b[0;32m      3\u001b[0m                        [ \u001b[39m0.049\u001b[39m,  \u001b[39m0.049\u001b[39m,  \u001b[39m0.211\u001b[39m,  \u001b[39m0.049\u001b[39m],\n\u001b[1;32m   (...)\u001b[0m\n\u001b[0;32m      7\u001b[0m                        [ \u001b[39m0.651\u001b[39m,  \u001b[39m0.673\u001b[39m,  \u001b[39m0.747\u001b[39m,  \u001b[39m0.673\u001b[39m],\n\u001b[0;32m      8\u001b[0m                        [ \u001b[39m0.673\u001b[39m,  \u001b[39m0.651\u001b[39m,  \u001b[39m0.673\u001b[39m,  \u001b[39m0.747\u001b[39m]], \u001b[39m\"\u001b[39m\u001b[39mI_max\u001b[39m\u001b[39m\"\u001b[39m:\u001b[39m430.0\u001b[39m}\n\u001b[1;32m---> 10\u001b[0m \u001b[39mimport\u001b[39;00m \u001b[39macdc_7bus_c\u001b[39;00m\n\u001b[0;32m     11\u001b[0m model \u001b[39m=\u001b[39m acdc_7bus_c\u001b[39m.\u001b[39mmodel()\n\u001b[0;32m     12\u001b[0m length \u001b[39m=\u001b[39m \u001b[39m10\u001b[39m\n",
      "File \u001b[1;32mc:\\Users\\jmmau\\workspace\\acdc\\acdc_7bus\\acdc_7bus_c.py:30\u001b[0m\n\u001b[0;32m     27\u001b[0m     sp_jac_trap_up_eval\u001b[39m=\u001b[39m jacs\u001b[39m.\u001b[39mlib\u001b[39m.\u001b[39msp_jac_trap_up_eval        \n\u001b[0;32m     28\u001b[0m     sp_jac_trap_num_eval\u001b[39m=\u001b[39m jacs\u001b[39m.\u001b[39mlib\u001b[39m.\u001b[39msp_jac_trap_num_eval\n\u001b[1;32m---> 30\u001b[0m sp_Fu_run_up_eval \u001b[39m=\u001b[39m jacs\u001b[39m.\u001b[39mlib\u001b[39m.\u001b[39msp_Fu_run_up_eval\n\u001b[0;32m     31\u001b[0m sp_Gu_run_up_eval \u001b[39m=\u001b[39m jacs\u001b[39m.\u001b[39mlib\u001b[39m.\u001b[39msp_Gu_run_up_eval\n\u001b[0;32m     32\u001b[0m sp_Hx_run_up_eval \u001b[39m=\u001b[39m jacs\u001b[39m.\u001b[39mlib\u001b[39m.\u001b[39msp_Hx_run_up_eval\n",
      "\u001b[1;31mNameError\u001b[0m: name 'jacs' is not defined"
     ]
    }
   ],
   "source": [
    "data_line_code = {\"R\":[[ 0.211,  0.049,  0.049,  0.049],\n",
    "                       [ 0.049,  0.211,  0.049,  0.049],\n",
    "                       [ 0.049,  0.049,  0.211,  0.049],\n",
    "                       [ 0.049,  0.049,  0.049,  0.211]],\n",
    "                  \"X\":[[ 0.747,  0.673,  0.651,  0.673],\n",
    "                       [ 0.673,  0.747,  0.673,  0.651],\n",
    "                       [ 0.651,  0.673,  0.747,  0.673],\n",
    "                       [ 0.673,  0.651,  0.673,  0.747]], \"I_max\":430.0}\n",
    "\n",
    "import acdc_7bus_c\n",
    "model = acdc_7bus_c.model()\n",
    "length = 10\n",
    "N_branches = 4\n",
    "change_line(model,'A2','A3',data_line_code,length,N_branches)"
   ]
  },
  {
   "cell_type": "code",
   "execution_count": null,
   "metadata": {},
   "outputs": [
    {
     "name": "stdout",
     "output_type": "stream",
     "text": [
      "\u001b[1;31mSignature:\u001b[0m \u001b[0mchange_line\u001b[0m\u001b[1;33m(\u001b[0m\u001b[0mmodel\u001b[0m\u001b[1;33m,\u001b[0m \u001b[0mbus_j\u001b[0m\u001b[1;33m,\u001b[0m \u001b[0mbus_k\u001b[0m\u001b[1;33m,\u001b[0m \u001b[0mdata_line_code\u001b[0m\u001b[1;33m,\u001b[0m \u001b[0mlength\u001b[0m\u001b[1;33m,\u001b[0m \u001b[0mN_branches\u001b[0m\u001b[1;33m)\u001b[0m\u001b[1;33m\u001b[0m\u001b[1;33m\u001b[0m\u001b[0m\n",
      "\u001b[1;31mDocstring:\u001b[0m\n",
      "Change line parameters.\n",
      "\n",
      "If the argument 'additional' is passed, then it is appended after the main info.\n",
      "\n",
      "Parameters\n",
      "----------\n",
      "model : pydae object\n",
      "        pydae model of the grid where the line will be modified\n",
      "bus_j : str\n",
      "        name of the from bus of the line\n",
      "bus_k : str\n",
      "        name of the to bus of the line\n",
      "data_line_code : dict \n",
      "        dictionary with 2 keys 'R' and 'X' and the respective matrices as list of lists (see example below)\n",
      "\n",
      "        \n",
      "Returns\n",
      "-------\n",
      "None\n",
      "\n",
      "\n",
      "Example\n",
      "-------\n",
      "\n",
      "data_line_code = {\"R\":[[ 0.211,  0.049,  0.049,  0.049],\n",
      "                [ 0.049,  0.211,  0.049,  0.049],\n",
      "                [ 0.049,  0.049,  0.211,  0.049],\n",
      "                [ 0.049,  0.049,  0.049,  0.211]],\n",
      "        \"X\":[[ 0.747,  0.673,  0.651,  0.673],\n",
      "                [ 0.673,  0.747,  0.673,  0.651],\n",
      "                [ 0.651,  0.673,  0.747,  0.673],\n",
      "                [ 0.673,  0.651,  0.673,  0.747]], \"I_max\":430.0\n",
      "        }\n",
      "\n",
      "length = 10\n",
      "N_branches = 4\n",
      "change_line(model,'A2','A3',data_line_code,length,N_branches)\n",
      "\u001b[1;31mFile:\u001b[0m      c:\\users\\jmmau\\appdata\\local\\temp\\ipykernel_7040\\894523233.py\n",
      "\u001b[1;31mType:\u001b[0m      function\n"
     ]
    }
   ],
   "source": [
    "change_line?"
   ]
  },
  {
   "cell_type": "code",
   "execution_count": null,
   "metadata": {},
   "outputs": [
    {
     "data": {
      "text/plain": [
       "7.333333333333333"
      ]
     },
     "execution_count": 5,
     "metadata": {},
     "output_type": "execute_result"
    }
   ],
   "source": [
    "11/15*10"
   ]
  },
  {
   "cell_type": "code",
   "execution_count": null,
   "metadata": {},
   "outputs": [],
   "source": [
    "0.3*"
   ]
  }
 ],
 "metadata": {
  "kernelspec": {
   "display_name": "base",
   "language": "python",
   "name": "python3"
  },
  "language_info": {
   "codemirror_mode": {
    "name": "ipython",
    "version": 3
   },
   "file_extension": ".py",
   "mimetype": "text/x-python",
   "name": "python",
   "nbconvert_exporter": "python",
   "pygments_lexer": "ipython3",
   "version": "3.11.5"
  },
  "vscode": {
   "interpreter": {
    "hash": "1b1fd1016f48c91706a48f1be322d44ea1680db2bb213f1ce174a5eccfd1e534"
   }
  }
 },
 "nbformat": 4,
 "nbformat_minor": 4
}

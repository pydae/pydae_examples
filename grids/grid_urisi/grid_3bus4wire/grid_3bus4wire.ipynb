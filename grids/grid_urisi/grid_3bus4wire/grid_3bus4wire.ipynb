{
 "cells": [
  {
   "cell_type": "code",
   "execution_count": 1,
   "metadata": {},
   "outputs": [],
   "source": [
    "import numpy as np\n",
    "import matplotlib.pyplot as plt\n",
    "from pydae.urisi.utils import report_v,get_v,get_i,get_power\n",
    "from pydae.urisi.lines import change_line\n",
    "import grid_3bus4wire"
   ]
  },
  {
   "cell_type": "code",
   "execution_count": 7,
   "metadata": {},
   "outputs": [
    {
     "name": "stdout",
     "output_type": "stream",
     "text": [
      "V_B1_an: 11546.6|   -0.0º V,    V_B1_ag: 11546.6|   -0.0º V,    V_1 = 11546.6 V, unb = 0.00%\n",
      "V_B1_bn: 11546.6| -120.0º V,    V_B1_bg: 11546.6| -120.0º V,    V_2 =     0.0 V\n",
      "V_B1_cn: 11546.6|  120.0º V,    V_B1_cg: 11546.6|  120.0º V,    v_0 =     0.0 V\n",
      "  V_B1_ng:      0.0|      0.0º V\n",
      "V_B2_an:   229.4|  -30.5º V,    V_B2_ag:   229.4|  -30.5º V,    V_1 =   229.4 V, unb = 0.03%\n",
      "V_B2_bn:   229.4| -150.4º V,    V_B2_bg:   229.4| -150.4º V,    V_2 =     0.0 V\n",
      "V_B2_cn:   229.4|   89.6º V,    V_B2_cg:   229.4|   89.6º V,    v_0 =     0.0 V\n",
      "  V_B2_ng:      0.0|   -109.5º V\n",
      "V_B3_an:   205.3|  -30.9º V,    V_B3_ag:   207.4|  -30.7º V,    V_1 =   209.2 V, unb = 3.01%\n",
      "V_B3_bn:   211.6| -151.0º V,    V_B3_bg:   209.7| -150.6º V,    V_2 =     1.3 V\n",
      "V_B3_cn:   210.7|   89.6º V,    V_B3_cg:   210.4|   89.0º V,    v_0 =     0.6 V\n",
      "  V_B3_ng:      2.4|     -6.9º V\n"
     ]
    },
    {
     "data": {
      "text/plain": [
       "364.578234598387"
      ]
     },
     "execution_count": 7,
     "metadata": {},
     "output_type": "execute_result"
    }
   ],
   "source": [
    "model = grid_3bus4wire.model()\n",
    "p_load,q_load = 200e3,100e3\n",
    "model.ini({'p_load_B3_a':p_load/3,'q_load_B3_a':q_load/3,\n",
    "           'p_load_B3_b':p_load/3,'q_load_B3_b':q_load/3,\n",
    "           'p_load_B3_c':p_load/3,'q_load_B3_c':q_load/3},'xy_0.json')\n",
    "report_v(model,'grid_3bus4wire.hjson');\n",
    "get_v(model,'B3','U_bc_m')"
   ]
  },
  {
   "cell_type": "code",
   "execution_count": 4,
   "metadata": {},
   "outputs": [],
   "source": [
    "data_line_code = {\"R\":[[ 0.211, 0.049, 0.049, 0.049],[ 0.049, 0.211, 0.049, 0.049], [ 0.049, 0.049, 0.211, 0.049], [ 0.049, 0.049, 0.049, 0.211]],\n",
    "                  \"X\":[[ 0.747, 0.673, 0.651, 0.673],[ 0.673, 0.747, 0.673, 0.651], [ 0.651, 0.673, 0.747, 0.673], [ 0.673, 0.651, 0.673, 0.747]], \"I_max\":430.0}\n",
    "change_line(model,'B2','B3',data_line_code, 100)\n",
    "model.ini({},'xy_0.json')\n",
    "get_v(model,'B3','V_ab_m')"
   ]
  },
  {
   "cell_type": "code",
   "execution_count": 13,
   "metadata": {},
   "outputs": [
    {
     "data": {
      "text/plain": [
       "170.83905918801904"
      ]
     },
     "execution_count": 13,
     "metadata": {},
     "output_type": "execute_result"
    }
   ],
   "source": [
    "get_i(model,'B2','B3',type='I_a_m')"
   ]
  },
  {
   "cell_type": "code",
   "execution_count": 16,
   "metadata": {},
   "outputs": [
    {
     "data": {
      "text/plain": [
       "(39339.694944488394+2111.968276187643j)"
      ]
     },
     "execution_count": 16,
     "metadata": {},
     "output_type": "execute_result"
    }
   ],
   "source": [
    "get_power(model,'B2','B3',type='S_a')"
   ]
  },
  {
   "cell_type": "raw",
   "metadata": {},
   "source": [
    "OPENDSS:\n",
    "\n",
    "CURRENTS \n",
    "Power Conversion Elements\n",
    "\n",
    "  Bus Phase    Magnitude, A     Angle      (Real)   +j  (Imag)\n",
    "\n",
    "ELEMENT = \"Load.LOAD_B3\"\n",
    "B3       1           363.41 /_  -57.5 =     195.19 +j   -306.54\n",
    "B3       2           352.16 /_ -177.6 =    -351.85 +j   -14.786\n",
    "B3       3           353.65 /_   63.1 =     160.14 +j    315.32\n",
    "B3       4           6.9372 /_  120.1 =    -3.4761 +j    6.0034\n",
    "\n",
    "\n",
    "LINE-GROUND and LINE-LINE VOLTAGES BY BUS & NODE\n",
    "\n",
    "Bus  Node    VLN (kV)   Angle      pu     Base kV    Node-Node   VLL (kV)  Angle      pu\n",
    "\n",
    "B1 . 1       11.546 /_    0.0   0.99992    20.000        1-2     19.998 /_   30.0   0.99992\n",
    "   - 2       11.546 /_ -120.0   0.99992    20.000        2-3     19.998 /_  -90.0   0.99992\n",
    "   - 3       11.546 /_  120.0   0.99992    20.000        3-1     19.998 /_  150.0   0.99992\n",
    "B2 . 1      0.22934 /_  -30.5   0.99309     0.400        1-2    0.39724 /_   -0.4   0.99309\n",
    "   - 2      0.22938 /_ -150.4   0.99324     0.400        2-3    0.39733 /_ -120.4   0.99333\n",
    "   - 3       0.2294 /_   89.6   0.99333     0.400        3-1    0.39729 /_  119.5   0.99324\n",
    "   - 4   6.5239E-006 /_   -3.4 2.8249E-005     0.400\n",
    "B3 . 1      0.20742 /_  -30.7   0.89815     0.400        1-2    0.36107 /_   -0.5   0.90268\n",
    "   - 2      0.20965 /_ -150.6   0.90782     0.400        2-3    0.36459 /_ -120.8   0.91146\n",
    "   - 3      0.21043 /_   89.0   0.91118     0.400        3-1    0.36121 /_  118.9   0.90302\n",
    "   - 4    0.0025407 /_   -8.3  0.011002     0.400"
   ]
  },
  {
   "cell_type": "raw",
   "metadata": {},
   "source": [
    "I = 195.19 -j306.54\n"
   ]
  }
 ],
 "metadata": {
  "kernelspec": {
   "display_name": "Python 3 (ipykernel)",
   "language": "python",
   "name": "python3"
  },
  "language_info": {
   "codemirror_mode": {
    "name": "ipython",
    "version": 3
   },
   "file_extension": ".py",
   "mimetype": "text/x-python",
   "name": "python",
   "nbconvert_exporter": "python",
   "pygments_lexer": "ipython3",
   "version": "3.9.13"
  }
 },
 "nbformat": 4,
 "nbformat_minor": 4
}

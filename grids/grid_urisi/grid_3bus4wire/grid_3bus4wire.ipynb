{
 "cells": [
  {
   "cell_type": "code",
   "execution_count": 19,
   "metadata": {},
   "outputs": [],
   "source": [
    "import numpy as np\n",
    "import matplotlib.pyplot as plt\n",
    "from pydae.urisi.utils import report_v,get_v,get_i\n",
    "from pydae.urisi.lines import change_line\n",
    "import grid_3bus4wire"
   ]
  },
  {
   "cell_type": "code",
   "execution_count": 31,
   "metadata": {},
   "outputs": [
    {
     "name": "stdout",
     "output_type": "stream",
     "text": [
      "V_B1_an: 11546.8|   -0.0º V,    V_B1_ag: 11546.8|   -0.0º V,    V_1 = 11547.0 V, unb = 0.00%\n",
      "V_B1_bn: 11547.0| -120.0º V,    V_B1_bg: 11547.0| -120.0º V,    V_2 =     0.2 V\n",
      "V_B1_cn: 11547.1|  120.0º V,    V_B1_cg: 11547.1|  120.0º V,    v_0 =     0.0 V\n",
      "  V_B1_ng:      0.0|      0.0º V\n",
      "V_B2_an:   230.4|  -30.4º V,    V_B2_ag:   230.4|  -30.4º V,    V_1 =   230.8 V, unb = 0.22%\n",
      "V_B2_bn:   230.9| -150.0º V,    V_B2_bg:   230.9| -150.0º V,    V_2 =     0.5 V\n",
      "V_B2_cn:   230.9|   90.0º V,    V_B2_cg:   230.9|   90.0º V,    v_0 =     0.5 V\n",
      "  V_B2_ng:      0.0|    167.8º V\n",
      "V_B3_an:   206.2|  -34.5º V,    V_B3_ag:   218.1|  -32.3º V,    V_1 =   227.1 V, unb = 16.66%\n",
      "V_B3_bn:   244.1| -151.6º V,    V_B3_bg:   231.6| -149.9º V,    V_2 =     5.6 V\n",
      "V_B3_cn:   231.9|   93.3º V,    V_B3_cg:   231.6|   89.8º V,    v_0 =     5.1 V\n",
      "  V_B3_ng:     14.2|      0.3º V\n"
     ]
    }
   ],
   "source": [
    "model = grid_3bus4wire.model()\n",
    "model.ini({'p_load_B3_a':50e3},'xy_0.json')\n",
    "report_v(model,'grid_3bus4wire.hjson');"
   ]
  },
  {
   "cell_type": "code",
   "execution_count": 35,
   "metadata": {},
   "outputs": [
    {
     "data": {
      "text/plain": [
       "array([223.33364987, 234.43095003, 231.77546027])"
      ]
     },
     "execution_count": 35,
     "metadata": {},
     "output_type": "execute_result"
    }
   ],
   "source": [
    "data_line_code = {\"R\":[[ 0.211, 0.049, 0.049, 0.049],[ 0.049, 0.211, 0.049, 0.049], [ 0.049, 0.049, 0.211, 0.049], [ 0.049, 0.049, 0.049, 0.211]],\n",
    "                  \"X\":[[ 0.747, 0.673, 0.651, 0.673],[ 0.673, 0.747, 0.673, 0.651], [ 0.651, 0.673, 0.747, 0.673], [ 0.673, 0.651, 0.673, 0.747]], \"I_max\":430.0}\n",
    "change_line(model,'B2','B3',data_line_code, 100)\n",
    "model.ini({},'xy_0.json')\n",
    "get_v(model,'B3','V_abcn_m')"
   ]
  },
  {
   "cell_type": "code",
   "execution_count": 36,
   "metadata": {},
   "outputs": [
    {
     "data": {
      "text/plain": [
       "219.49914955613949"
      ]
     },
     "execution_count": 36,
     "metadata": {},
     "output_type": "execute_result"
    }
   ],
   "source": [
    "get_i(model,'B2','B3',type='I_n_m')"
   ]
  },
  {
   "cell_type": "raw",
   "metadata": {},
   "source": [
    "OPENDSS:\n",
    "\n",
    "CURRENTS \n",
    "Power Conversion Elements\n",
    "\n",
    "  Bus Phase    Magnitude, A     Angle      (Real)   +j  (Imag)\n",
    "\n",
    "ELEMENT = \"Load.LOAD_B3\"\n",
    "B3       1           363.41 /_  -57.5 =     195.19 +j   -306.54\n",
    "B3       2           352.16 /_ -177.6 =    -351.85 +j   -14.786\n",
    "B3       3           353.65 /_   63.1 =     160.14 +j    315.32\n",
    "B3       4           6.9372 /_  120.1 =    -3.4761 +j    6.0034\n",
    "\n",
    "\n",
    "LINE-GROUND and LINE-LINE VOLTAGES BY BUS & NODE\n",
    "\n",
    "Bus  Node    VLN (kV)   Angle      pu     Base kV    Node-Node   VLL (kV)  Angle      pu\n",
    "\n",
    "B1 . 1       11.546 /_    0.0   0.99992    20.000        1-2     19.998 /_   30.0   0.99992\n",
    "   - 2       11.546 /_ -120.0   0.99992    20.000        2-3     19.998 /_  -90.0   0.99992\n",
    "   - 3       11.546 /_  120.0   0.99992    20.000        3-1     19.998 /_  150.0   0.99992\n",
    "B2 . 1      0.22934 /_  -30.5   0.99309     0.400        1-2    0.39724 /_   -0.4   0.99309\n",
    "   - 2      0.22938 /_ -150.4   0.99324     0.400        2-3    0.39733 /_ -120.4   0.99333\n",
    "   - 3       0.2294 /_   89.6   0.99333     0.400        3-1    0.39729 /_  119.5   0.99324\n",
    "   - 4   6.5239E-006 /_   -3.4 2.8249E-005     0.400\n",
    "B3 . 1      0.20742 /_  -30.7   0.89815     0.400        1-2    0.36107 /_   -0.5   0.90268\n",
    "   - 2      0.20965 /_ -150.6   0.90782     0.400        2-3    0.36459 /_ -120.8   0.91146\n",
    "   - 3      0.21043 /_   89.0   0.91118     0.400        3-1    0.36121 /_  118.9   0.90302\n",
    "   - 4    0.0025407 /_   -8.3  0.011002     0.400"
   ]
  },
  {
   "cell_type": "code",
   "execution_count": null,
   "metadata": {},
   "outputs": [],
   "source": [
    "grid.eval_preconditioner_ini()\n"
   ]
  },
  {
   "cell_type": "code",
   "execution_count": 14,
   "metadata": {},
   "outputs": [
    {
     "data": {
      "text/plain": [
       "0.2806859172905314"
      ]
     },
     "execution_count": 14,
     "metadata": {},
     "output_type": "execute_result"
    }
   ],
   "source": [
    "np.random.rand()"
   ]
  },
  {
   "cell_type": "code",
   "execution_count": 18,
   "metadata": {},
   "outputs": [
    {
     "name": "stdout",
     "output_type": "stream",
     "text": [
      "182 µs ± 8.85 µs per loop (mean ± std. dev. of 7 runs, 10000 loops each)\n"
     ]
    }
   ],
   "source": [
    "%%timeit\n",
    "Delta = np.random.rand()\n",
    "params = dict(  p_load_B3_a =200e3/3*Delta,\n",
    "                q_load_B3_a =100e3/3*Delta,\n",
    "                p_load_B3_b =200e3/3*Delta,\n",
    "                q_load_B3_b =100e3/3*Delta,\n",
    "                p_load_B3_c =200e3/3*Delta,\n",
    "                q_load_B3_c =100e3/3*Delta)\n",
    "grid.ini(params)\n",
    "\n"
   ]
  },
  {
   "cell_type": "code",
   "execution_count": null,
   "metadata": {},
   "outputs": [],
   "source": [
    "New LoadShape.LS_C01 npts=25  interval=1  mult=[1.00 0.23  0.2  0.21  0.23  0.24  0.25  0.35  0.50  0.70  0.80  0.85  0.90  0.92  0.90  0.85  0.85  0.90  1.00  0.80  0.70  0.62  0.50  0.30  0.20]\n"
   ]
  },
  {
   "cell_type": "code",
   "execution_count": 10,
   "metadata": {},
   "outputs": [],
   "source": [
    "def set_powers(grid,bus,powers):\n",
    "    phases = ['a','b','c']\n",
    "    if isinstance(powers, complex):\n",
    "        powers_ = [powers/3]*3\n",
    "    if isinstance(powers, list):\n",
    "        powers_ = powers\n",
    "    for ph,s in zip(phases,powers_):\n",
    "        p = f'p_{bus}_{ph}'\n",
    "        q = f'q_{bus}_{ph}'        \n",
    "        grid.set_value(p,s.real)\n",
    "        grid.set_value(q,s.imag)        \n",
    "    "
   ]
  },
  {
   "cell_type": "code",
   "execution_count": 5,
   "metadata": {},
   "outputs": [
    {
     "data": {
      "text/plain": [
       "(array([], shape=(0, 1), dtype=float64),\n",
       " array([], shape=(0, 1), dtype=float64),\n",
       " array([], shape=(0, 40), dtype=float64),\n",
       " array([], shape=(0, 1), dtype=float64))"
      ]
     },
     "execution_count": 5,
     "metadata": {},
     "output_type": "execute_result"
    }
   ],
   "source": [
    "syst.Dt = 10e-3\n",
    "syst.decimation = 1\n",
    "syst.update()\n",
    "\n",
    "\n",
    "events = [{ # CTRL4-3-0\n",
    "           't_end':0.0, \n",
    "                     },\n",
    "          {'t_end':1.0}, \n",
    "          {'t_end':6.0},\n",
    "          {'t_end':15.0}\n",
    "          ]\n",
    "\n",
    "powers = 0.0j\n",
    "set_powers(syst,'B3', powers)\n",
    "\n",
    "syst.sopt_root_jac = True\n",
    "syst.initialization_tol = 1e-12\n",
    "syst.initialize(events,xy0=0)\n",
    "\n",
    "powers = [255e3+158e3j,255e3+158e3j,255e3+158e3j]\n",
    "powers = [100e3+50e3j,100e3+50e3j,50e3+10e3j]\n",
    "set_powers(syst,'B3', powers)\n",
    "\n",
    "syst.initialization_tol = 1e-12\n",
    "syst.initialize(events,xy0='prev')\n"
   ]
  },
  {
   "cell_type": "code",
   "execution_count": 8,
   "metadata": {},
   "outputs": [
    {
     "name": "stdout",
     "output_type": "stream",
     "text": [
      "v_B1_a_r =11547.00\n",
      "v_B1_a_i = 0.00\n",
      "v_B1_b_r =-5773.50\n",
      "v_B1_b_i =-10000.00\n",
      "v_B1_c_r =-5773.50\n",
      "v_B1_c_i =10000.00\n",
      "i_B3_a_r =-0.00\n",
      "i_B3_a_i = 0.00\n",
      "i_B3_b_r = 0.00\n",
      "i_B3_b_i =-0.00\n",
      "i_B3_c_r =-0.00\n",
      "i_B3_c_i =-0.00\n",
      "i_B3_n_r = 0.00\n",
      "i_B3_n_i =-0.00\n",
      "i_B2_a_r = 0.00\n",
      "i_B2_a_i = 0.00\n",
      "i_B2_b_r = 0.00\n",
      "i_B2_b_i = 0.00\n",
      "i_B2_c_r = 0.00\n",
      "i_B2_c_i = 0.00\n",
      "i_B2_n_r = 0.00\n",
      "i_B2_n_i = 0.00\n",
      "p_load_B3_a =85000.00\n",
      "q_load_B3_a =52678.27\n",
      "p_load_B3_b =85000.00\n",
      "q_load_B3_b =52678.27\n",
      "p_load_B3_c =85000.00\n",
      "q_load_B3_c =52678.27\n",
      "u_dummy = 1.00\n"
     ]
    }
   ],
   "source": [
    "grid.report_u()"
   ]
  },
  {
   "cell_type": "code",
   "execution_count": 6,
   "metadata": {},
   "outputs": [
    {
     "ename": "KeyError",
     "evalue": "'Y_vv is not a file in the archive'",
     "output_type": "error",
     "traceback": [
      "\u001b[1;31m---------------------------------------------------------------------------\u001b[0m",
      "\u001b[1;31mKeyError\u001b[0m                                  Traceback (most recent call last)",
      "\u001b[1;32m<ipython-input-6-0db0bcf80cdb>\u001b[0m in \u001b[0;36m<module>\u001b[1;34m\u001b[0m\n\u001b[1;32m----> 1\u001b[1;33m \u001b[0mgrid_1\u001b[0m \u001b[1;33m=\u001b[0m \u001b[0mgt\u001b[0m\u001b[1;33m.\u001b[0m\u001b[0mgrid\u001b[0m\u001b[1;33m(\u001b[0m\u001b[0msyst\u001b[0m\u001b[1;33m)\u001b[0m\u001b[1;33m\u001b[0m\u001b[1;33m\u001b[0m\u001b[0m\n\u001b[0m\u001b[0;32m      2\u001b[0m \u001b[0mgrid_1\u001b[0m\u001b[1;33m.\u001b[0m\u001b[0mdae2vi\u001b[0m\u001b[1;33m(\u001b[0m\u001b[1;33m)\u001b[0m\u001b[1;33m\u001b[0m\u001b[1;33m\u001b[0m\u001b[0m\n\u001b[0;32m      3\u001b[0m \u001b[0mgrid_1\u001b[0m\u001b[1;33m.\u001b[0m\u001b[0mget_v\u001b[0m\u001b[1;33m(\u001b[0m\u001b[1;33m)\u001b[0m\u001b[1;33m\u001b[0m\u001b[1;33m\u001b[0m\u001b[0m\n\u001b[0;32m      4\u001b[0m \u001b[0mgrid_1\u001b[0m\u001b[1;33m.\u001b[0m\u001b[0mget_i\u001b[0m\u001b[1;33m(\u001b[0m\u001b[1;33m)\u001b[0m\u001b[1;33m\u001b[0m\u001b[1;33m\u001b[0m\u001b[0m\n\u001b[0;32m      5\u001b[0m \u001b[0mgrid_1\u001b[0m\u001b[1;33m.\u001b[0m\u001b[0mbokeh_tools\u001b[0m\u001b[1;33m(\u001b[0m\u001b[1;33m)\u001b[0m\u001b[1;33m\u001b[0m\u001b[1;33m\u001b[0m\u001b[0m\n",
      "\u001b[1;32m~\\anaconda3\\lib\\site-packages\\pydae\\grid_tools.py\u001b[0m in \u001b[0;36m__init__\u001b[1;34m(self, syst)\u001b[0m\n\u001b[0;32m     29\u001b[0m             \u001b[0mnodes_list\u001b[0m \u001b[1;33m=\u001b[0m \u001b[0mdata\u001b[0m\u001b[1;33m[\u001b[0m\u001b[1;34m'nodes_list'\u001b[0m\u001b[1;33m]\u001b[0m\u001b[1;33m\u001b[0m\u001b[1;33m\u001b[0m\u001b[0m\n\u001b[0;32m     30\u001b[0m             \u001b[0mnode_sorter\u001b[0m \u001b[1;33m=\u001b[0m \u001b[0mdata\u001b[0m\u001b[1;33m[\u001b[0m\u001b[1;34m'node_sorter'\u001b[0m\u001b[1;33m]\u001b[0m\u001b[1;33m\u001b[0m\u001b[1;33m\u001b[0m\u001b[0m\n\u001b[1;32m---> 31\u001b[1;33m             \u001b[0mY_vv\u001b[0m \u001b[1;33m=\u001b[0m \u001b[0mdata\u001b[0m\u001b[1;33m[\u001b[0m\u001b[1;34m'Y_vv'\u001b[0m\u001b[1;33m]\u001b[0m\u001b[1;33m\u001b[0m\u001b[1;33m\u001b[0m\u001b[0m\n\u001b[0m\u001b[0;32m     32\u001b[0m             \u001b[0mY_vi\u001b[0m \u001b[1;33m=\u001b[0m \u001b[0mdata\u001b[0m\u001b[1;33m[\u001b[0m\u001b[1;34m'Y_vi'\u001b[0m\u001b[1;33m]\u001b[0m\u001b[1;33m\u001b[0m\u001b[1;33m\u001b[0m\u001b[0m\n\u001b[0;32m     33\u001b[0m             \u001b[0mN_v\u001b[0m \u001b[1;33m=\u001b[0m \u001b[0mint\u001b[0m\u001b[1;33m(\u001b[0m\u001b[0mdata\u001b[0m\u001b[1;33m[\u001b[0m\u001b[1;34m'N_v'\u001b[0m\u001b[1;33m]\u001b[0m\u001b[1;33m)\u001b[0m\u001b[1;33m\u001b[0m\u001b[1;33m\u001b[0m\u001b[0m\n",
      "\u001b[1;32m~\\anaconda3\\lib\\site-packages\\numpy\\lib\\npyio.py\u001b[0m in \u001b[0;36m__getitem__\u001b[1;34m(self, key)\u001b[0m\n\u001b[0;32m    258\u001b[0m                 \u001b[1;32mreturn\u001b[0m \u001b[0mself\u001b[0m\u001b[1;33m.\u001b[0m\u001b[0mzip\u001b[0m\u001b[1;33m.\u001b[0m\u001b[0mread\u001b[0m\u001b[1;33m(\u001b[0m\u001b[0mkey\u001b[0m\u001b[1;33m)\u001b[0m\u001b[1;33m\u001b[0m\u001b[1;33m\u001b[0m\u001b[0m\n\u001b[0;32m    259\u001b[0m         \u001b[1;32melse\u001b[0m\u001b[1;33m:\u001b[0m\u001b[1;33m\u001b[0m\u001b[1;33m\u001b[0m\u001b[0m\n\u001b[1;32m--> 260\u001b[1;33m             \u001b[1;32mraise\u001b[0m \u001b[0mKeyError\u001b[0m\u001b[1;33m(\u001b[0m\u001b[1;34m\"%s is not a file in the archive\"\u001b[0m \u001b[1;33m%\u001b[0m \u001b[0mkey\u001b[0m\u001b[1;33m)\u001b[0m\u001b[1;33m\u001b[0m\u001b[1;33m\u001b[0m\u001b[0m\n\u001b[0m\u001b[0;32m    261\u001b[0m \u001b[1;33m\u001b[0m\u001b[0m\n\u001b[0;32m    262\u001b[0m \u001b[1;33m\u001b[0m\u001b[0m\n",
      "\u001b[1;31mKeyError\u001b[0m: 'Y_vv is not a file in the archive'"
     ]
    }
   ],
   "source": [
    "grid_1 = gt.grid(syst)\n",
    "grid_1.dae2vi()\n",
    "grid_1.get_v()\n",
    "grid_1.get_i()\n",
    "grid_1.bokeh_tools()\n",
    "gt.plot_results(grid_1)"
   ]
  },
  {
   "cell_type": "code",
   "execution_count": null,
   "metadata": {},
   "outputs": [],
   "source": []
  },
  {
   "cell_type": "code",
   "execution_count": null,
   "metadata": {},
   "outputs": [],
   "source": []
  },
  {
   "cell_type": "code",
   "execution_count": null,
   "metadata": {},
   "outputs": [],
   "source": []
  }
 ],
 "metadata": {
  "kernelspec": {
   "display_name": "Python 3 (ipykernel)",
   "language": "python",
   "name": "python3"
  },
  "language_info": {
   "codemirror_mode": {
    "name": "ipython",
    "version": 3
   },
   "file_extension": ".py",
   "mimetype": "text/x-python",
   "name": "python",
   "nbconvert_exporter": "python",
   "pygments_lexer": "ipython3",
   "version": "3.10.11"
  }
 },
 "nbformat": 4,
 "nbformat_minor": 4
}

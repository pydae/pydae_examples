{
 "cells": [
  {
   "cell_type": "code",
   "execution_count": 1,
   "metadata": {},
   "outputs": [],
   "source": [
    "import numpy as np\n",
    "import sympy as sym\n",
    "import json\n",
    "from pydae.urisi.urisi_builder import urisi\n",
    "import pydae.build_cffi as db"
   ]
  },
  {
   "cell_type": "code",
   "execution_count": 2,
   "metadata": {},
   "outputs": [],
   "source": [
    "data = {\"system\":{\"S_base\":1e6, \"K_p_agc\":0.01, \"K_i_agc\":0.01},\n",
    "        \"buses\":[\n",
    "                # {\"name\": \"B0\",  \"pos_x\": -10, \"pos_y\":  0, \"units\": \"m\", \"U_kV\":20.0, 'N_nodes':3, 'phi_deg_0':30.0},\n",
    "                 {\"name\": \"B1\",  \"pos_x\":   0, \"pos_y\":  0, \"units\": \"m\", \"U_kV\":0.4},\n",
    "                 {\"name\": \"B2\",  \"pos_x\":  20, \"pos_y\":  0, \"units\": \"m\", \"U_kV\":0.4},\n",
    "                # {\"name\": \"B3\",  \"pos_x\": 120, \"pos_y\":  0, \"units\": \"m\", \"U_kV\":0.4},\n",
    "                 {\"name\": \"B4\",  \"pos_x\": 140, \"pos_y\":  0, \"units\": \"m\", \"U_kV\":0.4,'nodes':[0,1]}\n",
    "                ],\n",
    "        \"genapes\":[\n",
    "              #  {\"type\":\"ac3ph3w_ideal\", \"bus\": \"B0\",\"S_n\":100e3,\"U_n\":20e3,\"R\":0.01,\"X\":0.1,\"R_n\":0.01,\"X_n\":0.1,\"R_ng\":3.0,\"X_ng\":0.0,\"K_p\":0.1,\"K_agc\":1.0,\n",
    "              #                \"T_p\":0.1,\"T_e\":0.1,\"K_delta\":0.001, \"T_c\":0.1, \"Droop\":0.05, \"T_v\":0.1, \"K_f\":1e-2, \"T_f\":1e-2}\n",
    "                       ],\n",
    "        \"vscs\":[\n",
    "              {\"type\":\"ac_3ph_4w_l\", \"bus\": \"B1\",\"S_n\":100e3,\"U_n\":400.0,\"R\":0.01,\"X\":0.1,\"R_n\":0.01,\"X_n\":0.1,\"R_ng\":3.0,\"X_ng\":0.0}\n",
    "                    ],\n",
    "        \"lines\":[\n",
    "                 {\"bus_j\": \"B1\",  \"bus_k\": \"B2\",  \"code\": \"UG1\", \"m\":  20.0,'monitor':True},\n",
    "               #  {\"bus_j\": \"B2\",  \"bus_k\": \"B3\",  \"code\": \"UG1\", \"m\": 100.0,'monitor':True},\n",
    "               #  {\"bus_j\": \"B3\",  \"bus_k\": \"B4\",  \"code\": \"UG1\", \"m\":  20.0,'monitor':True}\n",
    "                  {\"bus_j\": \"B1\",  \"bus_k\": \"B4\",  \"code\": \"UG1_1ph\", \"m\":  20.0,'monitor':True,\"bus_j_nodes\":[0,3],\"bus_k_nodes\":[0,1]},\n",
    "\n",
    "                ],\n",
    "        \"transformers\":[\n",
    "              # {\"bus_j\": \"B0\",  \"bus_k\": \"B1\",\n",
    "              #  \"S_n_kVA\": 500.0, \"U_j_kV\":20.0, \"U_k_kV\":0.4,\n",
    "              #  \"R_cc_pu\": 0.01, \"X_cc_pu\":0.04, \"connection\": \"Dyn11\",\n",
    "              #  \"conductors_j\": 3, \"conductors_k\": 4, \"monitor\":True}\n",
    "               ],\n",
    "        \"loads\":[\n",
    "                # {\"bus\": \"B1\" , \"kVA\": [10,10,10], \"pf\":[ 1,1,1],\"type\":\"3P+N\",\"model\":\"ZIP\"},\n",
    "                 {\"bus\": \"B2\" , \"kVA\": [50,50,50], \"pf\":[ 1,1,1],\"type\":\"3P+N\",\"model\":\"ZIP\"},\n",
    "                ],\n",
    "        \"shunts\":[\n",
    "               #  {\"bus\": \"B1\" , \"R\": 0.001, \"X\": 0.0, \"bus_nodes\": [3,0]},\n",
    "                 #{\"bus\": \"B4\" , \"R\": 0.001, \"X\": 0.0, \"bus_nodes\": [4,0]}\n",
    "                 ],\n",
    "        \"line_codes\":\n",
    "            {\"lv_cu_150\":  {\"Rph\":0.167,\"Xph\":0.08, \"Rn\":0.167, \"Xn\": 0.08},\n",
    "        \"UG1\":\n",
    "            {\"R\":[[ 0.211,  0.049,  0.049,  0.049],\n",
    "                  [ 0.049,  0.211,  0.049,  0.049],\n",
    "                  [ 0.049,  0.049,  0.211,  0.049],\n",
    "                  [ 0.049,  0.049,  0.049,  0.211]],\n",
    "            \"X\":[[ 0.747,  0.673,  0.651,  0.673],\n",
    "                 [ 0.673,  0.747,  0.673,  0.651],\n",
    "                 [ 0.651,  0.673,  0.747,  0.673],\n",
    "                 [ 0.673,  0.651,  0.673,  0.747]], \"I_max\":430.0\n",
    "            },\n",
    "        \"UG1_1ph\":\n",
    "            {\"R\":[[ 0.211,  0.049],\n",
    "                  [ 0.049,  0.211]],\n",
    "            \"X\":[[ 0.747,  0.673],\n",
    "                 [ 0.673,  0.747]], \"I_max\":430.0\n",
    "            },\n",
    "        \"UG1p\":\n",
    "            {\"R\":[[ 0.001,  0.0,  0.0,  0.0],\n",
    "                  [ 0.0,  0.001,  0.0,  0.0],\n",
    "                  [ 0.0,  0.0,  0.001,  0.0],\n",
    "                  [ 0.0,  0.0,  0.0,  0.001]],\n",
    "            \"X\":[[ 0.01,  0.0,  0.0,  0.0],\n",
    "                 [ 0.0,  0.01,  0.0,  0.0],\n",
    "                 [ 0.0,  0.0,  0.01,  0.0],\n",
    "                 [ 0.0,  0.0,  0.0,  0.01]], \"I_max\":430.0\n",
    "            }\n",
    "       }\n",
    "}"
   ]
  },
  {
   "cell_type": "code",
   "execution_count": null,
   "metadata": {},
   "outputs": [],
   "source": []
  },
  {
   "cell_type": "code",
   "execution_count": 3,
   "metadata": {},
   "outputs": [
    {
     "name": "stdout",
     "output_type": "stream",
     "text": [
      "check_system (time: 0.0)\n",
      "computing jacobians Fx_run,Fy_run  (time: 0.007 s)\n",
      "computing jacobians Gx_run,Gy_run  (time: 0.011 s)\n",
      "computing jacobians Fu_run,Gu_run  (time: 0.418 s)\n",
      "computing jacobians Fx_ini,Fy_ini  (time: 0.513 s)\n",
      "computing jacobians Gx_ini,Gy_ini  (time: 0.514 s)\n",
      "computing jacobians Hx_run,Hy_run,Hu_run  (time: 0.5994558334350586 s)\n",
      "end system  (time: 0.842 s)\n",
      "computing jac_ini (time: 0.0)\n",
      "computing jac_run (time: 0.0020089149475097656)\n",
      "computing jac_trap (time: 0.0030050277709960938)\n",
      "end of jacobians computation (time: 0.005)\n",
      "writting f_ini and g_ini code (time: 0.000 s)\n",
      "writting f_run and g_run code (time: 0.106 s)\n",
      "writting h_run code (time: 0.201 s)\n",
      "converting jac_ini to sp_jac_ini  (time: 0.272 s)\n",
      "running sym2rhs for sp_jac_ini (time: 0.273 s)\n",
      "converting jac_run to sp_jac_run  (time: 0.385 s)\n",
      "running sym2rhs for sp_jac_run (time: 0.386 s)\n",
      "converting jac_trap to sp_jac_trap  (time: 0.479 s)\n",
      "running sym2rhs for sp_jac_trap (time: 0.480 s)\n",
      "wrtting  de_jac_trap code (time: 0.617 s)\n",
      "writting sp_jac_trap code (time: 0.618 s)\n",
      "converting Fu_run to sparse (time: 0.618 s)\n",
      "running sym2rhs for Fu_run (time: 0.619 s)\n",
      "writting  Fu_run code (time: 0.619 s)\n",
      "writting Fu_run code (time: 0.619 s)\n",
      "converting Gu_run to sparse (time: 0.621 s)\n",
      "running sym2rhs for Gu_run (time: 0.621 s)\n",
      "writting  Gu_run code (time: 0.661 s)\n",
      "writting Gu_run code (time: 0.661 s)\n",
      "converting Hx_run to sparse (time: 0.662 s)\n",
      "running sym2rhs for Hx_run (time: 0.663 s)\n",
      "writting  Hx_run code (time: 0.664 s)\n",
      "writting Hx_run code (time: 0.664 s)\n",
      "converting Hy_run to sparse (time: 0.665 s)\n",
      "running sym2rhs for Hy_run (time: 0.666 s)\n",
      "writting  Hy_run code (time: 0.735 s)\n",
      "writting Hy_run code (time: 0.735 s)\n",
      "converting Hu_run to sparse (time: 0.736 s)\n",
      "running sym2rhs for Hu_run (time: 0.737 s)\n",
      "writting  Hu_run code (time: 0.738 s)\n",
      "writting Hu_run code (time: 0.738 s)\n",
      "writting full source (time: 0.739 s)\n",
      "Code wrote in 0.740 s\n",
      "Compilation time: 2.43 s\n",
      "sys2num (time: 0.003)\n"
     ]
    }
   ],
   "source": [
    "u = urisi(data)\n",
    "u.construct('hola')\n",
    "u.verbose = True\n",
    "u.compile('hola')"
   ]
  },
  {
   "cell_type": "code",
   "execution_count": 4,
   "metadata": {},
   "outputs": [
    {
     "data": {
      "text/plain": [
       "['B1.0',\n",
       " 'B1.1',\n",
       " 'B1.2',\n",
       " 'B1.3',\n",
       " 'B2.0',\n",
       " 'B2.1',\n",
       " 'B2.2',\n",
       " 'B2.3',\n",
       " 'B4.0',\n",
       " 'B4.1']"
      ]
     },
     "execution_count": 4,
     "metadata": {},
     "output_type": "execute_result"
    }
   ],
   "source": [
    "u.nodes_list"
   ]
  },
  {
   "cell_type": "code",
   "execution_count": 5,
   "metadata": {},
   "outputs": [],
   "source": [
    "import hola"
   ]
  },
  {
   "cell_type": "code",
   "execution_count": 6,
   "metadata": {},
   "outputs": [
    {
     "name": "stdout",
     "output_type": "stream",
     "text": [
      "Input or parameter K_delta_B0 not found.\n",
      "Input or parameter K_agc_B0 not found.\n",
      "xi_freq =  0.00\n",
      "V_B1_0_r = 231.47\n",
      "V_B1_0_i = 14.40\n",
      "V_B1_1_r = -103.25\n",
      "V_B1_1_i = -207.65\n",
      "V_B1_2_r = -128.21\n",
      "V_B1_2_i = 193.25\n",
      "V_B1_3_r =  0.00\n",
      "V_B1_3_i =  0.01\n",
      "V_B2_0_r = 231.97\n",
      "V_B2_0_i = 14.68\n",
      "V_B2_1_r = -103.27\n",
      "V_B2_1_i = -208.17\n",
      "V_B2_2_r = -128.65\n",
      "V_B2_2_i = 193.45\n",
      "V_B2_3_r = -0.05\n",
      "V_B2_3_i =  0.04\n",
      "V_B4_0_r = 231.47\n",
      "V_B4_0_i = 14.40\n",
      "V_B4_1_r =  0.00\n",
      "V_B4_1_i =  0.01\n",
      "i_load_B2_a_r = 143.09\n",
      "i_load_B2_a_i =  9.03\n",
      "i_load_B2_b_r = -63.71\n",
      "i_load_B2_b_i = -128.52\n",
      "i_load_B2_c_r = -79.46\n",
      "i_load_B2_c_i = 119.51\n",
      "i_load_B2_n_r =  0.07\n",
      "i_load_B2_n_i = -0.03\n",
      "i_vsc_B1_a_r = -143.09\n",
      "i_vsc_B1_b_r = 63.71\n",
      "i_vsc_B1_c_r = 79.46\n",
      "i_vsc_B1_n_r = -0.07\n",
      "v_B1_o_r = -0.00\n",
      "p_dc_B1 = -97479.58\n",
      "i_dc_B1 = -121.85\n",
      "i_vsc_B1_a_i = -9.03\n",
      "i_vsc_B1_b_i = 128.52\n",
      "i_vsc_B1_c_i = -119.51\n",
      "i_vsc_B1_n_i =  0.03\n",
      "v_B1_o_i = -0.00\n",
      "omega_coi =  1.00\n",
      "p_agc =  0.00\n",
      "i_l_B1_0_B2_0_r = -143.09\n",
      "i_l_B1_0_B2_0_i = -9.03\n",
      "i_l_B1_1_B2_1_r = 63.71\n",
      "i_l_B1_1_B2_1_i = 128.52\n",
      "i_l_B1_2_B2_2_r = 79.46\n",
      "i_l_B1_2_B2_2_i = -119.51\n",
      "i_l_B1_3_B2_3_r = -0.07\n",
      "i_l_B1_3_B2_3_i =  0.03\n",
      "i_l_B1_0_B4_0_r = -0.00\n",
      "i_l_B1_0_B4_0_i = -0.00\n",
      "i_l_B1_3_B4_1_r = -0.00\n",
      "i_l_B1_3_B4_1_i =  0.00\n",
      "i_vsc_B1_a_m = 143.38\n",
      "i_vsc_B1_b_m = 143.44\n",
      "i_vsc_B1_c_m = 143.51\n",
      "i_vsc_B1_n_m =  0.08\n",
      "p_B1_pos = -99800.00\n",
      "p_B1_neg = -0.00\n",
      "p_B1_zer = -0.00\n",
      "m_a_B1 =  0.71\n",
      "m_b_B1 =  0.71\n",
      "m_c_B1 =  0.71\n",
      "m_n_B1 =  0.00\n",
      "phi_B1 =  0.00\n",
      "xi_freq =  0.00\n",
      "u_freq =  0.00\n"
     ]
    }
   ],
   "source": [
    "model = hola.model()\n",
    "model.ini({\"K_p_agc\":0.0, \"K_i_agc\":0.0,\"K_delta_B0\":1.0,\"K_agc_B0\":1.0,\"K_xif\":0.01,\n",
    "             \"p_load_B2_a\":-100e3/3,\"p_load_B2_b\":-100e3/3,\"p_load_B2_c\":-100e3/3},'xy_0.json') #'xy_0.json')\n",
    "model.report_x()\n",
    "model.report_y()\n",
    "model.report_z()\n"
   ]
  },
  {
   "cell_type": "code",
   "execution_count": 13,
   "metadata": {},
   "outputs": [
    {
     "name": "stdout",
     "output_type": "stream",
     "text": [
      "V_B1_0_r = 230.42\n",
      "V_B1_0_i = -4.33\n",
      "V_B1_1_r = -118.96\n",
      "V_B1_1_i = -197.38\n",
      "V_B1_2_r = -111.46\n",
      "V_B1_2_i = 201.72\n",
      "V_B1_3_r =  0.00\n",
      "V_B1_3_i =  0.00\n",
      "V_B2_0_r = 230.26\n",
      "V_B2_0_i = -4.40\n",
      "V_B2_1_r = -118.94\n",
      "V_B2_1_i = -197.23\n",
      "V_B2_2_r = -111.33\n",
      "V_B2_2_i = 201.64\n",
      "V_B2_3_r =  0.02\n",
      "V_B2_3_i = -0.01\n",
      "V_B4_0_r = 230.42\n",
      "V_B4_0_i = -4.33\n",
      "V_B4_1_r =  0.00\n",
      "V_B4_1_i =  0.00\n",
      "i_load_B2_a_r = -43.42\n",
      "i_load_B2_a_i =  0.83\n",
      "i_load_B2_b_r = 22.43\n",
      "i_load_B2_b_i = 37.18\n",
      "i_load_B2_c_r = 20.98\n",
      "i_load_B2_c_i = -38.00\n",
      "i_load_B2_n_r =  0.01\n",
      "i_load_B2_n_i = -0.00\n",
      "i_vsc_B1_a_r = 43.42\n",
      "i_vsc_B1_b_r = -22.43\n",
      "i_vsc_B1_c_r = -20.98\n",
      "i_vsc_B1_n_r = -0.01\n",
      "v_B1_o_r = -0.00\n",
      "p_dc_B1 = 31442.15\n",
      "i_dc_B1 = 39.30\n",
      "i_vsc_B1_a_i = -0.83\n",
      "i_vsc_B1_b_i = -37.18\n",
      "i_vsc_B1_c_i = 38.00\n",
      "i_vsc_B1_n_i =  0.00\n",
      "v_B1_o_i =  0.00\n",
      "omega_coi =  1.00\n",
      "p_agc =  0.00\n"
     ]
    }
   ],
   "source": [
    "model.ini({\"p_load_B2_a\":10e3,\"p_load_B2_b\":10e3,\"p_load_B2_c\":10E3},'xy_0.json')\n",
    "model.report_y()"
   ]
  },
  {
   "cell_type": "code",
   "execution_count": 12,
   "metadata": {},
   "outputs": [
    {
     "name": "stdout",
     "output_type": "stream",
     "text": [
      "Input or parameter p_load_B1_a not found.\n",
      "Input or parameter p_load_B1_b not found.\n",
      "Input or parameter p_load_B1_c not found.\n"
     ]
    },
    {
     "ename": "AttributeError",
     "evalue": "'model' object has no attribute 'P_d'",
     "output_type": "error",
     "traceback": [
      "\u001b[1;31m---------------------------------------------------------------------------\u001b[0m",
      "\u001b[1;31mAttributeError\u001b[0m                            Traceback (most recent call last)",
      "\u001b[1;32m~\\AppData\\Local\\Temp\\ipykernel_11592\\2557682110.py\u001b[0m in \u001b[0;36m<module>\u001b[1;34m\u001b[0m\n\u001b[1;32m----> 1\u001b[1;33m \u001b[0mget_ipython\u001b[0m\u001b[1;33m(\u001b[0m\u001b[1;33m)\u001b[0m\u001b[1;33m.\u001b[0m\u001b[0mrun_cell_magic\u001b[0m\u001b[1;33m(\u001b[0m\u001b[1;34m'timeit'\u001b[0m\u001b[1;33m,\u001b[0m \u001b[1;34m''\u001b[0m\u001b[1;33m,\u001b[0m \u001b[1;34m'\\nfor load in np.arange(0,200e3,10e3):\\n    model.spini({\"p_load_B1_a\":10e3,\"p_load_B1_b\":10e3,\"p_load_B1_c\":load},\\'xy_0.json\\')\\n'\u001b[0m\u001b[1;33m)\u001b[0m\u001b[1;33m\u001b[0m\u001b[1;33m\u001b[0m\u001b[0m\n\u001b[0m",
      "\u001b[1;32mc:\\Users\\jmmau\\anaconda3\\lib\\site-packages\\IPython\\core\\interactiveshell.py\u001b[0m in \u001b[0;36mrun_cell_magic\u001b[1;34m(self, magic_name, line, cell)\u001b[0m\n\u001b[0;32m   2417\u001b[0m             \u001b[1;32mwith\u001b[0m \u001b[0mself\u001b[0m\u001b[1;33m.\u001b[0m\u001b[0mbuiltin_trap\u001b[0m\u001b[1;33m:\u001b[0m\u001b[1;33m\u001b[0m\u001b[1;33m\u001b[0m\u001b[0m\n\u001b[0;32m   2418\u001b[0m                 \u001b[0margs\u001b[0m \u001b[1;33m=\u001b[0m \u001b[1;33m(\u001b[0m\u001b[0mmagic_arg_s\u001b[0m\u001b[1;33m,\u001b[0m \u001b[0mcell\u001b[0m\u001b[1;33m)\u001b[0m\u001b[1;33m\u001b[0m\u001b[1;33m\u001b[0m\u001b[0m\n\u001b[1;32m-> 2419\u001b[1;33m                 \u001b[0mresult\u001b[0m \u001b[1;33m=\u001b[0m \u001b[0mfn\u001b[0m\u001b[1;33m(\u001b[0m\u001b[1;33m*\u001b[0m\u001b[0margs\u001b[0m\u001b[1;33m,\u001b[0m \u001b[1;33m**\u001b[0m\u001b[0mkwargs\u001b[0m\u001b[1;33m)\u001b[0m\u001b[1;33m\u001b[0m\u001b[1;33m\u001b[0m\u001b[0m\n\u001b[0m\u001b[0;32m   2420\u001b[0m             \u001b[1;32mreturn\u001b[0m \u001b[0mresult\u001b[0m\u001b[1;33m\u001b[0m\u001b[1;33m\u001b[0m\u001b[0m\n\u001b[0;32m   2421\u001b[0m \u001b[1;33m\u001b[0m\u001b[0m\n",
      "\u001b[1;32mc:\\Users\\jmmau\\anaconda3\\lib\\site-packages\\decorator.py\u001b[0m in \u001b[0;36mfun\u001b[1;34m(*args, **kw)\u001b[0m\n\u001b[0;32m    230\u001b[0m             \u001b[1;32mif\u001b[0m \u001b[1;32mnot\u001b[0m \u001b[0mkwsyntax\u001b[0m\u001b[1;33m:\u001b[0m\u001b[1;33m\u001b[0m\u001b[1;33m\u001b[0m\u001b[0m\n\u001b[0;32m    231\u001b[0m                 \u001b[0margs\u001b[0m\u001b[1;33m,\u001b[0m \u001b[0mkw\u001b[0m \u001b[1;33m=\u001b[0m \u001b[0mfix\u001b[0m\u001b[1;33m(\u001b[0m\u001b[0margs\u001b[0m\u001b[1;33m,\u001b[0m \u001b[0mkw\u001b[0m\u001b[1;33m,\u001b[0m \u001b[0msig\u001b[0m\u001b[1;33m)\u001b[0m\u001b[1;33m\u001b[0m\u001b[1;33m\u001b[0m\u001b[0m\n\u001b[1;32m--> 232\u001b[1;33m             \u001b[1;32mreturn\u001b[0m \u001b[0mcaller\u001b[0m\u001b[1;33m(\u001b[0m\u001b[0mfunc\u001b[0m\u001b[1;33m,\u001b[0m \u001b[1;33m*\u001b[0m\u001b[1;33m(\u001b[0m\u001b[0mextras\u001b[0m \u001b[1;33m+\u001b[0m \u001b[0margs\u001b[0m\u001b[1;33m)\u001b[0m\u001b[1;33m,\u001b[0m \u001b[1;33m**\u001b[0m\u001b[0mkw\u001b[0m\u001b[1;33m)\u001b[0m\u001b[1;33m\u001b[0m\u001b[1;33m\u001b[0m\u001b[0m\n\u001b[0m\u001b[0;32m    233\u001b[0m     \u001b[0mfun\u001b[0m\u001b[1;33m.\u001b[0m\u001b[0m__name__\u001b[0m \u001b[1;33m=\u001b[0m \u001b[0mfunc\u001b[0m\u001b[1;33m.\u001b[0m\u001b[0m__name__\u001b[0m\u001b[1;33m\u001b[0m\u001b[1;33m\u001b[0m\u001b[0m\n\u001b[0;32m    234\u001b[0m     \u001b[0mfun\u001b[0m\u001b[1;33m.\u001b[0m\u001b[0m__doc__\u001b[0m \u001b[1;33m=\u001b[0m \u001b[0mfunc\u001b[0m\u001b[1;33m.\u001b[0m\u001b[0m__doc__\u001b[0m\u001b[1;33m\u001b[0m\u001b[1;33m\u001b[0m\u001b[0m\n",
      "\u001b[1;32mc:\\Users\\jmmau\\anaconda3\\lib\\site-packages\\IPython\\core\\magic.py\u001b[0m in \u001b[0;36m<lambda>\u001b[1;34m(f, *a, **k)\u001b[0m\n\u001b[0;32m    185\u001b[0m     \u001b[1;31m# but it's overkill for just that one bit of state.\u001b[0m\u001b[1;33m\u001b[0m\u001b[1;33m\u001b[0m\u001b[0m\n\u001b[0;32m    186\u001b[0m     \u001b[1;32mdef\u001b[0m \u001b[0mmagic_deco\u001b[0m\u001b[1;33m(\u001b[0m\u001b[0marg\u001b[0m\u001b[1;33m)\u001b[0m\u001b[1;33m:\u001b[0m\u001b[1;33m\u001b[0m\u001b[1;33m\u001b[0m\u001b[0m\n\u001b[1;32m--> 187\u001b[1;33m         \u001b[0mcall\u001b[0m \u001b[1;33m=\u001b[0m \u001b[1;32mlambda\u001b[0m \u001b[0mf\u001b[0m\u001b[1;33m,\u001b[0m \u001b[1;33m*\u001b[0m\u001b[0ma\u001b[0m\u001b[1;33m,\u001b[0m \u001b[1;33m**\u001b[0m\u001b[0mk\u001b[0m\u001b[1;33m:\u001b[0m \u001b[0mf\u001b[0m\u001b[1;33m(\u001b[0m\u001b[1;33m*\u001b[0m\u001b[0ma\u001b[0m\u001b[1;33m,\u001b[0m \u001b[1;33m**\u001b[0m\u001b[0mk\u001b[0m\u001b[1;33m)\u001b[0m\u001b[1;33m\u001b[0m\u001b[1;33m\u001b[0m\u001b[0m\n\u001b[0m\u001b[0;32m    188\u001b[0m \u001b[1;33m\u001b[0m\u001b[0m\n\u001b[0;32m    189\u001b[0m         \u001b[1;32mif\u001b[0m \u001b[0mcallable\u001b[0m\u001b[1;33m(\u001b[0m\u001b[0marg\u001b[0m\u001b[1;33m)\u001b[0m\u001b[1;33m:\u001b[0m\u001b[1;33m\u001b[0m\u001b[1;33m\u001b[0m\u001b[0m\n",
      "\u001b[1;32mc:\\Users\\jmmau\\anaconda3\\lib\\site-packages\\IPython\\core\\magics\\execution.py\u001b[0m in \u001b[0;36mtimeit\u001b[1;34m(self, line, cell, local_ns)\u001b[0m\n\u001b[0;32m   1178\u001b[0m             \u001b[1;32mfor\u001b[0m \u001b[0mindex\u001b[0m \u001b[1;32min\u001b[0m \u001b[0mrange\u001b[0m\u001b[1;33m(\u001b[0m\u001b[1;36m0\u001b[0m\u001b[1;33m,\u001b[0m \u001b[1;36m10\u001b[0m\u001b[1;33m)\u001b[0m\u001b[1;33m:\u001b[0m\u001b[1;33m\u001b[0m\u001b[1;33m\u001b[0m\u001b[0m\n\u001b[0;32m   1179\u001b[0m                 \u001b[0mnumber\u001b[0m \u001b[1;33m=\u001b[0m \u001b[1;36m10\u001b[0m \u001b[1;33m**\u001b[0m \u001b[0mindex\u001b[0m\u001b[1;33m\u001b[0m\u001b[1;33m\u001b[0m\u001b[0m\n\u001b[1;32m-> 1180\u001b[1;33m                 \u001b[0mtime_number\u001b[0m \u001b[1;33m=\u001b[0m \u001b[0mtimer\u001b[0m\u001b[1;33m.\u001b[0m\u001b[0mtimeit\u001b[0m\u001b[1;33m(\u001b[0m\u001b[0mnumber\u001b[0m\u001b[1;33m)\u001b[0m\u001b[1;33m\u001b[0m\u001b[1;33m\u001b[0m\u001b[0m\n\u001b[0m\u001b[0;32m   1181\u001b[0m                 \u001b[1;32mif\u001b[0m \u001b[0mtime_number\u001b[0m \u001b[1;33m>=\u001b[0m \u001b[1;36m0.2\u001b[0m\u001b[1;33m:\u001b[0m\u001b[1;33m\u001b[0m\u001b[1;33m\u001b[0m\u001b[0m\n\u001b[0;32m   1182\u001b[0m                     \u001b[1;32mbreak\u001b[0m\u001b[1;33m\u001b[0m\u001b[1;33m\u001b[0m\u001b[0m\n",
      "\u001b[1;32mc:\\Users\\jmmau\\anaconda3\\lib\\site-packages\\IPython\\core\\magics\\execution.py\u001b[0m in \u001b[0;36mtimeit\u001b[1;34m(self, number)\u001b[0m\n\u001b[0;32m    167\u001b[0m         \u001b[0mgc\u001b[0m\u001b[1;33m.\u001b[0m\u001b[0mdisable\u001b[0m\u001b[1;33m(\u001b[0m\u001b[1;33m)\u001b[0m\u001b[1;33m\u001b[0m\u001b[1;33m\u001b[0m\u001b[0m\n\u001b[0;32m    168\u001b[0m         \u001b[1;32mtry\u001b[0m\u001b[1;33m:\u001b[0m\u001b[1;33m\u001b[0m\u001b[1;33m\u001b[0m\u001b[0m\n\u001b[1;32m--> 169\u001b[1;33m             \u001b[0mtiming\u001b[0m \u001b[1;33m=\u001b[0m \u001b[0mself\u001b[0m\u001b[1;33m.\u001b[0m\u001b[0minner\u001b[0m\u001b[1;33m(\u001b[0m\u001b[0mit\u001b[0m\u001b[1;33m,\u001b[0m \u001b[0mself\u001b[0m\u001b[1;33m.\u001b[0m\u001b[0mtimer\u001b[0m\u001b[1;33m)\u001b[0m\u001b[1;33m\u001b[0m\u001b[1;33m\u001b[0m\u001b[0m\n\u001b[0m\u001b[0;32m    170\u001b[0m         \u001b[1;32mfinally\u001b[0m\u001b[1;33m:\u001b[0m\u001b[1;33m\u001b[0m\u001b[1;33m\u001b[0m\u001b[0m\n\u001b[0;32m    171\u001b[0m             \u001b[1;32mif\u001b[0m \u001b[0mgcold\u001b[0m\u001b[1;33m:\u001b[0m\u001b[1;33m\u001b[0m\u001b[1;33m\u001b[0m\u001b[0m\n",
      "\u001b[1;32m<magic-timeit>\u001b[0m in \u001b[0;36minner\u001b[1;34m(_it, _timer)\u001b[0m\n",
      "\u001b[1;32mc:\\Users\\jmmau\\workspace\\pydae\\src\\pydae\\urisi\\hola.py\u001b[0m in \u001b[0;36mspini\u001b[1;34m(self, up_dict, xy_0)\u001b[0m\n\u001b[0;32m    676\u001b[0m                 \u001b[0mself\u001b[0m\u001b[1;33m.\u001b[0m\u001b[0mload_xy_0\u001b[0m\u001b[1;33m(\u001b[0m\u001b[0mfile_name\u001b[0m \u001b[1;33m=\u001b[0m \u001b[0mxy_0\u001b[0m\u001b[1;33m)\u001b[0m\u001b[1;33m\u001b[0m\u001b[1;33m\u001b[0m\u001b[0m\n\u001b[0;32m    677\u001b[0m \u001b[1;33m\u001b[0m\u001b[0m\n\u001b[1;32m--> 678\u001b[1;33m         \u001b[0mself\u001b[0m\u001b[1;33m.\u001b[0m\u001b[0mxy_ini\u001b[0m \u001b[1;33m=\u001b[0m \u001b[0mself\u001b[0m\u001b[1;33m.\u001b[0m\u001b[0mspss_ini\u001b[0m\u001b[1;33m(\u001b[0m\u001b[1;33m)\u001b[0m\u001b[1;33m\u001b[0m\u001b[1;33m\u001b[0m\u001b[0m\n\u001b[0m\u001b[0;32m    679\u001b[0m \u001b[1;33m\u001b[0m\u001b[0m\n\u001b[0;32m    680\u001b[0m \u001b[1;33m\u001b[0m\u001b[0m\n",
      "\u001b[1;32mc:\\Users\\jmmau\\workspace\\pydae\\src\\pydae\\urisi\\hola.py\u001b[0m in \u001b[0;36mspss_ini\u001b[1;34m(self)\u001b[0m\n\u001b[0;32m    699\u001b[0m         xy_ini,it,iparams = spsstate(self.xy,self.u_ini,self.p,\n\u001b[0;32m    700\u001b[0m                  \u001b[0mself\u001b[0m\u001b[1;33m.\u001b[0m\u001b[0msp_jac_ini\u001b[0m\u001b[1;33m.\u001b[0m\u001b[0mdata\u001b[0m\u001b[1;33m,\u001b[0m\u001b[0mself\u001b[0m\u001b[1;33m.\u001b[0m\u001b[0msp_jac_ini\u001b[0m\u001b[1;33m.\u001b[0m\u001b[0mindices\u001b[0m\u001b[1;33m,\u001b[0m\u001b[0mself\u001b[0m\u001b[1;33m.\u001b[0m\u001b[0msp_jac_ini\u001b[0m\u001b[1;33m.\u001b[0m\u001b[0mindptr\u001b[0m\u001b[1;33m,\u001b[0m\u001b[1;33m\u001b[0m\u001b[1;33m\u001b[0m\u001b[0m\n\u001b[1;32m--> 701\u001b[1;33m                  \u001b[0mself\u001b[0m\u001b[1;33m.\u001b[0m\u001b[0mP_d\u001b[0m\u001b[1;33m,\u001b[0m\u001b[0mself\u001b[0m\u001b[1;33m.\u001b[0m\u001b[0mP_i\u001b[0m\u001b[1;33m,\u001b[0m\u001b[0mself\u001b[0m\u001b[1;33m.\u001b[0m\u001b[0mP_p\u001b[0m\u001b[1;33m,\u001b[0m\u001b[0mself\u001b[0m\u001b[1;33m.\u001b[0m\u001b[0mperm_r\u001b[0m\u001b[1;33m,\u001b[0m\u001b[0mself\u001b[0m\u001b[1;33m.\u001b[0m\u001b[0mperm_c\u001b[0m\u001b[1;33m,\u001b[0m\u001b[1;33m\u001b[0m\u001b[1;33m\u001b[0m\u001b[0m\n\u001b[0m\u001b[0;32m    702\u001b[0m                  \u001b[0mself\u001b[0m\u001b[1;33m.\u001b[0m\u001b[0mN_x\u001b[0m\u001b[1;33m,\u001b[0m\u001b[0mself\u001b[0m\u001b[1;33m.\u001b[0m\u001b[0mN_y\u001b[0m\u001b[1;33m,\u001b[0m\u001b[1;33m\u001b[0m\u001b[1;33m\u001b[0m\u001b[0m\n\u001b[0;32m    703\u001b[0m                  \u001b[0mmax_it\u001b[0m\u001b[1;33m=\u001b[0m\u001b[0mself\u001b[0m\u001b[1;33m.\u001b[0m\u001b[0mmax_it\u001b[0m\u001b[1;33m,\u001b[0m\u001b[0mtol\u001b[0m\u001b[1;33m=\u001b[0m\u001b[0mself\u001b[0m\u001b[1;33m.\u001b[0m\u001b[0mitol\u001b[0m\u001b[1;33m,\u001b[0m\u001b[1;33m\u001b[0m\u001b[1;33m\u001b[0m\u001b[0m\n",
      "\u001b[1;31mAttributeError\u001b[0m: 'model' object has no attribute 'P_d'"
     ]
    }
   ],
   "source": [
    "%%timeit \n",
    "\n",
    "for load in np.arange(0,200e3,10e3):\n",
    "    model.spini({\"p_load_B1_a\":10e3,\"p_load_B1_b\":10e3,\"p_load_B1_c\":load},'xy_0.json')\n"
   ]
  },
  {
   "cell_type": "code",
   "execution_count": 10,
   "metadata": {},
   "outputs": [
    {
     "name": "stdout",
     "output_type": "stream",
     "text": [
      "3.71 ms ± 106 µs per loop (mean ± std. dev. of 7 runs, 100 loops each)\n"
     ]
    }
   ],
   "source": [
    "%%timeit \n",
    "\n",
    "for load in np.arange(0,200e3,10e3):\n",
    "    model.ini({\"p_load_B1_a\":10e3,\"p_load_B1_b\":10e3,\"p_load_B1_c\":load},'xy_0.json')"
   ]
  },
  {
   "cell_type": "code",
   "execution_count": null,
   "metadata": {},
   "outputs": [],
   "source": []
  }
 ],
 "metadata": {
  "kernelspec": {
   "display_name": "base",
   "language": "python",
   "name": "python3"
  },
  "language_info": {
   "codemirror_mode": {
    "name": "ipython",
    "version": 3
   },
   "file_extension": ".py",
   "mimetype": "text/x-python",
   "name": "python",
   "nbconvert_exporter": "python",
   "pygments_lexer": "ipython3",
   "version": "3.9.13 (main, Aug 25 2022, 23:51:50) [MSC v.1916 64 bit (AMD64)]"
  },
  "orig_nbformat": 4,
  "vscode": {
   "interpreter": {
    "hash": "1b1fd1016f48c91706a48f1be322d44ea1680db2bb213f1ce174a5eccfd1e534"
   }
  }
 },
 "nbformat": 4,
 "nbformat_minor": 2
}

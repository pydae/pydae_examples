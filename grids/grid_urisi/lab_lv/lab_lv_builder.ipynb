{
 "cells": [
  {
   "cell_type": "code",
   "execution_count": 2,
   "metadata": {},
   "outputs": [
    {
     "name": "stdout",
     "output_type": "stream",
     "text": [
      "-0.5235987755982988\n"
     ]
    }
   ],
   "source": [
    "import sympy as sym\n",
    "from pydae.urisi.urisi_builder import urisi\n",
    "\n",
    "grid = urisi('lab_lv.hjson')\n",
    "grid.uz_jacs = True\n",
    "grid.construct('lab_lv')\n",
    "grid.compile('lab_lv')"
   ]
  },
  {
   "cell_type": "code",
   "execution_count": null,
   "metadata": {},
   "outputs": [],
   "source": []
  }
 ],
 "metadata": {
  "kernelspec": {
   "display_name": "base",
   "language": "python",
   "name": "python3"
  },
  "language_info": {
   "codemirror_mode": {
    "name": "ipython",
    "version": 3
   },
   "file_extension": ".py",
   "mimetype": "text/x-python",
   "name": "python",
   "nbconvert_exporter": "python",
   "pygments_lexer": "ipython3",
   "version": "3.11.5"
  }
 },
 "nbformat": 4,
 "nbformat_minor": 2
}

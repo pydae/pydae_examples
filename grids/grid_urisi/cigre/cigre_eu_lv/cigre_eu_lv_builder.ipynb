{
 "cells": [
  {
   "cell_type": "code",
   "execution_count": 1,
   "metadata": {},
   "outputs": [],
   "source": [
    "import numpy as np\n",
    "import matplotlib.pyplot as plt\n",
    "#from pydgrid.plot_bokeh import plot_results\n",
    "import sympy as sym\n",
    "import pydae.build_cffi_mp as db\n",
    "from pydae.urisi.urisi_builder import urisi\n",
    "import json"
   ]
  },
  {
   "cell_type": "code",
   "execution_count": 2,
   "metadata": {},
   "outputs": [
    {
     "name": "stdout",
     "output_type": "stream",
     "text": [
      "check_system (time: 0.0)\n",
      "computing jacobians Fx_run,Fy_run  (time: 0.050 s)\n",
      "computing jacobians Gx_run,Gy_run  (time: 0.074 s)\n",
      "computing jacobians Fu_run,Gu_run  (time: 9.185 s)\n",
      "computing jacobians Fx_ini,Fy_ini  (time: 10.734 s)\n",
      "computing jacobians Gx_ini,Gy_ini  (time: 10.747 s)\n",
      "computing jacobians Hx_run,Hy_run,Hu_run  (time: 19.9663405418396 s)\n",
      "end system  (time: 24.781 s)\n",
      "computing jac_ini (time: 0.0)\n",
      "computing jac_run (time: 0.061345815658569336)\n",
      "computing jac_trap (time: 0.12239193916320801)\n",
      "end of jacobians computation (time: 0.185)\n",
      "writting f_ini and g_ini code (time: 0.000 s)\n",
      "writting f_run and g_run code (time: 8.825 s)\n",
      "writting h_run code (time: 17.320 s)\n",
      "converting jac_ini to sp_jac_ini  (time: 21.219 s)\n",
      "running sym2rhs for sp_jac_ini (time: 21.238 s)\n",
      "converting jac_run to sp_jac_run  (time: 27.837 s)\n",
      "running sym2rhs for sp_jac_run (time: 27.854 s)\n",
      "converting jac_trap to sp_jac_trap  (time: 34.327 s)\n",
      "running sym2rhs for sp_jac_trap (time: 34.345 s)\n",
      "wrtting  de_jac_trap code (time: 40.976 s)\n",
      "writting sp_jac_trap code (time: 40.980 s)\n",
      "converting Fu_run to sparse (time: 40.984 s)\n",
      "running sym2rhs for Fu_run (time: 40.984 s)\n",
      "writting  Fu_run code (time: 41.028 s)\n",
      "writting Fu_run code (time: 41.028 s)\n",
      "converting Gu_run to sparse (time: 41.040 s)\n",
      "running sym2rhs for Gu_run (time: 41.041 s)\n",
      "writting  Gu_run code (time: 41.668 s)\n",
      "writting Gu_run code (time: 41.669 s)\n",
      "converting Hx_run to sparse (time: 41.670 s)\n",
      "running sym2rhs for Hx_run (time: 41.670 s)\n",
      "writting  Hx_run code (time: 41.714 s)\n",
      "writting Hx_run code (time: 41.715 s)\n",
      "converting Hy_run to sparse (time: 41.715 s)\n",
      "running sym2rhs for Hy_run (time: 41.726 s)\n",
      "writting  Hy_run code (time: 44.482 s)\n",
      "writting Hy_run code (time: 44.484 s)\n",
      "converting Hu_run to sparse (time: 44.487 s)\n",
      "running sym2rhs for Hu_run (time: 44.487 s)\n",
      "writting  Hu_run code (time: 44.535 s)\n",
      "writting Hu_run code (time: 44.535 s)\n",
      "writting full source (time: 44.536 s)\n",
      "Code wrote in 44.551 s\n",
      "Compilation time: 20.86 s\n",
      "sys2num (time: 0.029)\n"
     ]
    }
   ],
   "source": [
    "grid = urisi('cigre_eu_lv.json')\n",
    "grid.construct('cigre_eu_lv')\n",
    "grid.verbose = True\n",
    "grid.compile('cigre_eu_lv')"
   ]
  },
  {
   "cell_type": "code",
   "execution_count": 3,
   "metadata": {},
   "outputs": [],
   "source": [
    "from sympy import banded, ones, Matrix,eye"
   ]
  },
  {
   "cell_type": "code",
   "execution_count": 4,
   "metadata": {},
   "outputs": [
    {
     "data": {
      "text/latex": [
       "$\\displaystyle \\left[\\begin{matrix}1 & 0 & 0 & 0\\\\0 & 1 & 0 & 0\\\\0 & 0 & 1 & 0\\\\0 & 0 & 0 & 1\\end{matrix}\\right]$"
      ],
      "text/plain": [
       "Matrix([\n",
       "[1, 0, 0, 0],\n",
       "[0, 1, 0, 0],\n",
       "[0, 0, 1, 0],\n",
       "[0, 0, 0, 1]])"
      ]
     },
     "execution_count": 4,
     "metadata": {},
     "output_type": "execute_result"
    }
   ],
   "source": [
    "banded(4,{0:eye(4)})"
   ]
  },
  {
   "cell_type": "code",
   "execution_count": null,
   "metadata": {},
   "outputs": [],
   "source": []
  }
 ],
 "metadata": {
  "kernelspec": {
   "display_name": "base",
   "language": "python",
   "name": "python3"
  },
  "language_info": {
   "codemirror_mode": {
    "name": "ipython",
    "version": 3
   },
   "file_extension": ".py",
   "mimetype": "text/x-python",
   "name": "python",
   "nbconvert_exporter": "python",
   "pygments_lexer": "ipython3",
   "version": "3.9.13 (main, Aug 25 2022, 23:51:50) [MSC v.1916 64 bit (AMD64)]"
  },
  "vscode": {
   "interpreter": {
    "hash": "1b1fd1016f48c91706a48f1be322d44ea1680db2bb213f1ce174a5eccfd1e534"
   }
  }
 },
 "nbformat": 4,
 "nbformat_minor": 4
}

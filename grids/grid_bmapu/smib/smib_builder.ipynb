{
 "cells": [
  {
   "attachments": {},
   "cell_type": "markdown",
   "metadata": {},
   "source": [
    "## SMIB\n",
    "\n",
    "Synchronous Machine Infinite Bus (SMIB) system\n"
   ]
  },
  {
   "attachments": {},
   "cell_type": "markdown",
   "metadata": {},
   "source": [
    "### System building"
   ]
  },
  {
   "cell_type": "code",
   "execution_count": 5,
   "metadata": {},
   "outputs": [],
   "source": [
    "from pydae.bmapu import bmapu_builder"
   ]
  },
  {
   "attachments": {},
   "cell_type": "markdown",
   "metadata": {},
   "source": [
    "#### System data"
   ]
  },
  {
   "cell_type": "code",
   "execution_count": 8,
   "metadata": {},
   "outputs": [],
   "source": [
    "data = {\n",
    "\"system\":{\"name\":\"smib\",\"S_base\":100e6, \"K_p_agc\":0.0,\"K_i_agc\":0.0,\"K_xif\":0.01},       \n",
    "\"buses\":[{\"name\":\"1\", \"P_W\":0.0,\"Q_var\":0.0,\"U_kV\":20.0},\n",
    "         {\"name\":\"2\", \"P_W\":0.0,\"Q_var\":0.0,\"U_kV\":400.0},\n",
    "         {\"name\":\"3\", \"P_W\":0.0,\"Q_var\":0.0,\"U_kV\":400.0}\n",
    "        ],\n",
    "\"lines\":[{\"bus_j\":\"1\", \"bus_k\":\"2\", \"X_pu\":0.15,\"R_pu\":0.0,\"Bs_pu\":1e-6,\"S_mva\":150.0},\n",
    "         {\"bus_j\":\"2\", \"bus_k\":\"3\", \"X_pu\":0.01,\"R_pu\":0.0,\"Bs_pu\":1e-6,\"S_mva\":150.0}],\n",
    "\"syns\":[\n",
    "      {\"bus\":\"1\",\"S_n\":100e6,\n",
    "         \"X_d\":1.8,\"X1d\":0.3, \"T1d0\":8.0,    \n",
    "         \"X_q\":1.7,\"X1q\":0.55,\"T1q0\":0.4,  \n",
    "         \"R_a\":0.01,\"X_l\": 0.2, \n",
    "         \"H\":5.0,\"D\":0.0,\n",
    "         \"Omega_b\":314.1592653589793,\"omega_s\":1.0,\"K_sec\":0.0,\n",
    "         \"K_delta\":0.0}],\n",
    "\"genapes\":[{\"bus\":\"3\",\"S_n\":1e9,\"F_n\":50.0,\"X_v\":0.001,\"R_v\":0.0,\"K_delta\":0.001,\"K_alpha\":1e-6}]\n",
    "}\n",
    "\n",
    "\n",
    "grid = bmapu_builder.bmapu(data)\n",
    "grid.build('smib')\n",
    "\n",
    "data = {\n",
    "\"system\":{\"name\":\"smib_avr\",\"S_base\":100e6, \"K_p_agc\":0.0,\"K_i_agc\":0.0,\"K_xif\":0.01},       \n",
    "\"buses\":[{\"name\":\"1\", \"P_W\":0.0,\"Q_var\":0.0,\"U_kV\":20.0},\n",
    "         {\"name\":\"2\", \"P_W\":0.0,\"Q_var\":0.0,\"U_kV\":400.0},\n",
    "         {\"name\":\"3\", \"P_W\":0.0,\"Q_var\":0.0,\"U_kV\":400.0}\n",
    "        ],\n",
    "\"lines\":[{\"bus_j\":\"1\", \"bus_k\":\"2\", \"X_pu\":0.15,\"R_pu\":0.0,\"Bs_pu\":1e-6,\"S_mva\":150.0},\n",
    "         {\"bus_j\":\"2\", \"bus_k\":\"3\", \"X_pu\":0.01,\"R_pu\":0.0,\"Bs_pu\":1e-6,\"S_mva\":150.0}],\n",
    "\"syns\":[\n",
    "      {\"bus\":\"1\",\"S_n\":100e6,\n",
    "         \"X_d\":1.8,\"X1d\":0.3, \"T1d0\":8.0,    \n",
    "         \"X_q\":1.7,\"X1q\":0.55,\"T1q0\":0.4,  \n",
    "         \"R_a\":0.01,\"X_l\": 0.2, \n",
    "         \"H\":5.0,\"D\":0.0,\n",
    "         \"Omega_b\":314.1592653589793,\"omega_s\":1.0,\"K_sec\":0.0,\n",
    "         \"K_delta\":0.0,       \n",
    "         \"avr\":{\"type\":\"sexs\",\"K_a\":100.0,\"T_a\":1.0,\"T_b\":1.0,\"T_e\":0.1,\"E_min\":-10.0,\"E_max\":10.0,\"v_ref\":1.0}}],\n",
    "\"genapes\":[{\"bus\":\"3\",\"S_n\":1e9,\"F_n\":50.0,\"X_v\":0.001,\"R_v\":0.0,\"K_delta\":0.001,\"K_alpha\":1e-6}]\n",
    "}\n",
    "\n",
    "\n",
    "grid = bmapu_builder.bmapu(data)\n",
    "grid.build('smib_avr')\n"
   ]
  },
  {
   "attachments": {},
   "cell_type": "markdown",
   "metadata": {},
   "source": [
    "#### System generation and compilation"
   ]
  },
  {
   "cell_type": "code",
   "execution_count": 11,
   "metadata": {},
   "outputs": [],
   "source": []
  },
  {
   "cell_type": "code",
   "execution_count": 5,
   "metadata": {},
   "outputs": [],
   "source": [
    "grid.construct('smib')\n",
    "\n",
    "# add power injections to bus '1', in pu in system base\n",
    "p_1,q_1 = sym.symbols('p_1,q_1', real=True)\n",
    "idx_bus = grid.buses_list.index('1')\n",
    "grid.dae['g'][idx_bus*2]   += -p_1\n",
    "grid.dae['g'][idx_bus*2+1] += -q_1\n",
    "grid.dae['u_ini_dict'].update({'p_1':0.0,'q_1':0.0})\n",
    "grid.dae['u_run_dict'].update({'p_1':0.0,'q_1':0.0})\n",
    "grid.dae['h_dict'].update({'p_1':p_1,'q_1':q_1})"
   ]
  },
  {
   "cell_type": "code",
   "execution_count": 6,
   "metadata": {},
   "outputs": [
    {
     "ename": "TypeError",
     "evalue": "bmapu.compile() takes 1 positional argument but 2 were given",
     "output_type": "error",
     "traceback": [
      "\u001b[1;31m---------------------------------------------------------------------------\u001b[0m",
      "\u001b[1;31mTypeError\u001b[0m                                 Traceback (most recent call last)",
      "Cell \u001b[1;32mIn[6], line 1\u001b[0m\n\u001b[1;32m----> 1\u001b[0m grid\u001b[39m.\u001b[39;49mcompile(\u001b[39m'\u001b[39;49m\u001b[39msmib\u001b[39;49m\u001b[39m'\u001b[39;49m)\n",
      "\u001b[1;31mTypeError\u001b[0m: bmapu.compile() takes 1 positional argument but 2 were given"
     ]
    }
   ],
   "source": [
    "grid.compile('smib')"
   ]
  },
  {
   "cell_type": "code",
   "execution_count": null,
   "metadata": {},
   "outputs": [],
   "source": []
  }
 ],
 "metadata": {
  "jupytext": {
   "formats": "ipynb,md:myst"
  },
  "kernelspec": {
   "display_name": "Python 3.9.13 ('base')",
   "language": "python",
   "name": "python3"
  },
  "language_info": {
   "codemirror_mode": {
    "name": "ipython",
    "version": 3
   },
   "file_extension": ".py",
   "mimetype": "text/x-python",
   "name": "python",
   "nbconvert_exporter": "python",
   "pygments_lexer": "ipython3",
   "version": "3.10.11"
  },
  "vscode": {
   "interpreter": {
    "hash": "1b1fd1016f48c91706a48f1be322d44ea1680db2bb213f1ce174a5eccfd1e534"
   }
  }
 },
 "nbformat": 4,
 "nbformat_minor": 4
}

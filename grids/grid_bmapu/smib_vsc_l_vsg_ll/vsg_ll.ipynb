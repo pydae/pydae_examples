{
 "cells": [
  {
   "cell_type": "code",
   "execution_count": 3,
   "id": "0803874d",
   "metadata": {},
   "outputs": [],
   "source": [
    "import smib_vsc_l\n",
    "import vsg_ll"
   ]
  },
  {
   "cell_type": "code",
   "execution_count": 7,
   "id": "334a063b",
   "metadata": {},
   "outputs": [],
   "source": [
    "import pydae.ssa as ssa\n",
    "import numpy as np\n",
    "import matplotlib.pyplot as plt"
   ]
  },
  {
   "cell_type": "code",
   "execution_count": 8,
   "id": "5245f76e",
   "metadata": {},
   "outputs": [],
   "source": [
    "xy_0 = {\n",
    "    \"V_1\": 1.0,\n",
    "    \"theta_1\": 0.0,\n",
    "    \"V_2\": 1.0,\n",
    "    \"theta_2\": 0.0,\n",
    "    \"omega_coi\": 1.0,\n",
    "    \"p_s_1\": 0.5,\n",
    "    \"e_qv_1\": 1.0,\n",
    "    \"m_1\": 0.8,\n",
    "    \"theta_t_1\": 0.0,\n",
    "    \"omega_2\": 1.0,\n",
    "    \"x_v_1\": 1.0,\n",
    "    \"e_qm_1\":1.0,\n",
    "    \"xi_v_1 \":1.0,\n",
    "    \"v_tq_ref_1\":1.0\n",
    "}"
   ]
  },
  {
   "cell_type": "code",
   "execution_count": 30,
   "id": "ba42ea32",
   "metadata": {},
   "outputs": [
    {
     "name": "stdout",
     "output_type": "stream",
     "text": [
      "Input or parameter X_s_1 not found.\n",
      "Input or parameter R_s_1 not found.\n"
     ]
    },
    {
     "data": {
      "text/plain": [
       "True"
      ]
     },
     "execution_count": 30,
     "metadata": {},
     "output_type": "execute_result"
    }
   ],
   "source": [
    "model1 = smib_vsc_l.model()  # vsc + ctrl\n",
    "model2 = vsg_ll.model()      # fisix\n",
    "\n",
    "params1 = {\"S_n_1\":10e6,'p_l_1':0.5,'v_ref_1':0.99,'X_s_1':0.1,'R_s_1':0.0,'b_1_2':-20,'X_v_1': 0.1, 'R_v_1':0.0,'K_q_1': 1}\n",
    "params2 = {\"S_n_1\":10e6,'p_l_1':0.5,'v_ref_1':0.99,'X_s_1':0.0,'R_s_1':0.0,'b_1_2':-20,'X_v_1': 0.2, 'R_v_1':0.0,'K_q_1': 1}\n",
    "\n",
    "model1.ini(params1,xy_0)\n",
    "model2.ini(params2,'xy_0.json')"
   ]
  },
  {
   "cell_type": "code",
   "execution_count": 31,
   "id": "89c8a2f6",
   "metadata": {},
   "outputs": [
    {
     "name": "stdout",
     "output_type": "stream",
     "text": [
      "delta_1 :    0.181     0.181   1.00\n",
      "e_qm_1  :    0.426     0.426   1.00\n",
      "p_s_2   :   -0.050    -0.050   1.00\n",
      "q_s_2   :    0.213     0.213   1.00\n",
      "V_1     :    0.990     0.990   1.00\n",
      "theta_1 :    0.004     0.004   1.00\n"
     ]
    }
   ],
   "source": [
    "items = ['delta_1', 'e_qm_1','p_s_2', 'q_s_2','V_1','theta_1']\n",
    "\n",
    "for item in items:\n",
    "    val1 = model1.get_value(item)\n",
    "    val2 = model2.get_value(item)\n",
    "\n",
    "    print(f'{item:8s}: {val1:8.3f}  {val2:8.3f}  {val2/val1:5.2f}')"
   ]
  },
  {
   "cell_type": "code",
   "execution_count": null,
   "id": "86440645",
   "metadata": {},
   "outputs": [],
   "source": []
  },
  {
   "cell_type": "code",
   "execution_count": 32,
   "id": "69a0b370",
   "metadata": {},
   "outputs": [
    {
     "name": "stdout",
     "output_type": "stream",
     "text": [
      "p_s_1 :     0.500     0.500\n",
      "q_s_1 :    -2.104    -2.104\n",
      "i_sd_1:     2.003     2.003\n",
      "i_sq_1:     0.871     0.871\n",
      "e_vq_1:     0.574     0.574\n"
     ]
    }
   ],
   "source": [
    "items = [('p_s_1','p_1'),('q_s_1','q_1'),('i_sd_1','i_d_ref_1'),('i_sq_1','i_q_ref_1'),('e_vq_1','e_qv_1')]\n",
    "\n",
    "for item1,item2 in items:\n",
    "    val1 = model1.get_value(item1)\n",
    "    val2 = model2.get_value(item2)\n",
    "\n",
    "    print(f'{item1:6s}:  {val1:8.3f}  {val2:8.3f}')"
   ]
  },
  {
   "cell_type": "code",
   "execution_count": 33,
   "id": "e16c7a48",
   "metadata": {},
   "outputs": [
    {
     "name": "stdout",
     "output_type": "stream",
     "text": [
      "i_sr_expected = 0.495577, i_sr_model = 0.495577\n",
      "i_si_expected = 2.127187, i_si_model = 2.127187\n",
      "m_expected = 0.649286, m_model = 0.649286\n",
      "theta_t_expected = 0.069323, theta_t_model = 0.069323\n"
     ]
    }
   ],
   "source": [
    "## Test for vsc_l\n",
    "model = model1\n",
    "V_s = model.get_value('V_1')\n",
    "theta_s = model.get_value('theta_1')\n",
    "\n",
    "p_s = model.get_value('p_s_1') # pu-m\n",
    "q_s = model.get_value('q_s_1') # pu-m\n",
    "\n",
    "### powers relation with v and i:\n",
    "v_s = V_s*np.exp(1j*theta_s)\n",
    "s_s = p_s + 1j*q_s # pu-m\n",
    "\n",
    "i_s = np.conj(s_s/v_s)\n",
    "\n",
    "i_sr_expected = i_s.real\n",
    "i_si_expected = i_s.imag\n",
    "\n",
    "i_sr_model = model.get_value('i_sr_1') # pu-m\n",
    "i_si_model = model.get_value('i_si_1') # pu-m\n",
    "\n",
    "print(f'i_sr_expected = {i_sr_expected:6f}, i_sr_model = {i_sr_model:6f}')\n",
    "print(f'i_si_expected = {i_si_expected:6f}, i_si_model = {i_si_model:6f}')\n",
    "\n",
    "### coupling impedance\n",
    "i_s_expected = i_sr_expected + 1j*i_si_expected # pu-m\n",
    "R_s =  model.get_value('R_s_1') # pu-m\n",
    "X_s =  model.get_value('X_s_1') # pu-m\n",
    "Z_s = R_s + 1j*X_s # pu-m\n",
    "v_dc = model.get_value('v_dc_1') # pu-m\n",
    "\n",
    "v_t_expected = v_s + i_s*Z_s\n",
    "m_expected = np.abs(v_t_expected)/v_dc\n",
    "theta_t_expected = np.angle(v_t_expected)\n",
    "\n",
    "m_model = model.get_value('m_1') # pu-m\n",
    "theta_t_model = model.get_value('theta_t_1') # pu-m\n",
    "\n",
    "print(f'm_expected = {m_expected:6f}, m_model = {m_model:6f}')\n",
    "print(f'theta_t_expected = {theta_t_expected:6f}, theta_t_model = {theta_t_model:6f}')"
   ]
  },
  {
   "cell_type": "code",
   "execution_count": 34,
   "id": "696a9536",
   "metadata": {},
   "outputs": [
    {
     "name": "stdout",
     "output_type": "stream",
     "text": [
      "i_sr_expected = 0.495577, i_sr_model = 0.495577\n",
      "i_si_expected = 2.127187, i_si_model = 2.127187\n",
      "m_expected = 0.649286, m_model = 0.649286\n",
      "theta_t_expected = 0.069323, theta_t_model = 0.069323\n"
     ]
    }
   ],
   "source": [
    "## Test for vsg_ll control\n",
    "model = model1\n",
    "V_s = model.get_value('V_1')\n",
    "theta_s = model.get_value('theta_1')\n",
    "\n",
    "p_s = model.get_value('p_s_1') # pu-m\n",
    "q_s = model.get_value('q_s_1') # pu-m\n",
    "\n",
    "m = model.get_value('m_1') # pu-m\n",
    "theta_t = model.get_value('theta_t_1') # pu-m\n",
    "\n",
    "\n",
    "\n",
    "### powers relation with v and i:\n",
    "v_s = V_s*np.exp(1j*theta_s)\n",
    "s_s = p_s + 1j*q_s # pu-m\n",
    "\n",
    "i_s = np.conj(s_s/v_s)\n",
    "\n",
    "\n",
    "\n",
    "\n",
    "i_sr_model = model.get_value('i_sr_1') # pu-m\n",
    "i_si_model = model.get_value('i_si_1') # pu-m\n",
    "\n",
    "print(f'i_sr_expected = {i_sr_expected:6f}, i_sr_model = {i_sr_model:6f}')\n",
    "print(f'i_si_expected = {i_si_expected:6f}, i_si_model = {i_si_model:6f}')\n",
    "\n",
    "### coupling impedance\n",
    "i_s_expected = i_sr_expected + 1j*i_si_expected # pu-m\n",
    "R_s =  model.get_value('R_s_1') # pu-m\n",
    "X_s =  model.get_value('X_s_1') # pu-m\n",
    "Z_s = R_s + 1j*X_s # pu-m\n",
    "v_dc = model.get_value('v_dc_1') # pu-m\n",
    "\n",
    "v_t_expected = v_s + i_s*Z_s\n",
    "m_expected = np.abs(v_t_expected)/v_dc\n",
    "theta_t_expected = np.angle(v_t_expected)\n",
    "\n",
    "\n",
    "\n",
    "print(f'm_expected = {m_expected:6f}, m_model = {m_model:6f}')\n",
    "print(f'theta_t_expected = {theta_t_expected:6f}, theta_t_model = {theta_t_model:6f}')"
   ]
  },
  {
   "cell_type": "code",
   "execution_count": 35,
   "id": "3a4e712e",
   "metadata": {},
   "outputs": [
    {
     "data": {
      "text/plain": [
       "0.99"
      ]
     },
     "execution_count": 35,
     "metadata": {},
     "output_type": "execute_result"
    }
   ],
   "source": [
    "model.get_value('V_1')"
   ]
  },
  {
   "cell_type": "code",
   "execution_count": 36,
   "id": "5dcfe72a",
   "metadata": {},
   "outputs": [
    {
     "data": {
      "text/html": [
       "<div>\n",
       "<style scoped>\n",
       "    .dataframe tbody tr th:only-of-type {\n",
       "        vertical-align: middle;\n",
       "    }\n",
       "\n",
       "    .dataframe tbody tr th {\n",
       "        vertical-align: top;\n",
       "    }\n",
       "\n",
       "    .dataframe thead th {\n",
       "        text-align: right;\n",
       "    }\n",
       "</style>\n",
       "<table border=\"1\" class=\"dataframe\">\n",
       "  <thead>\n",
       "    <tr style=\"text-align: right;\">\n",
       "      <th></th>\n",
       "      <th>Real</th>\n",
       "      <th>Imag</th>\n",
       "      <th>Freq.</th>\n",
       "      <th>Damp</th>\n",
       "    </tr>\n",
       "  </thead>\n",
       "  <tbody>\n",
       "    <tr>\n",
       "      <th>Mode 4</th>\n",
       "      <td>-0.96</td>\n",
       "      <td>10.51</td>\n",
       "      <td>1.67</td>\n",
       "      <td>0.09</td>\n",
       "    </tr>\n",
       "    <tr>\n",
       "      <th>Mode 5</th>\n",
       "      <td>-0.96</td>\n",
       "      <td>-10.51</td>\n",
       "      <td>1.67</td>\n",
       "      <td>0.09</td>\n",
       "    </tr>\n",
       "    <tr>\n",
       "      <th>Mode 1</th>\n",
       "      <td>-1.00</td>\n",
       "      <td>0.00</td>\n",
       "      <td>0.00</td>\n",
       "      <td>1.00</td>\n",
       "    </tr>\n",
       "    <tr>\n",
       "      <th>Mode 2</th>\n",
       "      <td>-0.01</td>\n",
       "      <td>0.00</td>\n",
       "      <td>0.00</td>\n",
       "      <td>1.00</td>\n",
       "    </tr>\n",
       "    <tr>\n",
       "      <th>Mode 3</th>\n",
       "      <td>-179.03</td>\n",
       "      <td>0.00</td>\n",
       "      <td>0.00</td>\n",
       "      <td>1.00</td>\n",
       "    </tr>\n",
       "    <tr>\n",
       "      <th>Mode 6</th>\n",
       "      <td>-0.00</td>\n",
       "      <td>0.00</td>\n",
       "      <td>0.00</td>\n",
       "      <td>1.00</td>\n",
       "    </tr>\n",
       "    <tr>\n",
       "      <th>Mode 7</th>\n",
       "      <td>-0.00</td>\n",
       "      <td>0.00</td>\n",
       "      <td>0.00</td>\n",
       "      <td>1.00</td>\n",
       "    </tr>\n",
       "    <tr>\n",
       "      <th>Mode 8</th>\n",
       "      <td>-0.00</td>\n",
       "      <td>0.00</td>\n",
       "      <td>0.00</td>\n",
       "      <td>1.00</td>\n",
       "    </tr>\n",
       "  </tbody>\n",
       "</table>\n",
       "</div>"
      ],
      "text/plain": [
       "          Real   Imag  Freq.  Damp\n",
       "Mode 4   -0.96  10.51   1.67  0.09\n",
       "Mode 5   -0.96 -10.51   1.67  0.09\n",
       "Mode 1   -1.00   0.00   0.00  1.00\n",
       "Mode 2   -0.01   0.00   0.00  1.00\n",
       "Mode 3 -179.03   0.00   0.00  1.00\n",
       "Mode 6   -0.00   0.00   0.00  1.00\n",
       "Mode 7   -0.00   0.00   0.00  1.00\n",
       "Mode 8   -0.00   0.00   0.00  1.00"
      ]
     },
     "execution_count": 36,
     "metadata": {},
     "output_type": "execute_result"
    }
   ],
   "source": [
    "ssa.A_eval(model1)\n",
    "damp = ssa.damp_report(model1)\n",
    "damp.sort_values('Damp').round(2)"
   ]
  },
  {
   "cell_type": "code",
   "execution_count": 37,
   "id": "40bab2e1",
   "metadata": {},
   "outputs": [
    {
     "data": {
      "text/html": [
       "<div>\n",
       "<style scoped>\n",
       "    .dataframe tbody tr th:only-of-type {\n",
       "        vertical-align: middle;\n",
       "    }\n",
       "\n",
       "    .dataframe tbody tr th {\n",
       "        vertical-align: top;\n",
       "    }\n",
       "\n",
       "    .dataframe thead th {\n",
       "        text-align: right;\n",
       "    }\n",
       "</style>\n",
       "<table border=\"1\" class=\"dataframe\">\n",
       "  <thead>\n",
       "    <tr style=\"text-align: right;\">\n",
       "      <th></th>\n",
       "      <th>Real</th>\n",
       "      <th>Imag</th>\n",
       "      <th>Freq.</th>\n",
       "      <th>Damp</th>\n",
       "    </tr>\n",
       "  </thead>\n",
       "  <tbody>\n",
       "    <tr>\n",
       "      <th>Mode 3</th>\n",
       "      <td>-0.96</td>\n",
       "      <td>10.51</td>\n",
       "      <td>1.67</td>\n",
       "      <td>0.09</td>\n",
       "    </tr>\n",
       "    <tr>\n",
       "      <th>Mode 4</th>\n",
       "      <td>-0.96</td>\n",
       "      <td>-10.51</td>\n",
       "      <td>1.67</td>\n",
       "      <td>0.09</td>\n",
       "    </tr>\n",
       "    <tr>\n",
       "      <th>Mode 1</th>\n",
       "      <td>-0.01</td>\n",
       "      <td>0.00</td>\n",
       "      <td>0.00</td>\n",
       "      <td>1.00</td>\n",
       "    </tr>\n",
       "    <tr>\n",
       "      <th>Mode 2</th>\n",
       "      <td>-179.03</td>\n",
       "      <td>0.00</td>\n",
       "      <td>0.00</td>\n",
       "      <td>1.00</td>\n",
       "    </tr>\n",
       "    <tr>\n",
       "      <th>Mode 5</th>\n",
       "      <td>-0.00</td>\n",
       "      <td>0.00</td>\n",
       "      <td>0.00</td>\n",
       "      <td>1.00</td>\n",
       "    </tr>\n",
       "    <tr>\n",
       "      <th>Mode 6</th>\n",
       "      <td>-0.00</td>\n",
       "      <td>0.00</td>\n",
       "      <td>0.00</td>\n",
       "      <td>1.00</td>\n",
       "    </tr>\n",
       "    <tr>\n",
       "      <th>Mode 7</th>\n",
       "      <td>-0.00</td>\n",
       "      <td>0.00</td>\n",
       "      <td>0.00</td>\n",
       "      <td>1.00</td>\n",
       "    </tr>\n",
       "  </tbody>\n",
       "</table>\n",
       "</div>"
      ],
      "text/plain": [
       "          Real   Imag  Freq.  Damp\n",
       "Mode 3   -0.96  10.51   1.67  0.09\n",
       "Mode 4   -0.96 -10.51   1.67  0.09\n",
       "Mode 1   -0.01   0.00   0.00  1.00\n",
       "Mode 2 -179.03   0.00   0.00  1.00\n",
       "Mode 5   -0.00   0.00   0.00  1.00\n",
       "Mode 6   -0.00   0.00   0.00  1.00\n",
       "Mode 7   -0.00   0.00   0.00  1.00"
      ]
     },
     "execution_count": 37,
     "metadata": {},
     "output_type": "execute_result"
    }
   ],
   "source": [
    "ssa.A_eval(model2)\n",
    "damp = ssa.damp_report(model2)\n",
    "damp.sort_values('Damp').round(2)"
   ]
  },
  {
   "cell_type": "code",
   "execution_count": null,
   "id": "56d84174",
   "metadata": {},
   "outputs": [],
   "source": []
  },
  {
   "cell_type": "code",
   "execution_count": 46,
   "id": "5effe63a",
   "metadata": {},
   "outputs": [],
   "source": [
    "model = smib_vsc_l.model()\n",
    "model.Dt = 0.01\n",
    "model.decimation = 1\n",
    "model.ini(params1,xy_0)\n",
    "\n",
    "p_l_1 = 0.0\n",
    "q_l_1 = 0.0\n",
    "v_ref_1 = 1.0\n",
    "\n",
    "model.ini({'p_l_1':p_l_1,'q_l_1':q_l_1,'v_ref_1':v_ref_1},xy_0)\n",
    "\n",
    "Dt_mid = 0.1\n",
    "times = np.arange(0,10,Dt_mid)\n",
    "\n",
    "for it,t in enumerate(times):\n",
    "    \n",
    "    if t>1.0:\n",
    "        p_l_1 = 0.0\n",
    "        q_l_1 = 0.5\n",
    "        v_ref_1 = 1.0\n",
    "        \n",
    "    model.run( t,{'p_l_1':p_l_1,'q_l_1':q_l_1,'v_ref_1':v_ref_1})\n",
    "\n",
    "model.post();\n",
    "\n",
    "\n"
   ]
  },
  {
   "cell_type": "code",
   "execution_count": 47,
   "id": "be9e69b1",
   "metadata": {},
   "outputs": [
    {
     "data": {
      "image/png": "[encoded data removed]",
      "text/plain": [
       "<Figure size 640x480 with 3 Axes>"
      ]
     },
     "metadata": {},
     "output_type": "display_data"
    }
   ],
   "source": [
    "fig,axes = plt.subplots(nrows=3)\n",
    "\n",
    "axes[0].plot(model.Time,  model.get_values('V_1'),label='V_1')\n",
    "\n",
    "axes[1].plot(model.Time,  model.get_values('p_s_1'),label='p_g_1')\n",
    "axes[2].plot(model.Time,  model.get_values('q_s_1'),label='q_g_1')\n",
    "\n",
    "#axes[2].plot(model.Time,  model.get_values('omega_1'),label='omega_1')\n",
    "\n",
    "for ax in axes:\n",
    "    ax.legend()\n",
    "    ax.grid()\n",
    "    ax.set_xlim([0,5])\n",
    "ax.set_xlabel('Time (s)')\n",
    "fig.tight_layout()"
   ]
  },
  {
   "cell_type": "code",
   "execution_count": null,
   "id": "17e5deb3",
   "metadata": {},
   "outputs": [],
   "source": []
  },
  {
   "cell_type": "code",
   "execution_count": null,
   "id": "a600edd5",
   "metadata": {},
   "outputs": [],
   "source": []
  },
  {
   "cell_type": "code",
   "execution_count": null,
   "id": "c03fb308",
   "metadata": {},
   "outputs": [],
   "source": []
  },
  {
   "cell_type": "code",
   "execution_count": null,
   "id": "9d38455a",
   "metadata": {},
   "outputs": [],
   "source": []
  },
  {
   "cell_type": "code",
   "execution_count": null,
   "id": "d6c36063",
   "metadata": {},
   "outputs": [],
   "source": []
  },
  {
   "cell_type": "code",
   "execution_count": null,
   "id": "e9f8867c",
   "metadata": {},
   "outputs": [],
   "source": []
  },
  {
   "cell_type": "code",
   "execution_count": null,
   "id": "2e3e34a5",
   "metadata": {},
   "outputs": [],
   "source": []
  },
  {
   "cell_type": "code",
   "execution_count": null,
   "id": "6935918a",
   "metadata": {},
   "outputs": [],
   "source": []
  },
  {
   "cell_type": "code",
   "execution_count": null,
   "id": "74ec4907",
   "metadata": {},
   "outputs": [],
   "source": []
  },
  {
   "cell_type": "code",
   "execution_count": null,
   "id": "79cdd2e6",
   "metadata": {},
   "outputs": [],
   "source": []
  }
 ],
 "metadata": {
  "kernelspec": {
   "display_name": "Python 3 (ipykernel)",
   "language": "python",
   "name": "python3"
  },
  "language_info": {
   "codemirror_mode": {
    "name": "ipython",
    "version": 3
   },
   "file_extension": ".py",
   "mimetype": "text/x-python",
   "name": "python",
   "nbconvert_exporter": "python",
   "pygments_lexer": "ipython3",
   "version": "3.9.13"
  }
 },
 "nbformat": 4,
 "nbformat_minor": 5
}

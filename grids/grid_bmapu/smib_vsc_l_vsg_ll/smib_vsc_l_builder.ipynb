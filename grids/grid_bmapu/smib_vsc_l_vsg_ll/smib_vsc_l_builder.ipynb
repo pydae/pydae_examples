{
 "cells": [
  {
   "cell_type": "markdown",
   "metadata": {},
   "source": [
    "## SMIB\n",
    "\n",
    "Synchronous Machine Infinite Bus (SMIB) system\n"
   ]
  },
  {
   "cell_type": "markdown",
   "metadata": {},
   "source": [
    "### System building"
   ]
  },
  {
   "cell_type": "code",
   "execution_count": 1,
   "metadata": {},
   "outputs": [],
   "source": [
    "import numpy as np\n",
    "from pydae.bmapu import bmapu_builder"
   ]
  },
  {
   "cell_type": "markdown",
   "metadata": {},
   "source": [
    "#### System data"
   ]
  },
  {
   "cell_type": "code",
   "execution_count": 2,
   "metadata": {},
   "outputs": [],
   "source": [
    "zeta = 0.1 # 1.0/np.sqrt(2) \n",
    "H_v = 4.0 \n",
    "WB = 2 *np.pi* 50;\n",
    "R_v = 0.0\n",
    "X_v = 0.3\n",
    "\n",
    "Lt = X_v \n",
    "P_max = 1/Lt\n",
    "fn = np.sqrt(WB*P_max/(2*H_v))/(2*np.pi)\n",
    "\n",
    "Dp = 0;\n",
    "K_i = (2*np.pi*fn)**2/(WB*P_max);\n",
    "K_g = Dp*K_i;\n",
    "K_p = (2*zeta*2*np.pi*fn - K_g)/(WB*P_max);\n",
    "\n",
    "T_q = 1.0/(2*np.pi*10/2)\n",
    "K_q = (1.0 - 0.0)/(1.05 - 0.95)\n",
    "K_i_q = 1e-6\n",
    "\n",
    "theta_red = 3.0/180*np.pi\n",
    "V = 1.0\n",
    "p_ref = 0.9\n",
    "q_ref = 0.434616\n",
    "v_ref = 1.0\n",
    "T_q = 1.0/(2*np.pi*10/2)"
   ]
  },
  {
   "cell_type": "code",
   "execution_count": 4,
   "metadata": {},
   "outputs": [],
   "source": [
    "data = {\n",
    "\"system\":{\"name\":\"smib_vsc_l\",\"S_base\":100e6, \"K_p_agc\":0.0,\"K_i_agc\":0.0,\"K_xif\":0.01},       \n",
    "\"buses\":[{\"name\":\"1\", \"P_W\":0.0,\"Q_var\":0.0,\"U_kV\":20.0},\n",
    "         {\"name\":\"2\", \"P_W\":0.0,\"Q_var\":0.0,\"U_kV\":20.0}\n",
    "        ],\n",
    "\"lines\":[{\"bus_j\":\"1\", \"bus_k\":\"2\", \"X_pu\":0.05,\"R_pu\":0.01,\"Bs_pu\":1e-6,\"S_mva\":100.0}],\n",
    "\"vscs\": [{\"bus\":\"1\",\"type\":\"vsc_l\",\"S_n\":10e6,\"F_n\":50.0,\"X_s\":0.05,\"R_s\":0.005,\n",
    "          \"ctrl\":{\"type\":\"leon_vsg_ll\",\"K_delta\":0.0,\"F_n\":50.0,\n",
    "                  \"R_v\":R_v,\"X_v\":X_v,\"K_p\":K_p,\"K_i\":K_i,\"K_g\":K_g,\"K_q\":K_q,\n",
    "                  \"T_q\":T_q,\"K_p_v\":1e-6,\"K_i_v\":1e-6}}],\n",
    "\"genapes\":[\n",
    "    {\"bus\":\"2\",\"S_n\":100e6,\"F_n\":50.0,\"X_v\":0.001,\"R_v\":0.0,\"K_delta\":0.001,\"K_alpha\":1e-6}]\n",
    "}"
   ]
  },
  {
   "cell_type": "markdown",
   "metadata": {},
   "source": [
    "#### System generation and compilation"
   ]
  },
  {
   "cell_type": "code",
   "execution_count": 6,
   "metadata": {},
   "outputs": [],
   "source": [
    "grid = bmapu_builder.bmapu(data)\n",
    "#grid.checker()\n",
    "grid.uz_jacs = True\n",
    "grid.verbose = False\n",
    "grid.build('vsc_l_vsg_ll')"
   ]
  },
  {
   "cell_type": "code",
   "execution_count": null,
   "metadata": {},
   "outputs": [],
   "source": []
  },
  {
   "cell_type": "code",
   "execution_count": 8,
   "metadata": {},
   "outputs": [
    {
     "data": {
      "text/plain": [
       "9.999999999999991"
      ]
     },
     "execution_count": 8,
     "metadata": {},
     "output_type": "execute_result"
    }
   ],
   "source": [
    "K_q"
   ]
  },
  {
   "cell_type": "code",
   "execution_count": null,
   "metadata": {},
   "outputs": [],
   "source": []
  }
 ],
 "metadata": {
  "kernelspec": {
   "display_name": "Python 3 (ipykernel)",
   "language": "python",
   "name": "python3"
  },
  "language_info": {
   "codemirror_mode": {
    "name": "ipython",
    "version": 3
   },
   "file_extension": ".py",
   "mimetype": "text/x-python",
   "name": "python",
   "nbconvert_exporter": "python",
   "pygments_lexer": "ipython3",
   "version": "3.9.13"
  }
 },
 "nbformat": 4,
 "nbformat_minor": 4
}

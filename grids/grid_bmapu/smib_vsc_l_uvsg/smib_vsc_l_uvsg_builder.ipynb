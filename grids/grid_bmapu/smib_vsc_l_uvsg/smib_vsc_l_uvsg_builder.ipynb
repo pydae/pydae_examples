{
 "cells": [
  {
   "cell_type": "markdown",
   "metadata": {},
   "source": [
    "## SMIB\n",
    "\n",
    "Synchronous Machine Infinite Bus (SMIB) system\n"
   ]
  },
  {
   "cell_type": "markdown",
   "metadata": {},
   "source": [
    "### System building"
   ]
  },
  {
   "cell_type": "code",
   "execution_count": 1,
   "metadata": {},
   "outputs": [],
   "source": [
    "import numpy as np\n",
    "from pydae.bmapu import bmapu_builder"
   ]
  },
  {
   "cell_type": "markdown",
   "metadata": {},
   "source": [
    "#### System data"
   ]
  },
  {
   "cell_type": "code",
   "execution_count": 2,
   "metadata": {},
   "outputs": [],
   "source": [
    "zeta = 0.1 # 1.0/np.sqrt(2) \n",
    "H_v = 4.0 \n",
    "WB = 2 *np.pi* 50;\n",
    "R_v = 0.0\n",
    "X_v = 0.3\n",
    "\n",
    "Lt = X_v \n",
    "P_max = 1/Lt\n",
    "fn = np.sqrt(WB*P_max/(2*H_v))/(2*np.pi)\n",
    "\n",
    "Dp = 0;\n",
    "K_p = 0.01\n",
    "T_p = 0.01\n",
    "\n",
    "\n",
    "T_q = 1.0/(2*np.pi*10/2)\n",
    "K_q = (1.0 - 0.0)/(1.05 - 0.95)\n",
    "K_i_q = 1e-6\n",
    "\n",
    "theta_red = 3.0/180*np.pi\n",
    "V = 1.0\n",
    "p_ref = 0.9\n",
    "q_ref = 0.434616\n",
    "v_ref = 1.0\n",
    "T_q = 1.0/(2*np.pi*10/2)"
   ]
  },
  {
   "cell_type": "code",
   "execution_count": 3,
   "metadata": {},
   "outputs": [],
   "source": [
    "data = {\n",
    "\"system\":{\"name\":\"smib_vsc_l\",\"S_base\":100e6, \"K_p_agc\":0.0,\"K_i_agc\":0.0,\"K_xif\":0.01},       \n",
    "\"buses\":[{\"name\":\"1\", \"P_W\":0.0,\"Q_var\":0.0,\"U_kV\":20.0},\n",
    "         {\"name\":\"2\", \"P_W\":0.0,\"Q_var\":0.0,\"U_kV\":20.0}\n",
    "        ],\n",
    "\"lines\":[{\"bus_j\":\"1\", \"bus_k\":\"2\", \"X_pu\":0.05,\"R_pu\":0.01,\"Bs_pu\":1e-6,\"S_mva\":100.0}],\n",
    "\"vscs\": [{\"bus\":\"1\",\"type\":\"vsc_lcl_uc\",\"S_n\":10e6,\"F_n\":50.0,\"X_s\":0.05,\"R_s\":0.005,\"C_u\":100.0,\"R_u\":0.01,\n",
    "          \"ctrl\":{\"type\":\"uvsg\",\"K_delta\":0.0,\"F_n\":50.0,\n",
    "                  \"R_v\":R_v,\"X_v\":X_v,\n",
    "                  \"K_p\":K_p,\"T_p\":T_p,\"K_q\":K_q,\"T_q\":T_q,\"K_u\":0.1,\"T_u\":100.0}}],\n",
    "\"genapes\":[\n",
    "    {\"bus\":\"2\",\"S_n\":100e6,\"F_n\":50.0,\"X_v\":0.001,\"R_v\":0.0,\"K_delta\":0.001,\"K_alpha\":1e-6}]\n",
    "}"
   ]
  },
  {
   "cell_type": "markdown",
   "metadata": {},
   "source": [
    "#### System generation and compilation"
   ]
  },
  {
   "cell_type": "code",
   "execution_count": 4,
   "metadata": {},
   "outputs": [
    {
     "name": "stdout",
     "output_type": "stream",
     "text": [
      "check_system (time: 0.0)\n",
      "computing jacobians Fx_run,Fy_run  (time: 0.085 s)\n",
      "computing jacobians Gx_run,Gy_run  (time: 0.587 s)\n",
      "computing jacobians Fu_run,Gu_run  (time: 6.387 s)\n",
      "computing jacobians Fx_ini,Fy_ini  (time: 7.841 s)\n",
      "computing jacobians Gx_ini,Gy_ini  (time: 8.057 s)\n",
      "computing jacobians Hx_run,Hy_run,Hu_run  (time: 9.745099067687988 s)\n",
      "end system  (time: 10.652 s)\n",
      "computing jac_ini (time: 0.0)\n",
      "computing jac_run (time: 0.006003141403198242)\n",
      "computing jac_trap (time: 0.013002395629882812)\n",
      "end of jacobians computation (time: 0.054)\n",
      "writting f_ini and g_ini code (time: 0.000 s)\n",
      "writting f_run and g_run code (time: 1.241 s)\n",
      "writting h_run code (time: 2.474 s)\n",
      "converting jac_ini to sp_jac_ini  (time: 2.937 s)\n",
      "running sym2rhs for sp_jac_ini (time: 2.941 s)\n",
      "converting jac_run to sp_jac_run  (time: 8.051 s)\n",
      "running sym2rhs for sp_jac_run (time: 8.055 s)\n",
      "converting jac_trap to sp_jac_trap  (time: 11.192 s)\n",
      "running sym2rhs for sp_jac_trap (time: 11.195 s)\n",
      "wrtting  de_jac_trap code (time: 13.366 s)\n",
      "writting sp_jac_trap code (time: 13.367 s)\n",
      "converting Fu_run to sparse (time: 13.367 s)\n",
      "running sym2rhs for Fu_run (time: 13.368 s)\n",
      "writting  Fu_run code (time: 13.457 s)\n",
      "writting Fu_run code (time: 13.457 s)\n",
      "converting Gu_run to sparse (time: 13.460 s)\n",
      "running sym2rhs for Gu_run (time: 13.461 s)\n",
      "writting  Gu_run code (time: 14.065 s)\n",
      "writting Gu_run code (time: 14.066 s)\n",
      "converting Hx_run to sparse (time: 14.070 s)\n",
      "running sym2rhs for Hx_run (time: 14.071 s)\n",
      "writting  Hx_run code (time: 14.279 s)\n",
      "writting Hx_run code (time: 14.280 s)\n",
      "converting Hy_run to sparse (time: 14.285 s)\n",
      "running sym2rhs for Hy_run (time: 14.286 s)\n",
      "writting  Hy_run code (time: 14.848 s)\n",
      "writting Hy_run code (time: 14.848 s)\n",
      "converting Hu_run to sparse (time: 14.852 s)\n",
      "running sym2rhs for Hu_run (time: 14.853 s)\n",
      "writting  Hu_run code (time: 15.032 s)\n",
      "writting Hu_run code (time: 15.033 s)\n",
      "writting full source (time: 15.037 s)\n",
      "Code wrote in 15.047 s\n",
      "Compilation time: 22.19 s\n",
      "sys2num (time: 0.008)\n"
     ]
    }
   ],
   "source": [
    "grid = bmapu_builder.bmapu(data)\n",
    "#grid.checker()\n",
    "grid.uz_jacs = True\n",
    "grid.verbose = False\n",
    "grid.build('vsc_lcl_uc_uvsg')"
   ]
  },
  {
   "cell_type": "code",
   "execution_count": 9,
   "metadata": {},
   "outputs": [],
   "source": [
    "data_syn = {\n",
    "\"system\":{\"name\":\"smib\",\"S_base\":20e3, \"K_p_agc\":0.0,\"K_i_agc\":0.0,\"K_xif\":0.01},       \n",
    "\"buses\":[{\"name\":\"1\", \"P_W\":0.0,\"Q_var\":0.0,\"U_kV\":20.0},\n",
    "         {\"name\":\"2\", \"P_W\":0.0,\"Q_var\":0.0,\"U_kV\":20.0}\n",
    "        ],\n",
    "\"lines\":[{\"bus_j\":\"1\", \"bus_k\":\"2\", \"X_pu\":0.05,\"R_pu\":0.01,\"Bs_pu\":1e-6,\"S_mva\":100.0}],\n",
    "\"syns\":[\n",
    "      {\"bus\":\"1\",\"S_n\":100e6,\n",
    "         \"X_d\":1.8,\"X1d\":0.3, \"T1d0\":8.0,    \n",
    "         \"X_q\":1.7,\"X1q\":0.55,\"T1q0\":0.4,  \n",
    "         \"R_a\":0.01,\"X_l\": 0.2, \n",
    "         \"H\":5.0,\"D\":1.0,\n",
    "         \"Omega_b\":314.1592653589793,\"omega_s\":1.0,\"K_sec\":0.0,\n",
    "         \"avr\":{\"type\":\"kundur_tgr\",\"K_a\":200,\"T_r\":0.01,\"E_fmin\":-5,\"E_fmax\":10.0,\"T_a\":1,\"T_b\":10,\"v_ref\":1.03},\n",
    "         \"pss\":{\"type\":\"pss_kundur_2\",\"K_stab\":20, \"T_1\":0.05, \"T_2\":0.02, \"T_3\":3.0, \"T_4\":5.4, \"T_w\":10.0},      \n",
    "         \"K_delta\":0.0}],\n",
    "\"genapes\":[{\"bus\":\"2\",\"S_n\":1e9,\"F_n\":50.0,\"X_v\":0.001,\"R_v\":0.0,\"K_delta\":0.001,\"K_alpha\":1e-6}]\n",
    "}"
   ]
  },
  {
   "cell_type": "code",
   "execution_count": 10,
   "metadata": {},
   "outputs": [],
   "source": [
    "grid = bmapu_builder.bmapu(data_syn)\n",
    "#grid.checker()\n",
    "grid.uz_jacs = True\n",
    "grid.verbose = False\n",
    "grid.build('smib_syn')"
   ]
  },
  {
   "cell_type": "code",
   "execution_count": 3,
   "metadata": {},
   "outputs": [],
   "source": [
    "import numpy as np"
   ]
  },
  {
   "cell_type": "code",
   "execution_count": 5,
   "metadata": {},
   "outputs": [
    {
     "data": {
      "text/plain": [
       "329.8646186948013"
      ]
     },
     "execution_count": 5,
     "metadata": {},
     "output_type": "execute_result"
    }
   ],
   "source": [
    "400*np.sqrt(2/3)*1.01"
   ]
  },
  {
   "cell_type": "code",
   "execution_count": 10,
   "metadata": {},
   "outputs": [
    {
     "data": {
      "text/plain": [
       "{i_d_ref: (2.0*p_ref*v_d + 2.0*q_ref*v_q)/(3.0*v_d**2 + 3.0*v_q**2),\n",
       " i_q_ref: (2.0*p_ref*v_q - 2.0*q_ref*v_d)/(3.0*v_d**2 + 3.0*v_q**2)}"
      ]
     },
     "execution_count": 10,
     "metadata": {},
     "output_type": "execute_result"
    }
   ],
   "source": [
    "import sympy as sym\n",
    "\n",
    "i_d,i_q,v_d,v_q,p,q = sym.symbols('i_d_ref,i_q_ref,v_d,v_q,p_ref,q_ref', real=True)\n",
    "eqp = -p  + 3/2*(i_d*v_d + i_q*v_q);  \n",
    "eqq = -q  + 3/2*(i_d*v_q - i_q*v_d);\n",
    "\n",
    "sym.solve([eqp,eqq],[i_d,i_q])"
   ]
  },
  {
   "cell_type": "code",
   "execution_count": null,
   "metadata": {},
   "outputs": [],
   "source": []
  }
 ],
 "metadata": {
  "kernelspec": {
   "display_name": "Python 3 (ipykernel)",
   "language": "python",
   "name": "python3"
  },
  "language_info": {
   "codemirror_mode": {
    "name": "ipython",
    "version": 3
   },
   "file_extension": ".py",
   "mimetype": "text/x-python",
   "name": "python",
   "nbconvert_exporter": "python",
   "pygments_lexer": "ipython3",
   "version": "3.9.13"
  }
 },
 "nbformat": 4,
 "nbformat_minor": 4
}

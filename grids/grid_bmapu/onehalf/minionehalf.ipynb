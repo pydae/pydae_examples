{
 "cells": [
  {
   "cell_type": "code",
   "execution_count": 116,
   "id": "7867c835",
   "metadata": {},
   "outputs": [],
   "source": [
    "import numpy as np\n",
    "import scipy.optimize as sopt \n",
    "import matplotlib.pyplot as plt\n",
    "import pydae.plot_tools as pltt\n",
    "import sys\n",
    "colors = pltt.set_style(plt)"
   ]
  },
  {
   "cell_type": "code",
   "execution_count": 117,
   "id": "39389b62",
   "metadata": {},
   "outputs": [],
   "source": [
    "import minionehalf"
   ]
  },
  {
   "cell_type": "code",
   "execution_count": 118,
   "id": "b218476b",
   "metadata": {},
   "outputs": [],
   "source": [
    "%matplotlib widget"
   ]
  },
  {
   "cell_type": "code",
   "execution_count": 119,
   "id": "abe95978",
   "metadata": {},
   "outputs": [
    {
     "name": "stdout",
     "output_type": "stream",
     "text": [
      "p_g   =  0.80\n",
      "omega =  1.00\n",
      "e_cis =  0.50\n"
     ]
    }
   ],
   "source": [
    "model = minionehalf.model()\n",
    "params = {'T_g':2.5,'D':2.0}\n",
    "model.ini(params,0.5)\n",
    "model.report_x()"
   ]
  },
  {
   "cell_type": "code",
   "execution_count": 120,
   "id": "a65f482e",
   "metadata": {},
   "outputs": [],
   "source": [
    "#ssa.participation(grid).abs().round(2)\n",
    "params.update({'p_l':0.8})\n",
    "model.ini(params,0.5)\n",
    "model.run( 1.0,{})\n",
    "model.run(15.0,{'p_l':1.0})\n",
    "\n",
    "model.post();"
   ]
  },
  {
   "cell_type": "code",
   "execution_count": 121,
   "id": "431eac4f",
   "metadata": {},
   "outputs": [
    {
     "data": {
      "application/vnd.jupyter.widget-view+json": {
       "model_id": "6eb294cd558240adb46ee0026543ed2f",
       "version_major": 2,
       "version_minor": 0
      },
      "text/plain": [
       "Canvas(toolbar=Toolbar(toolitems=[('Home', 'Reset original view', 'home', 'home'), ('Back', 'Back to previous …"
      ]
     },
     "metadata": {},
     "output_type": "display_data"
    }
   ],
   "source": [
    "fig,axes = plt.subplots(nrows=2, sharex=True)\n",
    "axes[0].plot(model.Time,  model.get_values('omega')*50,label='omega')\n",
    "\n",
    "\n",
    "#axes[1].plot(grid.Time,  grid.get_values('p_e_f_5')/1e6,label='omega')\n",
    "\n",
    "#axes.plot(grid.Time,  grid.get_values('omega_5')-grid.get_values('omega_coi'),label='omega')\n",
    "#axes.plot(grid.Time,  grid.get_values('P_5'),label='P_5')\n",
    "\n",
    "axes[0].grid()\n"
   ]
  },
  {
   "cell_type": "code",
   "execution_count": 122,
   "id": "faeb9dce",
   "metadata": {},
   "outputs": [],
   "source": [
    "#model = minionehalf.model()\n",
    "params = {'T_g':2.5,'D':2.0}\n",
    "\n",
    "class optimize(minionehalf.model):\n",
    "    \n",
    "    def __init__(self):\n",
    "        \n",
    "        super().__init__()\n",
    "        \n",
    "        \n",
    "        self.Dt_mid = 0.01\n",
    "        self.Dt = 0.005\n",
    "\n",
    "\n",
    "        self.P_cis_max = 0.1\n",
    "        self.H_cis = 0.2\n",
    "        \n",
    "    def obj(self,x):\n",
    "        \n",
    "        Df_db = x[0]\n",
    "        Df_dr = x[1]\n",
    "        Dt_mid = self.Dt_mid\n",
    "        \n",
    "        P_cis_max = self.P_cis_max\n",
    "\n",
    "        self.f_p = np.array([\n",
    "                       [          -5.0, P_cis_max],\n",
    "                       [-(Df_dr+Df_db), P_cis_max],\n",
    "                       [      -(Df_db),       0.0],\n",
    "                       [       (Df_db),       0.0],\n",
    "                       [ (Df_dr+Df_db),-P_cis_max],\n",
    "                       [           5.0,-P_cis_max]\n",
    "                       ])\n",
    "\n",
    "        \n",
    "        times = np.arange(0,15,self.Dt_mid)\n",
    "\n",
    "        params.update({'p_l':0.8, 'H':7, 'H_cis':self.H_cis, 'K_cis':1e-8})\n",
    "        self.ini(params,0.5)\n",
    "        enabled = 1.0\n",
    "        p_l_0 = self.get_value('p_l')\n",
    "        p_cis = 0.0\n",
    "\n",
    "        for t in times:\n",
    "\n",
    "            p_l = p_l_0\n",
    "            if t>1.0: p_l = 1.0\n",
    "\n",
    "            freq = 50*self.get_value('omega')\n",
    "            e_cis = self.get_value('e_cis')\n",
    "            p_cis_ref = 0.0\n",
    "            if e_cis <= 0.0:\n",
    "                p_cis_ref = 0.0\n",
    "                p_cis = 0.0\n",
    "                enabled = 0\n",
    "            else:\n",
    "                p_cis_ref = enabled*np.interp(freq-50,self.f_p[:,0],self.f_p[:,1])\n",
    "\n",
    "            p_cis += Dt_mid/0.02*(p_cis_ref - p_cis)\n",
    "\n",
    "            self.run(t,{'p_l':p_l,'p_cis':p_cis})  \n",
    "\n",
    "        self.post();\n",
    "\n",
    "        #axes.plot(grid.Time,  grid.get_values('omega_5')-grid.get_values('omega_coi'),label='omega')\n",
    "        #axes.plot(grid.Time,  grid.get_values('P_5'),label='P_5')\n",
    "\n",
    "\n",
    "        freq_min = 50*(np.min(self.get_values('omega')))\n",
    "        sys.stdout.write(f'\\r H_cis: {self.H_cis:5.3f}, Nadir: {freq_min:5.3f} Hz, Df_db = {Df_db:5.4f},  Df_dr = {Df_dr:5.4f}')\n",
    "        sys.stdout.flush()\n",
    "\n",
    "        nadir = 50 - freq_min\n",
    "        \n",
    "        self.nadir = nadir\n",
    "        self.freq_min = freq_min\n",
    "        \n",
    "        return (1e3*nadir)**2\n",
    "    \n",
    " "
   ]
  },
  {
   "cell_type": "code",
   "execution_count": null,
   "id": "aa0d9246",
   "metadata": {},
   "outputs": [],
   "source": [
    "\n"
   ]
  },
  {
   "cell_type": "code",
   "execution_count": 123,
   "id": "7b45e0ce",
   "metadata": {},
   "outputs": [
    {
     "name": "stdout",
     "output_type": "stream",
     "text": [
      " H_cis: 0.490, Nadir: 49.420 Hz, Df_db = 0.4363,  Df_dr = 0.20328"
     ]
    }
   ],
   "source": [
    "H_cis_arr = np.arange(0.02,0.5,0.01)\n",
    "\n",
    "\n",
    "x_0 = np.array([0.76343571, 0.00999993]) \n",
    "\n",
    "opt_model_list = []\n",
    "for H_cis in H_cis_arr:\n",
    "    opt_model = optimize()\n",
    "    \n",
    "    opt_model.H_cis = H_cis\n",
    "    opt_model.P_cis_max = 0.15\n",
    "\n",
    "    \n",
    "    x_0[1] = 0.01\n",
    "    sol = sopt.minimize(opt_model.obj, x_0, args=(), method='Powell', tol=1e-12, bounds=[(0,1),(0.002,1)]) \n",
    "    x_0 = sol.x\n",
    "    opt_model.sol = sol\n",
    "    opt_model_list += [opt_model]\n",
    "    # SLSQP,Powell,trust-constr,Nelder-Mead,COBYLA,BFGS"
   ]
  },
  {
   "cell_type": "code",
   "execution_count": 141,
   "id": "11dbeb60",
   "metadata": {},
   "outputs": [
    {
     "name": "stdout",
     "output_type": "stream",
     "text": [
      " H_cis: 0.490, Nadir: 49.420 Hz, Df_db = 0.4363,  Df_dr = 0.2032"
     ]
    }
   ],
   "source": [
    "models = []\n",
    "\n",
    "for opt_model in opt_model_list:\n",
    "    model = optimize()\n",
    "    model.Dt = 0.001\n",
    "    model.Dt_mid = 0.01\n",
    "    model.H_cis = opt_model.H_cis\n",
    "    model.P_cis_max = 0.15\n",
    "    model.sol = opt_model.sol\n",
    "    model.obj(opt_model.sol.x) \n",
    "    models += [model]\n",
    "\n"
   ]
  },
  {
   "cell_type": "code",
   "execution_count": 162,
   "id": "c58a3c6a",
   "metadata": {},
   "outputs": [
    {
     "data": {
      "application/vnd.jupyter.widget-view+json": {
       "model_id": "99000df116ec4427b21eb11b4d59a15a",
       "version_major": 2,
       "version_minor": 0
      },
      "text/plain": [
       "Canvas(toolbar=Toolbar(toolitems=[('Home', 'Reset original view', 'home', 'home'), ('Back', 'Back to previous …"
      ]
     },
     "metadata": {},
     "output_type": "display_data"
    }
   ],
   "source": [
    "\n",
    "fig,axes = plt.subplots(nrows=3, figsize = (3.5,6), sharex=True)\n",
    "\n",
    "models_list = models[3:4]\n",
    "colormaps = plt.cm.hot(np.linspace(0, 1, len(models_list)+10))\n",
    "\n",
    "for i,model in enumerate(models_list):\n",
    "    #for ic,df_db in enumerate([0.2,0.69,0.85]): #np.linspace(0,1.5,20): #np.array([0.1,0.71,1.0]): #\n",
    "\n",
    "    axes[0].plot(model.Time[[0,-1]],[model.f_p[1,0]+50]*2,label='omega',lw=0.1,color = (0.8,0.8,0.8))\n",
    "    axes[0].plot(model.Time[[0,-1]],[model.f_p[2,0]+50]*2,label='omega',lw=0.1,color = (0.8,0.8,0.8))\n",
    "\n",
    "    axes[0].plot(model.Time,  model.get_values('omega')*50,label='omega',color = colormaps[i])\n",
    "\n",
    "\n",
    "    \n",
    "    axes[1].plot(model.Time,  model.get_values('p_cis'),label='omega',color = colormaps[i])\n",
    "    axes[2].plot(model.Time,  model.get_values('e_cis'),label='omega',color = colormaps[i])\n",
    "\n",
    "    for ax in axes:\n",
    "        ax.grid()\n",
    "        #ax.set_xlim(opt_model.Time[[0,-1]])"
   ]
  },
  {
   "cell_type": "code",
   "execution_count": 164,
   "id": "2b6eb905",
   "metadata": {},
   "outputs": [
    {
     "ename": "IndexError",
     "evalue": "list index out of range",
     "output_type": "error",
     "traceback": [
      "\u001b[1;31m---------------------------------------------------------------------------\u001b[0m",
      "\u001b[1;31mIndexError\u001b[0m                                Traceback (most recent call last)",
      "\u001b[1;32m~\\AppData\\Local\\Temp/ipykernel_76772/2949002691.py\u001b[0m in \u001b[0;36m<module>\u001b[1;34m\u001b[0m\n\u001b[1;32m----> 1\u001b[1;33m \u001b[0mmodels_list\u001b[0m\u001b[1;33m[\u001b[0m\u001b[1;36m3\u001b[0m\u001b[1;33m]\u001b[0m\u001b[1;33m.\u001b[0m\u001b[0mH_cis\u001b[0m\u001b[1;33m\u001b[0m\u001b[1;33m\u001b[0m\u001b[0m\n\u001b[0m",
      "\u001b[1;31mIndexError\u001b[0m: list index out of range"
     ]
    }
   ],
   "source": [
    "models_list[3].H_cis"
   ]
  },
  {
   "cell_type": "code",
   "execution_count": 142,
   "id": "3cb78f73",
   "metadata": {},
   "outputs": [
    {
     "data": {
      "application/vnd.jupyter.widget-view+json": {
       "model_id": "81ecaed7cc994b3080c03e3034812650",
       "version_major": 2,
       "version_minor": 0
      },
      "text/plain": [
       "Canvas(toolbar=Toolbar(toolitems=[('Home', 'Reset original view', 'home', 'home'), ('Back', 'Back to previous …"
      ]
     },
     "metadata": {},
     "output_type": "display_data"
    },
    {
     "data": {
      "text/plain": [
       "[<matplotlib.lines.Line2D at 0x25689637070>]"
      ]
     },
     "execution_count": 142,
     "metadata": {},
     "output_type": "execute_result"
    }
   ],
   "source": [
    "H_ciss = np.array([item.H_cis for item in models])\n",
    "deadbands = np.array([item.sol.x[0] for item in models])\n",
    "deltafs = np.array([item.sol.x[1] for item in models])\n",
    "\n",
    "\n",
    "fig,axes = plt.subplots(nrows=1, figsize = (3.5,3.5), sharex=True)\n",
    "axes.plot(H_ciss,deadbands,label='omega',color = colors[0])\n",
    "axes.plot(H_ciss,deadbands,'.',label='omega',color = colors[0])\n",
    "\n",
    "axes.plot(H_ciss,deadbands+deltafs,label='omega',color = colors[0])\n"
   ]
  },
  {
   "cell_type": "code",
   "execution_count": 171,
   "id": "5f5eaf0c",
   "metadata": {},
   "outputs": [
    {
     "data": {
      "text/plain": [
       "1124.64"
      ]
     },
     "execution_count": 171,
     "metadata": {},
     "output_type": "execute_result"
    }
   ],
   "source": [
    "C = 4*2200e-6\n",
    "V_max = 800.0\n",
    "V_min = 620.0\n",
    "\n",
    "E_c = 0.5*C*(V_max**2 - V_min**2)\n",
    "E_c"
   ]
  },
  {
   "cell_type": "code",
   "execution_count": 165,
   "id": "eea45d86",
   "metadata": {},
   "outputs": [
    {
     "data": {
      "text/plain": [
       "1000.0"
      ]
     },
     "execution_count": 165,
     "metadata": {},
     "output_type": "execute_result"
    }
   ],
   "source": [
    "S_n = 20e3\n",
    "H_c = 0.05\n",
    "E_ref = S_n*H_c\n",
    "E_ref"
   ]
  },
  {
   "cell_type": "code",
   "execution_count": 233,
   "id": "6dc9bec7",
   "metadata": {},
   "outputs": [
    {
     "name": "stdout",
     "output_type": "stream",
     "text": [
      "\r",
      "Nadir: -0.709 Hz, Df_db = 0.700,  Df_dr = 0.005"
     ]
    },
    {
     "data": {
      "application/vnd.jupyter.widget-view+json": {
       "model_id": "2ada77ade5d84d7a98f8c158ea0a066a",
       "version_major": 2,
       "version_minor": 0
      },
      "text/plain": [
       "Canvas(toolbar=Toolbar(toolitems=[('Home', 'Reset original view', 'home', 'home'), ('Back', 'Back to previous …"
      ]
     },
     "metadata": {},
     "output_type": "display_data"
    }
   ],
   "source": [
    "obj(np.array([0.7 , 0.005]))\n",
    "\n",
    "fig,axes = plt.subplots(nrows=3, figsize = (3.5,6), sharex=True)\n",
    "\n",
    "#for ic,df_db in enumerate([0.2,0.69,0.85]): #np.linspace(0,1.5,20): #np.array([0.1,0.71,1.0]): #\n",
    "\n",
    "axes[0].plot(model.Time,  model.get_values('omega')*50,label='omega',color = colors[ic])\n",
    "axes[1].plot(model.Time,  model.get_values('p_cis'),label='omega')\n",
    "axes[2].plot(model.Time,  model.get_values('e_cis'),label='omega')\n",
    "    \n",
    "for ax in axes:\n",
    "    ax.grid()\n",
    "    ax.set_xlim(times[0],times[-1])"
   ]
  },
  {
   "cell_type": "code",
   "execution_count": 130,
   "id": "46b65584",
   "metadata": {},
   "outputs": [],
   "source": [
    "l  = [0,1,2,3,4,5,6]"
   ]
  },
  {
   "cell_type": "code",
   "execution_count": 133,
   "id": "f8c0e6cb",
   "metadata": {},
   "outputs": [
    {
     "data": {
      "text/plain": [
       "[0, 2, 4]"
      ]
     },
     "execution_count": 133,
     "metadata": {},
     "output_type": "execute_result"
    }
   ],
   "source": [
    "l[0:-1:2]"
   ]
  },
  {
   "cell_type": "code",
   "execution_count": null,
   "id": "ed7447da",
   "metadata": {},
   "outputs": [],
   "source": []
  }
 ],
 "metadata": {
  "kernelspec": {
   "display_name": "Python 3 (ipykernel)",
   "language": "python",
   "name": "python3"
  },
  "language_info": {
   "codemirror_mode": {
    "name": "ipython",
    "version": 3
   },
   "file_extension": ".py",
   "mimetype": "text/x-python",
   "name": "python",
   "nbconvert_exporter": "python",
   "pygments_lexer": "ipython3",
   "version": "3.9.7"
  }
 },
 "nbformat": 4,
 "nbformat_minor": 5
}

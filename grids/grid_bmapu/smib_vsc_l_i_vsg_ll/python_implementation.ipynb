{
 "cells": [
  {
   "cell_type": "code",
   "execution_count": 3,
   "metadata": {},
   "outputs": [
    {
     "name": "stdout",
     "output_type": "stream",
     "text": [
      "I_s = 0.8, V_t = 1.2\n",
      "I_s = 0.6, V_t = 1.2\n",
      "I_s = 0.7, V_t = 1.2\n",
      "I_s = 0.7, V_t = 1.2\n",
      "I_s = 0.7, V_t = 1.2\n",
      "I_s = 0.7, V_t = 1.2\n",
      "I_s = 0.7, V_t = 1.2\n",
      "I_s = 0.7, V_t = 1.2\n",
      "I_s = 0.7, V_t = 1.2\n",
      "I_s = 0.7, V_t = 1.2\n"
     ]
    }
   ],
   "source": [
    "import numpy as np\n",
    "V_s = 1\n",
    "X_s = 0.25\n",
    "X_v = 0.05\n",
    "I_s = 1.0\n",
    "V_ref = 1.2\n",
    "V_t = 1.2\n",
    "\n",
    "for it in range(10):\n",
    "    V_t = V_ref - 1j*X_v*I_s\n",
    "    I_s = (V_t - V_s)/(1j*X_s) \n",
    "\n",
    "    print(f'I_s = {np.abs(I_s):0.1f}, V_t = {np.abs(V_t):0.1f}')\n"
   ]
  },
  {
   "cell_type": "code",
   "execution_count": 12,
   "metadata": {},
   "outputs": [
    {
     "name": "stdout",
     "output_type": "stream",
     "text": [
      "K_p = 0.0035682481527280706, K_i = 0.1, K_g = 1e-07\n",
      "K_p = 0.03590480523612894, K_i = 0.5, K_g = 1e-06\n"
     ]
    },
    {
     "data": {
      "text/plain": [
       "True"
      ]
     },
     "execution_count": 12,
     "metadata": {},
     "output_type": "execute_result"
    }
   ],
   "source": [
    "import smib_vsc_l_i_vsg_ll\n",
    "\n",
    "model = smib_vsc_l_i_vsg_ll.model()\n",
    "\n",
    "zeta = 0.2 # 1.0/np.sqrt(2) # desired damping\n",
    "H_v = 5.0  # desired inertia\n",
    "WB = 2 *np.pi* 50 # base frequency\n",
    "R_v = 0.1  # virtual resistance (pu-m)\n",
    "X_v = 0.25  # virtual reactance (pu-m)\n",
    "\n",
    "Lt = X_v \n",
    "P_max = 1/Lt\n",
    "fn = np.sqrt(WB*P_max/(2*H_v))/(2*np.pi)\n",
    "\n",
    "Lt = X_v \n",
    "P_max = 1/Lt\n",
    "fn = np.sqrt(WB*P_max/(2*H_v))/(2*np.pi)\n",
    "\n",
    "# Active power loop\n",
    "Dp = 1e-6;\n",
    "K_i = (2*np.pi*fn)**2/(WB*P_max);\n",
    "K_g = Dp*K_i;\n",
    "K_p = (2*zeta*2*np.pi*fn - K_g)/(WB*P_max);\n",
    "print(f'K_p = {K_p}, K_i = {K_i}, K_g = {K_g}')\n",
    "\n",
    "# # Active power loop (i)\n",
    "# Snom = 1e6\n",
    "# P_max = Snom/X_v\n",
    "# D = 0.9\n",
    "# H = 1\n",
    "# Wnom = 2 *np.pi* 50 # base frequency\n",
    "# K_p = D*np.sqrt(2*Wnom/(P_max*H*Snom))\n",
    "# K_g = 1e-6;\n",
    "# K_i = Wnom/(2*H*Snom)\n",
    "# print(f'K_p = {K_p}, K_i = {K_i}, K_g = {K_g}')\n",
    "\n",
    "# Active power loop (i)\n",
    "Snom = 1e6\n",
    "P_max = 1/X_v\n",
    "D = 0.9\n",
    "H = 1\n",
    "Wnom = 2 *np.pi* 50 # base frequency\n",
    "K_p = D*np.sqrt(2/(P_max*H*Wnom))\n",
    "K_g = 1e-6;\n",
    "K_i = 1/(2*H)\n",
    "print(f'K_p = {K_p}, K_i = {K_i}, K_g = {K_g}')\n",
    "\n",
    "\n",
    "# Reactive power loop\n",
    "T_q = 1.0/(2*np.pi*0.5/2)\n",
    "K_q = (1.0 - 0.0)/(1.05 - 0.95)\n",
    "K_i_q = 1e1\n",
    "\n",
    "# Operating point\n",
    "p_l_1 = 0.5     # VSG virtual local power reference\n",
    "v_ref_1 = 1.0  # VSG POI voltage reference\n",
    "X_s = 0.05 # VSC actual coupling reactance\n",
    "R_s = 0.0 # VSC actual coupling resistance\n",
    "\n",
    "params = {\"S_n_1\":1e6, # VSC nominal power\n",
    "          'p_l_1':p_l_1,'v_ref_1':v_ref_1, # VSG local references\n",
    "          'X_s_1':X_s,'R_s_1':R_s,  # VSC actual coupling impedance\n",
    "          'X_v_1': X_v-X_s, 'R_v_1':R_v-R_s,\n",
    "          'T_q_1':T_q,'K_q_1':K_q, # Reactive power loop\n",
    "          'K_i_1':K_i,'K_g_1':K_g,'K_p_1':K_p, # Active power loop\n",
    "          #'b_1_2':-2 # Line susceptance\n",
    "          }\n",
    "\n",
    "model.ini(params,'xy_0.json')\n",
    "#model.report_x()"
   ]
  },
  {
   "cell_type": "code",
   "execution_count": null,
   "metadata": {},
   "outputs": [],
   "source": []
  },
  {
   "cell_type": "code",
   "execution_count": null,
   "metadata": {},
   "outputs": [],
   "source": []
  },
  {
   "cell_type": "code",
   "execution_count": 13,
   "metadata": {},
   "outputs": [],
   "source": [
    "V_t = -X_s/X_v*V_t + X_s/X_v*V_ref + V_s\n",
    " "
   ]
  },
  {
   "cell_type": "code",
   "execution_count": null,
   "metadata": {},
   "outputs": [],
   "source": [
    "\n",
    "\n",
    "\n",
    "\n"
   ]
  },
  {
   "cell_type": "code",
   "execution_count": 24,
   "metadata": {},
   "outputs": [
    {
     "name": "stdout",
     "output_type": "stream",
     "text": [
      "theta_ref_0 =  10.900937666094366\n"
     ]
    }
   ],
   "source": [
    "import numpy as np\n",
    "import matplotlib.pyplot as plt\n",
    "\n",
    "\n",
    "Z_v = 0.1 + 1j*0.25\n",
    "Z_s = 1j*0.05\n",
    "Z_line = 1j*0.1\n",
    "V_inf = 1.0\n",
    "Z_src = 1j*0.1\n",
    "\n",
    "# power flow\n",
    "S_s = 0.5000111421049822+0.012523640138206962j # de pydae ini()\n",
    "V_s = 0.9987506918206023+0.05000111421049822j  # de pydae ini()\n",
    "\n",
    "# backward\n",
    "I_s = np.conjugate(S_s/V_s)\n",
    "V_ref = V_s + (Z_s+Z_v)*I_s\n",
    "theta_ref = np.angle(V_ref)\n",
    "V_ref_m = np.abs(V_ref)\n",
    "\n",
    "theta_ref_0 = theta_ref\n",
    "V_ref_m_0 = np.abs(V_ref)\n",
    "print('theta_ref_0 = ',np.angle(V_ref, deg = True))\n",
    "\n",
    "# foreward\n",
    "times = np.arange(0,10,0.00833)\n",
    "records = {'P':[],'Q':[],'V_ref_m':[],'I_s_m':[],'V_s_m':[],'V_t_m':[]}\n",
    "for it,t in enumerate(times):\n",
    "\n",
    "    # references\n",
    "    theta_ref = theta_ref_0\n",
    "    V_ref_m = V_ref_m_0\n",
    "    if t>1: \n",
    "        V_ref_m = 1.07\n",
    "        theta_ref = theta_ref_0\n",
    "    if t>2: \n",
    "        V_ref_m = 1.05\n",
    "        theta_ref = theta_ref_0 \n",
    "    if t>3: \n",
    "        V_ref_m = 1.05\n",
    "        theta_ref = theta_ref_0 + 0.05\n",
    "    if t>4: \n",
    "        V_ref_m = 1.05\n",
    "        theta_ref = theta_ref_0 + 0.02\n",
    "\n",
    "    # model\n",
    "    V_t = V_s + Z_s*I_s\n",
    "    V_ref = V_ref_m*np.exp(1j*theta_ref)\n",
    "    I_s = (V_ref - V_t)/Z_v\n",
    "    I_src = I_s + V_s/Z_src\n",
    "\n",
    "    # psse\n",
    "    I_s = I_src - V_s/Z_src     \n",
    "    V_s = V_inf + I_s * Z_line\n",
    "    S_s = V_s*np.conjugate(I_s)\n",
    "\n",
    "    # records\n",
    "    records['P'] += [S_s.real]\n",
    "    records['Q'] += [S_s.imag]\n",
    "    records['V_s_m'] += [np.abs(V_s)]\n",
    "    records['I_s_m'] += [np.abs(I_s)]\n",
    "    records['V_t_m'] += [np.abs(V_t)]\n",
    "    #print(f't = {t:3.3f}: I_s = {np.abs(I_s):0.4f}, V_t = {np.abs(V_t):0.4f}, S_s = {S_s.real:0.2f} + j{S_s.imag:0.2f}')\n",
    "\n",
    "\n",
    "fig,axes = plt.subplots()\n",
    "\n",
    "axes.plot(times,records['I_s_m'])\n",
    "axes.plot(times,records['V_t_m'])"
   ]
  },
  {
   "cell_type": "code",
   "execution_count": 25,
   "metadata": {},
   "outputs": [
    {
     "data": {
      "text/plain": [
       "[<matplotlib.lines.Line2D at 0x21cf5418970>]"
      ]
     },
     "execution_count": 25,
     "metadata": {},
     "output_type": "execute_result"
    },
    {
     "data": {
      "image/png": "[encoded data removed]",
      "text/plain": [
       "<Figure size 640x480 with 1 Axes>"
      ]
     },
     "metadata": {},
     "output_type": "display_data"
    }
   ],
   "source": [
    "import matplotlib.pyplot as plt\n"
   ]
  },
  {
   "cell_type": "code",
   "execution_count": 10,
   "metadata": {},
   "outputs": [
    {
     "name": "stdout",
     "output_type": "stream",
     "text": [
      "I_s = 0.8, V_t = 1.0\n",
      "I_s = 0.6, V_t = 1.0\n",
      "I_s = 0.7, V_t = 1.0\n",
      "I_s = 0.7, V_t = 1.0\n",
      "I_s = 0.7, V_t = 1.0\n",
      "I_s = 0.7, V_t = 1.0\n",
      "I_s = 0.7, V_t = 1.0\n",
      "I_s = 0.7, V_t = 1.0\n",
      "I_s = 0.7, V_t = 1.0\n",
      "I_s = 0.7, V_t = 1.0\n"
     ]
    }
   ],
   "source": [
    "import numpy as np\n",
    "V_s = 1\n",
    "X_s = 0.05\n",
    "X_v = 0.25\n",
    "I_s = 1.0\n",
    "V_ref = 1.2\n",
    "V_t = 1.2\n",
    "\n",
    "for it in range(10):\n",
    "    V_t = V_s + 1j*X_s*I_s\n",
    "    I_s = (V_ref - V_t)/(1j*X_v) \n",
    "\n",
    "    print(f'I_s = {np.abs(I_s):0.1f}, V_t = {np.abs(V_t):0.1f}')\n"
   ]
  },
  {
   "cell_type": "code",
   "execution_count": null,
   "metadata": {},
   "outputs": [],
   "source": []
  }
 ],
 "metadata": {
  "kernelspec": {
   "display_name": "base",
   "language": "python",
   "name": "python3"
  },
  "language_info": {
   "codemirror_mode": {
    "name": "ipython",
    "version": 3
   },
   "file_extension": ".py",
   "mimetype": "text/x-python",
   "name": "python",
   "nbconvert_exporter": "python",
   "pygments_lexer": "ipython3",
   "version": "3.9.13"
  },
  "orig_nbformat": 4,
  "vscode": {
   "interpreter": {
    "hash": "1b1fd1016f48c91706a48f1be322d44ea1680db2bb213f1ce174a5eccfd1e534"
   }
  }
 },
 "nbformat": 4,
 "nbformat_minor": 2
}

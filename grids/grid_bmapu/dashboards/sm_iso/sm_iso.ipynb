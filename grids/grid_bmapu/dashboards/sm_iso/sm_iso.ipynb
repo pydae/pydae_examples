{
 "cells": [
  {
   "cell_type": "code",
   "execution_count": 1,
   "metadata": {},
   "outputs": [],
   "source": [
    "from pydae.bmapu import bmapu_builder\n",
    "from IPython.display import SVG\n",
    "\n",
    "data = {\n",
    "\"system\":{\"name\":\"smib\",\"S_base\":100e6, \"K_p_agc\":0.01,\"K_i_agc\":0.01,\"K_xif\":0.0},       \n",
    "\"buses\":[{\"name\":\"1\", \"P_W\":0.0,\"Q_var\":0.0,\"U_kV\":20.0},\n",
    "         {\"name\":\"2\", \"P_W\":0.0,\"Q_var\":0.0,\"U_kV\":20.0}\n",
    "        ],\n",
    "\"lines\":[{\"bus_j\":\"1\", \"bus_k\":\"2\", \"X_pu\":0.05,\"R_pu\":0.01,\"Bs_pu\":1e-6,\"S_mva\":10000.0}],\n",
    "\"syns\":[\n",
    "      {\"bus\":\"1\",\"S_n\":200e6,\n",
    "         \"X_d\":1.81,\"X1d\":0.3, \"T1d0\":8.0,    \n",
    "         \"X_q\":1.81,\"X1q\":0.55,\"T1q0\":0.4,  \n",
    "         \"R_a\":0.02,\"X_l\": 0.2, \n",
    "         \"H\":5.0,\"D\":1.0,\n",
    "         \"Omega_b\":314.1592653589793,\"omega_s\":1.0,\"K_sec\":1.0,\n",
    "         \"avr\":{\"type\":\"sexs\",\"K_a\":100.0,\"T_a\":0.1,\"T_b\":1.0,\"T_e\":0.1,\"E_min\":-10.0,\"E_max\":10.0,\"v_ref\":1.0},\n",
    "         \"gov\":{\"type\":\"tgov1\",\"Droop\":0.05,\"T_1\":1.0,\"T_2\":1.0,\"T_3\":1.0,\"D_t\":0.0,\"p_c\":0.0,\"K_sec\":1.0},\n",
    "         \"K_delta\":0.01}]}\n",
    "grid = bmapu_builder.bmapu(data)\n",
    "grid.checker()\n",
    "grid.uz_jacs = True\n",
    "grid.build('sm_iso')\n"
   ]
  },
  {
   "cell_type": "code",
   "execution_count": 1,
   "metadata": {},
   "outputs": [],
   "source": [
    "import sm_iso"
   ]
  },
  {
   "cell_type": "code",
   "execution_count": 2,
   "metadata": {},
   "outputs": [],
   "source": [
    "%matplotlib widget"
   ]
  },
  {
   "cell_type": "code",
   "execution_count": 3,
   "metadata": {},
   "outputs": [],
   "source": [
    "model = sm_iso.model()"
   ]
  },
  {
   "cell_type": "code",
   "execution_count": 4,
   "metadata": {},
   "outputs": [
    {
     "name": "stdout",
     "output_type": "stream",
     "text": [
      "V_1   =  1.00\n",
      "theta_1 = -0.55\n",
      "V_2   =  1.00\n",
      "theta_2 = -0.55\n",
      "i_d_1 =  0.48\n",
      "i_q_1 =  0.29\n",
      "p_g_1 =  0.50\n",
      "q_g_1 =  0.25\n",
      "v_f_1 =  1.72\n",
      "p_m_ref_1 =  0.51\n",
      "p_m_1 =  0.51\n",
      "omega_coi =  1.00\n",
      "p_agc =  0.51\n"
     ]
    }
   ],
   "source": [
    "model.ini({'P_2':-100e6,'Q_2':-50e6},'xy_0.json')\n",
    "model.report_y()"
   ]
  },
  {
   "cell_type": "code",
   "execution_count": 5,
   "metadata": {},
   "outputs": [],
   "source": [
    "from pydae.edashboards.sm_iso import dashboard\n"
   ]
  },
  {
   "cell_type": "code",
   "execution_count": 8,
   "metadata": {},
   "outputs": [
    {
     "data": {
      "application/vnd.jupyter.widget-view+json": {
       "model_id": "5ebb5dfab6c0424e99937ac595a9da6b",
       "version_major": 2,
       "version_minor": 0
      },
      "text/plain": [
       "VBox(children=(HBox(children=(Canvas(toolbar=Toolbar(toolitems=[('Home', 'Reset original view', 'home', 'home'…"
      ]
     },
     "metadata": {},
     "output_type": "display_data"
    }
   ],
   "source": [
    "model.set_value('T_b_1',0.2)\n",
    "db = dashboard(model)\n",
    "db.show()\n"
   ]
  },
  {
   "cell_type": "code",
   "execution_count": 7,
   "metadata": {},
   "outputs": [
    {
     "name": "stdout",
     "output_type": "stream",
     "text": [
      "S_base =100000000.00\n",
      "g_1_2 =384.62\n",
      "b_1_2 =-1923.08\n",
      "bs_1_2 =-0.00\n",
      "U_1_n =20000.00\n",
      "U_2_n =20000.00\n",
      "S_n_1 =200000000.00\n",
      "Omega_b_1 =314.16\n",
      "H_1   = 5.00\n",
      "T1d0_1 = 8.00\n",
      "T1q0_1 = 0.40\n",
      "X_d_1 = 1.81\n",
      "X_q_1 = 1.81\n",
      "X1d_1 = 0.30\n",
      "X1q_1 = 0.55\n",
      "D_1   = 1.00\n",
      "R_a_1 = 0.02\n",
      "K_delta_1 = 0.01\n",
      "K_sec_1 = 1.00\n",
      "K_a_1 =100.00\n",
      "K_ai_1 = 0.00\n",
      "T_a_1 = 0.10\n",
      "T_b_1 = 1.00\n",
      "T_e_1 = 0.10\n",
      "E_min_1 =-10.00\n",
      "E_max_1 =10.00\n",
      "Droop_1 = 0.05\n",
      "T_gov_1_1 = 1.00\n",
      "T_gov_2_1 = 1.00\n",
      "T_gov_3_1 = 1.00\n",
      "D_t_1 = 0.00\n",
      "omega_ref_1 = 1.00\n",
      "K_p_agc = 0.01\n",
      "K_i_agc = 0.01\n",
      "K_xif = 0.00\n"
     ]
    }
   ],
   "source": [
    "model.report_params()"
   ]
  },
  {
   "cell_type": "code",
   "execution_count": null,
   "metadata": {},
   "outputs": [],
   "source": []
  }
 ],
 "metadata": {
  "kernelspec": {
   "display_name": "base",
   "language": "python",
   "name": "python3"
  },
  "language_info": {
   "codemirror_mode": {
    "name": "ipython",
    "version": 3
   },
   "file_extension": ".py",
   "mimetype": "text/x-python",
   "name": "python",
   "nbconvert_exporter": "python",
   "pygments_lexer": "ipython3",
   "version": "3.9.13"
  },
  "orig_nbformat": 4,
  "vscode": {
   "interpreter": {
    "hash": "1b1fd1016f48c91706a48f1be322d44ea1680db2bb213f1ce174a5eccfd1e534"
   }
  }
 },
 "nbformat": 4,
 "nbformat_minor": 2
}

{
 "cells": [
  {
   "cell_type": "markdown",
   "metadata": {},
   "source": [
    "# Wind farm"
   ]
  },
  {
   "cell_type": "code",
   "execution_count": 1,
   "metadata": {},
   "outputs": [],
   "source": [
    "import numpy as np\n",
    "import sympy as sym\n",
    "import pydae.build_cffi as db\n",
    "from pydae.grid_bpu import bpu"
   ]
  },
  {
   "cell_type": "code",
   "execution_count": 2,
   "metadata": {},
   "outputs": [],
   "source": [
    "zeta = 0.1 # 1.0/np.sqrt(2) \n",
    "H_v = 4.0 \n",
    "WB = 2 *np.pi* 50;\n",
    "R_v = 0.0\n",
    "X_v = 0.3\n",
    "\n",
    "Lt = X_v \n",
    "P_max = 1/Lt\n",
    "fn = np.sqrt(WB*P_max/(2*H_v))/(2*np.pi)\n",
    "\n",
    "Dp = 0;\n",
    "K_i = (2*np.pi*fn)**2/(WB*P_max);\n",
    "K_g = Dp*K_i;\n",
    "K_p = (2*zeta*2*np.pi*fn - K_g)/(WB*P_max);\n",
    "\n",
    "T_q = 1.0/(2*np.pi*10/2)\n",
    "K_q = (1.0 - 0.0)/(1.05 - 0.95)\n",
    "K_i_q = 1e-6\n",
    "\n",
    "theta_red = 3.0/180*np.pi\n",
    "V = 1.0\n",
    "p_ref = 0.9\n",
    "q_ref = 0.434616\n",
    "v_ref = 1.0\n",
    "T_q = 1.0/(2*np.pi*10/2)"
   ]
  },
  {
   "cell_type": "code",
   "execution_count": 4,
   "metadata": {},
   "outputs": [],
   "source": [
    "data = {\n",
    "    \"sys\":{\"name\":\"wind_farm\",\"S_base\":100e6, \"K_p_agc\":0.0,\"K_i_agc\":0.0,\"K_xif\":0.001},  \n",
    "    \"lines\":[\n",
    "        {\"bus_j\": \"G01\", \"bus_k\":\"G01M\", \"X_pu\":0.01, \"R_pu\":0.06, \"S_mva\": 2.5},\n",
    "        {\"bus_j\": \"G02\", \"bus_k\":\"G02M\", \"X_pu\":0.01, \"R_pu\":0.06, \"S_mva\": 2.5},\n",
    "        {\"bus_j\":\"G01M\", \"bus_k\":\"POIM\", \"R_km\":0.26, \"X_km\":0.12, \"C_muF_km\":0.25, \"km\":0.5},\n",
    "        {\"bus_j\":\"G02M\", \"bus_k\":\"POIM\", \"R_km\":0.26, \"X_km\":0.12, \"C_muF_km\":0.25, \"km\":0.5},\n",
    "        {\"bus_j\": \"BES\", \"bus_k\":\"BESM\", \"X_pu\":0.01, \"R_pu\":0.06, \"S_mva\": 5.0},\n",
    "        {\"bus_j\":\"BESM\", \"bus_k\":\"POIM\", \"R_km\":0.26, \"X_km\":0.12, \"C_muF_km\":0.25, \"km\":0.5},\n",
    "        {\"bus_j\":\"POIM\", \"bus_k\": \"POI\", \"X_pu\":0.01, \"R_pu\":0.05, \"S_mva\":10.0},\n",
    "        {\"bus_j\": \"POI\", \"bus_k\":\"GRID\", \"R_km\":0.26, \"X_km\":0.12, \"C_muF_km\":0.25, \"km\":50.0, 'monitor':True}\n",
    "         ],\n",
    "    \"buses\":[\n",
    "            {\"name\":   \"G01\", \"P_W\":0.0, \"Q_var\":0.0, \"pos_x\": -1500.0, \"pos_y\":  200.0, \"units\": \"m\", \"U_kV\":0.69},\n",
    "            {\"name\":   \"G02\", \"P_W\":0.0, \"Q_var\":0.0, \"pos_x\": -1000.0, \"pos_y\":  200.0, \"units\": \"m\", \"U_kV\":0.69},\n",
    "            {\"name\":   \"BES\", \"P_W\":0.0, \"Q_var\":0.0, \"pos_x\":  -500.0, \"pos_y\":  200.0, \"units\": \"m\", \"U_kV\":0.69},\n",
    "            {\"name\":  \"G01M\", \"P_W\":0.0, \"Q_var\":0.0, \"pos_x\": -1500.0, \"pos_y\":  180.0, \"units\": \"m\", \"U_kV\":20.0},\n",
    "            {\"name\":  \"G02M\", \"P_W\":0.0, \"Q_var\":0.0, \"pos_x\": -1000.0, \"pos_y\":  180.0, \"units\": \"m\", \"U_kV\":20.0},\n",
    "            {\"name\":  \"BESM\", \"P_W\":0.0, \"Q_var\":0.0, \"pos_x\":     0.0, \"pos_y\":    0.0, \"units\": \"m\", \"U_kV\":20.0},       \n",
    "            {\"name\":  \"POIM\", \"P_W\":0.0, \"Q_var\":0.0, \"pos_x\":     0.0, \"pos_y\":    0.0, \"units\": \"m\", \"U_kV\":20.0},\n",
    "            {\"name\":   \"POI\", \"P_W\":0.0, \"Q_var\":0.0, \"pos_x\":   100.0, \"pos_y\":    0.0, \"units\": \"m\", \"U_kV\":66.0},\n",
    "            {\"name\":  \"GRID\", \"P_W\":0.0, \"Q_var\":0.0, \"pos_x\":   500.0, \"pos_y\":    0.0, \"units\": \"m\", \"U_kV\":66.0}\n",
    "    ],\n",
    "    \"genapes\":[{\"bus\":\"POI\",\"S_n\":100e6,\"F_n\":50.0,\"R_v\":0.0,\"X_v\":0.001,\"K_delta\":0.001,\"K_alpha\":1.0}],\n",
    "    \"vsgs\":[{\"bus\":\"G01\",\"type\":\"vsg_ll\",'S_n':5e6,'F_n':50,'K_delta':0.0,\n",
    "                 'R_v':R_v,'X_v':X_v,'K_p':K_p,'K_i':K_i,'K_g':K_g,'K_q':K_q,'T_q':T_q,'K_i_q':1e-6},\n",
    "            {\"bus\":\"G02\",\"type\":\"vsg_ll\",'S_n':5e6,'F_n':50,'K_delta':0.0,\n",
    "                 'R_v':R_v,'X_v':X_v,'K_p':K_p,'K_i':K_i,'K_g':K_g,'K_q':K_q,'T_q':T_q,'K_i_q':1e-6},            \n",
    "]}\n",
    "\n",
    "bpu_obj = bpu(data_input=data)\n",
    "\n",
    "g_list = bpu_obj.dae['g'] \n",
    "h_dict = bpu_obj.dae['h_dict']\n",
    "f_list = bpu_obj.dae['f']\n",
    "x_list = bpu_obj.dae['x']\n",
    "params_dict = bpu_obj.dae['params_dict']\n",
    "\n",
    "\n",
    "sys_dict = {'name':'wf2vsgll',\n",
    "       'params_dict':params_dict,\n",
    "       'f_list':f_list,\n",
    "       'g_list':g_list,\n",
    "       'x_list':x_list,\n",
    "       'y_ini_list':bpu_obj.dae['y_ini'],\n",
    "       'y_run_list':bpu_obj.dae['y_run'],\n",
    "       'u_run_dict':bpu_obj.dae['u_run_dict'],\n",
    "       'u_ini_dict':bpu_obj.dae['u_ini_dict'],\n",
    "       'h_dict':h_dict}\n",
    "\n",
    "bldr = db.builder(sys_dict);\n",
    "bldr.build()"
   ]
  },
  {
   "cell_type": "code",
   "execution_count": null,
   "metadata": {},
   "outputs": [],
   "source": []
  }
 ],
 "metadata": {
  "kernelspec": {
   "display_name": "Python 3 (ipykernel)",
   "language": "python",
   "name": "python3"
  },
  "language_info": {
   "codemirror_mode": {
    "name": "ipython",
    "version": 3
   },
   "file_extension": ".py",
   "mimetype": "text/x-python",
   "name": "python",
   "nbconvert_exporter": "python",
   "pygments_lexer": "ipython3",
   "version": "3.9.12"
  }
 },
 "nbformat": 4,
 "nbformat_minor": 4
}

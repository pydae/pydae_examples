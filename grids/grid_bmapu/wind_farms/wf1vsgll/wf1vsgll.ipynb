{
 "cells": [
  {
   "cell_type": "code",
   "execution_count": 1,
   "metadata": {},
   "outputs": [],
   "source": [
    "%matplotlib widget"
   ]
  },
  {
   "cell_type": "code",
   "execution_count": 2,
   "metadata": {},
   "outputs": [],
   "source": [
    "import numpy as np\n",
    "import matplotlib.pyplot as plt\n",
    "from pydae.plot_tools import set_style\n",
    "import pydae.ssa as ctrl\n",
    "colors = set_style(plt)"
   ]
  },
  {
   "attachments": {
    "wf1vsgll.png": {
     "image/png": "[encoded data removed]"
    }
   },
   "cell_type": "markdown",
   "metadata": {},
   "source": [
    "![wf1vsgll.png](attachment:wf1vsgll.png)<img src=\"./png/wind_farm.png\" width=\"800\">\n",
    "\n"
   ]
  },
  {
   "cell_type": "code",
   "execution_count": 3,
   "metadata": {},
   "outputs": [],
   "source": [
    "import wf1vsgll "
   ]
  },
  {
   "cell_type": "code",
   "execution_count": 6,
   "metadata": {},
   "outputs": [
    {
     "name": "stdout",
     "output_type": "stream",
     "text": [
      "P_G01 = 0.00\n",
      "Q_G01 = 0.00\n",
      "P_POI = 0.00\n",
      "Q_POI = 0.00\n",
      "v_dc_G01 = 1.20\n",
      "p_l_G01 = 0.00\n",
      "q_l_G01 = 0.00\n",
      "p_r_G01 = 0.00\n",
      "q_r_G01 = 0.00\n",
      "v_ref_G01 = 1.00\n",
      "Ddelta_ff_G01 = 0.00\n",
      "Domega_ff_G01 = 0.00\n",
      "alpha_POI = 0.00\n",
      "v_ref_POI = 1.00\n",
      "omega_ref_POI = 1.00\n",
      "delta_ref_POI = 0.00\n",
      "phi_POI = 0.00\n",
      "S_base =100000000.00\n",
      "g_G01_POI = 0.00\n",
      "b_G01_POI =-200.00\n",
      "bs_G01_POI = 0.00\n",
      "U_G01_n =20000.00\n",
      "U_POI_n =20000.00\n",
      "S_n_G01 =10000000.00\n",
      "F_n_G01 =50.00\n",
      "X_s_G01 = 0.05\n",
      "R_s_G01 = 0.01\n",
      "A_l_G01 = 0.01\n",
      "B_l_G01 = 0.01\n",
      "C_l_G01 = 0.01\n",
      "K_delta_G01 = 0.00\n",
      "K_p_G01 = 0.00\n",
      "K_i_G01 = 0.12\n",
      "K_g_G01 = 0.00\n",
      "R_v_G01 = 0.00\n",
      "X_v_G01 = 0.30\n",
      "K_q_G01 =10.00\n",
      "T_q_G01 = 0.03\n",
      "K_p_v_G01 = 0.00\n",
      "K_i_v_G01 = 0.00\n",
      "S_n_POI =100000000.00\n",
      "F_n_POI =50.00\n",
      "X_v_POI = 0.00\n",
      "R_v_POI = 0.00\n",
      "K_delta_POI = 0.00\n",
      "K_alpha_POI = 0.00\n",
      "K_p_agc = 0.00\n",
      "K_i_agc = 0.00\n",
      "K_xif = 0.01\n",
      "m_f_G01 =  0.83\n",
      "delta_G01 = -0.00\n",
      "x_v_G01 = -0.00\n",
      "e_qm_G01 =  0.00\n",
      "xi_v_G01 = -0.00\n",
      "delta_POI =  0.00\n",
      "Domega_POI =  0.00\n",
      "xi_freq =  0.00\n",
      "V_G01 =  1.00\n",
      "theta_G01 =  0.00\n",
      "V_POI =  1.00\n",
      "theta_POI =  0.00\n",
      "i_si_G01 = -0.00\n",
      "i_sr_G01 = -0.00\n",
      "p_s_G01 = -0.00\n",
      "q_s_G01 =  0.00\n",
      "p_dc_G01 =  0.01\n",
      "v_td_ref_G01 =  0.00\n",
      "v_tq_ref_G01 =  1.00\n",
      "e_vq_G01 =  1.00\n",
      "m_G01 =  0.83\n",
      "theta_t_G01 = -0.00\n",
      "omega_POI =  1.00\n",
      "i_d_POI = -0.00\n",
      "i_q_POI =  0.00\n",
      "p_s_POI =  0.00\n",
      "q_s_POI = -0.00\n",
      "omega_coi =  1.00\n",
      "p_agc =  0.00\n"
     ]
    }
   ],
   "source": [
    "model = wf1vsgll.model()\n",
    "model.report_u()\n",
    "model.report_params()\n",
    "\n",
    "model.ini({'b_G01_POI':-10},'xy_0.json')\n",
    "model.report_x()\n",
    "model.report_y()"
   ]
  },
  {
   "cell_type": "markdown",
   "metadata": {},
   "source": [
    "## Design and steady state"
   ]
  },
  {
   "cell_type": "code",
   "execution_count": 424,
   "metadata": {},
   "outputs": [
    {
     "name": "stdout",
     "output_type": "stream",
     "text": [
      "m_f_G01 =  0.83\n",
      "delta_G01 =  0.00\n",
      "x_v_G01 =  0.00\n",
      "e_qm_G01 = -0.00\n",
      "xi_v_G01 =  0.00\n",
      "delta_POI =  0.00\n",
      "Domega_POI =  0.00\n",
      "xi_freq =  0.00\n",
      "V_G01 =  1.00\n",
      "theta_G01 =  0.00\n",
      "V_POI =  1.00\n",
      "theta_POI =  0.00\n",
      "i_si_G01 =  0.00\n",
      "i_sr_G01 =  0.00\n",
      "p_s_G01 =  0.00\n",
      "q_s_G01 = -0.00\n",
      "p_dc_G01 =  0.01\n",
      "v_td_ref_G01 =  0.00\n",
      "v_tq_ref_G01 =  1.00\n",
      "e_vq_G01 =  1.00\n",
      "m_G01 =  0.83\n",
      "theta_t_G01 =  0.00\n",
      "omega_POI =  1.00\n",
      "i_d_POI = -0.00\n",
      "i_q_POI = -0.00\n",
      "p_s_POI = -0.00\n",
      "q_s_POI =  0.00\n",
      "omega_coi =  1.00\n",
      "p_agc =  0.00\n"
     ]
    }
   ],
   "source": [
    "model = wf1vsgll.model()\n",
    "\n",
    "# Powers\n",
    "S_base = 100e6\n",
    "S_n_POI = 1000e6\n",
    "S_n_G01 = 100e6\n",
    "\n",
    "p_G01_MW = 0\n",
    "q_G01_Mvar = 0\n",
    "P_G01 =  0e6\n",
    "Q_G01 =  0e6\n",
    "\n",
    "# grid\n",
    "R_g = 0.0\n",
    "X_g = 0.1\n",
    "Z_g = (R_g + 1j*X_g)\n",
    "Y_g = 1.0/Z_g \n",
    "g_G01_POI = Y_g.real\n",
    "b_G01_POI = Y_g.imag\n",
    "\n",
    "# VSG design\n",
    "X_s = 0.1\n",
    "R_s = 0.01\n",
    "zeta = 0.8 # 1.0/np.sqrt(2) \n",
    "H_v = 5.0 \n",
    "WB = 2 *np.pi* 50;\n",
    "R_v = 0.0\n",
    "X_v = 0.2\n",
    "P_max = 1/(X_v+X_s)\n",
    "fn = np.sqrt(WB*P_max/(2*H_v))/(2*np.pi)\n",
    "Dp = 0;\n",
    "K_i = (2*np.pi*fn)**2/(WB*P_max);\n",
    "K_g = Dp*K_i;\n",
    "K_p = (2*zeta*2*np.pi*fn - K_g)/(WB*P_max);\n",
    "T_q = 1.0/(2*np.pi*10/2)\n",
    "K_q = (1.0 - 0.0)/(1.05 - 0.95)\n",
    "K_i_q = 1e-6\n",
    "\n",
    "\n",
    "params = {\n",
    "    \"S_base\":S_base,\n",
    "    \"K_p_agc\":0.0,\"K_i_agc\":0.0,\"K_xif\":1e-4, # secondary freq. is removed\n",
    "    'g_G01_POI':g_G01_POI,'b_G01_POI':b_G01_POI,\n",
    "    \"S_n_POI\":S_n_POI,\"v_ref_POI\":1.0,\"K_delta_POI\":0.01,\"K_alpha_POI\":1e-8,\n",
    "    \"S_n_G01\":S_n_G01,\n",
    "    \"p_r_G01\":0*p_G01_MW*1e6/S_n_G01,\"q_r_G01\":0*q_G01_Mvar*1e6/S_n_G01,\n",
    "    \"P_G01\":P_G01,\"Q_G01\":Q_G01,\n",
    "    'R_v_G01':R_v-R_s,'X_v_G01':X_v-X_s,\n",
    "    'R_s_G01':R_s,'X_s_G01':X_s,\n",
    "    'K_p_G01':K_p,'K_i_G01':K_i,'K_g_G01':K_g,'K_q_G01':K_q,'T_q_G01':T_q\n",
    "}\n",
    "\n",
    "model.ini(params,'xy_0.json')\n",
    "model.report_x()\n",
    "model.report_y()"
   ]
  },
  {
   "cell_type": "markdown",
   "metadata": {},
   "source": [
    "## Small signal analysis"
   ]
  },
  {
   "cell_type": "code",
   "execution_count": 425,
   "metadata": {},
   "outputs": [
    {
     "data": {
      "text/html": [
       "<div>\n",
       "<style scoped>\n",
       "    .dataframe tbody tr th:only-of-type {\n",
       "        vertical-align: middle;\n",
       "    }\n",
       "\n",
       "    .dataframe tbody tr th {\n",
       "        vertical-align: top;\n",
       "    }\n",
       "\n",
       "    .dataframe thead th {\n",
       "        text-align: right;\n",
       "    }\n",
       "</style>\n",
       "<table border=\"1\" class=\"dataframe\">\n",
       "  <thead>\n",
       "    <tr style=\"text-align: right;\">\n",
       "      <th></th>\n",
       "      <th>Real</th>\n",
       "      <th>Imag</th>\n",
       "      <th>Freq.</th>\n",
       "      <th>Damp</th>\n",
       "    </tr>\n",
       "  </thead>\n",
       "  <tbody>\n",
       "    <tr>\n",
       "      <th>Mode 1</th>\n",
       "      <td>-1.000000e+00</td>\n",
       "      <td>0.000000</td>\n",
       "      <td>0.000000</td>\n",
       "      <td>1.000000</td>\n",
       "    </tr>\n",
       "    <tr>\n",
       "      <th>Mode 2</th>\n",
       "      <td>-1.000000e-04</td>\n",
       "      <td>0.000000</td>\n",
       "      <td>0.000000</td>\n",
       "      <td>1.000000</td>\n",
       "    </tr>\n",
       "    <tr>\n",
       "      <th>Mode 3</th>\n",
       "      <td>-8.183886e+00</td>\n",
       "      <td>6.140755</td>\n",
       "      <td>0.977332</td>\n",
       "      <td>0.799867</td>\n",
       "    </tr>\n",
       "    <tr>\n",
       "      <th>Mode 4</th>\n",
       "      <td>-8.183886e+00</td>\n",
       "      <td>-6.140755</td>\n",
       "      <td>0.977332</td>\n",
       "      <td>0.799867</td>\n",
       "    </tr>\n",
       "    <tr>\n",
       "      <th>Mode 5</th>\n",
       "      <td>-1.078265e+03</td>\n",
       "      <td>0.000000</td>\n",
       "      <td>0.000000</td>\n",
       "      <td>1.000000</td>\n",
       "    </tr>\n",
       "    <tr>\n",
       "      <th>Mode 6</th>\n",
       "      <td>-9.999996e-03</td>\n",
       "      <td>0.000000</td>\n",
       "      <td>0.000000</td>\n",
       "      <td>1.000000</td>\n",
       "    </tr>\n",
       "    <tr>\n",
       "      <th>Mode 7</th>\n",
       "      <td>-9.718351e-08</td>\n",
       "      <td>0.000000</td>\n",
       "      <td>0.000000</td>\n",
       "      <td>1.000000</td>\n",
       "    </tr>\n",
       "    <tr>\n",
       "      <th>Mode 8</th>\n",
       "      <td>-1.000000e-08</td>\n",
       "      <td>0.000000</td>\n",
       "      <td>0.000000</td>\n",
       "      <td>1.000000</td>\n",
       "    </tr>\n",
       "  </tbody>\n",
       "</table>\n",
       "</div>"
      ],
      "text/plain": [
       "                Real      Imag     Freq.      Damp\n",
       "Mode 1 -1.000000e+00  0.000000  0.000000  1.000000\n",
       "Mode 2 -1.000000e-04  0.000000  0.000000  1.000000\n",
       "Mode 3 -8.183886e+00  6.140755  0.977332  0.799867\n",
       "Mode 4 -8.183886e+00 -6.140755  0.977332  0.799867\n",
       "Mode 5 -1.078265e+03  0.000000  0.000000  1.000000\n",
       "Mode 6 -9.999996e-03  0.000000  0.000000  1.000000\n",
       "Mode 7 -9.718351e-08  0.000000  0.000000  1.000000\n",
       "Mode 8 -1.000000e-08  0.000000  0.000000  1.000000"
      ]
     },
     "execution_count": 425,
     "metadata": {},
     "output_type": "execute_result"
    }
   ],
   "source": [
    "ctrl.A_eval(model)\n",
    "ctrl.damp_report(model)"
   ]
  },
  {
   "cell_type": "code",
   "execution_count": 434,
   "metadata": {},
   "outputs": [],
   "source": [
    "def pq2ea(p_ref,q_ref,v,X_vs,X_g):\n",
    "    X_pu = X_vs \n",
    "    e =  (X_pu*q_ref + v**2)/(2*v) + np.sqrt(4*X_pu**2*p_ref**2 + X_pu**2*q_ref**2 + 2*X_pu*q_ref*v**2 + v**4)/(2*v)\n",
    "    delta = (X_vs + X_g)*p_ref/(e*v)\n",
    "    return delta,e \n",
    "\n",
    "model_1 = wf1vsgll.model()\n",
    "model_2 = wf1vsgll.model()\n",
    "\n",
    "X_g_pum = X_g*S_n_G01/S_base # pu-machine base\n",
    "params.update({'p_l_G01':0.0,'q_l_G01':0.0,'v_ref_G01':1.0+0.5*X_g_pum})\n",
    "model_1.ini(params,'xy_0.json')\n",
    "model_2.ini(params,'xy_0.json')\n",
    "\n",
    "X_v,X_s = model_2.get_mvalue(['X_v_G01','X_s_G01'])\n",
    "X_vs = X_v + X_s # pu-machine base\n",
    "\n",
    "model_1.Dt =0.001\n",
    "model_2.Dt =0.001\n",
    "\n",
    "Dt_mid = 0.005\n",
    "times = np.arange(0,10,Dt_mid)\n",
    "\n",
    "T_w = 5\n",
    "params_ctrl_1 = {}\n",
    "params_ctrl_2 = {}\n",
    "\n",
    "x_delta_ff = 0.0\n",
    "for t in times:\n",
    "    \n",
    "    # references and perturbations\n",
    "    p_ref = 0.0\n",
    "    q_ref = 0.0\n",
    "    if t>1.0:\n",
    "        p_ref =  0.8+0.0*np.sin(2*np.pi*1*t)\n",
    "    if t>2.0:\n",
    "        q_ref = -0.5\n",
    "\n",
    "    if t>4.0:\n",
    "        q_ref = 0.2\n",
    "        \n",
    "    alpha_POI = 0.0\n",
    "    if t>3.0:\n",
    "        alpha_POI = -0.01\n",
    "    if t>5.0:\n",
    "        alpha_POI = 0.0\n",
    "    \n",
    "    # model 2: feed foreward\n",
    "    # observations   \n",
    "    v_s = model_2.get_value(['V_G01','theta_G01','delta_G01','delta_ff_G01'])\n",
    "\n",
    "    ## feed foreward\n",
    "    Ddelta_ref,e = pq2ea(p_ref,q_ref,v,X_vs,X_g_pum)    \n",
    "   \n",
    "    ## lead-lag\n",
    "    x_delta_ff += Dt_mid/T_w*(Ddelta_ref - x_delta_ff)\n",
    "    Ddelta = Ddelta_ref - x_delta_ff\n",
    "    \n",
    "    params_ctrl_1.update({'Ddelta_ff_G01':0.0, 'p_r_G01':p_ref, 'q_r_G01':q_ref,'alpha_POI':alpha_POI}) \n",
    "    params_ctrl_2.update({'Ddelta_ff_G01':Ddelta, 'p_r_G01':p_ref, 'q_r_G01':q_ref,'alpha_POI':alpha_POI}) \n",
    "\n",
    "    model_1.run(t,params_ctrl_1)\n",
    "    model_2.run(t,params_ctrl_2)\n",
    "    \n",
    "model_1.post()\n",
    "model_2.post()"
   ]
  },
  {
   "cell_type": "code",
   "execution_count": 435,
   "metadata": {},
   "outputs": [
    {
     "data": {
      "application/vnd.jupyter.widget-view+json": {
       "model_id": "28db7dd74e6b4c328810822d30e18882",
       "version_major": 2,
       "version_minor": 0
      },
      "image/png": "[encoded data removed]",
      "text/html": [
       "\n",
       "            <div style=\"display: inline-block;\">\n",
       "                <div class=\"jupyter-widgets widget-label\" style=\"text-align: center;\">\n",
       "                    Figure\n",
       "                </div>\n",
       "                <img src='data:image/png;base64,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' width=800.0/>\n",
       "            </div>\n",
       "        "
      ],
      "text/plain": [
       "Canvas(toolbar=Toolbar(toolitems=[('Home', 'Reset original view', 'home', 'home'), ('Back', 'Back to previous …"
      ]
     },
     "metadata": {},
     "output_type": "display_data"
    }
   ],
   "source": [
    "plt.close('all')\n",
    "fig, axes = plt.subplots(nrows=1,ncols=2, figsize=(8, 3), frameon=False, dpi=100, squeeze=False)\n",
    "\n",
    "axes[0,0].plot(model_1.Time, model_1.get_values('p_s_G01'), label=\"$p$\", color=colors[0], lw=3, alpha=0.3)\n",
    "axes[0,0].plot(model_1.Time, model_1.get_values('q_s_G01'), label=\"$q$\", color=colors[1], lw=3, alpha=0.3)\n",
    "\n",
    "axes[0,0].plot(model_2.Time, model_2.get_values('p_s_G01'), label=\"$p_{ff}$\", color=colors[0])\n",
    "axes[0,0].plot(model_2.Time, model_2.get_values('q_s_G01'), label=\"$q_{ff}$\", color=colors[1])\n",
    "\n",
    "\n",
    "axes[0,1].plot(model_2.Time, model_2.get_values('V_G01'), label=\"$V_{G01}$\")\n",
    "\n",
    "for ax in axes.flatten(): \n",
    "    ax.legend(ncol=1,loc='upper left')\n",
    "    ax.grid()\n",
    "    ax.set_xlim(0,3)"
   ]
  },
  {
   "cell_type": "code",
   "execution_count": 382,
   "metadata": {},
   "outputs": [
    {
     "data": {
      "text/plain": [
       "array([0., 0., 0., ..., 0., 0., 0.])"
      ]
     },
     "execution_count": 382,
     "metadata": {},
     "output_type": "execute_result"
    }
   ],
   "source": [
    "model.get_values('V_G01')"
   ]
  },
  {
   "cell_type": "code",
   "execution_count": 326,
   "metadata": {},
   "outputs": [
    {
     "data": {
      "application/vnd.jupyter.widget-view+json": {
       "model_id": "10076054de594f368efd3ee394b4241e",
       "version_major": 2,
       "version_minor": 0
      },
      "image/png": "[encoded data removed]",
      "text/html": [
       "\n",
       "            <div style=\"display: inline-block;\">\n",
       "                <div class=\"jupyter-widgets widget-label\" style=\"text-align: center;\">\n",
       "                    Figure\n",
       "                </div>\n",
       "                <img src='data:image/png;base64,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' width=800.0/>\n",
       "            </div>\n",
       "        "
      ],
      "text/plain": [
       "Canvas(toolbar=Toolbar(toolitems=[('Home', 'Reset original view', 'home', 'home'), ('Back', 'Back to previous …"
      ]
     },
     "metadata": {},
     "output_type": "display_data"
    }
   ],
   "source": [
    "plt.close('all')\n",
    "fig, axes = plt.subplots(nrows=1,ncols=2, figsize=(8, 3), frameon=False, dpi=100, squeeze=False)\n",
    "\n",
    "axes[0,0].plot(model.Time, model.get_values('omega_v_G01'), label=\"$\\omega_v$\")\n",
    "axes[0,1].plot(model.Time, model.get_values('delta_G01'), label=\"$\\delta$\")\n",
    "axes[0,1].plot(model.Time, model.get_values('delta_ff_G01'), label=\"$\\delta_{ff}$\")\n",
    "\n",
    "\n",
    "for ax in axes.flatten(): \n",
    "    ax.legend()\n",
    "    ax.grid()"
   ]
  },
  {
   "cell_type": "markdown",
   "metadata": {},
   "source": [
    "## Time domain simulation"
   ]
  },
  {
   "cell_type": "markdown",
   "metadata": {},
   "source": [
    "### Remote reference power tracking"
   ]
  },
  {
   "cell_type": "code",
   "execution_count": 14,
   "metadata": {},
   "outputs": [],
   "source": [
    "model.ini(params,'xy_0.json')\n",
    "model.run(1.0,{})\n",
    "model.run(3.0,{'p_r_G01':0.5})\n",
    "model.run(4.0,{'q_r_G01':0.4})\n",
    "model.run(5.0,{})\n",
    "\n",
    "model.post();"
   ]
  },
  {
   "cell_type": "code",
   "execution_count": null,
   "metadata": {},
   "outputs": [],
   "source": []
  },
  {
   "cell_type": "markdown",
   "metadata": {},
   "source": [
    "### Feed foreward"
   ]
  },
  {
   "cell_type": "code",
   "execution_count": 15,
   "metadata": {},
   "outputs": [
    {
     "ename": "NameError",
     "evalue": "name 'Ddelta' is not defined",
     "output_type": "error",
     "traceback": [
      "\u001b[1;31m---------------------------------------------------------------------------\u001b[0m",
      "\u001b[1;31mNameError\u001b[0m                                 Traceback (most recent call last)",
      "\u001b[1;32m~\\AppData\\Local\\Temp/ipykernel_23216/552530444.py\u001b[0m in \u001b[0;36m<module>\u001b[1;34m\u001b[0m\n\u001b[0;32m     16\u001b[0m \u001b[0mDp\u001b[0m \u001b[1;33m=\u001b[0m \u001b[1;36m0.0\u001b[0m\u001b[1;33m\u001b[0m\u001b[1;33m\u001b[0m\u001b[0m\n\u001b[0;32m     17\u001b[0m \u001b[0mDdelta_1\u001b[0m \u001b[1;33m=\u001b[0m \u001b[0mDp\u001b[0m\u001b[1;33m*\u001b[0m\u001b[1;33m(\u001b[0m\u001b[0mX_v\u001b[0m \u001b[1;33m+\u001b[0m \u001b[0mX_s\u001b[0m\u001b[1;33m)\u001b[0m\u001b[1;33m/\u001b[0m\u001b[1;33m(\u001b[0m\u001b[0me_v\u001b[0m\u001b[1;33m*\u001b[0m\u001b[0mv_s\u001b[0m\u001b[1;33m)\u001b[0m\u001b[1;33m\u001b[0m\u001b[1;33m\u001b[0m\u001b[0m\n\u001b[1;32m---> 18\u001b[1;33m \u001b[0mprint\u001b[0m\u001b[1;33m(\u001b[0m\u001b[0mDdelta\u001b[0m\u001b[1;33m)\u001b[0m\u001b[1;33m\u001b[0m\u001b[1;33m\u001b[0m\u001b[0m\n\u001b[0m\u001b[0;32m     19\u001b[0m \u001b[1;31m#Ddelta = 0.037070509506286875\u001b[0m\u001b[1;33m\u001b[0m\u001b[1;33m\u001b[0m\u001b[0m\n\u001b[0;32m     20\u001b[0m \u001b[0mmodel\u001b[0m\u001b[1;33m.\u001b[0m\u001b[0mrun\u001b[0m\u001b[1;33m(\u001b[0m\u001b[1;36m1.0\u001b[0m\u001b[1;33m,\u001b[0m\u001b[1;33m{\u001b[0m\u001b[1;33m}\u001b[0m\u001b[1;33m)\u001b[0m\u001b[1;33m\u001b[0m\u001b[1;33m\u001b[0m\u001b[0m\n",
      "\u001b[1;31mNameError\u001b[0m: name 'Ddelta' is not defined"
     ]
    }
   ],
   "source": [
    "params.update({'Ddelta_ff_G01':0.0,\n",
    "               'p_l_G01':0.8,'v_ref_G01':1.002,\n",
    "               'p_r_G01':0.0,'q_r_G01':0.0})\n",
    "model.ini(params,'xy_0.json')\n",
    "\n",
    "# p = e_v*v_s/(X_v + X_s)*sin(delta - theta_s)\n",
    "# q = e_v*v_s/(X_v + X_s)*cos(delta - theta_s) - v_s**2/(X_v + X_s)\n",
    "#q = e_v*v_s/(X_v + X_s)*(1-delta**2) - v_s**2/(X_v + X_s)\n",
    "# delta = -np.sqrt((Dq + v_s**2/(X_v + X_s))/(e_v*v_s/(X_v + X_s))-1.0)\n",
    "# q \\approx e_v*v_s/(X_v + X_s) - v_s**2/(X_v + X_s) = v_s*(e_v-v_s)/(X_v + X_s)\n",
    "# De_v = Dq*(X_v + X_s)/v_s\n",
    "# Ddelta = -De_v \n",
    "e_v,R_v,X_v,X_s = model.get_mvalue(['e_vq_G01','R_v_G01','X_v_G01','X_s_G01'])\n",
    "v_s, theta_s = model.get_mvalue(['V_G01','theta_G01'])\n",
    "\n",
    "Dp = 0.0\n",
    "Ddelta_1 = Dp*(X_v + X_s)/(e_v*v_s) \n",
    "print(Ddelta)\n",
    "#Ddelta = 0.037070509506286875\n",
    "model.run(1.0,{})\n",
    "model.run(3.0,{'Ddelta_ff_G01':Ddelta_1, 'p_r_G01':Dp})\n",
    "\n",
    "e_v,R_v,X_v,X_s = model.get_mvalue(['e_vq_G01','R_v_G01','X_v_G01','X_s_G01'])\n",
    "v_s, theta_s,delta = model.get_mvalue(['V_G01','theta_G01','delta_G01'])\n",
    "Dq = 0.2\n",
    "\n",
    "# proposal 1\n",
    "X_pu = X_s + X_v + X_g*S_n_G01/S_base\n",
    "De_v_est = Dq*(X_v + X_s)/e_v\n",
    "Ddelta_q = -De_v*(X_v + X_s) \n",
    "\n",
    "# proposal 2\n",
    "De_v_est = Dq*X_pu/(v_s*(delta**2 - 1))\n",
    "De_v_est = Dq*X_pu/e_v\n",
    "Ddelta_q = ((e_v*delta/(e_v+De_v_est) - delta))\n",
    "\n",
    "#Ddelta_2 = -0.006460000000000021\n",
    "\n",
    "model.run(4.0,{'q_r_G01':Dq,'Ddelta_ff_G01':Ddelta_q})\n",
    "model.run(5.0,{})\n",
    "\n",
    "model.post();\n",
    "\n",
    "delta_exp = model.get_values('delta_G01')[-1]-model.get_values('delta_G01')[0]\n",
    "delta_exp"
   ]
  },
  {
   "cell_type": "code",
   "execution_count": null,
   "metadata": {},
   "outputs": [],
   "source": [
    "plt.close('all')\n",
    "fig, axes = plt.subplots(nrows=1,ncols=2, figsize=(8, 3), frameon=False, dpi=100, squeeze=False)\n",
    "\n",
    "axes[0,0].plot(model.Time, model.get_values('p_s_G01'), label=\"$p_{G01}$\")\n",
    "axes[0,0].plot(model.Time, model.get_values('q_s_G01'), label=\"$q_{G01}$\")\n",
    "\n",
    "axes[0,1].plot(model.Time, model.get_values('V_G01'), label=\"$V_{G01}$\")\n",
    "\n",
    "for ax in axes.flatten(): \n",
    "    ax.legend()"
   ]
  },
  {
   "cell_type": "code",
   "execution_count": null,
   "metadata": {},
   "outputs": [],
   "source": [
    "fig, axes = plt.subplots(nrows=2,ncols=2, figsize=(7, 5), frameon=False, dpi=100, squeeze=False)\n",
    "\n",
    "axes[0,0].plot(model.Time, model.get_values('omega_v_G01'), label=\"$\\omega_v$\")\n",
    "axes[0,1].plot(model.Time, model.get_values('delta_G01'), label=\"$\\delta$\")\n",
    "axes[1,0].plot(model.Time, model.get_values('theta_G01'), label=\"$\\\\theta_{s}$\")\n",
    "axes[1,1].plot(model.Time, model.get_values('e_vq_G01'), label=\"$e_v$\")\n",
    "\n",
    "for ax in axes.flatten(): \n",
    "    ax.legend()"
   ]
  },
  {
   "cell_type": "code",
   "execution_count": 16,
   "metadata": {},
   "outputs": [
    {
     "data": {
      "text/plain": [
       "-0.083001014838185"
      ]
     },
     "execution_count": 16,
     "metadata": {},
     "output_type": "execute_result"
    }
   ],
   "source": [
    "De_v =  model.get_values('e_vq_G01')[0]-model.get_values('e_vq_G01')[-1]\n",
    "De_v"
   ]
  },
  {
   "cell_type": "code",
   "execution_count": 17,
   "metadata": {},
   "outputs": [
    {
     "ename": "NameError",
     "evalue": "name 'Dq' is not defined",
     "output_type": "error",
     "traceback": [
      "\u001b[1;31m---------------------------------------------------------------------------\u001b[0m",
      "\u001b[1;31mNameError\u001b[0m                                 Traceback (most recent call last)",
      "\u001b[1;32m~\\AppData\\Local\\Temp/ipykernel_23216/1000765438.py\u001b[0m in \u001b[0;36m<module>\u001b[1;34m\u001b[0m\n\u001b[0;32m      1\u001b[0m \u001b[0mX_pu\u001b[0m \u001b[1;33m=\u001b[0m \u001b[0mX_s\u001b[0m \u001b[1;33m+\u001b[0m \u001b[0mX_v\u001b[0m \u001b[1;33m+\u001b[0m \u001b[1;36m0\u001b[0m\u001b[1;33m*\u001b[0m\u001b[0mX_g\u001b[0m\u001b[1;33m*\u001b[0m\u001b[0mS_n_G01\u001b[0m\u001b[1;33m/\u001b[0m\u001b[0mS_base\u001b[0m\u001b[1;33m\u001b[0m\u001b[1;33m\u001b[0m\u001b[0m\n\u001b[0;32m      2\u001b[0m \u001b[0mdelta\u001b[0m \u001b[1;33m=\u001b[0m \u001b[0mmodel\u001b[0m\u001b[1;33m.\u001b[0m\u001b[0mget_values\u001b[0m\u001b[1;33m(\u001b[0m\u001b[1;34m'delta_G01'\u001b[0m\u001b[1;33m)\u001b[0m\u001b[1;33m[\u001b[0m\u001b[1;36m0\u001b[0m\u001b[1;33m]\u001b[0m\u001b[1;33m\u001b[0m\u001b[1;33m\u001b[0m\u001b[0m\n\u001b[1;32m----> 3\u001b[1;33m \u001b[0mDe_v_est\u001b[0m \u001b[1;33m=\u001b[0m \u001b[0mDq\u001b[0m\u001b[1;33m*\u001b[0m\u001b[0mX_pu\u001b[0m\u001b[1;33m/\u001b[0m\u001b[1;33m(\u001b[0m\u001b[0mv_s\u001b[0m\u001b[1;33m*\u001b[0m\u001b[1;33m(\u001b[0m\u001b[0mdelta\u001b[0m\u001b[1;33m**\u001b[0m\u001b[1;36m2\u001b[0m \u001b[1;33m-\u001b[0m \u001b[1;36m1\u001b[0m\u001b[1;33m)\u001b[0m\u001b[1;33m)\u001b[0m\u001b[1;33m\u001b[0m\u001b[1;33m\u001b[0m\u001b[0m\n\u001b[0m\u001b[0;32m      4\u001b[0m \u001b[0mDe_v_est\u001b[0m\u001b[1;33m\u001b[0m\u001b[1;33m\u001b[0m\u001b[0m\n",
      "\u001b[1;31mNameError\u001b[0m: name 'Dq' is not defined"
     ]
    }
   ],
   "source": [
    "X_pu = X_s + X_v + 0*X_g*S_n_G01/S_base\n",
    "delta = model.get_values('delta_G01')[0]\n",
    "De_v_est = Dq*X_pu/(v_s*(delta**2 - 1))\n",
    "De_v_est"
   ]
  },
  {
   "cell_type": "markdown",
   "metadata": {},
   "source": [
    "p_1 = e*v/X*delta\n",
    "p_2 = (e+De)*v*(delta+Ddelta)\n",
    "p_1 = p_2\n",
    "e*v/X*delta = (e+De)*v/X*(delta+Ddelta)\n",
    "e*delta = (e+De)*(delta+Ddelta)\n",
    "Ddelta = e*delta/(e+De) - delta"
   ]
  },
  {
   "cell_type": "code",
   "execution_count": null,
   "metadata": {},
   "outputs": [],
   "source": []
  },
  {
   "cell_type": "code",
   "execution_count": 18,
   "metadata": {},
   "outputs": [
    {
     "data": {
      "text/plain": [
       "-0.09242319257354906"
      ]
     },
     "execution_count": 18,
     "metadata": {},
     "output_type": "execute_result"
    }
   ],
   "source": [
    "Ddelta =  model.get_values('delta_G01')[0]-model.get_values('delta_G01')[-1]\n",
    "Ddelta"
   ]
  },
  {
   "cell_type": "code",
   "execution_count": 19,
   "metadata": {},
   "outputs": [
    {
     "ename": "NameError",
     "evalue": "name 'De_v_est' is not defined",
     "output_type": "error",
     "traceback": [
      "\u001b[1;31m---------------------------------------------------------------------------\u001b[0m",
      "\u001b[1;31mNameError\u001b[0m                                 Traceback (most recent call last)",
      "\u001b[1;32m~\\AppData\\Local\\Temp/ipykernel_23216/3696340248.py\u001b[0m in \u001b[0;36m<module>\u001b[1;34m\u001b[0m\n\u001b[0;32m      1\u001b[0m \u001b[0mdelta\u001b[0m \u001b[1;33m=\u001b[0m  \u001b[0mmodel\u001b[0m\u001b[1;33m.\u001b[0m\u001b[0mget_values\u001b[0m\u001b[1;33m(\u001b[0m\u001b[1;34m'delta_G01'\u001b[0m\u001b[1;33m)\u001b[0m\u001b[1;33m[\u001b[0m\u001b[1;36m0\u001b[0m\u001b[1;33m]\u001b[0m\u001b[1;33m\u001b[0m\u001b[1;33m\u001b[0m\u001b[0m\n\u001b[1;32m----> 2\u001b[1;33m \u001b[0mDdelta_q\u001b[0m \u001b[1;33m=\u001b[0m \u001b[0me_v\u001b[0m\u001b[1;33m*\u001b[0m\u001b[0mdelta\u001b[0m\u001b[1;33m/\u001b[0m\u001b[1;33m(\u001b[0m\u001b[0me_v\u001b[0m\u001b[1;33m+\u001b[0m\u001b[0mDe_v_est\u001b[0m\u001b[1;33m)\u001b[0m \u001b[1;33m-\u001b[0m \u001b[0mdelta\u001b[0m\u001b[1;33m\u001b[0m\u001b[1;33m\u001b[0m\u001b[0m\n\u001b[0m\u001b[0;32m      3\u001b[0m \u001b[0mDdelta_q\u001b[0m\u001b[1;33m\u001b[0m\u001b[1;33m\u001b[0m\u001b[0m\n",
      "\u001b[1;31mNameError\u001b[0m: name 'De_v_est' is not defined"
     ]
    }
   ],
   "source": [
    "delta =  model.get_values('delta_G01')[0]\n",
    "Ddelta_q = e_v*delta/(e_v+De_v_est) - delta\n",
    "Ddelta_q"
   ]
  },
  {
   "cell_type": "code",
   "execution_count": 20,
   "metadata": {},
   "outputs": [
    {
     "data": {
      "text/plain": [
       "4.642388578279219"
      ]
     },
     "execution_count": 20,
     "metadata": {},
     "output_type": "execute_result"
    }
   ],
   "source": [
    "e_v"
   ]
  },
  {
   "cell_type": "code",
   "execution_count": 21,
   "metadata": {},
   "outputs": [
    {
     "data": {
      "text/plain": [
       "[-Dq*X_pu/(v_s*(delta**2 - 1))]"
      ]
     },
     "execution_count": 21,
     "metadata": {},
     "output_type": "execute_result"
    }
   ],
   "source": [
    "import sympy as sym\n",
    "e_v,v_s,X_pu,Dp,Dq,delta,De_v = sym.symbols('e_v,v_s,X_pu,Dp,Dq,delta,De_v', real= True)\n",
    "q = e_v*v_s/(X_pu)*(1-delta**2) - v_s**2/(X_pu)\n",
    "sym.solve(sym.diff(q,e_v)*De_v-Dq,De_v)\n"
   ]
  },
  {
   "cell_type": "code",
   "execution_count": 277,
   "metadata": {},
   "outputs": [],
   "source": [
    "import sympy as sym\n",
    "e,v,X_pu,p_ref,q_ref,delta = sym.symbols('e,v,X_pu,p_ref,q_ref,delta', real= True)\n",
    "eq_p = -p_ref + e*v/X_pu*sym.sin(delta)\n",
    "eq_q = -q_ref + e*v/X_pu*sym.cos(delta) - v**2/X_pu\n",
    "sol = sym.solve([eq_p,eq_q],[delta,e])\n",
    "\n"
   ]
  },
  {
   "cell_type": "code",
   "execution_count": 281,
   "metadata": {},
   "outputs": [
    {
     "data": {
      "text/plain": [
       "'(-X_pu*q_ref - v**2 + sqrt(4*X_pu**2*p_ref**2 + X_pu**2*q_ref**2 + 2*X_pu*q_ref*v**2 + v**4))/(2*X_pu*p_ref)'"
      ]
     },
     "execution_count": 281,
     "metadata": {},
     "output_type": "execute_result"
    }
   ],
   "source": [
    "import sympy as sym\n",
    "e,v,X_pu,p_ref,q_ref,delta = sym.symbols('e,v,X_pu,p_ref,q_ref,delta', real= True)\n",
    "eq_p = -p_ref + e*v/X_pu*delta\n",
    "eq_q = -q_ref + e*v/X_pu*(1 - delta**2) - v**2/X_pu\n",
    "sol = sym.solve([eq_p,eq_q],[delta,e])\n",
    "\n",
    "delta_est = sol[1][0]\n",
    "e_est = sol[1][1]\n",
    "\n",
    "str(sym.simplify(delta_est))"
   ]
  },
  {
   "cell_type": "code",
   "execution_count": 296,
   "metadata": {},
   "outputs": [
    {
     "name": "stdout",
     "output_type": "stream",
     "text": [
      "-X_pu*q_ref = -0.0\n",
      "- v**2 = -1.0\n",
      "sqrt(4*X_pu**2*p_ref**2 + X_pu**2*q_ref**2 + 2*X_pu*q_ref*v**2 + v**4) = 1.16619037896906\n",
      "4*X_pu**2*p_ref**2 = 0.36\n",
      "X_pu**2*q_ref**2 = 0.0\n",
      "2*X_pu*q_ref*v**2 = 0.0\n",
      "v**4 = 1.0\n"
     ]
    }
   ],
   "source": [
    "X_pu = 0.3\n",
    "p_ref = -1.0\n",
    "q_ref = 0.0\n",
    "v = 1.0\n",
    "\n",
    "print(f'-X_pu*q_ref = {-X_pu*q_ref}')\n",
    "print(f'- v**2 = {- v**2}')\n",
    "print(f'sqrt(4*X_pu**2*p_ref**2 + X_pu**2*q_ref**2 + 2*X_pu*q_ref*v**2 + v**4) = {np.sqrt(4*X_pu**2*p_ref**2 + X_pu**2*q_ref**2 + 2*X_pu*q_ref*v**2 + v**4)}')\n",
    "print(f'4*X_pu**2*p_ref**2 = {4*X_pu**2*p_ref**2}')\n",
    "print(f'X_pu**2*q_ref**2 = {X_pu**2*q_ref**2}')\n",
    "print(f'2*X_pu*q_ref*v**2 = {2*X_pu*q_ref*v**2}')\n",
    "print(f'v**4 = {v**4}')"
   ]
  },
  {
   "cell_type": "code",
   "execution_count": 290,
   "metadata": {},
   "outputs": [
    {
     "data": {
      "text/plain": [
       "0.09"
      ]
     },
     "execution_count": 290,
     "metadata": {},
     "output_type": "execute_result"
    }
   ],
   "source": [
    "X_pu**2"
   ]
  },
  {
   "cell_type": "code",
   "execution_count": 178,
   "metadata": {},
   "outputs": [],
   "source": [
    "e_v,R_v,X_v,X_s = model.get_mvalue(['e_vq_G01','R_v_G01','X_v_G01','X_s_G01'])\n",
    "v_s, theta_s = model.get_mvalue(['V_G01','theta_G01'])\n",
    "delta = 0.0\n",
    "Dq = 0.1\n",
    "De_v = v_s*(1 - delta**2)/(X_s + X_v)*Dq\n"
   ]
  },
  {
   "cell_type": "code",
   "execution_count": 179,
   "metadata": {},
   "outputs": [
    {
     "data": {
      "text/plain": [
       "0.9800764699558847"
      ]
     },
     "execution_count": 179,
     "metadata": {},
     "output_type": "execute_result"
    }
   ],
   "source": [
    "(-Dq*X_s - Dq*X_v + v_s)/v_s"
   ]
  },
  {
   "cell_type": "markdown",
   "metadata": {},
   "source": [
    "### Relations"
   ]
  },
  {
   "cell_type": "code",
   "execution_count": 180,
   "metadata": {},
   "outputs": [
    {
     "name": "stdout",
     "output_type": "stream",
     "text": [
      "m_f_G01 =  0.96\n",
      "delta_G01 =  0.21\n",
      "x_v_G01 = -0.00\n",
      "e_qm_G01 = -0.01\n",
      "xi_v_G01 = 121486.74\n",
      "delta_POI =  0.00\n",
      "Domega_POI = -0.00\n",
      "xi_freq =  0.00\n",
      "P_G01 =100000000.00\n",
      "Q_G01 = 0.00\n",
      "P_POI = 0.00\n",
      "Q_POI = 0.00\n",
      "v_dc_G01 = 1.20\n",
      "p_l_G01 = 0.00\n",
      "q_l_G01 = 0.00\n",
      "p_r_G01 = 1.00\n",
      "q_r_G01 = 0.50\n",
      "v_ref_G01 = 1.00\n",
      "Ddelta_ff_G01 = 0.07\n",
      "Domega_ff_G01 = 0.00\n",
      "alpha_POI = 0.00\n",
      "v_ref_POI = 1.00\n",
      "omega_ref_POI = 1.00\n",
      "delta_ref_POI = 0.00\n",
      "phi_POI = 0.00\n"
     ]
    }
   ],
   "source": [
    "\n",
    "params.update({'b_G01_POI':-5,\n",
    "               'p_l_G01':0.0,'q_l_G01':0.0,\n",
    "               'p_r_G01':0.0,'q_r_G01':0.0,\n",
    "               'v_ref_G01':1,'A_l_G01':0.0,'B_l_G01':0.0,'C_l_G01':0.0})\n",
    "model.ini({},'xy_0.json')\n",
    "model.ini({},1)\n",
    "model.report_x()\n",
    "model.report_u()"
   ]
  },
  {
   "cell_type": "code",
   "execution_count": 181,
   "metadata": {},
   "outputs": [],
   "source": [
    "params={}\n",
    "S_n_G01 = 10.0e6\n",
    "S_base  = 10.0e6\n",
    "X_g = 0.01\n",
    "\n",
    "p_ref = 1.0\n",
    "\n",
    "params.update({'p_l_G01':p_ref,'q_l_G01':0.0,'A_l_G01':0.0,'B_l_G01':0.0,'C_l_G01':0.0, \n",
    "               'b_G01_POI':-1/X_g, 'S_n_G01':S_n_G01, 'S_base':S_base})\n",
    "model.ini(params,'xy_0.json')\n",
    "\n",
    "\n",
    "v_refs = np.arange(0.99,1.01,0.001)\n",
    "p_ss = np.copy(v_refs)\n",
    "q_ss = np.copy(v_refs)\n",
    "v_ss = np.copy(v_refs)\n",
    "e_vs = np.copy(v_refs)\n",
    "deltas = np.copy(v_refs)\n",
    "theta_ss = np.copy(v_refs)\n",
    "\n",
    "for it,v_ref in enumerate(v_refs):\n",
    "    Ddelta = 0.0\n",
    "    params.update({'Ddelta_ff_G01':Ddelta, 'p_r_G01':p_ref, 'v_ref_G01':v_ref}) \n",
    "    model.ini(params,'xy_0.json')\n",
    "    \n",
    "    # observations   \n",
    "    e_v,R_v,X_v,X_s = model.get_mvalue(['e_vq_G01','R_v_G01','X_v_G01','X_s_G01'])\n",
    "    v_s, theta_s, delta, delta_ff = model.get_mvalue(['V_G01','theta_G01','delta_G01','delta_ff_G01'])\n",
    "    p_s, q_s = model.get_mvalue(['p_s_G01','q_s_G01'])\n",
    "    p_ss[it] = p_s\n",
    "    q_ss[it] = q_s\n",
    "    e_vs[it] = e_v\n",
    "    v_ss[it] = v_s\n",
    "    deltas[it] = delta\n",
    "    theta_ss[it] = theta_s\n",
    "\n"
   ]
  },
  {
   "cell_type": "markdown",
   "metadata": {},
   "source": [
    "### e_v estimation"
   ]
  },
  {
   "cell_type": "code",
   "execution_count": 182,
   "metadata": {},
   "outputs": [
    {
     "data": {
      "text/plain": [
       "[<matplotlib.lines.Line2D at 0x224ac8b5190>]"
      ]
     },
     "execution_count": 182,
     "metadata": {},
     "output_type": "execute_result"
    },
    {
     "data": {
      "application/vnd.jupyter.widget-view+json": {
       "model_id": "573e9667365d48d6a3bb0805545dbe8c",
       "version_major": 2,
       "version_minor": 0
      },
      "image/png": "[encoded data removed]",
      "text/html": [
       "\n",
       "            <div style=\"display: inline-block;\">\n",
       "                <div class=\"jupyter-widgets widget-label\" style=\"text-align: center;\">\n",
       "                    Figure\n",
       "                </div>\n",
       "                <img src='data:image/png;base64,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' width=330.0/>\n",
       "            </div>\n",
       "        "
      ],
      "text/plain": [
       "Canvas(toolbar=Toolbar(toolitems=[('Home', 'Reset original view', 'home', 'home'), ('Back', 'Back to previous …"
      ]
     },
     "metadata": {},
     "output_type": "display_data"
    }
   ],
   "source": [
    "fig, axes = plt.subplots()\n",
    "\n",
    "axes.plot(q_ss,e_vs)\n",
    "\n",
    "# e_v estimation\n",
    "# q_s = e_v*v_s/X_pu*cos(deltas - theta_s) - v_s**2/X_pu\n",
    "X_pu = X_v + X_s # + X_g*S_n_G01/S_base \n",
    "\n",
    "#e_vs_est = v_ss*(1 - deltas**2)*X_pu*q_ss + v_ss\n",
    "e_vs_est = (q_ss + v_ss**2/X_pu)/(v_ss/X_pu*np.cos(deltas - theta_ss)) # full estimation v_s side\n",
    "#e_vs_est = X_pu*q_ss + v_ss \n",
    "\n",
    "axes.plot(q_ss,e_vs_est)"
   ]
  },
  {
   "cell_type": "markdown",
   "metadata": {},
   "source": [
    "### $\\delta$ estimation"
   ]
  },
  {
   "cell_type": "code",
   "execution_count": 183,
   "metadata": {},
   "outputs": [
    {
     "data": {
      "text/plain": [
       "<matplotlib.legend.Legend at 0x224ac8d66d0>"
      ]
     },
     "execution_count": 183,
     "metadata": {},
     "output_type": "execute_result"
    },
    {
     "data": {
      "application/vnd.jupyter.widget-view+json": {
       "model_id": "392d283eca8a4e79b7b161f0866dffa2",
       "version_major": 2,
       "version_minor": 0
      },
      "image/png": "[encoded data removed]",
      "text/html": [
       "\n",
       "            <div style=\"display: inline-block;\">\n",
       "                <div class=\"jupyter-widgets widget-label\" style=\"text-align: center;\">\n",
       "                    Figure\n",
       "                </div>\n",
       "                <img src='data:image/png;base64,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' width=330.0/>\n",
       "            </div>\n",
       "        "
      ],
      "text/plain": [
       "Canvas(toolbar=Toolbar(toolitems=[('Home', 'Reset original view', 'home', 'home'), ('Back', 'Back to previous …"
      ]
     },
     "metadata": {},
     "output_type": "display_data"
    }
   ],
   "source": [
    "fig, axes = plt.subplots()\n",
    "\n",
    "deltas # part of delta is due to p and another is because of q\n",
    "delta_p = p_ss*X_pu/(e_vs*v_ss)   # part of delta is due to p \n",
    "delta_q = deltas - delta_p\n",
    "axes.plot(q_ss,deltas, label='$\\delta$') \n",
    "axes.plot(q_ss,delta_p, label='$\\delta_p$')  \n",
    "axes.plot(q_ss,delta_q, label='$\\delta_q$')  \n",
    "\n",
    "# delta_q estimation\n",
    "#X_pu = X_v + X_s + 0*X_g*S_n_G01/S_base \n",
    "De_v_est = e_vs_est - 1.0\n",
    "delta_q_est = (1*(deltas-theta_ss)/(1+De_v_est)) - (deltas-theta_ss)  # here the part of delta because of q should be obtained\n",
    "\n",
    "#Çaxes.plot(q_ss,delta_q_est, label='$\\hat \\delta_q$')\n",
    "#axes.plot(q_ss,deltas_est, label='$\\hat \\delta$')\n",
    "axes.legend()\n"
   ]
  },
  {
   "cell_type": "code",
   "execution_count": 184,
   "metadata": {},
   "outputs": [
    {
     "data": {
      "text/plain": [
       "array([0.02114992, 0.0400172 , 0.05895355, 0.07795535, 0.09701926,\n",
       "       0.11614214, 0.13532105, 0.15455324, 0.17383614, 0.19316732,\n",
       "       0.21254453, 0.23196563, 0.2514286 , 0.27093157, 0.29047277,\n",
       "       0.31005051, 0.32966321, 0.34930939, 0.36898765, 0.38869664,\n",
       "       0.40843511])"
      ]
     },
     "execution_count": 184,
     "metadata": {},
     "output_type": "execute_result"
    }
   ],
   "source": [
    "De_v_est"
   ]
  },
  {
   "cell_type": "code",
   "execution_count": 185,
   "metadata": {},
   "outputs": [
    {
     "name": "stdout",
     "output_type": "stream",
     "text": [
      "-0.09090909090909094\n"
     ]
    },
    {
     "data": {
      "text/plain": [
       "1.0"
      ]
     },
     "execution_count": 185,
     "metadata": {},
     "output_type": "execute_result"
    }
   ],
   "source": [
    "delta = 1.0\n",
    "e = 1.0\n",
    "De = 0.1\n",
    "\n",
    "# delta*e = (delta+Ddelta)*(e+De)\n",
    "# Ddelta = delta*e/(e+De) - delta\n",
    "\n",
    "Ddelta = (e*delta/(e+De)) - delta \n",
    "print(Ddelta)\n",
    "(delta+Ddelta)*(e+De)"
   ]
  },
  {
   "cell_type": "markdown",
   "metadata": {},
   "source": [
    "#### Time domain test"
   ]
  },
  {
   "cell_type": "code",
   "execution_count": 220,
   "metadata": {},
   "outputs": [
    {
     "data": {
      "text/plain": [
       "1.04060401"
      ]
     },
     "execution_count": 220,
     "metadata": {},
     "output_type": "execute_result"
    }
   ],
   "source": [
    "1.01**4"
   ]
  },
  {
   "cell_type": "code",
   "execution_count": 232,
   "metadata": {},
   "outputs": [],
   "source": []
  },
  {
   "cell_type": "code",
   "execution_count": 233,
   "metadata": {},
   "outputs": [
    {
     "data": {
      "application/vnd.jupyter.widget-view+json": {
       "model_id": "6344c95c510b446189b67fc986d113c8",
       "version_major": 2,
       "version_minor": 0
      },
      "image/png": "[encoded data removed]",
      "text/html": [
       "\n",
       "            <div style=\"display: inline-block;\">\n",
       "                <div class=\"jupyter-widgets widget-label\" style=\"text-align: center;\">\n",
       "                    Figure\n",
       "                </div>\n",
       "                <img src='data:image/png;base64,iVBORw0KGgoAAAANSUhEUgAAAyAAAAEsCAYAAAA7Ldc6AAAAOXRFWHRTb2Z0d2FyZQBNYXRwbG90bGliIHZlcnNpb24zLjUuMiwgaHR0cHM6Ly9tYXRwbG90bGliLm9yZy8qNh9FAAAACXBIWXMAAA9hAAAPYQGoP6dpAABIL0lEQVR4nO3de3ycdZ33/9dnTknTJC1tKT1AsZxBULHSorBQwEYo6xlYwVW5V1FW170VUUEFdsVbDnorrnsDN6zr/hZE0RW8hS3QQCmFLkeBgrJUDlbaBuiJNmnTJJOZz++POXQ6JM3MJHPNzJX38/FIk/le11zz/WTS65rP9T2ZuyMiIiIiIhKESK0rICIiIiIi44cSEBERERERCYwSEBERERERCYwSEBERERERCYwSEBERERERCYwSEBERERERCYwSEBERERERCYwSEBERERERCYwSEBERERERCYwSEBERERERCYwSEBERERERCYwSEBERERERCYwSEBERERERCYwSEBERERERCYwSEBERERERCYwSEBERERERCYwSEBERERERCYwSEBERERERCYwSEBERERERCYwSEBERERERCYwSEBERERERCYwSEBERERERCYwSEBERERERCYwSEBERERERCYwSEBERERERCYwSEBERERERCYwSEBERERERCYwSEBERERERCYwSEBERERERCYwSEBERERERCYwSEBERERERCYwSEBERERERCYwSEBERERERCYwSEBERERERCUys1hWQXczMgFlAT63rIiKh1gZ0ubvXuiJjTedREQlIaM+jQVACUl9mAetqXQkRGRf2BdbXuhJVoPOoiAQlrOfRqlMCUl96ANauXUt7e3tJT0gmkyxdupSOjg7i8XhVK1dtiqV+hSmeMMUC5cfT3d3NfvvtB+FtIdB5NCSxQLjiUSz1S+fR4CkBqUPt7e1lXThbWlpob29v+JOAYqlfYYonTLFA+OIZKzqPNn4sEK54FEv9Cls8jUCD0EVEREREJDBKQEREREREJDBKQEREREREJDAaAyIiIhUxs9OAfwTOcvc1w+zzAeAUoAn4D3e/d7TbRCR4qVSKZDIJZMZMxGIx+vr6SKVSNa7Z6BXHE4/HiUajta5WqCkBERGRspnZdDLXkGP2sM9hwLeABYABT5jZ+919faXbqhuViBRzd1577TW2bt26W9mMGTNYu3YtmaV3GttQ8UyePJkZM2aEIr56pARERETK5u4bzOw/R9jtS8Dd2YW63MweBv6WTHJR6TYRCVAu+Zg+fTotLS2YGel0mu3bt9Pa2kok0vi9+QvjMTN6e3vZsGEDADNnzqxx7cJJCYhIgFLbt7PtvntpmrM/E48+utbVERkVd0+PcHfwZOCqgscvAB8d5bYxlR4YYMvPbmL6y39iy5ZNRCLV63ZhsSjtJ7+XhD7QSINIpVL55GPq1Kn58nQ6zcDAAM3NzaFJQArjmTBhAgAbNmxg+vTp6o5VBUpARALi6TTrLv9H+l98AYCZF1xI23HH17hWIlU1G9hS8LiHzErlo9m2GzNrIjNOJKcNMn26c/3V9yTd18e2O+9gKrDtud+PuP9o9b/2GtP//ktVO35hH/0wCFM8jRhLf38/7k5zczPpdDpfnmmczHwvLG9UQ8XT3NyMu7Nz506ampp227+R3sN6pQREJCA7fvdEPvkA2PDTnzBx/gIiWvRIwsuBvoLHCSA5ym3FLgYuKy5cunQpLS0tI1bQUoPsfcSRI+43Wk1b36C1az2v/3kNTyxZUvXX6+zsrPprBClM8TRSLLFYjBkzZrBjx44hP3T39IRrIfDCeAYGBti5cycPPPAAg4ODu+3X29sbdNVCRwmISEB6Hv4vACadupjtjz1CassWtj/8X7SfcGKNayZSNV3ApILHbdmy0WwrdgXwg6J913V0dJS+Evqpp9HZ2cmiRYuqtgpyz4oH2HTtP7P3tGkctXhxVV4DMndmqx1LkMIUTyPG0tfXx9q1a2ltbaW5uTlf7u709PTQ1tYWikHaQ8XT19fHhAkTOOGEE3aLHaC7u7sW1QwVJSAiAXB3ep96EoC29xxHbPIkNv/i52y9+y4lIBJm9wGHFDw+CLh/lNt24+79QH/uce7DQzweL/tDXiXPKVUse1zLvk61VTOWWghTPI0USyqVwsyIRCK7jfXIdVPKbWt0Q8UTiUQwsyHfr0Z5/+pZ4//ViDSA5OuvkeruxmIxJhxyCJPeuwgiEfpWP0//K6/UunoiFbFdtz6toOxCMzs0+/B64L3Z8hgwH7hxlNsaU+5Xlfba1kOkwWzatIm///u/x8w488wzWblyZX7bCy+8wLx583j3u9/N7bffXsNaSrmUgIgEoO/FFwFIvGUuFo8T22sKE9+VWT5h233D9wdO9fSw46kn2bFqFemdOwOpq0gpzKwVOD/78FNmNi3789nAUQDuvgr4qZl9n0w3qS+7+2uj2daoLHtXNTfYVURKM23aNP7pn/6J9vZ2Pv3pT3Pcccflt82dO5f3v//9PPjgg3z4wx+uYS2lXOqCJRKA3ODz5oMOypdNeu8idjz2KN3LlzPt458gkkjs9pytdy1h47//Gz4wAIAlErQuOJZJJ5/ChCOPyn+gAfBUisFNm0hu2kiquxvMsGgUSzQRaW4i0tSM5b5Ho5kPQe7gaXBwT2fuzGbLiz8kDQ4OEu/pIfn663istNOGmWXvi1uuIPNjwU3zXftkH0ejREvsty+15e7bgeuyX4Xl84oe/3QPx6hoW0PK/d17488YJFILBxxwAC+99NJuZTfccAPnn38+sRKvS1I/9I6JBKBvzZ8AaD7gwHzZxHccTWzaNAY3bWL7o4/Q/hcn5Ldt/vWv2HzLzwCIz5iJp1MMbthAz4Mr6HlwBbGpU2l6y1wwI7lhA8mu9XjRLB1j7SBg3e3/UdXXAGg77i+Y8eULQjGwUSQv3wVLCYg0Nncn3deH9/eT7uuDCsaAWFNT2ef4Aw88kBezvQkAnnrqKWbOnMmMGTPKfn2pPSUgIgEYWL8egMR+c/JlFo3SfvIpbPnlrWz9zzsza4KYsfmWm9ly268BmHLWXzH1rI8B0P/Si2y77z56HlrB4ObNDG7evNtrWCJBbNo0ou2TMq0YqVTmAtGfvVD09+P9/ZlWjpxIJNsykWuNsGEvJoODg6XfZcq1sBQ+zn73osfFz+lZ+SB7ffjDNM89oLTXEmkEuS5YGgMiDc77+3n5E+cAsLHCYxz0s19gRTNLjeTAAw/kv//7v4HM+iR33HEHl1566R6fk0qltIhgnVICIlJlqd5eUlsya6olZu++ltrkRe/jjd/+P/pe+CObb/0Fg29sofu+ewGY9slzmfLBD+X3bT7oYJoPOpi9z/0f9K1+noHXMl3iY1Om0LTfHGJ7771bt6yhuHvmDmx2do9SJZNJlixZwuLFi6s6+0fX1Vey/dFH2P7II0pAJFTy/980BkSkIgceeCB33nknAD/+8Y/5/Oc/v9v2lStX8uSTTzJr1izcnWeffZaOjg7uvvtuFi5cyMqVK7n00kvZsWMHy5cv55prrmmoNVnCRgmISJUluzKtH9HJexGd2LrbttiUKUw7+xw2/vRf2fIfv8wUmjH9M59l8qmnDXm8SFMTLW97Oy1ve3vZdTEzqOO7QS1Hv5Ptjz5C3+rna10VkbGVuzmgMSDS4KypiQNuuiW/bkYl0/Ba0cripTjwwAN5+eWXWbFiBYceeijTpk3Lb7v66qtJJBJ86Utfypc99NBDPP300xx++OGccsopLF++nBUrVnDCCSdw+umn873vfa/sOsjY0SxYIlWW735V1PqRM/n09zPtU+cS32cfmg48iNmXXDZs8hF2uUH6fS+9iKuvvIRJtgVEXbCk0ZkZkeZmrKmJSHNzRV+VjPE78MAD6evr48477+T9739/vvyZZ57hjjvu2C35ALjkkktYvXo1c+Zkuj7PmTOHVatWjSp2GTtqARGpsl0JyL5DbjczpnzgQ0z5wIcCrFV9atpvDhaLke7tJblhAwkNLpSQMLWAiIzKfvvtxyGHHMI3vvGN3crvueceFi9enH/80EMPcdtttzF37lzS6XR+7GIqldJsWXVELSAiVTawfh0Aidmza1yT+mexGPFZmZaiXNc1kVDQGBCRUYlGo6xevZrJkyfvVj537lx2FqyTdfzxx7Ns2TI+8YlPcNRRR9HV1QXASy+9xKGHHorUByUgIlU2UguI7C73e8r93kRCwTQLlkg1nHHGGUyePJkf/vCH3HbbbfzmN7/hU5/6FJMnT+bjH/84Tz31FPfffz/uzsKFC+nv7+eWW25hzZo1/PznP6e/v7/WIYxLaosSqSJPpUi+mrn7kpilFpBS5FqKBtatrXFNRMaORbQOiEi1XHDBBUOWt7a2cvnllwNw0kknAdDU1MQ555zDOeeck98vrf+XgVMLiEgVDW7YgA8OZtbo2HvvWlenIST2VQuIhJBWQhcRyVMCIlJFuXEMidmzR1yjQzLUBUtCSQsRiojk6RORSBUN5BKQWRr/UarEzMwg9FT3NlI93TWujcjY2DULlhIQERElICJVlMwNQN9XCUipIhMmEMsuMDWwvqvGtREZI+qCJSKSpwRESjL4xhY8lap1NRpOPgHRFLxlyQ9Ez05hLNLwsrNgoS5YIiJKQGRk/evW8vJn/oZXvv5VXN0HSue+awyIWkDKkpi9H6AERMIjNwuWqwVEGtB4nCVqPMYcJE3DWyIzmwhcDbwBtAJfd/c3TR5tZt8gk9ilgRbgEm/wT+25wcD9f3qZnc/9gZa3HlnjGjWG+I7tpHfsgFiMeHZcg5Rm11S8wycgvc/9gW33dhJtbWWvD3yQ+DTNMiZ1TAsRSgNKJBJEIhG6urrYe++9SSQSmBnpdJqBgQH6+vqIhGCClcJ4zIyBgQE2btxIJBIhkUjUunqhpASkdNcBt7v77Wb2SeAKYLeJp83sL4G57n5e9vG/AmcBtwZd2bFkuQsnsO3ezoZPQLpXPMAb/3kn0//Hp5lw2GFVe53mTZsAaNr/LUR0AivLSDNh7Xj6Kdb/r8vzayp0P/AAsy/+BhMOOzywOoqUJb8Qoe6qSuOIRCLMnTuXV199Nb+iOIC7s3PnTiZMmLDbZ4RGNVQ8LS0tzJkzJxQJVj1SAlICM5sFnAl8Nlt0F3C9mV3m7j0Fux4OtBU83glMCqaWVVRwx277Iw+T+vR5RFtbd9tl8I032PKb2+l78QUiEyYw4dBDaT1mAYn996+7k9OWX/8HA+vWsvabF7Hvt78zbEKV2rGD5OuvAUZ82jSi7e1lvc7E114FoPngg0db5XEnsW+mBSS54XXSySSReDy/Ld3Xx+vXXQvpNC1Hv5NU9zb6X3qJdd/+B2Zf9A1a3vb2IY+ZHhggueF1BgcHiWjlWwlYfhYsjQGRBpNIJJgzZw6Dg4OksmNBk8kkK1as4IQTTiBecH5uVMXxRKNRYrFY3X1+CRMlIKVZCGxy9z4Ad99oZgPAfOC+gv1+C/yjmZ2RLZ8G3BRwXavKBwboeXAFk09bnC8bWLeOdd/5RwY3bsyX9T71JJt/8XPi++xD6/wFJPZ/C97fT3LjBgY3biS5aROprW9k7gaaYbE4Fo/xlh29vPr4o0QSCSx3UnMH913jT9JpwKGS67j7bitsr//Ot5l10TeZ+PbMh9Z0Xx89Dz3I1qX30P/Si7s9NdLaRmLmDOIzZhJtb8ciETyVxpMDeDKJJ5Okc9/7+9nrj6sBaD1mfgUVHd+ik/ci0tJCureX5Kuv0jRnTn5b94oHGNy0kdi0vZl14dfAjK6rrqB31dOs/+53mHnh12h91zEApJNJdjz2KNvu66T32WfzLSaHAq/cs4TE7NnEpu1NbNJkADydwgcGSPf34/39me8DA/hgEiySuRhFLPNzJJLpVhPJlo/VhWpPxxlim6fT2KFq+al7Ec2CJY3LzIjH4/lkIxqNMjg4SHNzcygSkLDF0wiUgJRmNrClqKwH2K1jv7uvNrNzgFuAB4CPuvvO4Q5qZk1AU0FRG2Qy8WQyWVLFcvuVun8lBotmv3pjyX/SctLJWDRK3+rVvP69K0lv305sxgz2OuMs0r297Fz1NDufWUXy9dd5447flvxaE4C+TRtH3G+0Im1tJPZ/C32/f5b1372cthMX4gMD7HjicXznrrcsOinTgJXato309h76Xuih74UXSn6d2KxZxA87vKrvTxCC+DsrFp85i/6XXmTnn9cQmTkzX7618x4A2k87jVQ0CsD0C7/Ghh/9kN4nHqfrqitoPeFEAHoffywzDifLJkyASATfsYPU1q3s3Lo1sHiqyQ45rOxzhgTMtA6IiEiOEpDSONBXVJYAhrqSNwMfAK4Ffm5mH3X3wWGOezFwWXHh0qVLaWlpKauCnZ2dZe1fjrZX/sy+QP+kyUT7dkLXeh77/tUkJ7Yy8+GVRFIpdk7bm7UnnESqO9sj7a1HYYccRmvXelrXrSW2cyceiZBsbc18tUxksKUFj0TAHUuniaRSWMFXJHu32mHXnV+z3R9XqHf6PqQmTGBW9zbaX3mFnvvuzW8baGvjjUMOZdsBB5GaMCHzsskkiZ4eEj3dJHq6iQwMYO54JIJHoqSjUTwaxaMRPBolHYnisRg7Zszk2XvuGVVd60k1/86KzTRjMvDcffeyccsbADRv3sTcl18mHYnwSH+S1JIlu55w2BHM2ryZSX96me3L788XJ1ta2HbgwWw98CCSbW1gRiSZJLFtK4nubuK9O4j29WX+tszwWCz7fsZIxzJfHolgkG+Ns+x33DE8kG41e/qLT0ciJb83vb29Y1MhKUuuK4dWQhcRUQJSqi7ePJajNVueZ2YLgXe5+4XZnx8hM1D96mGOewXwg4LHbcC6jo4O2kscb5BMJuns7GTRokVVazbc8dijbFi+jPZ99qH1hBPZ/C83MP2pJ/PbJ7xzHvv/zy9zRFPTHo4ysiBiKeann87Op56k7/n/xuJxmo96G82HHT7qfp+1iKWaahFPdyLO5hdfYF/gmMWZLn+b/uUGeoC2Y9/N+z7ykTc9x08/nb5nn2HnH/4AEWPCEW+l+a1vxSLRN8XyF2efMy7fm+5urS5fE+qCJSKSpwSkNMuBG8ws4e4D2UHpAI8V7XcG8CyAu3eZ2bfIzII1ZAKSncY3Pxo296G3sJ9lqSp5TqmiscyfiZkx5dTT8G3beOM3t0Ekwl7v/yBTz/orLBod4Silq2YsQ0kc+24mHfvuqhw76FiqLch4Jh56GJuBgZdfIhaN4v397Fj5EAB7dbxv2Hok5r2L9nnvGvH44/W9CVPMDSU3C9bgID2PPsKOJx6n/5VXIJUittdeJGbPJj5zFvHp+xBta820yKVS+fFlxV+ZY2bGHu0aj2SkBlO0v/wS2x96kGjxebm4+9cou4M1HXQQTfvuN6pjiMj4pASkBNlk4m7gRKAT6ACudfc+M7sQuMPdVwNPA4WffJw3JymNp+AiZWZM+9jZTP3oGdnB4/oTkupomjMHSyRI79jBwLp17Fz9POmdO4nPmMGEBp8KWsahXBes/n5evfrK3Tb1/wl2PPm7MXup2cDGh1aM2fGGE2lp4cCf/ruuAyJSNp01Snc+cKWZLQCmABdly88G1gCrgX8F5pjZRcAmYD/gu8FXtUoKuiWZ7qJKlVksxoS3HknvU0+y44nH6Vn5IACT3nfqrilNpSZKWZjVzBLZfbaTmbDjFne/dzTbGlkkO54MINreTvvCk2g+9DAsHmdw82YG1q0l+frrJF9/nfTOneBpLBrD4pkZAi2e2PVzLA6RSGZWt9wMgek0pNOkcTZt2sy0aVOJWGSIwUNFBZV0N02n6X1mFeneXjyZVAIiImXTWaNE7r4J+MwQ5fMKfk4DlwZZL5Ewa52/gN6nnmTTzzKzWVsiwaSTTqlxrYQSFmYlcy581d2vMrMWYJWZnejuXaPY1rBikyYx62sX4YODTDxmftUWJ00mkzy1ZAlHLV5cte526f5+Xjznr6pybBEZH3QbUUamaSOlRtpPXEh0r73yj6d85KNE29r28AyptoKFWe/KFt0FnG9mxW/MucDvAdy9F3gY+MIotzW01gXH0nbc8VVLPkREGoUSECmZFgSVoEWamtj3W5fSuuBYpv7V2Uz5yBm1rpIMsTArkFuYtVAbmeEIOWuBI0e5TUREQkBdsESkrjW9ZS6zvnbRyDtKUEpamBVYSqZl5CYgBRzFrgEIlW57k0ZZ0DUoQcSSHty1tFVyYIBIFceA6L2pT2GKBcqPJyxx15ISEBERKUepC7N+DrgK+CWZqcyPBm4d5bahNMSCrkGrZiyWGuSw7M9Lly4lHUCXMr039SlMsUDp8WhB19FTAiJlUB8sESltYVZ33wKcB2BmRwDfB24ZzbZhNMSCrkEJIpb0wAB/zk4M0dHRQaTMRK8cem/qU5hiAS3oWgtKQEREpBzLKW1h1kKXATe7+5NjuA1onAVdg1bNWArXco/FYkQD+J3pvalPYYoFtKBrkDQIXUaWmwVLo9BFxr3sdLi5hVmhaGFWMzu0cH8zOxeYBny++FiVbhMRkcamFhARESnXiAuzmtnJwDwyfTdPdff8GJFKt0l90K0oERktJSAiIlKWEhdmXQYsG+b5FW2TeqR1okSkfOqCJSPLd8GqbTVEREREpPEpAREREZHSFY4HVAOIiFRACYiIiIiIiARGCYiUQX2wRERERGR0lICIiIhI6XbrgqU+WCJSPiUgMiLXBUZERERExogSECmdFiIUERERkVFSAiIiIiIVUgu5iJRPCYiMTF2wRERERGSMKAGR0qkHloiIaB0QERklJSAiIiIiIhIYJSBSAt3iEhEREZGxoQRESmbqgyUiIgVdsDRNu4hUQgmIiIiIiIgERgmIjEw3uEREJMu0JpSIjJISECmdLjoiIrIb3aESkfIpARERERERkcAoAZGR5QYZqgFEREQKqQFERCqgBERERERERAKjBERERERERAKjBERGlp/nXX2wRESEXZOSaB0QEamAEhAREREREQmMEhAREREpj6ZlF5FRUAIipdMFR0REdqMuWCJSPiUgIiIiIiISmFitKyAiIo3FzCYCVwNvAK3A1929v2ifRHaf7cAs4BZ3v3ekbdnt3yBzgywNtACXuGu0c13SuyIiFVACUqJSLrgF+7YAnwM2A39090cCq2gV5K/76oIlIhnXAbe7++1m9kngCuCCon0uBV5196uy58RVZnaiu3ftaZuZ/SUw193PAzCzfwXOAm4NKjgREakudcEq3XXAve7+LeBJMhfcNzGzKcCvgN+4+783evIhIlLIzGYBZwJ3ZYvuAs43s7aiXc8Ffg/g7r3Aw8AXSth2OFB4rJ3ApLGMQUREakstICUouOB+Nlt0F3C9mV3m7j1Fu/8C+K67/ynIOlaVej6IyC4LgU3u3gfg7hvNbACYD9xXsF8bMLvg8VrgyBK2/Rb4RzM7I3u8acBNw1XGzJqApqLXJZlMkkwmSwoot1+p+9ezwGLJtognkwN4FV9L7019ClMsUH48YYm7lpSAlGYhJVxws10HDgbmm9nXgFXApe6uv1QRCYvZwJaish4yYzkKLSXTMnITkAKOYtdqpsNuc/fVZnYOcAvwAPBRd9+5h/pcDFxWXLh06VJaWlrKiYvOzs6y9q9n1Y7lsHQaA5YtW8Zgy8SqvhbovalXYYoFSo+nt7e3yjUJPyUgpSn1gvtx4FHgGuAnwFNkLqoXDXXQRrlzl0qlgMxYkGq+TpjuqIQpFghXPGGKBWpy586BvqKyBFB84M8BVwG/BJYDR7NrHMeetgE0Ax8ArgV+bmYfdffBYepzBfCDgsdtwLqOjg7a29tLCiiZTNLZ2cmiRYuIx+MlPadeBRXLn37275BKcfLJJxObMrVqr6P3pj6FKRYoP57u7u4AahVuSkBKU+oF963ADe4+AGw2sxuBv2WYBIQGuXM36cUXmAVs3LiBJ5csqdrr5ITpjkqYYoFwxROmWCDQO3ddvHlMRmu2PM/dtwC5geRHAN8n06qxx21mthB4l7tfmP35ETID3K8eqjLZyUDyE4JYtmtQPB4v+4NRJc+pV1WPJft7jsVigfzO9N7UpzDFAqXHE6aYa0UJSGlKuuCS+X1GCx4/A0zZw3Eb4s5dz/L72fRfD7H39OkctXhxVV4DwnVHJUyxQLjiCVMsUJM7d8uBG8ws4e4D2TFyAI/t4TmXATe7+5MlbDsDeBYgOyvWt8jMgjVkAiIiIo1HCUhpllPaBfcZMmNAcgaB54c7aKPcuYtGMzlVxCK601WmMMUC4YonTLFAcHfusknB3cCJQCfQAVzr7n1mdiFwh7uvzu1vZueSGUj+oeJjDbPtaeBdhS/JnpMbqQEjuwSIJikRkQooASlBGRfcHwG3mNlXssnFe4Af16ziY0UXGBHZ3fnAlWa2gEwrb66b6dnAGmC1mZ0MzCPzWfXUwsk49rQN+FdgjpldBGwC9gO+W91wREQkSEpASjfiBdfdHzazS4Afm9lqoM/df1KT2laDFiIUEcDdNwGfGaJ8XsHPy4Blwzx/T9vSZBYqFBGRkFICUqJSLrjZxzcDNwdVLxERkcDlbkipgVxEKqAEREamLlgSAqlUKj/FdSwWo6+vLz/FdCMrjicej+fHbYmIiNQjJSAiEmruzmuvvcbWrVvzj2fMmMHatWvzEz80sqHimTx5MjNmzAhFfFKn9LclIqOgBEREQi2XfEyfPp2Wlhbcne3bt9Pa2kokEql19UYtnU7n4zEzent72bBhAwAzZ86sce0k9NRCLiIVUAIipdMdL2kwqVQqn3xMnZpZrTmdTjMwMEBzc3NoEpDCeCZMmADAhg0bmD59urpjiYhI3Wn8q6+IyDCSyczsri0tLTWuSbBy8ebiF6ketYCISPmUgIhI6I23sRDjLV4REWksSkBkRJ7r46sPNSIiIiIySkpAREREpDxaB0RERkEJiIiIiIiIBEYJiIxM0yyKiIiIyBhRAiIiIiLlyXbBct2gEpEKaB0QERk33J10Xx/e30+6rw8qWAfEmpo0y5SIiMgoKAGR0ulDlzQ47+/n5U+cA8DGCo9x0M9+gTU3l7Tvzp07ufbaa1m5ciWf/vSn2bx5M0899RQf/OAHWbhwYYU1EKknagERkfKpC5aISJX85je/4bzzzmPDhg309vbyyU9+kvPOO48vf/nLe3xeKpUKqIYiIiLBUwuIjEx9fCUkrKmJA266hZ6eHtra2ohU2AWrVKeddhrNzc288MILfPjDHwZg7dq1bNiwIb/PypUrefLJJ5k1axbuzrPPPktHRwdHH300V1xxBQsXLmTlypV85StfYfny5VxzzTV0dnaWXW8REZF6oQSkga3pXsP1z1xPT6KHhx99uGr90lP0YB9qYWasiyn//e9D7jMWAxHT6TR/jv2ZLau3VPTBsFRmxoIZCzh0r0Or9hpSn8yMSHMzNjBApLm5qn9nAJMnT+ahhx5i/vz5xGKZ021nZyfvfe97Abj66qtJJBJ86Utfyj/noYce4thjj+XGG2/k8MMP55RTTmH58uX87ne/4/TTT+d73/teVessUgozy3S+0v0pEamAEpAGNpAaYP2O9RCB7h3d1X2x6VG62AqvVPnOawxeWv9SdV8DeH7L83z3uO9W/XVEHnjgAY466igANm7cyJ133sk999zDM888wx133MGDDz642/6XXHIJ0WiU5557jrPOOguAOXPmsGrVKk444YTA6y8iIjLWlIA0sNmts/nqO77Ko489yoL5C4jGolV5ne7HH+GPj95Neu6+tL37uHy5MbYtLql0ihdffJGDDjqIaKQ6sWzp38KK9SvoT/VX5fgixR544AHmzZvHz372Mx5//HF+9atfsf/++/O9732PxYsX5/d76KGHuO2225g7dy5f/OIXSafT+VaTVCqV/1lERKTR6YrWwCbGJ3L4lMP5U/pPHD7lcOLxeFVeZyuvMPWZJK0T9mHWwWdU5TUAkskkS55fwuIDFlctlhe3vsiK9Stw9RuQAAwODrJq1SqWLFlCLBbj4x//eH7b3LlzeeaZZ/KPjz/+eP7u7/6O5cuXA3DUUUfR1dUFwEsvvcRpp50WaN1F9ijX5VdjBEWkAkpAZFxSAiJBePzxxzniiCOGbL0444wzeOWVV/jhD3/I/vvvTyQS4VOf+hSTJ08G4OMf/zhXXXUVe+21F+7Occcdxy233MKaNWv4+c9/zkc+8hGayhgQLyIiUi+UgEgJwvNhfay7jYkM5w9/+APf+ta32LRpE/fccw/ve9/73rTPBRdcMOzzW1tbufzyywE46aSTADjnnHM455xzqlNhkYqE5/ogIsFRAiKlC8FChPmZwnTNlCp761vfyn333VfraoiIiNQdLUQoIiIiIiKBUQuIjCzXWhCCFpAcjQERqZyZTQSuBt4AWoGvu3t/0T6J7D7bgVnALe5+bwnbFgL3F73kE+5+TLXikQqoNVlERkEJiIiIlOs64HZ3v93MPglcARQPaLkUeNXdrzKzFmCVmZ3o7l0jbDsZOAtYmz3OSehaJSISKuqCJeOKBqGLjI6ZzQLOBO7KFt0FnG9mbUW7ngv8HsDde4GHgS+UsO1f3P1X7v6Iuz8CHADcXpVgRESkJnRXSUbkIZznXV2wRCq2ENjk7n0A7r7RzAaA+UDhqPs2YHbB47XAkSNtc/dXcoVmFgEOd/ffD1cZM2sCCucjboPMukLJZLKkgHL7lbp/PQs6lmQyiVXxtfTe1KcwxQLlxxOWuGtJCYiMKxaicSwiNTIb2FJU1kNmLEehpWRaRm4CUsBRkG+C3NO2Qu8m0zqyJxcDlxUXLl26lJaWlhGeurvOzs6y9q9n1Y7lkGSSKLBixQMMTJpc1dcCvTf1KkyxQOnx9Pb2Vrkm4acERMalMLbqiATEgb6isgRQfEvwc8BVwC+B5cDRwK0lbCv0YeC2EepzBfCDgsdtwLqOjg7a29tHeGpGMpmks7OTRYsWEY/HS3pOvQoqlj/f9ivSAwOccMIJJGbvW7XX0XtTn8IUC5QfT3d3dwC1CjclIFKC7Id1tR6ICHQBk4rKWrPlee6+BTgPwMyOAL4P3DLStiILgK/tqTLZ2bfyM3DlWjnj8XjZH4wqeU69qn4smd9zLBYL5Hem96Y+hSkWKD2eMMVcKxqELuOKBqGLjNpyYN/sVLq5QekAj+3hOZcBN7v7k6VuM7MjgefcPT36KouISD1RAiLjkgahi1QmO1Xu3cCJ2aIO4Fp37zOzC83s0ML9zexcYBrw+eJj7Wkb8CE0+1X9yt3L0alURCqgLlgysnwPLLUeiAgA5wNXmtkCYApwUbb8bGANsNrMTgbmkfmoeqq758eI7GlbgZPILFYoIiIhowRExpVcEqVB6CKVc/dNwGeGKJ9X8PMyYNkwzx92W8E+p4yymhIEnUtFpAJKQERk3HB3+lP9+S9Ll9+q1xRtUmugjHv6PyAio6EEpERmNpFMd4A3yMz48vXs7CvD7f8x4Hx3XxhMDasof4er8S84GoQ+vvWn+vnsss+O6hg3nnIjzbHmkvdPJpP8wz/8A7NnzyaVSrFlyxYWL17MMcccM6p6iIiINCoNQi/ddcC97v4t4Ekyc88PKTsrzDeDqpiUT4PQJSjnnXce06dP5/Of/zwf+MAHuOqqq3j7298+7P6pVCrA2olUSqPQRaRyagEpQTahOBPI3Tq9C7jezC5z954hnnIRmYTlrICqKCIlaIo2ccPJN9Dd3U17e3tF3Uiaok0l7/v0009z2223cf311wPwzDPPcOyxx5JIJABYuXIlTz75JLNmzcLdefbZZ+no6ODuu+9m4cKFrFy5kksvvZQdO3awfPlyrrnmmtCtPCwiIuOPWkBKsxDY5O59AO6+ERgA5hfvaGbnATcDvUFWsLpy02DVthZjSS0g45OZ0RRtyn81x5rL/ionaVm2bBnHH388zc2ZLlv33XcfJ56Ymb326quv5vHHH+eLX/wiH/3oRznjjDPYtm0bTz/9NIcffjinnHIKyWSSFStWMHHiRE4//XSSyaEmixIREWksagEpzWxgS1FZDzCrsMDMDgLa3f2x7Oq+e2RmTUDh7dQ2yPQZL/WDRm6/an4wSaUy64Cl0+mqvk4gsQxmu7d4dV8niFiC1KjxJJNJ3J10Ok06nfk7zs2Aliuvpvb2dqZPn046nWbbtm389re/5cYbb+Tpp5/mjjvu4IEHHtitDt/85jf59re/zZlnnkk6nWbffffl6aef5vjjj8/vU1znoeJJp9O4O8lkkmg0utv+jfYeSp3K98DSzRwRKZ8SkNI40FdUlgAK57WPkllM66tlHPdiMqsA72bp0qW0tLSUVcFqdsuY8txz7AN0db3KE0uWVO11cqoZS7d1QxP0D/SzpMFjqYVGiycWizFjxgy2b9/OwMDAbtt6eobqPTm2Fi9ezP33389PfvITurq6WL9+PUcccQQ33ngjJ510Et3d3QA8/PDD3Hnnney///709fXR399Pd3c3O3bswN3z+w0ODuZ/LlYYz8DAADt37mTFihUMDg7utl9vb4gaZ0VEpCEpASlNFzCpqKw1W57zHjKLc/1NtotGAkiY2VZ3nzzMca8AflDwuA1Y19HRQXt7e0kVSyaTdHZ2smjRIuLxeEnPKdc2T7PliceYNXsW71i8uCqvAcHEsn7HepY+upREIsHiUxo7liA1ajx9fX2sXbuW1tbWfDcod6enp4e2traqTyXa3t7OTTfdBMBdd93FMcccwz777MNhhx3Gs88+m/9//r73vY+LL76Yyy+/nFtvvZVt27bR3t5OV1cXp556an6/WCz2pnPDUPH09fUxYcIETjjhhHzcOcMlMCIVUQOIiFRACUhplgM3mFnC3Qeyg9IBHivY53GgsNvVGdmvjw130Ow0vvmpfHMfHuLxeNkf8ip5TqlyXTgikUggHz6rGUs8tuu4jR5LLTRaPKlUCjMjEokQiWSGvOW6KeXKg/L4449z4oknEolEOOuss1i3bh0/+tGP2H///YlEInzqU59iypQpfOITn+Cqq65i6tSpAJx88skkk0l+/etfs2bNGm699VY+8pGP0NTUNGw8kUgEMxvy/Wqk90/qmNYBEZFRUAJSAnfvMrO7gROBTqADuNbd+8zsQuAOd18NrMk9x8w2AX3uvmaIQzaWXB9fXXBEKvK///f/5rrrrmPBggU8//zzHHbYYVxwwQVD7tva2srll18OwEknnQRAU1MT55xzDuecc05gdRYREakWJSClOx+40swWAFPITLULcDaZxGN1jeolZdBChFILX/nKV/jKV75S62qIjCGtAyIilVMCUiJ33wR8ZojyecPs/2/Av1W3VlKuXDc318wtIiIiIjWhdUBkRFozQ0RERETGihIQGZeUVImIjEK2B5Zak0WkEkpAREREREQkMEpAZGS5G1whmAVLg9DHp/F2l3a8xSs1pD81EamAEhAZl9QFa3zIrXkx3lb/zsWrNT+kakJwQ0pEakezYMm4ohaQ8SUajTJ58mQ2bNgAQEtLC+7OwMAAfX19gS5EWC3pdDofj5nR29vLhg0bmDx5cn4RURERkXqiBERGlu3OYWG446WBk+POjBkzAPJJiLuzc+dOJkyYEIq/6aHimTx5cj5ukWowrQMiIqOgBEREQs3MmDlzJtOnTyeZTJJMJlmxYgUnnHBCKLooFccTj8fV8iEiInVNCYiMK+qCNX5Fo9H81+DgIM3NzaFIQMIWj4iIhF/jd4CWAISviV2D0EVERiHfA0vnUhEpnxIQEREREREJjBIQGZfUAiIiMgZ0KhWRCmgMiIwsTAsRhiAGkVozs4nA1cAbQCvwdXfvL9onkd1nOzALuMXd7x1pW8HzW4DPAZuBP7r7I1UNSsqjc6mIjIISEBlX8oPQdddOZDSuA25399vN7JPAFcAFRftcCrzq7ldlk4lVZnaiu3eNsA0zmwLcBPydu/8psKhERCQQ6oIl45K6YIlUxsxmAWcCd2WL7gLON7O2ol3PBX4P4O69wMPAF0rYBvAL4HtKPuqZ1gERkcopAZGR5WY5UZO7iMBCYJO79wG4+0ZgAJhftF8bMLvg8VrgyJG2mdlfAgcD881siZldYWaaX1hEJETUBUtERMoxG9hSVNZDZixHoaVkWkZuAlLAUey6bb6nbR8HHgWuAX4CPJXddtFQlTGzJqCpoKgNyC86WYrcfqXuX8+CiiXXijw4OFjV19J7U5/CFAuUH09Y4q4lJSAyrmghQpFRc6CvqCwBFF+RPwdcBfwSWA4cDdxawra3Aje4+wCw2cxuBP6WYRIQ4GLgsuLCpUuX0tLSUmpMAHR2dpa1fz2rdiwH7uwjAaxcuZK+1X+s6muB3pt6FaZYoPR4ent7q1yT8FMCIiUITx/f3CxYrsWzRCrVBUwqKmvNlue5+xbgPAAzOwL4PnDLSNvIXJeiBYd6Bpiyh/pcAfyg4HEbsK6jo4P29vaSAkomk3R2drJo0aKGX00+qFjWLrmTwR3bOe4976HpoIOr9jp6b+pTmGKB8uPp7u4OoFbhpgRExiUNQhep2HLgBjNLuPtAdlA6wGN7eM5lwM3u/mQJ254hMwYkZxB4frgDZ6f/zU8BnLvJEI/Hy/5gVMlz6lXVY8k2JkejsUB+Z3pv6lOYYoHS4wlTzLWiQegyItcgdBHJyk6VezdwYraoA7jW3fvM7EIzO7RwfzM7F5gGfL74WMNs+xFwenZsB8B7gB+PZQwyBnQ9EJFRUAuIiIiU63zgSjNbQKZ7VG58xtnAGmC1mZ0MzCNzr/xUd8+PEdnTNnd/2MwuAX5sZquBPnf/SQAxiYhIQJSAyLiiQegio+fum4DPDFE+r+DnZcCyYZ4/7Lbs9puBm0dfU6kW0zogIjIK6oIlI8tdX0LU5K4xICIiIiK1oQRExhULURIlIiIi0oiUgMi4pGl4RURGId8DS+dSESmfEhApQeYCo7YDERERERktJSAyrmgQuojIGFIDiIhUQAmIjEsahC4iMgoaTycio6AEREamhQhFREREZIwoAZFxRbNgiYiMJbUmi0j5lIDIuKWZsEREKqWbOSJSOSUgMrIQLUSoQegiIiIitaUERMYtDUQXEalQ7oaUWpJFpAJKQEREREREJDBKQEpkZhPN7P+Y2XfM7Bozaxpin0lm9isz6zazp8zs2FrUdezl+2DVtBYiIlJfNJZORCqhBKR01wH3uvu3gCeBK4bY5+vAbcBJwFrg/5nZxOCqKCPRGBARkTGgU6mIjIISkBKY2SzgTOCubNFdwPlm1la0673u/nN3/x3w18BewBHB1bTKQnDBKZyGV3fuRERERIKnBKQ0C4FN7t4H4O4bgQFgfuFO7r6s4OduoBtYF1w1qyOsH9Q1CF1EZJR0GhWRCsRqXYEGMRvYUlTWA8wa7glmdgiw3N1f3cM+TUDhWJI2gGQySTKZLKliuf1K3b8S6VQ68z2drurrBBHLYHJwt9fzSHWunkHEEqQwxROmWKD8eMISt9RaCJrERaRmlICUxoG+orIEsKcr+ReAr45w3IuBy4oLly5dSktLS1kV7OzsLGv/ckx74QX2Bv78yis8tmRJ1V4np5qxDDAAzZmf7777biJVbgSsZiy1EKZ4whQLlB5Pb29vlWsiIiKyZ0pAStMFTCoqa82Wv4mZvQ9Y5u5/GuG4VwA/KHjcBqzr6Oigvb29pIolk0k6OztZtGgR8Xi8pOeU640dPWx95mn2339/5i1eXJXXgGBi6R3s5bcrfgvAqaeeSixSnf8CQcQSpDDFE6ZYoPx4uru7A6iVhN2u8XTqgyUi5VMCUprlwA1mlnD3geygdIDHinc0s7cCc9z9xpEO6u79QH/BcwGIx+NlfzCq5DmlikSi2e+RQD6wVTOWhCXyP8fiMeKR6sZTzVhqIUzxhCkWKD2eMMUsIiKNSYPQS+DuXcDdwInZog7gWnfvM7MLzexQADM7EDgP6DSzt5jZ283sb2tT62oIV5/fsA6uFxEJjM6jIlIBtYCU7nzgSjNbAEwBLsqWnw2sMbNuMi0l+wL/s+B5HwuyklWhC4yIiBQK1/0oEQmYEpASufsm4DNDlM8reLhfcDUSEREREWk86oIlJci0gFgI7nhpJXQRkTGkBnIRqYBaQGTc0kKEIpUxs4nA1cAbZGYE/Hp2Uo3CfRLZfbaTWTPpFne/d6RtBcdfC+yVLfqIu99e1aCkTLqZIyKVUwIiIiLlug643d1vN7NPkplS/IKifS4FXnX3q8ysBVhlZidmJ/XY0zaAvwE+RybBAbi/6hGJiEhg1AVLRpZrKAhBHywriEGzYImULzsN+ZnAXdmiu4DzzaytaNdzgd8DuHsv8DCZBVr3uM3MosBfAs+4+73Zr1S14pEKaR0QERkFJSAiIlKOhcAmd+8DcPeNwAAwv2i/NmB2weO1wJElbOsAjgOeN7N7zGz6mNZeRERqTl2wZFzRIHSRUZsNbCkq6yEzlqPQUjItIzcBKeAodg0cGHabu9+VbU35C+Ba4A4ze7e7p4eqjJk1AU0FRW2QWSE+mUyWFFBuv1L3r2dBxZJrQR5MDlb1tfTe1KcwxQLlxxOWuGtJCYiMLN9VKVwf3jUIXaQiDvQVlSWA4ivy54CrgF+SWSPpaODWErbhmU+3K8zsJOB54Fjgv4apz8XAZcWFS5cupaWlpcSQMjo7O8vav55VO5a523toBh597FF6166t6muB3pt6FaZYoPR4ent7q1yT8FMCIiIi5egCJhWVtWbL89x9C3AegJkdAXwfuGWkbUXH2Ghmv2TPayxdAfyg4HEbsK6jo4P29vaSAkomk3R2drJo0SLi8XhJz6lXQcWy7v57SW7dyoL5C5hw1FFVex29N/UpTLFA+fF0d3cHUKtwUwIi44qFYCC9SI0tB24ws4S7D2QHpQM8tofnXAbc7O5PlrkNYBB4ergDZ6f/zU8BnPs/Ho/Hy/5gVMlz6lW1Y8n9nqPRaCC/M7039SlMsUDp8YQp5lrRIHQpQbarUsg+u2sWLJHyZafKvRs4MVvUAVzr7n1mdqGZHVq4v5mdC0wDPl98rKG2mdkHzezw7M+HAt3uvroKociohOyCICKBUguIjCsahC4yJs4HrjSzBcAU4KJs+dnAGmC1mZ0MzCPzSfVUd8+PEdnTNjKzad1kZivIrP9xSZVjERGRgCkBkdKFrPuSBqGLVMbdNwGfGaJ8XsHPy4Blwzx/T9u+CXxzbGoqVaN1QERkFNQFS0aknkoiIiIiMlaUgIiIiEhldIdKRCqgBETK0PhdsArHgGgQuohIZULWI1dEAqYEREYWog/qmoZXREREpLaUgMi4pUHoIiKjpNOoiFRACYiUTI0HIiIC6IIgIqOiBERKoFtcIiIyFF0fRKR8SkBkXNFChCIiY0HnUhGpnBIQKV0ImtwLB6FrDIiIiIhI8JSAyMhCNAtWIU3DKyIySjqPikgFlICIiIhIeRq/QVxEakgJiJRBVxwRERERGR0lIDKykLWwayC6iMjYUFdWEamEEhAZtzQIXUSkQiGYlEREakcJiJQg+0Fd1xsRERERGSUlIDLumO7ciYiMks6jIlI5JSAybqnvsoiIiEjwlIDIyHIf1EPScqBB6CIiY0Q3ckSkAkpAZNzSIHQRkQqF5IaUiNSGEhApgy44IiIiIjI6sVpXQOqfWthFRGRIukA0hOSGDex87g9YPM6EI95KbK+9al0lGeeUgMi4kxsDokHoIiKVKeyBldqxnYH1XaS2bc1si0axpiYiTU1YIvu9qQmLxwGHdBpPp3d9T6Uyz4vHsVgci8Uy+0ajwQcWMu7O5lt+xpbf3AbpdKbQjJa3v4NJ711E67uOyb4vu+z2frpDNEokkci8p4kElkiQsgjRvj5S23uwSDT7XqYglX1Pd+vivOuPJT8L5W4dKmrfuyI5OIilBmtdjXFFCYiULiR9fs0sdKu7i4jUQteV363ewc2wWIyD4nG6mxJMPfW06r1WSG2+5Wa23PZrAJoPORQfTNL/8sv0Pv0UvU8/RbS9nZaj3g4RY3DTRga6ukht21bSsQ8BXvnlz6tY+2A1n7q41lUYV5SAlMjMJgJXA28ArcDX3b1/iP0+AJwCNAH/4e73BlrRqgjnp3UNQhcRqUzzIYfS98IL+cfRKVOITZmKGfhgCh8YIN3fjw/0Z773v+lyCZEIRCJYJDMc1QcHd92lB3DHk0niySSbb/y/RFIp9jr9L6sdWmhs+e1v8snH9M/9LZM73gfAwKuv0r3sXrbdv4zUG2/Qs/LBNz131/tpeDqF9w9k3tOBgfx7mmu5AnZ/LyORfEvHkD0NCsvqqSdCSG6yNgolIKW7Drjd3W83s08CVwAXFO5gZocB3wIWkGlTfMLM3u/u6wOvrYzo4pUXM7V56tAbhzkP7WkK38Jt7k5PoodHHn2ESCSCYUQs8x2DCJFhF0QcNjEatnj4E3i5xxruOe7OtsQ2Hn/8cSL25rkrhnudSrq57TGeMThe7r15+NGHh2/5r+B3XSvuzgIW1LoaMs7s/clzaTnqbUQnTyYxe1+iLS173N+zyQRmb/qQutt+qRSeTGa+BpMM9Pay6v9ez9Q//J6NP/0JsSlTaHv3e978vMFB+l5+meTrr4E7sWnTSMyaTXTSpHG5+OzWu+9i0//3bwBM++tP5pMPgMTMmUz7+CeY+rFz6F31NAPr1+OpVOZ3NmMm8VmzRnw/k8kkS+68k9NOO414U1PD/46TySTPLVlS62qMK0pASmBms4Azgc9mi+4Crjezy9y9p2DXLwF3e+ZTkpvZw8DfkklKGl6Dn1/yZrTMYO32tfSl+li/o4q5YQS27SitKbshROCNnjdqXYuxEYHuHd21rsWYCToxKqVF2MwS2X22A7OAW3ItwnvaVnSMjwHnu/vC6kUjlbBYjNZj5pe+vxmWSIy8XzSKRaPQ3AyAt7ax4Z3v4i0zZ9JzbyevXfMDIhMmMPEdRwMwuG0r2zqXsvWeu0lt2fKm40VaW0nMnk20fRIWi+GDg5mvgiTHk4PZ78nMzYdIYZIUydyoyP4X23UTxHfdqCgsyz3O/VhQ5u4ctHMnr/znb7NdgYfeb9d/Z9917IIyH6Js136Op9N4Xx8Ae33wQ0z58EeG/V1PfOc8Jr5z3pDbRxSJZN6vsHw4kEApASnNQmCTu/cBuPtGMxsA5gP3Fex3MnBVweMXgI9Wq1LJ119ny5I7mf7yn9iyZRORSHUG7O187g9VOW6tXLrgUv7c82dS6dQe9xvNh7rBwUEefexR5s+fTzQaxbMXDcdJe6aLQe57OYY70VeyuOIeW3OKXmdwcJAnnniCY951DNHY0H9nwx1vj3WroKVp2EPt4SJYeLzce7Ng/gJiseFPgcPGU2cX28HBQV58+MWgX3bEFmHgUuBVd7/KzFqAVWZ2ort3jbANyN/4+SawOZCIpH6ZMfVvPo1v3872Rx5m/f+6nLZ3vwdPpdjxxOOZrltkko2m/feHSITk668zuHEj6e3b6Vu9usYB7BIHUjt2VP+FolGmnnEmU878q+q/lkgFlICUZjZQfGulh8yduz3tN9Q+eWbWRGasSE4bZJoCk8nkiJXq27iBbXfewVRg23O/H3H/0fJEU0n1qlTu2NV8DYAoUQ5oPaCqr5FMJlmTXsMhbYcQL5phpBElk0nWp9dz+KTDGz6e3HtzcNvBDR8LZOJ5mZdL/n8z2v9fZbQInwt8DsDde7Mtwl8gk1TsaVvORWQSnbNGVWEJBYtEmfGlC3j92n+mZ8UD9Kx8KL+t+eCDmbz4L2l793t2m9Ep3d9P8tVXGVi/jtSOHfjgYGaGrewsW/mvWByLZ8sskp+hC8/N6JSvxZt+3DWrkxVtKCozSA0OsvK//ovjjjuOWCy+63Bmuz3PRjxWwb4Uvb5l/om2tRFtayvpdytSC0pASuNAX1FZAii+khfvN9Q+hS4GLisuXLp0KS0j9L8EiPf0sNcRR46431hIJ+L8Me2kAugj2dnZWfXXCEqYYoFwxROmWKD0eHp7e0f7UgsprUW4jcxNmZy1wJElbMPMzgNuBo4YqTKjvZGT27fweyMLUyxQFE88zrTP/x2t713EzmefxWJRJhz1NpoOOBCAwcyOu54ciRCZPZvm2bPffOAa8GSSvj++QGTO/kSrfPMjDaRDcMMwKOXGE5a4a0kJSGm6gElFZa3Z8j3t1zbEPoWuAH5QtP+6jo4O2tvbS6pYMpmks7OTRYsWNfzdXMVSv8IUT5higfLj6e4e9diXUluElwLnm9lNQAo4il33fIfdZmYHAe3u/piZjZiAMMobOYXClJSGKRYYIp4J2ff2+dWZrwYSpvcmTLFAoDdyxj0lIKVZDtxgZgl3H8h2QQB4rGi/+8hMjZ1zEHD/cAfNDtrMD9zMNbvG4/GyPxhV8px6pVjqV5jiCVMsUHo8YxBzqS3CnyMzJu6XZM6hRwO37mmbmUWBzwNfLaM+upFTIEyxQLjiUSz1qwY3csY9JSAlcPcuM7sbOBHoBDqAa929z8wuBO5w99XA9cCPgW+bWYxMl4RLa1VvEZEqKKlF2N23AOcBZFsyvg/cMsK29wDnA3+TvSGTABJmttXdJw9VGd3IGVqYYoFwxaNY6leAN3LGPSUgpTsfuNLMFgBTyAyQBDgbWAOsdvdVZvZTM/s+mQvnl939tZrUVkSkOpZTWotwocuAm939yT1tM7Nmdh/3cUb262NjUG8REakTSkBK5O6bgM8MUT6v6PFPA6uUiEjAymgRBsDMzgWmAR8qPlbxtuzA9jUF2zcBfe6+pvi5IiLSuJSAiIhIuUZsETazk4F5ZAaXn+ru+TEie9omIiLhpwRERETKUkqLsLsvA5YN8/xhtxXt92/Av1VaTxERqU+RWldARERERETGD7WA1KFypndLJpP09vbS3d3d8LMyKJb6FaZ4whQLlB/PeJk+UufRxo8FwhWPYqlfOo8Gz9y91nWQLDObDayrdT1EZFzY193X17oSY03nUREJUCjPo0FQAlJHLDOB/SwyqwqXqo3MxXbfMp9XjxRL/QpTPGGKBSqLpw3o8hBeAHQeDVUsEK54FEv90nk0YOqCVUeyf8RlZdK5RbeAHndv6DZBxVK/whRPmGKBiuNp+LiHo/NoeGKBcMWjWOqXzqPB0yB0EREREREJjBIQEREREREJjBKQxtcP/GP2e6NTLPUrTPGEKRYIXzy1EKbfYZhigXDFo1jqV9jiqXsahC4iIiIiIoFRC4iIiIiIiARGCYiIiIiIiARGCYiIiIiIiARGCYiIiIiIiARGCUgDM7OJZvZ/zOw7ZnaNmTXVuk6VMrOPmNmfzGyzmf3IzBp+kUwzS5jZKjNbWOu6jAUze4+ZfcXMPmRm02pdn0qZ2eHZ/zdfNrNrzewdta5TOczsNDN7zMzeUlAWmnNB0ML0u9N5tP7pPFofdB6tvYY/OY1z1wG3u/vtZvZJ4ArgghrXqWxmNgf4EHAGcDhwPbAW+H4NqzUWvga8pdaVGAtm9mngAHf/Zq3rMgZuAj7o7uuzf3v3kPm7q3tmNp3MefuYok2hOBfUSCh+dzqP1j+dR+uDzqP1QdPwNigzmwW8BOzl7n1mtjfwZ2Afd++pbe3KY2Z/ATzs7oPZx1cBR7r76bWtWeXM7DjgEOAy4Fx3X17bGlXOzE4ALgE6PAQnDDPbAcxz9+ez/29WufusWterVGYWAVLAXHdfE6ZzQdDC9LvTebS+6TxaX3QerT11wWpcC4FN7t4H4O4bgQFgfi0rVQl3fzB30czqAl6pVX1Gy8xagY+6+09rXZcx8gPgeeCfzewuM3t3rSs0Sr8E/sXM2oC/Br5Y4/qUxd3TRUULCcm5oAYWEpLfnc6jdU/n0Tqi82jtKQFpXLOBLUVlPUDD3IHYg2PINIU2qq8DV9a6EmPBzA4B3gn8xN2/ACwD7sk2YTeqvyNzYXkc2O7uv65xfUYrzOeCagvz707n0Tqh82hDCPO5oC4pAWlcDvQVlSWAZA3qMmbM7GDgdXd/ptZ1qYSZnQY86u4bal2XMXIksMXdn84+/jGZ88aHalWhMdAC/IJMH+YfmtlJNa7PaIXyXBCQUP7udB6tOzqP1r9QngvqmQahN64uYFJRWWu2vCFlZ2z5LHBxresyCl8B3mVmucftwJ1m9h13b8S7eTEKzhPZvrEvAFNrV6VRuxk42923WOaNutXM5rr7jlpXrEKhOxcEKHS/O51H65LOo/UvdOeCeqcWkMa1HNjXzBKQH0wJ8FjNajR6XwW+5+4Dta7IKPw18I6Cry7gM2RmpGlEzwCTiqaLHAT+u0b1GZVsHG9z91xT+/8i08zeELO3DGM54TsXBGU54fvd6Txaf3QerX/LCd+5oK4pAWlQ7t4F3A2cmC3qAK7NDaBqNGb2LeB3QIuZHWBmf2NmB9W6XuVy99fcfU3ui8xF5jV331rbmlXG3Z8n83d2JoCZTQaagf+sYbVGYwvQZ2azi8r+WKP6lM123RY2CN+5IEhh+93pPFqfdB6tPzqP1p66YDW284ErzWwBMAW4qMb1qYiZXQJ8u6j4eXf/11rUR97kE8A/mdkEYA7wMXdvyH6x7p42sw8Bl5rZ74B9gAvdvbu2NStNdmagT2QffsrM/tndNxGSc0GNhOJ3p/No3dN5tE7oPFoftA6IiIiIiIgERl2wREREREQkMEpAREREREQkMEpAREREREQkMEpAREREREQkMEpAREREREQkMEpAREREREQkMEpAREREREQkMEpAREREREQkMEpAREREREQkMEpAREREREQkMEpAREREREQkMP8/N0mRLJwkMDkAAAAASUVORK5CYII=' width=800.0/>\n",
       "            </div>\n",
       "        "
      ],
      "text/plain": [
       "Canvas(toolbar=Toolbar(toolitems=[('Home', 'Reset original view', 'home', 'home'), ('Back', 'Back to previous …"
      ]
     },
     "metadata": {},
     "output_type": "display_data"
    }
   ],
   "source": [
    "plt.close('all')\n",
    "fig, axes = plt.subplots(nrows=1,ncols=2, figsize=(8, 3), frameon=False, dpi=100, squeeze=False)\n",
    "\n",
    "axes[0,0].plot(model.Time, model.get_values('p_s_G01'), label=\"$p_{G01}$\")\n",
    "axes[0,0].plot(model.Time, model.get_values('q_s_G01'), label=\"$q_{G01}$\")\n",
    "\n",
    "axes[0,1].plot(model.Time, model.get_values('V_G01'), label=\"$V_{G01}$\")\n",
    "\n",
    "for ax in axes.flatten(): \n",
    "    ax.legend()\n",
    "    ax.grid()"
   ]
  },
  {
   "cell_type": "code",
   "execution_count": null,
   "metadata": {},
   "outputs": [],
   "source": []
  },
  {
   "cell_type": "code",
   "execution_count": 240,
   "metadata": {},
   "outputs": [],
   "source": [
    "params.update({'alpha_POI':0.0})\n",
    "model.ini(params,'xy_0.json')\n",
    "model.run(1.0,{})\n",
    "model.run(4.0,{'alpha_POI':-0.01})\n",
    "model.run(7.0,{'alpha_POI':0.0})\n",
    "model.run(10.0,{})\n",
    "model.post();"
   ]
  },
  {
   "cell_type": "code",
   "execution_count": 241,
   "metadata": {},
   "outputs": [
    {
     "data": {
      "application/vnd.jupyter.widget-view+json": {
       "model_id": "939889872592455a834a55a55ba04d49",
       "version_major": 2,
       "version_minor": 0
      },
      "image/png": "[encoded data removed]",
      "text/html": [
       "\n",
       "            <div style=\"display: inline-block;\">\n",
       "                <div class=\"jupyter-widgets widget-label\" style=\"text-align: center;\">\n",
       "                    Figure\n",
       "                </div>\n",
       "                <img src='data:image/png;base64,iVBORw0KGgoAAAANSUhEUgAAAyAAAAEsCAYAAAA7Ldc6AAAAOXRFWHRTb2Z0d2FyZQBNYXRwbG90bGliIHZlcnNpb24zLjUuMiwgaHR0cHM6Ly9tYXRwbG90bGliLm9yZy8qNh9FAAAACXBIWXMAAA9hAAAPYQGoP6dpAABERElEQVR4nO3deXxU5dn/8c812UM2toSERVEqolJrrbhWcd+tVmxrrUvrhgtVWbStqH36+NQKqLhbtdq6YKtW/amt2rqgFXdR0IoUdzQJCVsSyJ65fn/MJIYUwoQkczKT79vXeSVznyXfg3BPrjn3uY+5OyIiIiIiIvEQCjqAiIiIiIj0HypAREREREQkblSAiIiIiIhI3KgAERERERGRuFEBIiIiIiIicaMCRERERERE4kYFiIiIiIiIxI0KEBERERERiRsVICIiIiIiEjcqQEREREREJG5UgIiIiIiISNyoABERERERkbhRASIiIiIiInGjAkREREREROJGBYiIiIiIiMSNChAREREREYkbFSAiIiIiIhI3KkBERERERCRuVICIiIiIiEjcqAAREREREZG4UQEiIiIiIiJxowJERERERETiRgWIiIiIiIjEjQoQERERERGJGxUgIiIiIiISNypAREREREQkblSAiIiIiIhI3KgAERERERGRuFEBIiIiIiIicaMCRERERERE4kYFiIiIiIiIxI0KEBERERERiRsVICIiIiIiEjcqQEREREREJG5Sgw4gXzMzA0qAmqCziEhSywVK3d2DDtLT1I+KSJwkbT8aDypA+pYS4MugQ4hIvzAC+CroEL1A/aiIxEuy9qO9TgVI31IDsHz5cvLy8oLOIiJJqLq6mpEjR0LyXiFQPyoivaof9KO9TgVIH5SXl6c3ThGRblA/KiLSd+kmdBERERERiRsVICIiIiIiEjcqQEREREREJG50D4iIiGwRMzsc+B/gB+7+2Sa2OQY4EMgAHnb3Z7u7TkTir6WlhaampqBjxEVaWhopKSlBx0hqKkBERKTLzKyQyHvIbp1ssz0wE9gdMOAtMzva3b/a0nW9e1Yi0pG7U15eztq1a4OOElcFBQUMGzaMyKOFpKepABERkS5z9woz+9tmNrsQeDr6oC43s1eBc4gUF1u6TkTiqLX4KCwsJDs7O+l/IXd3amtrqaioAKC4uDjgRMlJBYhIB+5OuK4uutQSro1+X18Hzc14UxPe3Pz1Em6BcBjCYTzska8ehrADDg64s8HDUtu+31hbV8J240Rlk1Ly8hh41NFYWlrQUfo0dw9v5peRA4Cr271eBhzfzXU9KtzYyKoH5vXGoQOXOnAg+YccSigzM+gokqBaWlraio/BgwcHHSdusrKyAKioqKCwsFDDsXqBChDpt1qqq6n99/s0fvUlzZWVNFVW0rxyJU0rK/GGhqDjScBC2dkUHHpY0DES3XBgdbvXNUSeVN6ddRswswwi94m0yu1SwpYW1jz+WJd2SSR1Hy6heMYlSf+ptfSO1ns+srOzA04Sf63n3NTUpAKkF6gAkX4j3NhI3ZIl1C5+l9pFi2j49JPOdwiFCGVnE8rKIpSVTSgrE0tLx1JTv15SUiE1JfLmHgphoRCEQmAGZpF2M8AiI9nbfgmIfLUN2jrSLwxBaFj+BbXvLKRmwb9UgHSfA/XtXqcDTd1c19EvgSu2OGFKCgOPOXaLd++rPNzC2qefYt3rr7H2yScYePQxQUeSBNYfC9j+eM7xpAJEkl64oYHVDz/EmicfxxsbN1iXPmorMseMIW3oUFKHDG37mjpoEJaerg6oH2qqqODTc86i7oMPaF6zmtSBg4KOlMhKgfx2r3Ojbd1Z19FVwLUdtv0y1oCh9HSGnnparJsnlPRhxVTceTuV9/6JzG98g6ztxwUdSUQEUAEiSczdWf/G61Tc9QeaV1YCkDJoEAO+uTPZO3+L7PHfJHXgwIBTSl+TVlhI5nZjqf/PUmpefYWBRxwVdKRE9hywXbvXY4AXurluA+7eALSNmdSHBl/LP+xw6pYsoWbBvyi7Zg6j5lxDan5B0LFERPQgQklOjeVllP72Skpn/Y7mlZWkDhlKycW/YJvb/8CwKReQt+9+Kj5kk3L33huAmgULAk7St5l1GFMYaZtuZmOjL28DDoq2pwITgDu6uU5iZGYUnXMu6cNH0Lx6FeVzr8NbWoKOJdIlK1eu5Oc//zlmxgknnMCCdv3ysmXL2HXXXdlzzz159NFHA0wpXaUCRJLO2qf/zucX/pz1C9+G1FQGfX8SW99wEzm776FPRyUmOXvuBUD9h0toWrUy4DR9k5nlAJOjL081syHR708ExgO4+yLgbjObQ2SY1EXuXt6dddI1oawsiqdfjGVkULt4EasefjDoSCJdMmTIEG644Qby8vI4/fTT2Tv6ARHA6NGjOfroo/nXv/7FcccdF2BK6SoNwZKkUrt4ERV33gHuZH9zZwrPOIv04cODjiUJJm3wELLGjaNuyRLWvfKKbuDdCHdfB9waXdq379rh9d2dHGOL1knXZIwaRdFZkym/8XpWP/QgWdttz4Bddgk6lkiXbLPNNnz88ccbtN1+++1MnjyZ1FT9OptodAVEkkbz2rWUXX8duJN30MEMv/zXKj5ki+XstQ8ANQteDjiJSPflTdyf/EMOBXfKrr+Wpuh9cSJd5e6E6+u7tfgWPPdq22235aOPPmp7/c4771BcXMywYcN68vQkTlQySlLwcJjyG66jZe1a0keNovBnZ2i4lXRL7p57UXn3H6hf9h+aKlaQVlgUdCSRbhn609Op/2gZDZ98Qtk1cxj5myv1sE3pMm9o4KOTftStY4y5/89YFx+Que2227JkyRIAGhoaeOKJJ7j88ss73aelpUXP8OijdAVEksKaxx6hdtEiLCOD4qkzCGVkbH4nkU6kDhxI1g47AlDzyisBpxHpvlB6OiXTLyE0YAD1/1lK5b1/CjqSSMy23XbbtiFYN954I+eee+4G6xcsWMCNN97IX//6Vx5++GGuuOIKXnvtNS677DKee+45fvOb3wCwfv16/va3v3HwwQfH/Rzka7oCIgmvbskHrHxgHgCFZ5xFxsiRASeSZJG7197Uvf8eNa+8zKBjdYOjJL60oiKGTbmA0t/9lrV/e5KscTuQG510QSQWlpHBmPv/3O1jdNW2227LJ598wksvvcTYsWMZMmRI27pZs2aRnp7OhRde2Nb28ssv8+677zJu3DgOPPBA5s+fz0svvcS+++7LkUceyezZs7t1DtI9ugIiCa2lppqy666BcJjcffcjb/8Dgo4kSSRnjz0hFKLh449pLCsLOo5Ij8jZbQIDj/0+ACtuvpHG0q8CTiSJxMwIZWZ2a9mSIdLbbrst9fX1PPnkkxx99NFt7YsXL+aJJ57YoPgAuOyyy1i6dCmjRo0CYNSoUSxatKhb5y49RwWIJCx3p/ymG2letYq0khKKzpqs+z6kR6Xm55M9fjwA617VM0EkeQz58Ulk7bAj4bo6SmfPItzQsPmdRAI0cuRItttuO371q19t0P7MM89wxBFHtL1++eWXmTp1KvPmzSMcDrfNkNXS0qLZsvoQFSCSsOo++Dfr33oTS0ujeOp0QllZQUeSJJSr2bAkCVlKCsVTp5FSUEDjF59TcfttWzQzkUi8pKSksHTpUgoKCjZoHz16NHV1dW2v99lnH55//nlOPvlkxo8fT2lpKQAff/wxY8eORfoGFSCSsKpfehGA3H33I3P0NgGnkWSVs/sekJJCw2ef0fiVhqpI8kgdOIjii6ZBKET1/Beofu7ZoCOJdNmkSZMoKCjguuuu45FHHuGxxx7j1FNPpaCggJNOOol33nmHF154AXdn4sSJNDQ0MG/ePD777DMeeOABGnT1LxCmTzz6DjPLA6qqqqrIy8sLOk6fFm5q4pPTTyO8fj0jfv2/bcNkRHrDl1f+htp3FjL4hycy+Ac/DDpOt1RXV5Ofnw+Q7+7VQefpaepHu271Iw+z8v77sLQ0Rl51tT7QkTb19fV8+umnjB49mswuTpub6Do792TvR+NBV0AkIdUufJvw+vWkDhpM1g47BB1Hklzu3tFhWLoPRJLQwGO/z4Bdv4M3NVE2ZxYt69cFHUlEkpwKEElI1f96CYDcffbB9JAh6WU5EyZAaiqNX3xBw5fLg44j0qMsFGLYlAtIHTqUpvJyym+6UfeDiEivUgEiCadl/XrWv/UmALnf3S/gNNIfpAzIYcDO3wJgnR5KKEkoJTeXkumXYKmprH/jddY+8XjQkUQkiakAkYSz7vXX8KYm0keMIGP06KDjSD+RE31Ym4ZhSbLKHDOGoT89HYDKe/9E3ZIPAk4kIslKBYgknJrW4Vff3U/P/ZC40TAs6Q/yDz2M3H2+C+EwpdfOoblqbdCRRCQJqQCRhNK8ZjW1778HEHmTFIkTDcOS/sDMKJp8LukjRtCyejXl112Lt7QEHUsCFg6Hg44Qd/3xnONJj4SUhFLz8ssQDpM5dizpw4YFHUf6mZw992L9229R8+qChJ+OV2RTQllZFE+/hC8umU7te4tZ9eBfGHLij4OOJQFIT08nFApRWlrK0KFDSU9PT/qRB+5OY2MjlZWVhEIh0tPTg46UlFSASEJpnf0qTzefSwByJkxgRbthWBkjRgYdSaRXZIwcSdE551I+9zpWP/wgWWPHMuDbuwYdS+IsFAoxevRoysrK2p4o3l9kZ2czatQoQiENFuoNKkAkYTSWfkXDxx9BKETOXnsHHUf6odZhWOvffot1r7xChq6CSBLL++5+1C1ZQtUzT1N2/Vy2mnMtaUOHBh1L4iw9PZ1Ro0bR3NxMSz8ZjpeSkkJqamrSX+0JkgoQSRjVL0WufmTv/C1SI08gFYk7DcOS/mToT0+n/qOPaPj4I8qumc3I//0/LC0t6FgSZ2ZGWloaafp/Lz1E15UkIbg7Nf96EYC8fTX8SoKj2bCkPwmlpVEyfQahnBzql/2Hynv+FHQkEUkCKkAkIdQvW0ZTeTmWkUHObhOCjiP9mGbDkv4mrbCIYVMuAGDt35+kZsHLAScSkUSnAkQSwrpXIm94ObtNIJSVFXAa6e/0UELpb3K+sxuDvn88AOW33ETjV18FnEhEEpkKEEkI6956C4CcPfYMOImIhmFJ/zT4Rz8ma8ed8Pp6SmdfTbi+PuhIIpKgVIBIn9f41Vc0lZVCaioDvrVL0HFENAxL+iVLSaH4ommkFAykcfkXrLj9Ntw96FgikoBUgEift+6tNwHI3nFHDb+SPqNtGNaCl/vdL2FmNsDMbjazK81srpllbGSb9Oi6K83sLjM7KJZ17Y6/2sw8uhwXj/OSzUsdOJDiqdMgFKLmxflUPfvPoCOJSAJSASJ93vpoATLgO7sFnETkazkTJmDp6TR+uZyqfzwTdJx4uxV41t1nAguBqzayzeVAWXSb84FbzawkhnUAPwPOBg6OLo/3zmnIlsjecSeG/PgnAFT+4Q7qP/k44EQikmhUgEif1lJTQ92HS4DITZAifUXKgByGnBT9JexPd9NYVhZwoviIFgonAE9Fm54CJptZbodNTwPeB3D3WuBV4LzNrTOzFOAoYLG7Pxtd+sfTzxLIwO8dy4Dv7IY3NVE2exYt69YFHUlEEogKEOnT1r+7EMJh0keNIq2wKOg4IhsoOOKoyE25DQ2U33QD3j+eEjwRWOnu9QDuXgk0Ah3nx84Fhrd7vRzYKYZ1hwB7Ax+a2TNmVthZGDPLMLO81iV6bOllFgoxbMoFpBYW0lSxIvL3v58NRRSRLacCRPq09W9GZr8asKuufkjfY6EQw87/OaGsLOo/XMKaJ/5f0JHiYTiwukNbDVDSoe0fRK6MZJlZOjCer99zNrnO3Z8iUkTsF/1ZT5hZZ+9VvwSq2i1fbumJSdek5ORQMv1iLDWV9W++wZrH+8XffxHpASpApM/y5mbWv/M2oOFX0nelFRYy9GdnALDqgXk0fP5ZsIF6nwMd519NB5o6tJ0NvA08CEwBdgGWxrAOj3gJ2B8YA+zRSZ6rgPx2y4gun5Fsscxtx7T9/V953z3UfvDvgBOJSCJQASJ9Vt2HSwjX1pKSl0fmN74RdByRTcrb/4DIePjmZspvmIs3dfxdPKmUEvlFv72caHsbd1/t7me6+9FE7hMZAczb3LoOx6gkUqSM3FQYd29w9+rWhcjVGImj/EMOJXff/SAcpuzaOTSvXRt0JBHp41SASJ/VNvvVt3fFUlICTiOyaWZG0TnnkZKXR8Nnn7Hqwb8EHak3zQdGRIdO0W72qjc62ecK4D53X9jFdQDNwLtbFlXiwcwoOmsy6SNG0rJmDWXXXdNf7ocSkS2kAkT6rNann2v6XUkEqQUFFJ41GYDVjz3Cmr8/iYfDAafqee5eCjxN5B4NiNw0fou715vZdDMb2357MzsNGAKc2/FYG1tnZt8zs3HR78cC1e6+tOO+0reEsrIonnExlplJ3fvvseovfw46koj0YSpApE9q//Tz7OgTp0X6utw99yLvgAMhHKbyD3fy5eUzaSwt3fyOiWcy8EMzmwl8E7g02n4ikRvKMbMDzGwGUAgc5u5tQ6M6W0dkNq3XzexJItPxXtbrZyM9ImPESIomR2rJ1X99iPUL3w44kYj0VaZp8/qO6BSSVVVVVeTl5QUdJ1Cr/99jrLznj2TvvDMjLv+foOOIxMzDYar+8TSV996D19dj6ekMPvHHDDzy6D4xlLC6upr8/HyA/Og9E0lF/WjwVtzxe6qefopQTi5bzb6GtMJOZ1IWSTjJ3o/Gg66AxMjMBpjZzWZ2pZnNNbOMTWz3KzObGf16pZlZvLMmg/Vv6+nnkpgsFKLgsCPY+rrryd55Z7yxkZV/+iPLL/0F695+i3BDQ9ARRXrV0NN+RsaYbxBeV0PZtbMJJ/ekDCKyBVSAxO5W4Fl3nwksJDL14wbM7ChgtLtf6e6/JTIv/g/iGzPxtaxbR92S6NPP9fwPSVBphUUMv+zXFJ17PqHsbOqXLaP0t1fy8Wkn89X//S9rn/47TRUrgo4p0uNCaWmUTJtOKCeH+mXLWPmnu4OOJCJ9TGrQARJBdJaXE4Czok1PAbeZ2RUdxi6PY8On8Nbx39NVymasf+ftyNPPR44irUhPP5fEZWbkH3gQ2d/ahdWPPMz6N9+gedUq1i98u218fOqQIaQVFZFW2LoUkjq0kJQBAwhlZxHKHkAoK6tPDN8SiVVaYRHDfn4hpb+9krVP/Z2scTuQu/c+QccSkT5CBUhsJgIr3b0eInPTm1kjkZsln2u33ePA/5jZpGj7EODeTR00Ooyr/VCu3E1tuzENXy5n5X2bPHzCavzic0DDryR5pA0eTNGZZ+NnnEXjF5+z/u1IAVK39EOaV66keeVK6v7d+QPcLDMTS0vD0tIIpaZBamrkdWoqI//nfwllZcXpbERik7Prdxj0/UmsfuRhym+5iYyttiZ9hJ4TKSIqQGI1HFjdoa2GyBCrNu6+1Mx+TOSBWi8Cx7t7XSfH/SWROfC3SHjdOta/2dnU+4ktd4/OHn4sknjMjIyttiZjq60Z9P3jaVm/jsblX9JUsSKyrFhBU0UFzatWEa6rJVxbizc2AuD19Xh95AHk//WEBd1qJn3U4B+dSN1/llL3/nuUzpnFqN/NIpSZGXQsEQmYCpDYOFDfoS0d2NiddZnAMcAtwANmdry7N2/iuFcB17Z7nQt8GWuotKJhFJ1zXqybJ5TUoYVkjtHTzyW5pQzIIWv77cnafvtNbuNNTYTr6mipXY83NuHNzXhzE94U/drcjKWnxzG1SOwsJYXiC6fy+YypNC7/ghW/v5VhP78Qzc8i0r+pAIlNKf99L0dOtL2NmU0EvuPu06PfvwZMBWZt7KDu3gC0TYnT1Q45deBA8g86uEv7iEhisbQ0UtLSSNGUspKgUgcOpPii6Xz568uoeelFssbtQMEhhwYdS0QCpFmwYjMfGGFm6dB2UzpAx/FPk4Bl0Pa04JnAvnHKKCIi0idl77gjQ046GYDKP9xB/ccfBZxIRIKkAiQG0WLiaWC/aNMhwC3uXm9m081sbLT9XWCX9rvy30WKiIhIvzPwe8cyYLcJeHMzZXNm07JuXdCRRCQgKkBiNxn4oZnNBL4JXBptPxEYH/3+LqDCzH5hZmcAY4Cr455URESkjzEzhp3/c9IKi2iqWEH5TTfg7kHHEpEAmP7x9x1mlgdUVVVVkafx3iLSC6qrq8nPzwfId/fqoPP0NPWjfV/9Jx+z/Fe/wJuaGHLyqQw69rigI4l0SbL3o/GgKyAiIiISN5nbbMvQn50BwMr776V2M8/AEZHkowJERERE4ir/4EPI3W8ihMOUXTuH5jVrgo4kInGkAkRERETiyswoOmsy6SNH0bJ2DWXXXYO3/NcjNkUkSakAERERkbgLZWZSMv1iLDOTun+/z6o/PxB0JBGJExUgIiIiEoj0ESMoOuc8AFY/8jDr3n4r4EQiEg8qQERERCQweft8l4LDjwCg/Ia5NFWsCDiRiPQ2FSAiIiISqCGn/pTMb3yD8Lp1lM6ZTbipKehIItKLVICIiIhIoEJpaRRPnUEoJ5eGjz+i8o93Bx1JRHqRChAREREJXFphIcUXXAhA1dN/p/pfLwUbSER6jQoQERER6RMGfHtXBk06AYAVt91Cw5fLA04kIr1BBYiIiIj0GYN/8COyxo/H6+spm3014bq6oCOJSA9TASIiIiJ9hqWkUHzRNFIGDaLxyy9ZcfttuHvQsUSkB6kAERERkT4lNb+AkqnTIRSi5qUXqfrHM0FHEpEelBp0ABERSSxmNgCYBawBcoBL3L2hwzbp0W3WASXAPHd/dnProuuPAQ4EMoCH26+T/iNr3A4M+ckprLznj1TedSeZ244hc8yYoGOJSA/QFRAREemqW4Fn3X0msBC4aiPbXA6URbc5H7jVzEo2t87MtgdmAhcC5wKzzGx4b56M9F0Dj/keAybsjjc3UzrnalpqaoKOJCI9QAWIiIjELFoonAA8FW16CphsZrkdNj0NeB/A3WuBV4HzYlh3IfC0R4Sj687phVORBGBmDDt/CmlFRTRXVlJ+4/V4OBx0LBHpJhUgIiLSFROBle5eD+DulUAjMKHDdrlA+ysXy4GdYlh3APB5u3XLgP02FcbMMswsr3WJHluSSMqAHIqnX4KlpbH+7bdY89ijQUcSkW5SASIiIl0xHFjdoa2GyL0c7f2DyJWRrOg9H+P5+j2ns3Udj7+xY7f3S6Cq3fJl105HEkHmNtsw9PQzAVj5wP3Uvv9ewIlEpDtUgIiISFc4UN+hLR1o6tB2NvA28CAwBdgFWBrDuo7H39ix27sKyG+3jIj9VCSR5B90MHkT94dwmLLrrqF5Tcc6WEQShQoQERHpilIiv+i3lxNtb+Puq939THc/msh9IiOAeZtbt5Hj53Y8doef0+Du1a0LkSsmkoTMjMIzzyZ91Cha1q6l7Lpr8JaWoGOJyBZQASIiIl0xHxgRHTpFu5mt3uhknyuA+9x9YQzrngO2a7d+DPBCtxJL0ghlZlIy/RIsM5O6f/+blQ/M2/xOItLnqAAREZGYuXsp8DRf3xh+CHCLu9eb2XQzG9t+ezM7DRhCZEpdYlh3G3BQdH0qkZvb7+jZs5BElj58OMPOPR+ANY/+lXVvvRlwIhHpKhUgIiLSVZOBH5rZTOCbwKXR9hOJ3FCOmR1gZjOAQuAwd28bGtXZOndfBNxtZnOAa4GL3L08HicliSN3730oOOJIAMpvmEvTihUBJxKRrjB3DzqDREWnkKyqqqoiLy8v6DgikoSqq6vJz88HyI/eM5FU1I/2H97UxPLLLqV+2X/I2HZbRl55FaH09KBjST+Q7P1oPOgKiIiIiCQcS0ujeNoMQjm5NHz8MZV/vCvoSCISIxUgIiIikpDShg6l+IILAah65mmq//VisIFEJCapQQcQEYmHlpYWmpo6e5xEckhLSyMlJSXoGCJxM+DbuzJo0gmsfvghVtx2Kxlbb0PGyJFBxxKRTqgAEZGk5u6Ul5ezdu3aoKPETUFBAcOGDcPMgo4iEheDf/Aj6pZ+SN1771E252pG/W42oaysoGOJyCaoABGRpNZafBQWFpKdnZ3Uv5S7O7W1tVRUVABQXFwccCKR+LCUFIovmsbn06fS+OWXrPj9rQy74KKk/vcukshUgIhI0mppaWkrPgYPHhx0nLjIin7qW1FRQWFhoYZjSb+Rml9AydTpLL98JjX/eomscTtQcOhhQccSkY3QTegikrRa7/nIzs4OOEl8tZ5vf7jnRaS9rHE7MOTkUwCovOtO6j/6KOBEIrIxKkBEJOn1t2EY/e18RdobePT3GDBhd7y5mdI5V9NSU7P5nUQkrlSAiIiISNIwM4adP4W0YcNorqyk/Mbr8XA46Fgi0o4KEBEREUkqKQNyKJ5+MZaWxvq332LNY48GHUlE2lEBIiIiIkknc/Q2FJ5xFgArH7if2vffCziRiLRSASIiIiJJKe/Ag8ibuD+Ew5Rddw3Na1YHHUlEUAEiIiIiScrMKDxrMumjtqJl7VrKrr0Gb2kJOpZIv6cCRET6DXcnXF/frcXdgz4NEemCUEYGJTMuJpSVRd0H/2blvPuDjiTS7+lBhCLSb3hDAx+d9KNuHWPM/X/GMjNj2rauro5bbrmFBQsWcPrpp7Nq1Sreeecdvve97zFx4sRu5RCR2KWXDKfo3PMpu2Y2ax57hKzttydntwlBxxLpt3QFRESklzz22GOceeaZVFRUUFtbyymnnMKZZ57JRRdd1Ol+LRoiItLjcvfam4IjjgKg/MbraVqxIuBEIv2XroCISL9hGRmMuf/P3T5GrA4//HAyMzNZtmwZxx13HADLly+noqKibZsFCxawcOFCSkpKcHfee+89DjnkEHbZZReuuuoqJk6cyIIFC5g2bRrz589n7ty5/POf/+zWOYj0V0NPOZX6Zf+hftl/KJ1zNSP/73eE0tODjiXS7+gKiIj0G2ZGKDOzW0tXnjJeUFDAG2+8wYQJE0hNjXze889//pODDjoIgFmzZvHmm28yZcoUjj/+eCZNmkRVVRV77LEH99xzD+PGjePAAw+kqamJt99+myOPPJKmpqZe+bMR6Q8sLY3iaTMI5ebS8MknVN59V9CRRPolFSAiIr3oxRdfZPz48QBUVlby5JNP8pvf/IbFixfzxBNPcOGFF26w/WWXXUZKSgoffPABo0aNAmDUqFEsWrQo3tFFklLa0KEUX3ARmFH1j6epfunFoCOJ9DsqQEREetGLL76Iu3P//ffzf//3fzz00ENstdVWPPPMMxxxxBFt27388stMnTqVefPmARAOh9uumrS0tLR9LyLdN2CXbzPo+BMAWHHbLTQsXx5wIpH+Re9oIiK9pLm5mUWLFvH3v/+d1NRUTjrppLZ1o0ePZvHixW2v99lnH84//3zmz58PwPjx4yktLQXg448/5vDDD49rdpFkN/gHP6R+6YfUvreYstlXM+rq2YSysoKOJdIv6AqIiEgvefPNN9lhhx02evVi0qRJFBQUcN111/HII4/w2GOPceqpp1JQUADASSedxDvvvMMLL7yAu7P33nszb948PvvsMx544AEaGhrifDYiycVSUhh20VRSBg2i8asvWXHrLXrOj0icmP6xxcbMBgCzgDVADnCJuzd02GYi8EKHXd9y991i/Bl5QFVVVRV5eXndzizS39XX1/Ppp58yevRoMmN8dkdP+fe//83Pf/5zKioqmDNnDoceemjcfnZn511dXU1+fj5AvrtXxy1UnKgfla6q+3AJyy+7FMJhCs88i4LDjtj8TtKvJXs/Gg8aghW7W4FH3f1RMzsFuAqY2mGbA4AfAK2DSfdHf8Yi/dKOO+7Ic889F3QMEdmMrO3HMfTkU6n8091U3H0XmWO+QeaYbwQdSySpaQhWDMysBDgBeCra9BQw2cxyO2x6p7s/5O6vuftrwDbAo3GMKiLS68xsgJndbGZXmtlcM/uvh6OYWXp03ZVmdpeZHdRh/a/MbGb065XWbn7j6PFXm5lHl+PicV7SfxUcfQw5u+8Bzc2UzplFS01N0JFEkpoKkNhMBFa6ez2Au1cCjcCE9hu5+xet35tZCBjn7u/HMaeISDzcCjzr7jOBhUSuCHd0OVAW3eZ84NbohzmY2VHAaHe/0t1/C5QQuXrc6mfA2cDB0eXxXjsTESLPCCo6bwppw4bRXFlJ+Y3X4+Fw0LFEkpYKkNgMB1Z3aKsh8qa5KXsCr3Z2UDPLMLO81gXoeEVFRKRP6cIV4dOA9wHcvZZIf3hedN04Nuzv6oD86PFTgKOAxe7+bHRp6YVTEdlAyoABFE+/GEtPZ/3bb7HmsUeCjiSStFSAxMaB+g5t6UBnjyQ+js0Pv/olUNVu+XJLA4qIxMlEYrgiTKTAGN7u9XJgp+j3jwPHmNkkMxsIDAHuja47BNgb+NDMnjGzws7C6IMc6UmZo7eh8IyzAFj5wDxq33sv4EQiyUkFSGxKiX46105OtH1Tdgde28xxr4oet3UZsaUBRUTiJNYrwv8gcmUky8zSgfFE33PcfSnwY+AeYB7wU3evi657ikgRsV/0Zz0RHdK6KfogR3pU/oEHkXfAgRAOU3bdHJpXd/zrLiLdpQIkNvOBEdE30dYhCABvbGxjM9sJ+MDdOx1A6u4N7l7duhB5ExcR6ctivSJ8NvA28CAwBdgFWNpufSZwDLAt8ICZtc0Y6BEvEZlJcAywRyd59EGO9LjCM84ifdRWtFRVUXbtHLxFowBFepIKkBi4eynwNJFP5CAyROAWd683s+lmNrbDLsei2a9EJDnFdEXY3Ve7+5nufjSR+0RGELna0frMpO+4+7NEhnTtwn9Pa946vOtBYOSmwuiDHOkNoYwMSmZcTCgri7olH7By3n1BRxJJKipAYjcZ+KGZzQS+CVwabT+RyNCC9vYHno9jNhGReJlPF64IR10B3OfuC6OvJwHLoO0DnpnAvpvYtxl4t3uRRbouvWQ4RedNAWDNY4+y7s3O/oqLSFeoAImRu6909zOi00ZOdffGaPuu7v5wh20PbF0vIpJMunpF2MxOI3KT+bntmt8lctWj7bBECxgz+56ZjYt+Pxaojt4zIhJ3uXvuRcFRRwNQfuP1NJaXB5xIJDmoABERka7a7BVhMzvAzGYAhcBh7t5+aNRdQIWZ/cLMziByn8fV0XUTgNfN7Eki0/Fe1utnI9KJoT85hcyxYwmvX0/ZNbMIN+rzRZHuMncPOoNERaeQrKqqqiIvLy/oOCIJr76+nk8//ZTRo0eTmZkZdJy46ey8q6uryc/PB8iP3jORVNSPSm9oWlnJ59OnEq6pIf/gQyiafO7md5Kklez9aDzoCoiIiIhIJ9KGDKX4wqlgRtU//0H1/BeCjiSS0FI3v4mISHJwdxpaGrp1jIyUDMyshxKJSKIY8K1dGHTCD1j94F9YcfttZGyzDRmjtgo6lkhCUgEiIv1GQ0sDZz53ZreOcceBd5CZGvtwrqamJn79618zfPhwWlpaWL16NUcccQS77bZbt3KISPwNnvQD6pd+SO2iRZTOnsVWs+YQysoKOpZIwtEQLBGRXnTmmWdSWFjIueeeyzHHHMPVV1/NzjvvvMntW/TAM5E+y1JSGHbBVFIHDaap9CtW3HozupdWpOt0BURE+o2MlAzuOPCObh8jVu+++y6PPPIIt912GwCLFy9mjz32ID09HYAFCxawcOFCSkpKcHfee+89DjnkEJ5++mkmTpzIggULuPzyy1m/fj3z589n7ty5/POf/+xWfhHpntT8fIqnzWD55ZdSs+BlssbtQMHhRwQdSySh6AqIiPQbZkZmama3lq7c//H888+zzz77tM1E9dxzz7HffpHHZ8yaNYs333yTKVOmcPzxxzNp0iSqqqp49913GTduHAceeCBNTU289NJLDBgwgCOPPJKmpqZe+XMRka7J2n57hp5yKgAVf7yLumX/CTiRSGJRASIi0ksKCgooKioCoKqqiscff5x9992XxYsX88QTT3DhhRdusP1ll13G0qVLGTVqFACjRo1i0aJF8Y4tIjEoOPJocvbYE5qbKZszm5YazcYqEisVICIiveRHP/oRAPPmzeP3v/89X331FXvssQfPPPMMRxzx9ZCNl19+malTpzJv3jzC4TCpqZHRsS0tLW3fi0jfYmYUnTeFtOISmldWUnb9XDwcDjqWSEJQASIi0kuys7O5++67+fGPf8z48ePZbbfdyMrKYvTo0dTV1bVtt88++/D8889z8sknM378eEpLSwH4+OOPGTt2bFDxRWQzUrKzKZl+MZaeTu07C1n9yF+DjiSSEFSAiIjEweuvv952/8ekSZMoKCjguuuu45FHHuGxxx7j1FNPpaCggJNOOol33nmHF154AXdn4sSJNDQ0MG/ePD777DMeeOABGhq69ywTEek5GVtvTeGZZwOw6i8PULtYwyZFNsc0fVzfYWZ5QFVVVRV5eXlBxxFJePX19Xz66aeMHj267UbwIFxzzTXMmjWL3XffnVmzZrH99tv36s/r7Lyrq6vJz88HyHf3pBu0rn5UglJ+841UP/8cKfn5jJp9LWmDBwcdSXpJsvej8aArICIivWzatGmsWLGCxx9/vNeLDxEJRuEZZ5G+1da0VFVRft0cvLk56EgifZYKEBEREZFuCmVkUDL9YkLZ2dQtWcLK++8LOpJIn6UCRERERKQHpJeUUHTeFADWPP4Y615/LeBEIn2TChARERGRHpK7x54UHHUMAOU33UBjeVnAiUT6HhUgIiIiIj1o6MmnkDl2e8K1tZTNmUVYM9eJbEAFiIgkvf42219/O1+RvsZSUymeNp2UvDwaPv2UyrvuDDqSSJ+iAkREklZaWhoAtbW1ASeJr9bzbT1/EYm/tMFDGHbhVDCj6tl/UvXC80FHEukzUoMOICLSW1JSUigoKKCiogKIPJnczAJO1XvcndraWioqKigoKCAlJSXoSCL92oCdv8XgH/yIVX95gIrbbyNzm23I2GrroGOJBE4FiIgktWHDhgG0FSH9QUFBQdt5i0iwBk06gboPl1C76F1K58xiq1nXEMrKCjqWSKD0JPQ+RE/wFek9LS0tNDU1BR2j16WlpXV65SPZn+CrflT6ouaqKr6YMZXmVavI2XMviqfNSOqrscku2fvReNAVEBHpF1JSUjQkSUQCkZqfT/G0GSy/7FLWvfoKa5/6GwOPOCroWCKB0U3oIiIiIr0sa+z2DD3lNAAq//RH6v6zNNhAIgFSASIiIiISBwVHHkXOnntBczNl18ympUajd6R/0hAsERHpEjMbAMwC1gA5wCXu3tBhm/ToNuuAEmCeuz/bbv2viHwIFgaygcs8elOimR0DHAhkAA+3308kkZkZReeeT8Nnn9FUVkrZ9XMZ/quZWEifB0v/or/xIiLSVbcCz7r7TGAhcNVGtrkcKItucz5wq5mVAJjZUcBod7/S3X9LpED5QXTd9sBM4ELgXGCWmQ3v5fMRiZuU7GxKZlyMpadT+85CVj/ycNCRROJOBYiIiMQsWkScADwVbXoKmGxmuR02PQ14H8Dda4FXgfOi68YB7bevA/Kj318IPO0R4eh+5/TsWYgEK2OrrSk8azIAq/78AOsXLQo4kUh8qQAREZGumAisdPd6AHevBBqBCR22ywXaX7lYDuwU/f5x4Bgzm2RmA4EhwL3RdQcAn7fbbxmw36bCmFmGmeW1LmxY2Ij0Wfn7H0DeQQeDO+Vzr6Vp1aqgI4nEjQoQERHpiuHA6g5tNUSGUbX3DyJXRrKi94OMJ/qe4+5LgR8D9wDzgJ+6e90mjr+xY7f3S6Cq3fJlV09IJCiFPzuDjNGjaamuouzaOXhzc9CRROJCBYiIiHSFA/Ud2tKBjk95PBt4G3gQmALsArSfdzQTOAbYFnjAzFonRel4/I0du72riAzfal1GxHoiIkELZWRQPP1iQtnZ1H+4hJX337v5nUSSgAoQERHpilK+vl+jVU60vY27r3b3M939aCL3iYwgcrUDM5sIfCc6u9VEIsXJ1E0cP7fjsTv8nAZ3r25diFwxEUkY6cOKKTr/5wCsefz/UfP6awEnEul9KkBERKQr5gMjosOqWm9KB3ijk32uAO5z94XR15OI3NuBu5cSmfVq3+i654Dt2u07BnihR5KL9FG5u+/BwGO+B8CKm26gsbws4EQivUsFiIiIxCxaMDzN1zeGHwLc4u71ZjbdzMa2397MTiNyk/m57ZrfJXLVo+2wfF3A3AYcFN03lcjN7Xf07FmI9D1DTjqZzO3HEa6tpWzOLMINDZvfSSRBqQAREZGumgz80MxmAt8ELo22n0jkZnPM7AAzmwEUAoe5e/uhUXcBFWb2CzM7g8hVjqsB3H0RcLeZzQGuBS5y9/J4nJRIkCw1leKp00nJy6fh00+puOvOoCOJ9BqLPnhW+oDoFJJVVVVV5OXlBR1HRJJQdXU1+fn5APnReyaSivpRSXTrFy3iq//9NbhTdN4U8g84MOhI0kGy96PxoCsgIiIiIn3EgJ13ZvAPfwRAxR2/p+Gzz4INJNILVICIiIiI9CGDjj+B7G/tgjc2UjpnFi21tUFHEulRKkBERERE+hALhSi+4CJShwyhqayUFbfchIbMSzJRASIiIiLSx6Tk5VE8bQakprLu1VdY+7cng44k0mNUgIiIiIj0QVnbjWXoqacBUHnPH6lb+mGwgUR6iAoQERERkT6q4PAjydlrb2hpoeya2bRUa9IlSXwqQERERET6KDNj2Lnnk1YynOZVqyibey3e0hJ0LJFuUQEiIiIi0oeFsrIomXExlp5O7aJ3Wf3Xh4OOJNItKkBERERE+riMUVtRdPY5AKx68M+sX/RusIFEukEFSIzMbICZ3WxmV5rZXDPL6GTbbDO7yMxOMbM94plTREREklPexP3JP+hgcKd87rU0rVoZdCSRLaICJHa3As+6+0xgIXDVxjYys0HAQ8Bj7n6Pu78Wx4wiIiKSxIaefiYZo7ehpbqasmtm483NQUcS6TIVIDEwsxLgBOCpaNNTwGQzy93I5n8GZrv7p/HKJyIiIv1DKD2d4ukzCGVnU790KZX33hN0JJEuUwESm4nASnevB3D3SqARmNB+IzM7CvgGMMHM/m5mV5lZWrzDioiISPJKH1bMsCkXALD2ycepee3VgBOJdI0KkNgMB1Z3aKsBSjq0nQS8DswFTo6+/t9NHdTMMswsr3UBNnZFRURERGQDORN2Z+AxxwKw4qYbaCwtDTaQSBeoAImNA/Ud2tKBpg5tOwIvu3uju68C7gBO6eS4vwSq2i1f9kxcERERSXZDTvoJWePGEa6ro3TOLMINDUFHEomJCpDYlAL5Hdpyou3tpQIp7V4vBgZ1ctyrosdtXUZ0L6aIiIj0F5aaSvHUGaTk59P4+WdU3Hl70JFEYqICJDbzgRFmlg5tN6UDvNFhu8VE7gFp1Qx8uKmDunuDu1e3LkSGdYmIiIjEJHXQIIovnAqhENXPP0fVc88GHUlks1SAxMDdS4Gngf2iTYcAt7h7vZlNN7Ox0fbrgSPbPSNkL+DG+KYVERGR/iT7mzsz+IcnAlBx5+00fKaJOKVvUwESu8nAD81sJvBN4NJo+4nAeAB3fxW4DLjRzKYB9e7+hyDCioiISP8x6PvHk73Lt/HGRkpnz6Jl/fqgI4lskrl70BkkKjoTVlVVVRV5eXlBxxGRJFRdXU1+fj5AfnToZ1JRPyr9WUtNNZ9Pn0rzypXk7LEnxdMvxsyCjpV0kr0fjQddARERERFJAim5eRRPuxhSU1n32qusffKJoCOJbJQKEBEREZEkkbXddgw99acAVN77J+o+3ORcOCKBUQEiIiIikkQKDj+C3L33gZYWyq6ZTXNVVdCRRDagAkRERLrEzAaY2c1mdqWZzW0381/7bdKj6640s7vM7KB26yaamXdY3uxw/NXt1h0Xr3MTSQZmRtE555FWMpzm1asov/46vKUl6FgibVSAiIhIV90KPOvuM4GFRB6q2tHlQFl0m/OBW9s9Q+kA4AfAntHlV8Dj7fb9GXA2cHB0ab9ORGIQysqiZMYlWEYGtYveZfVfHwo6kkgbFSAiIhKzaBFxAvBUtOkpYLKZ5XbY9DTgfQB3rwVeBc6LrrvT3R9y99fc/TVgG+DR6PFTgKOAxe7+bHTRR7ciWyBj1CiKzpoMwKoH/8L6d98JOJFIhAoQERHpionASnevB3D3SqARmNBhu1xgeLvXy4Gdovt80dpoZiFgnLu/H206BNgb+NDMnjGzwt44CZH+Im/i/uQfcii4Uzb3WppWVgYdSUQFiIiIdMlwYHWHthqgpEPbP4hcGckys3QiD2zd2HvOnkSujgDg7k8RKV72i/6sJ6JFykaZWYaZ5bUu0X1FpJ2hPz2djG22IVxTQ9m1c/CmpqAjST+nAkRERLrCgfoObelAx99ozgbeBh4EpgC7AEs3crzjiA6/avsBES8B+wNjgD06yfNLoKrd8mVMZyHSj4TS0ymedjGhAQOoX7qUyvvuCTqS9HMqQEREpCtKgfwObTnR9jbuvtrdz3T3o4ncJzICmLeR4+0OvLaxHxQd3vUgMLKTPFdF87QuI2I4B5F+J33YMIZNuQCAtU8+Qc2rrwScSPozFSAiItIV84ER0WFVtJvZ6o1O9rkCuM/dF7ZvNLOdgA/cPdzJvs3Au5ta6e4N7l7duhAZDiYiG5Gz2wQGHhuZ1XrFzTfSWFq6mT1EeocKEBERiZm7lwJPE7lHAyI3jd/i7vVmNt3Mxrbf3sxOA4YA527kcMfSYfiVmX3PzMZFvx8LVLv7xoZuicgWGPLjn5C1w46E6+oonTOLcEND0JGkH1IBIiIiXTUZ+KGZzQS+CVwabT+RyM3mmNkBZjYDKAQOc/eNXZnYH3i+Q9sE4HUze5LIdLyX9UJ+kX7LUlIonjqNlIICGj//jIo7bw86kvRD5u5BZ5Co6AwuVVVVVeTl5QUdR0SSUHV1Nfn5+QD50SFLSUX9qEhsat97jy9/cwWEwxSdez75Bx4UdKSEkez9aDzoCoiIiIhIP5M9fjyDf3QiABV33k79p58EnEj6ExUgIiIiIv3QoOOOZ8C3d8UbGymbM4uW9euDjiT9hAoQERERkX7IQiGG/fxCUocOpam8nBU334iG5ks8qAARERER6adScnMpmX4xpKay7vXXWPvE40FHkn5ABYiIiIhIP5Y55hsU/vRnAFTedw91Hy4JOJEkOxUgIiIiIv1c/qGHk7vPd6GlhbJr5tBctTboSJLEVICIiIiI9HNmRtHkc0kfMYLm1ason3sd3tISdCxJUipARERERIRQVhbF0y/BMjKoXbyIVQ/+JehIkqRUgIiIiIgIABkjR1J0zrkArP7rQ6x/Z2HAiSQZqQARERERkTZ5392P/EMOA3fKrr+OpsrKoCNJklEBIiIiIiIbGPrTn5Gx7baEa2oou2Y23tQUdCRJIipARERERGQDofR0SqZdTGjAAOqX/YfKe/4UdCRJIipAREREROS/pBUVMWzKBQCs/fuT1LyyIOBEkixUgIiIiIjIRuXsNoGBxx0PQPnNN9L41VcBJ5JkoAJERERERDZpyIk/JmvHHfH6ekrnXE24oSHoSJLgVICIiIiIyCZZSgrFF00jpaCAxi++oOL223D3oGNJAlMBIiIiIiKdSh04iOKLpkEoRPX8F6h+7tmgI0kCUwEiIiIiIpuVvdN4hpx4EgAVd95O/SefBJxIEpUKEBERERGJycBjj2PArt/Bm5oom3M1LevXBR1JEpAKEBERERGJiYVCDJtyAalDh9K0YgXlN92o+0Gky1SAiIiIiEjMUnJzKZl+CZaayvo3XmfNE/8v6EiSYFSAiIiIiEiXZI4Zw9Cfng7AynvvofaDfwecSBKJChARERER6bL8Qw8j97v7QjhM2bVzaF67NuhIkiBUgIiIiIhIl5kZRWefQ/qIEbSsWUPZ3GvwlpagY0kCUAEiIiJdYmYDzOxmM7vSzOaaWcZGtkmPrrvSzO4ys4ParZtoZt5hebPd+mPM7Hozu639fiLS94SysiiecQmWmUnde++x6sE/Bx1JEoAKEBER6apbgWfdfSawELhqI9tcDpRFtzkfuNXMSqLrDgB+AOwZXX4FPA5gZtsDM4ELgXOBWWY2vPdORUS6K2PESIomnwPA6ocfYv3CtwNOJH2dChAREYlZtIg4AXgq2vQUMNnMcjtsehrwPoC71wKvAudF193p7g+5+2vu/hqwDfBodN2FwNMeEY7ud04vnY6I9JC87+5H/mGHA1B2/VyaKisDTiR9mQoQERHpionASnevB3D3SqARmNBhu1yg/ZWL5cBO0X2+aG00sxAwzt3fjzYdAHzebr9lwH49mF9EesnQ035GxrZjCK+roeyaWTRVVOieENmo1KADyJYrXVfKQ8seCjpGr0kJpRAiRMi+XsyMECEwMIyQfV1DW/Q/7OvX7b9GX/wX21ij9GvuTtjDhAlHvkYXJ9Letg1hcPDof+33BzZo6+rP74pzvnkO6SnpW/SztsBwYHWHthqgpEPbP4hcGbkXaAHGs9F/gexJ5CrHpo6/sWO3id5/0v4elI5XYkQkTkJpaZRMn8HnM6ZRv2wZn55zFqSmkjZkCGlFRaQVFhHKyg465kYVHHY4aUVFQcfoN1SAJLB1Tet4q+KtoGOISMBaPK6fMDpQ36EtHWjq0HY2cDXwIDAf2AX4y0aOdxzwSCfH39ix2/slcMXmQotIfKQVFlEy/RIq/nAHjWWl0NxMU3k5TeXlQUfrVM7uu6sAiSMVIAmsMLuQU8edGnSMXtP2yTNhwuHIV3ff4FPotk+jo580d/bJ88Y+Vd7ST6gl+bW/8tb+SpyZbXD1baNX4SIv2tp6W1oordd/RjulQH6Htpxoext3Xw2cCWBmOwBzgHkbOd7uwMWdHD+347E7uAq4tsP2X3ayvYj0suzx49l67g14SwvNa1bTtGJFZKmowBsago63UakDBwUdoV9RAZLACjIKOGiUZqgUkbiaD9xuZunu3thuZqs3OtnnCuA+d1/YvtHMdgI+iN5s3uo5YLt2r8cAL2zqwO7eALT9RmOmIZUifYWlpJA2ZChpQ4bCjjsFHUf6EN2ELiIiMXP3UuBpvr4x/BDgFnevN7PpZja2/fZmdhowhMiUuh0dy9ezX7W6DTgoum8qkZvb7+ip/CIiEjxdAYmRmQ0AZgFriAw3uCT6ydvGtlsODIw2fd/dO77BiogkssnA78xsd2AQ8Ito+4nAZ8BSMzsA2JXIYLTD3H1j93HsT6RfbePui8zsbjObQ+T+j4vcvW8PHhcRkS6xrs620l+Z2T3Ao+7+qJmdAnzL3aduZLspQDmRQgXgBffY7hA1szygqqqqiry8vJ6KLiLSprq6mvz8fIB8d68OOk9PUz8qIr0t2fvReNAQrBjE+uAtM0sBjgIWu/uz0UUTYIuIiIiIRKkAic1EYnvw1iHA3sCHZvaMmRV2dlAzyzCzvNYFzV8vIiIiIklOBUhsYnrwlrs/RaSI2C+6zxPRp/xuyi+BqnaLpo4UERERkaSmAiQ2sT54C494icjNlWOAPTo57lVE5rtvXUb0SFoRERERkT5Ks2DFJqYHb7Xn7pVm9iAwspNtNjp/fXW17mcSkd7RX/qX/nKeIhJ/6l+6TwVIbObT9QdvATQD73bh5+QCjBy5yZpFRKSn5ALJ+C6qflRE4iVZ+9FepwIkBu5eamatD976Jx0evAU84e5Lzex7wH/cfUn0YVzV7r60Cz+qlMgwrJou7JNL5N6Rru7XlyXjOUFynpfOKXG0Py/o5ApuglM/GpGM5wTJeV46p8TRX/rRXqcCJHabffAWkVmx7jWzl4AXgMu68gM88lCWr7qyT+uwLaAmWeaiTsZzguQ8L51T4kjW8+pI/WhEMp4TJOd56ZwSR7KeVxBUgMTI3VcCZ2ykfdd2318KXBrPXCIiIiIiiUSzYImIiIiISNyoAEl8DcD/0G42rSSQjOcEyXleOqfEkazn1ROS8c8mGc8JkvO8dE6JI1nPK+4sMlxWRERERESk9+kKiIiIiIiIxI0KEBERERERiRsVICIiIiIiEjcqQEREREREJG5UgCQwMxtgZjeb2ZVmNtfMMoLO1BPM7HAze8PMtg46S08ws++b2admtsrMrjezpHj+jpntZWYfmNlaM7s+6Dw9yczSzWyRmU0MOktPMbNLzcyjy6Kg8/QVydqPQnL1pepHE4/6UelMUvwD7sduBR5190fN7BTgKmBqwJm6xcwKify93C3oLD3BzEYBxwKTgHHAbcByYE6AsbrNzHKAicDewF7AY2b2hLs/G2iwnnMxsHXQIXpK9JfqkcDB0abPA4zT1yRdPwrJ1ZeqH01Y6kdlkzQNb4IysxLgY2Cgu9eb2VAi/xiK3L0m2HTdY2YhoAUY7e6fBRynW8zsu8Cr7t4cfX01sJO7Hxlssu4xs0ygwaMdiJm9Bcxw9xeCTdZ9ZrY3sB1wBXCau88PNlH3mdkZwGDgRnevDTpPX5HM/SgkT1+qfjTxqB+VzdEQrMQ1EVjp7vUA7l4JNAITggzVE9w9HHSGnuLu/2p904wqBb4IKk9Pcff6dm+aA4APgfmBhuoB0U8kj3f3u4PO0sN+AvwWKDeznwQdpg+ZSJL2o5A8fan60cSiflRioQIkcQ0HVndoqwFKAsgisduNyJCPpGBmBwH/ANKA7IDj9IRLgN8FHaKnuftEoBC4HrjHzBL6k+MepH40Makf7dvUj8pmqQBJXA7Ud2hLB5oCyCIxMLNvACvcfXHQWXrQ+8CdwIHA7ICzdIuZHQ687u4VQWfpDe6+yt0vA64ELgg6Tx+hfjTBqB/t29SPSqxUgCSuUiC/Q1tOtF36mOiMLWcBvww6S09y9/LoZfZpwH5B5+mmacB90dlo1gKjgCfN7BfBxupxNxO5kVLUjyYU9aMJQf2oxESzYCWu+cDtZpbu7o3RmykB3ggwk2zaDGC2uzcGHaSXLAS+CjpEN/0EyGz3+mVgOvB0MHF6TZjI/y9RP5po1I/2fepHJSa6ApKg3L2UyD/o1k9LDgFuab2ZMpGZmbV+G2iQHmJmM4G3gWwz28bMfmZmY4LO1R1mlmlmu7ZrOhy4Iag8PSH6KeRnrQvQDJS7+9pgk3WPmQ0xs9PMLCX6b2s6MDPoXH1BMvejkFx9qfrRxKB+VGKlKyCJbTLwOzPbHRgEJPwlzujsGSdHX55qZje5+8ogM3WHmV0G/KZD84fuflcQeXrQWODvZvYx8Arwlrs/GXAm2bhc4DLgV8C/gGvd/dNgI/UpSdePQnL1pepHpQ9QP9rD9BwQERERERGJGw3BEhERERGRuFEBIiIiIiIicaMCRERERERE4kYFiIiIiIiIxI0KEBERERERiRsVICIiIiIiEjcqQEREREREJG5UgIiIiIiISNyoABERERERkbhRASIiIiIiInGjAkREREREROLm/wPWYOirxilr+wAAAABJRU5ErkJggg==' width=800.0/>\n",
       "            </div>\n",
       "        "
      ],
      "text/plain": [
       "Canvas(toolbar=Toolbar(toolitems=[('Home', 'Reset original view', 'home', 'home'), ('Back', 'Back to previous …"
      ]
     },
     "metadata": {},
     "output_type": "display_data"
    }
   ],
   "source": [
    "plt.close('all')\n",
    "fig, axes = plt.subplots(nrows=1,ncols=2, figsize=(8, 3), frameon=False, dpi=100, squeeze=False)\n",
    "\n",
    "axes[0,0].plot(model.Time, model.get_values('p_s_G01'), label=\"$p_{G01}$\")\n",
    "axes[0,0].plot(model.Time, model.get_values('q_s_G01'), label=\"$q_{G01}$\")\n",
    "\n",
    "#axes[0,1].plot(model.Time, model.get_values('V_G01'), label=\"$V_{G01}$\")\n",
    "axes[0,1].plot(model.Time, model.get_values('omega_coi'), label=\"$V_{G01}$\")\n",
    "\n",
    "for ax in axes.flatten(): \n",
    "    ax.legend()"
   ]
  },
  {
   "cell_type": "code",
   "execution_count": 12,
   "metadata": {},
   "outputs": [
    {
     "name": "stdout",
     "output_type": "stream",
     "text": [
      "V_G01 =  1.00\n",
      "theta_G01 =  0.10\n",
      "V_POI =  1.00\n",
      "theta_POI =  0.00\n",
      "i_si_G01 = -0.05\n",
      "i_sr_G01 =  0.01\n",
      "p_s_G01 = -0.00\n",
      "q_s_G01 =  0.05\n",
      "p_dc_G01 =  0.01\n",
      "v_td_ref_G01 = -0.00\n",
      "v_tq_ref_G01 =  1.01\n",
      "e_vq_G01 =  1.01\n",
      "m_G01 =  0.84\n",
      "theta_t_G01 =  0.10\n",
      "omega_POI =  0.97\n",
      "i_d_POI =  0.01\n",
      "i_q_POI = -0.10\n",
      "p_s_POI = -0.10\n",
      "q_s_POI =  0.01\n",
      "omega_coi =  0.97\n",
      "p_agc =  0.00\n"
     ]
    }
   ],
   "source": [
    "model.report_y()"
   ]
  },
  {
   "cell_type": "code",
   "execution_count": null,
   "metadata": {},
   "outputs": [],
   "source": []
  }
 ],
 "metadata": {
  "kernelspec": {
   "display_name": "Python 3 (ipykernel)",
   "language": "python",
   "name": "python3"
  },
  "language_info": {
   "codemirror_mode": {
    "name": "ipython",
    "version": 3
   },
   "file_extension": ".py",
   "mimetype": "text/x-python",
   "name": "python",
   "nbconvert_exporter": "python",
   "pygments_lexer": "ipython3",
   "version": "3.9.13"
  }
 },
 "nbformat": 4,
 "nbformat_minor": 4
}

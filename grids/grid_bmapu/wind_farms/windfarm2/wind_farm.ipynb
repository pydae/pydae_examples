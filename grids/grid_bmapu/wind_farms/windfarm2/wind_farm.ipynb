{
 "cells": [
  {
   "cell_type": "code",
   "execution_count": 1,
   "metadata": {},
   "outputs": [],
   "source": [
    "%matplotlib widget"
   ]
  },
  {
   "cell_type": "code",
   "execution_count": 2,
   "metadata": {},
   "outputs": [],
   "source": [
    "import numpy as np\n",
    "import scipy.optimize as sopt\n",
    "import matplotlib.pyplot as plt\n",
    "from pydae.plot_tools import set_style\n",
    "\n",
    "colors = set_style(plt)\n"
   ]
  },
  {
   "cell_type": "markdown",
   "metadata": {},
   "source": [
    "<img src=\"./png/wind_farm.png\" width=\"800\">\n",
    "\n"
   ]
  },
  {
   "cell_type": "code",
   "execution_count": 2,
   "metadata": {},
   "outputs": [],
   "source": [
    "import wind_farm "
   ]
  },
  {
   "cell_type": "code",
   "execution_count": 3,
   "metadata": {},
   "outputs": [],
   "source": [
    "model = wind_farm.model()"
   ]
  },
  {
   "cell_type": "code",
   "execution_count": 8,
   "metadata": {},
   "outputs": [
    {
     "name": "stdout",
     "output_type": "stream",
     "text": [
      "V_W1lv =  1.00\n",
      "theta_W1lv =  0.00\n",
      "V_POI =  1.00\n",
      "theta_POI =  0.00\n",
      "omega_POI =  1.00\n",
      "i_d_POI =  0.00\n",
      "i_q_POI =  0.00\n",
      "p_g_POI =  0.00\n",
      "q_g_POI =  0.00\n",
      "p_m_POI =  0.00\n",
      "i_d_ref_W1lv =  0.00\n",
      "i_q_ref_W1lv =  0.00\n",
      "p_W1lv =  0.00\n",
      "q_W1lv = -0.00\n",
      "e_qv_W1lv =  1.00\n",
      "omega_coi =  1.00\n",
      "p_agc =  0.00\n"
     ]
    }
   ],
   "source": [
    "params = {\n",
    "    \"K_i_agc\":1.0,\n",
    "    \"K_sec_POI\":0.1,\"S_n_POI\":20e6,\"v_ref_POI\":1.0,\"K_delta_POI\":0.1,\n",
    "    \"p_ref_W1lv\":0.0,\"q_ref_W1lv\":0.0,\n",
    "    'q_ref_W1lv':0.0,\n",
    "}\n",
    "model.ini(params,'xy_0_2.json')\n",
    "#model.ini(params,'xy_0_2.json')\n",
    "model.ini(params,1)\n",
    "\n",
    "#grid.save_xy_0('xy_0.json')\n",
    "model.report_y()"
   ]
  },
  {
   "cell_type": "code",
   "execution_count": 7,
   "metadata": {},
   "outputs": [
    {
     "name": "stdout",
     "output_type": "stream",
     "text": [
      "Input or parameter K_sec_GRID not found.\n",
      "Input or parameter S_n_GRID not found.\n",
      "Input or parameter v_ref_GRID not found.\n",
      "Input or parameter K_delta_GRID not found.\n",
      "Input or parameter p_ref_W2lv not found.\n",
      "Input or parameter q_ref_W2lv not found.\n",
      "Input or parameter Q_STlv not found.\n",
      "Input or parameter K_W1lv not found.\n",
      "Input or parameter K_W2lv not found.\n",
      "Input or parameter K_q_W2lv not found.\n",
      "Input or parameter K_sec_GRID not found.\n",
      "Input or parameter S_n_GRID not found.\n",
      "Input or parameter v_ref_GRID not found.\n",
      "Input or parameter K_delta_GRID not found.\n",
      "Input or parameter p_ref_W2lv not found.\n",
      "Input or parameter q_ref_W2lv not found.\n",
      "Input or parameter Q_STlv not found.\n",
      "Input or parameter K_W1lv not found.\n",
      "Input or parameter K_W2lv not found.\n",
      "Input or parameter K_q_W2lv not found.\n",
      "V_W1lv =  1.00\n",
      "theta_W1lv =  0.00\n",
      "V_POI =  1.00\n",
      "theta_POI =  0.00\n",
      "omega_POI =  1.00\n",
      "i_d_POI =  0.00\n",
      "i_q_POI =  0.00\n",
      "p_g_POI =  0.00\n",
      "q_g_POI =  0.00\n",
      "p_m_POI =  0.00\n",
      "i_d_ref_W1lv =  0.00\n",
      "i_q_ref_W1lv =  0.00\n",
      "p_W1lv =  0.00\n",
      "q_W1lv = -0.00\n",
      "e_qv_W1lv =  1.00\n",
      "omega_coi =  1.00\n",
      "p_agc =  0.00\n"
     ]
    }
   ],
   "source": [
    "params = {\n",
    "    \"K_i_agc\":1.0,\n",
    "    \"K_sec_GRID\":0.1,\"S_n_GRID\":20e6,\"v_ref_GRID\":1.0,\"K_delta_GRID\":0.1,\n",
    "    \"p_ref_W1lv\":0.0,\"q_ref_W1lv\":0.0,\n",
    "    \"p_ref_W2lv\":0.0,\"q_ref_W2lv\":0.0,\n",
    "    \"Q_STlv\":0.0,\n",
    "    'q_ref_W1lv':0.0,\n",
    "    'q_ref_W2lv':0.0,\n",
    "    'K_W1lv':0.1,'K_q_W1lv':1.0,\n",
    "    'K_W2lv':0.1,'K_q_W2lv':1.0,\n",
    "}\n",
    "model.ini(params,'xy_0.json')\n",
    "#model.ini(params,'xy_0_2.json')\n",
    "model.ini(params,1)\n",
    "\n",
    "#grid.save_xy_0('xy_0.json')\n",
    "model.report_y()"
   ]
  },
  {
   "cell_type": "code",
   "execution_count": null,
   "metadata": {},
   "outputs": [],
   "source": [
    "grid.ini(params,'xy_0.json')\n",
    "grid.run(1.0,{})\n",
    "grid.run(2.0,{'Q_W1lv':-1e6})\n",
    "grid.run(3.0,{'Q_W2lv':-1e6})\n",
    "grid.run(4.0,{'Q_W3lv':-1e6})\n",
    "grid.run(10.0,{})\n",
    "\n",
    "grid.post();"
   ]
  },
  {
   "cell_type": "code",
   "execution_count": 18,
   "metadata": {},
   "outputs": [
    {
     "data": {
      "application/vnd.jupyter.widget-view+json": {
       "model_id": "bc7b8b8be37d4fffb59386343e2dc2fd",
       "version_major": 2,
       "version_minor": 0
      },
      "text/plain": [
       "Canvas(toolbar=Toolbar(toolitems=[('Home', 'Reset original view', 'home', 'home'), ('Back', 'Back to previous …"
      ]
     },
     "metadata": {},
     "output_type": "display_data"
    },
    {
     "data": {
      "text/plain": [
       "[<matplotlib.lines.Line2D at 0x247df7305e0>]"
      ]
     },
     "execution_count": 18,
     "metadata": {},
     "output_type": "execute_result"
    }
   ],
   "source": [
    "plt.close('all')\n",
    "fig, axes = plt.subplots(nrows=1,ncols=2, figsize=(8, 3), frameon=False, dpi=100, squeeze=False)\n",
    "\n",
    "axes[0,0].plot(grid.Time, grid.get_values('omega_coi'), label=\"$\\omega_{coi}$\")\n",
    "axes[0,1].plot(grid.Time, grid.get_values('V_POI'), label=\"$V_{POI}$\")\n",
    "axes[0,1].plot(grid.Time, grid.get_values('V_W1lv'), label=\"$V_{POI}$\")\n",
    "axes[0,1].plot(grid.Time, grid.get_values('V_W2lv'), label=\"$V_{POI}$\")\n",
    "axes[0,1].plot(grid.Time, grid.get_values('V_W3lv'), label=\"$V_{POI}$\")\n"
   ]
  },
  {
   "cell_type": "code",
   "execution_count": 22,
   "metadata": {},
   "outputs": [
    {
     "data": {
      "text/plain": [
       "0.0"
      ]
     },
     "execution_count": 22,
     "metadata": {},
     "output_type": "execute_result"
    }
   ],
   "source": [
    "np.linalg.det(model.jac_ini)"
   ]
  },
  {
   "cell_type": "code",
   "execution_count": 18,
   "metadata": {},
   "outputs": [
    {
     "data": {
      "text/plain": [
       "array([-1.00000000e-01,  0.00000000e+00, -1.01000000e+01,  1.04000000e+01,\n",
       "       -1.00000000e+01,  2.79601746e+03, -1.00000000e+02, -9.80100000e+01,\n",
       "       -1.00000000e+00,  2.79601746e+03, -1.00000000e+02, -9.80100000e+01,\n",
       "       -1.00000000e+00, -1.00000000e+00, -5.00000000e-02, -5.00000000e-02,\n",
       "       -5.00000000e-02, -5.00000000e-02,  0.00000000e+00,  0.00000000e+00,\n",
       "       -7.10542736e-15,  0.00000000e+00, -7.10542736e-15,  0.00000000e+00,\n",
       "        0.00000000e+00,  0.00000000e+00,  0.00000000e+00,  7.10542736e-15,\n",
       "        0.00000000e+00,  2.22044605e-16, -2.00000000e-01, -2.00000000e-01,\n",
       "       -9.00000000e-01,  9.00000000e-02, -1.10000000e-01,  1.00000000e+00,\n",
       "        1.00000000e+00, -1.99000000e+01, -1.80000000e-01,  2.20000000e-01,\n",
       "        1.00000000e+00, -3.00000000e+00, -1.00000000e+01, -1.80000000e-01,\n",
       "        2.20000000e-01,  1.00000000e+00, -3.00000000e+00, -1.00000000e+01,\n",
       "        2.96666667e+00, -1.00000000e-02])"
      ]
     },
     "execution_count": 18,
     "metadata": {},
     "output_type": "execute_result"
    }
   ],
   "source": [
    "np.sum(model.jac_ini,axis=1)"
   ]
  },
  {
   "cell_type": "code",
   "execution_count": 21,
   "metadata": {},
   "outputs": [
    {
     "data": {
      "text/plain": [
       "array([ 0.        ,  0.        ,  0.        ,  0.        ,  0.        ,\n",
       "        0.        ,  0.        ,  0.        ,  0.        ,  0.        ,\n",
       "        0.        ,  0.        ,  0.        ,  0.        ,  0.        ,\n",
       "        0.        , -0.81081081, -0.13513514,  0.        ,  0.        ,\n",
       "        0.        ,  0.        ,  0.        ,  0.        ,  0.81081081,\n",
       "        0.13513514,  0.        ,  0.        ,  0.        ,  0.        ,\n",
       "        0.        ,  0.        ,  0.        ,  0.        ,  0.        ,\n",
       "        0.        ,  0.        ,  0.        ,  0.        ,  0.        ,\n",
       "        0.        ,  0.        ,  0.        ,  0.        ,  0.        ,\n",
       "        0.        ,  0.        ,  0.        ,  0.        ,  0.        ])"
      ]
     },
     "execution_count": 21,
     "metadata": {},
     "output_type": "execute_result"
    }
   ],
   "source": [
    "model.jac_ini[24,:]"
   ]
  },
  {
   "cell_type": "code",
   "execution_count": null,
   "metadata": {},
   "outputs": [],
   "source": []
  }
 ],
 "metadata": {
  "kernelspec": {
   "display_name": "Python 3 (ipykernel)",
   "language": "python",
   "name": "python3"
  },
  "language_info": {
   "codemirror_mode": {
    "name": "ipython",
    "version": 3
   },
   "file_extension": ".py",
   "mimetype": "text/x-python",
   "name": "python",
   "nbconvert_exporter": "python",
   "pygments_lexer": "ipython3",
   "version": "3.9.12"
  }
 },
 "nbformat": 4,
 "nbformat_minor": 4
}

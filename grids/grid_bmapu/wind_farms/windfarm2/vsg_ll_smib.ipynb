{
 "cells": [
  {
   "cell_type": "code",
   "execution_count": 1,
   "metadata": {},
   "outputs": [],
   "source": [
    "%matplotlib widget"
   ]
  },
  {
   "cell_type": "code",
   "execution_count": 7,
   "metadata": {},
   "outputs": [],
   "source": [
    "import numpy as np\n",
    "import scipy.optimize as sopt\n",
    "import matplotlib.pyplot as plt\n",
    "from pydae.plot_tools import set_style\n",
    "import pydae.ssa as ctrl\n",
    "colors = set_style(plt)\n"
   ]
  },
  {
   "cell_type": "markdown",
   "metadata": {},
   "source": [
    "<img src=\"./png/wind_farm.png\" width=\"800\">\n",
    "\n"
   ]
  },
  {
   "cell_type": "code",
   "execution_count": 3,
   "metadata": {},
   "outputs": [],
   "source": [
    "import wind_farm "
   ]
  },
  {
   "cell_type": "code",
   "execution_count": 4,
   "metadata": {},
   "outputs": [
    {
     "name": "stdout",
     "output_type": "stream",
     "text": [
      "S_base =100000000.00\n",
      "g_W1lv_POI = 0.00\n",
      "b_W1lv_POI =-200000.00\n",
      "bs_W1lv_POI = 0.00\n",
      "U_W1lv_n =690.00\n",
      "U_POI_n =66000.00\n",
      "S_n_POI =100000000.00\n",
      "Omega_b_POI =314.16\n",
      "K_p_POI = 0.01\n",
      "T_p_POI = 0.10\n",
      "K_q_POI = 0.01\n",
      "T_v_POI = 0.10\n",
      "X_v_POI = 0.10\n",
      "R_v_POI = 0.01\n",
      "K_delta_POI = 0.00\n",
      "K_sec_POI = 0.00\n",
      "Droop_POI = 0.05\n",
      "T_e_POI = 0.10\n",
      "T_c_POI = 0.10\n",
      "S_n_W1lv =1000000.00\n",
      "F_n_W1lv =50.00\n",
      "K_delta_W1lv = 0.00\n",
      "K_p_W1lv = 0.02\n",
      "K_i_W1lv = 0.12\n",
      "K_g_W1lv = 0.00\n",
      "R_v_W1lv = 0.00\n",
      "X_v_W1lv = 0.30\n",
      "K_q_W1lv = 0.40\n",
      "T_q_W1lv = 0.03\n",
      "K_i_q_W1lv = 0.00\n",
      "K_p_agc = 0.01\n",
      "K_i_agc = 0.01\n"
     ]
    }
   ],
   "source": [
    "model = wind_farm.model()\n",
    "model.report_params()"
   ]
  },
  {
   "cell_type": "code",
   "execution_count": 9,
   "metadata": {},
   "outputs": [
    {
     "data": {
      "text/html": [
       "<div>\n",
       "<style scoped>\n",
       "    .dataframe tbody tr th:only-of-type {\n",
       "        vertical-align: middle;\n",
       "    }\n",
       "\n",
       "    .dataframe tbody tr th {\n",
       "        vertical-align: top;\n",
       "    }\n",
       "\n",
       "    .dataframe thead th {\n",
       "        text-align: right;\n",
       "    }\n",
       "</style>\n",
       "<table border=\"1\" class=\"dataframe\">\n",
       "  <thead>\n",
       "    <tr style=\"text-align: right;\">\n",
       "      <th></th>\n",
       "      <th>Real</th>\n",
       "      <th>Imag</th>\n",
       "      <th>Freq.</th>\n",
       "      <th>Damp</th>\n",
       "    </tr>\n",
       "  </thead>\n",
       "  <tbody>\n",
       "    <tr>\n",
       "      <th>Mode 1</th>\n",
       "      <td>-71.241008</td>\n",
       "      <td>0.000000</td>\n",
       "      <td>0.000000</td>\n",
       "      <td>1.000000</td>\n",
       "    </tr>\n",
       "    <tr>\n",
       "      <th>Mode 2</th>\n",
       "      <td>-8.920982</td>\n",
       "      <td>8.126396</td>\n",
       "      <td>1.293356</td>\n",
       "      <td>0.739263</td>\n",
       "    </tr>\n",
       "    <tr>\n",
       "      <th>Mode 3</th>\n",
       "      <td>-8.920982</td>\n",
       "      <td>-8.126396</td>\n",
       "      <td>1.293356</td>\n",
       "      <td>0.739263</td>\n",
       "    </tr>\n",
       "    <tr>\n",
       "      <th>Mode 4</th>\n",
       "      <td>-1.659460</td>\n",
       "      <td>0.000000</td>\n",
       "      <td>0.000000</td>\n",
       "      <td>1.000000</td>\n",
       "    </tr>\n",
       "    <tr>\n",
       "      <th>Mode 5</th>\n",
       "      <td>-0.000996</td>\n",
       "      <td>0.000000</td>\n",
       "      <td>0.000000</td>\n",
       "      <td>1.000000</td>\n",
       "    </tr>\n",
       "    <tr>\n",
       "      <th>Mode 6</th>\n",
       "      <td>-10.000000</td>\n",
       "      <td>0.000000</td>\n",
       "      <td>0.000000</td>\n",
       "      <td>1.000000</td>\n",
       "    </tr>\n",
       "    <tr>\n",
       "      <th>Mode 7</th>\n",
       "      <td>-10.000571</td>\n",
       "      <td>0.000000</td>\n",
       "      <td>0.000000</td>\n",
       "      <td>1.000000</td>\n",
       "    </tr>\n",
       "    <tr>\n",
       "      <th>Mode 8</th>\n",
       "      <td>-0.000500</td>\n",
       "      <td>0.000000</td>\n",
       "      <td>0.000000</td>\n",
       "      <td>1.000000</td>\n",
       "    </tr>\n",
       "    <tr>\n",
       "      <th>Mode 9</th>\n",
       "      <td>-10.000000</td>\n",
       "      <td>0.000000</td>\n",
       "      <td>0.000000</td>\n",
       "      <td>1.000000</td>\n",
       "    </tr>\n",
       "    <tr>\n",
       "      <th>Mode 10</th>\n",
       "      <td>-1.000000</td>\n",
       "      <td>0.000000</td>\n",
       "      <td>0.000000</td>\n",
       "      <td>1.000000</td>\n",
       "    </tr>\n",
       "  </tbody>\n",
       "</table>\n",
       "</div>"
      ],
      "text/plain": [
       "              Real      Imag     Freq.      Damp\n",
       "Mode 1  -71.241008  0.000000  0.000000  1.000000\n",
       "Mode 2   -8.920982  8.126396  1.293356  0.739263\n",
       "Mode 3   -8.920982 -8.126396  1.293356  0.739263\n",
       "Mode 4   -1.659460  0.000000  0.000000  1.000000\n",
       "Mode 5   -0.000996  0.000000  0.000000  1.000000\n",
       "Mode 6  -10.000000  0.000000  0.000000  1.000000\n",
       "Mode 7  -10.000571  0.000000  0.000000  1.000000\n",
       "Mode 8   -0.000500  0.000000  0.000000  1.000000\n",
       "Mode 9  -10.000000  0.000000  0.000000  1.000000\n",
       "Mode 10  -1.000000  0.000000  0.000000  1.000000"
      ]
     },
     "execution_count": 9,
     "metadata": {},
     "output_type": "execute_result"
    }
   ],
   "source": [
    "ctrl.A_eval(model)\n",
    "ctrl.damp_report(model)"
   ]
  },
  {
   "cell_type": "code",
   "execution_count": null,
   "metadata": {},
   "outputs": [],
   "source": [
    "ctrl.damp_report(model)"
   ]
  },
  {
   "cell_type": "code",
   "execution_count": 6,
   "metadata": {},
   "outputs": [
    {
     "name": "stdout",
     "output_type": "stream",
     "text": [
      "delta_POI =  0.00\n",
      "xi_p_POI = -0.00\n",
      "e_qv_POI =  1.00\n",
      "p_ef_POI = -0.00\n",
      "p_cf_POI =  0.00\n",
      "delta_W1lv =  0.25\n",
      "x_v_W1lv = -0.00\n",
      "e_qm_W1lv = -0.23\n",
      "xi_q_W1lv =  0.00\n",
      "xi_freq = -0.45\n",
      "V_W1lv =  1.00\n",
      "theta_W1lv =  0.00\n",
      "V_POI =  1.00\n",
      "theta_POI =  0.00\n",
      "omega_POI =  1.00\n",
      "i_d_POI = -0.00\n",
      "i_q_POI = -0.00\n",
      "p_g_POI = -0.00\n",
      "q_g_POI = -0.00\n",
      "p_m_POI = -0.00\n",
      "i_d_ref_W1lv = -0.42\n",
      "i_q_ref_W1lv =  0.82\n",
      "p_W1lv =  0.90\n",
      "q_W1lv =  0.20\n",
      "e_qv_W1lv =  1.09\n",
      "omega_coi =  1.00\n",
      "p_agc = -0.45\n"
     ]
    }
   ],
   "source": [
    "params = {\n",
    "    \"K_i_agc\":1.0,\n",
    "    \"K_sec_POI\":0.01,\"S_n_POI\":200e6,\"v_ref_POI\":1.0,\"K_delta_POI\":0.001,\n",
    "    \"p_ref_W1lv\":0.9,\"q_ref_W1lv\":0.434616}\n",
    "model.ini(params,'xy_0.json')\n",
    "#model.save_xy_0('xy_0.json')\n",
    "model.report_x()\n",
    "model.report_y()"
   ]
  },
  {
   "cell_type": "code",
   "execution_count": 6,
   "metadata": {},
   "outputs": [
    {
     "name": "stdout",
     "output_type": "stream",
     "text": [
      "P_W1lv = 0.00\n",
      "Q_W1lv = 0.00\n",
      "P_POI = 0.00\n",
      "Q_POI = 0.00\n",
      "v_ref_POI = 1.00\n",
      "p_c_POI = 0.00\n",
      "omega_ref_POI = 1.00\n",
      "q_ref_POI = 0.00\n",
      "p_ref_W1lv = 0.90\n",
      "q_ref_W1lv = 0.43\n"
     ]
    }
   ],
   "source": [
    "model.report_u()"
   ]
  },
  {
   "cell_type": "code",
   "execution_count": 32,
   "metadata": {},
   "outputs": [],
   "source": [
    "zeta = 0.2 # 1.0/np.sqrt(2) \n",
    "H_v = 4.0 \n",
    "WB = 2 *np.pi* 50;\n",
    "R_v = 0.0\n",
    "X_v = 0.3\n",
    "\n",
    "Lt = X_v \n",
    "P_max = 1/Lt\n",
    "fn = np.sqrt(WB*P_max/(2*H_v))/(2*np.pi)\n",
    "\n",
    "Dp = 0;\n",
    "K_i = (2*np.pi*fn)**2/(WB*P_max);\n",
    "K_g = Dp*K_i;\n",
    "K_p = (2*zeta*2*np.pi*fn - K_g)/(WB*P_max);\n",
    "\n",
    "T_q = 1.0/(2*np.pi*10/2)\n",
    "K_q = (1.0 - 0.0)/(1.05 - 0.95)\n",
    "K_i_q = 1e-6\n",
    "\n",
    "theta_red = 3.0/180*np.pi\n",
    "V = 1.0\n",
    "p_ref = 0.9\n",
    "q_ref = 0.434616\n",
    "v_ref = 1.0\n",
    "K_p\n",
    "\n",
    "params.update({'K_q_W1lv':K_q,'K_p_W1lv':K_p})\n",
    "model.ini(params,'xy_0.json')\n",
    "model.run(1.0,{})\n",
    "model.run(2.0,{'p_ref_W1lv':0.7})\n",
    "model.run(5.0,{'q_ref_W1lv':0.5})\n",
    "model.run(10.0,{})\n",
    "\n",
    "model.post();"
   ]
  },
  {
   "cell_type": "code",
   "execution_count": 33,
   "metadata": {},
   "outputs": [
    {
     "data": {
      "text/plain": [
       "[<matplotlib.lines.Line2D at 0x22452b6e1c0>]"
      ]
     },
     "execution_count": 33,
     "metadata": {},
     "output_type": "execute_result"
    },
    {
     "data": {
      "application/vnd.jupyter.widget-view+json": {
       "model_id": "1f9e6fba048148b199c6371cdcb7e311",
       "version_major": 2,
       "version_minor": 0
      },
      "image/png": "[encoded data removed]",
      "text/html": [
       "\n",
       "            <div style=\"display: inline-block;\">\n",
       "                <div class=\"jupyter-widgets widget-label\" style=\"text-align: center;\">\n",
       "                    Figure\n",
       "                </div>\n",
       "                <img src='data:image/png;base64,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' width=800.0/>\n",
       "            </div>\n",
       "        "
      ],
      "text/plain": [
       "Canvas(toolbar=Toolbar(toolitems=[('Home', 'Reset original view', 'home', 'home'), ('Back', 'Back to previous …"
      ]
     },
     "metadata": {},
     "output_type": "display_data"
    }
   ],
   "source": [
    "plt.close('all')\n",
    "fig, axes = plt.subplots(nrows=1,ncols=2, figsize=(8, 3), frameon=False, dpi=100, squeeze=False)\n",
    "\n",
    "axes[0,0].plot(model.Time, model.get_values('p_W1lv'), label=\"$V_{POI}$\")\n",
    "axes[0,1].plot(model.Time, model.get_values('q_W1lv'), label=\"$V_{POI}$\")\n"
   ]
  },
  {
   "cell_type": "code",
   "execution_count": 18,
   "metadata": {},
   "outputs": [
    {
     "data": {
      "text/plain": [
       "array([-1.00000000e-01,  0.00000000e+00, -1.01000000e+01,  1.04000000e+01,\n",
       "       -1.00000000e+01,  2.79601746e+03, -1.00000000e+02, -9.80100000e+01,\n",
       "       -1.00000000e+00,  2.79601746e+03, -1.00000000e+02, -9.80100000e+01,\n",
       "       -1.00000000e+00, -1.00000000e+00, -5.00000000e-02, -5.00000000e-02,\n",
       "       -5.00000000e-02, -5.00000000e-02,  0.00000000e+00,  0.00000000e+00,\n",
       "       -7.10542736e-15,  0.00000000e+00, -7.10542736e-15,  0.00000000e+00,\n",
       "        0.00000000e+00,  0.00000000e+00,  0.00000000e+00,  7.10542736e-15,\n",
       "        0.00000000e+00,  2.22044605e-16, -2.00000000e-01, -2.00000000e-01,\n",
       "       -9.00000000e-01,  9.00000000e-02, -1.10000000e-01,  1.00000000e+00,\n",
       "        1.00000000e+00, -1.99000000e+01, -1.80000000e-01,  2.20000000e-01,\n",
       "        1.00000000e+00, -3.00000000e+00, -1.00000000e+01, -1.80000000e-01,\n",
       "        2.20000000e-01,  1.00000000e+00, -3.00000000e+00, -1.00000000e+01,\n",
       "        2.96666667e+00, -1.00000000e-02])"
      ]
     },
     "execution_count": 18,
     "metadata": {},
     "output_type": "execute_result"
    }
   ],
   "source": []
  },
  {
   "cell_type": "code",
   "execution_count": 21,
   "metadata": {},
   "outputs": [
    {
     "data": {
      "text/plain": [
       "array([ 0.        ,  0.        ,  0.        ,  0.        ,  0.        ,\n",
       "        0.        ,  0.        ,  0.        ,  0.        ,  0.        ,\n",
       "        0.        ,  0.        ,  0.        ,  0.        ,  0.        ,\n",
       "        0.        , -0.81081081, -0.13513514,  0.        ,  0.        ,\n",
       "        0.        ,  0.        ,  0.        ,  0.        ,  0.81081081,\n",
       "        0.13513514,  0.        ,  0.        ,  0.        ,  0.        ,\n",
       "        0.        ,  0.        ,  0.        ,  0.        ,  0.        ,\n",
       "        0.        ,  0.        ,  0.        ,  0.        ,  0.        ,\n",
       "        0.        ,  0.        ,  0.        ,  0.        ,  0.        ,\n",
       "        0.        ,  0.        ,  0.        ,  0.        ,  0.        ])"
      ]
     },
     "execution_count": 21,
     "metadata": {},
     "output_type": "execute_result"
    }
   ],
   "source": [
    "model.jac_ini[24,:]"
   ]
  },
  {
   "cell_type": "code",
   "execution_count": null,
   "metadata": {},
   "outputs": [],
   "source": []
  }
 ],
 "metadata": {
  "kernelspec": {
   "display_name": "Python 3 (ipykernel)",
   "language": "python",
   "name": "python3"
  },
  "language_info": {
   "codemirror_mode": {
    "name": "ipython",
    "version": 3
   },
   "file_extension": ".py",
   "mimetype": "text/x-python",
   "name": "python",
   "nbconvert_exporter": "python",
   "pygments_lexer": "ipython3",
   "version": "3.9.12"
  }
 },
 "nbformat": 4,
 "nbformat_minor": 4
}

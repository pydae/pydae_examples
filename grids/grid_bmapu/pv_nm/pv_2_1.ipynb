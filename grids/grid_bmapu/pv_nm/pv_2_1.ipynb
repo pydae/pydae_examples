{
 "cells": [
  {
   "cell_type": "code",
   "execution_count": 1,
   "metadata": {},
   "outputs": [
    {
     "data": {
      "text/plain": [
       "[<matplotlib.lines.Line2D at 0x2d748c44b50>]"
      ]
     },
     "execution_count": 1,
     "metadata": {},
     "output_type": "execute_result"
    },
    {
     "data": {
      "image/png": "[encoded data removed]",
      "text/plain": [
       "<Figure size 640x480 with 2 Axes>"
      ]
     },
     "metadata": {},
     "output_type": "display_data"
    }
   ],
   "source": [
    "import numpy as np\n",
    "import matplotlib.pyplot as plt\n",
    "import pv_1_2 as pv\n",
    "\n",
    "### Instantiation\n",
    "model = pv.model()\n",
    "\n",
    "### Initial state computation\n",
    "params = {}\n",
    "M  = 1\n",
    "N  = 2\n",
    "names = []\n",
    "for i_m in range(1,M+1):\n",
    "    for i_n in range(1,N+1):\n",
    "        name = f\"{i_m}\".zfill(2) + f\"{i_n}\".zfill(2)\n",
    "        params.update({f'T_lp1_LV{name}':0.00000005})\n",
    "        params.update({f'T_lp2_LV{name}':0.1})\n",
    "        params.update({f'QRamp_LV{name}':3.})\n",
    "        params.update({f'irrad_LV{name}':1000+(np.random.rand()-0.5)*0})\n",
    "        params.update({f'p_s_ppc_LV{name}':1.5,f'q_s_ppc_LV{name}':0.0})\n",
    "        params.update({f'N_pv_s_LV{name}':20, f'N_pv_p_LV{name}':200})\n",
    "        names += [name]\n",
    "\n",
    "#model.report_u()\n",
    "#model.report_x()\n",
    "#model.report_y()\n",
    "model.ini(params,'xy_0.json')\n",
    "\n",
    "for name in names:\n",
    "    params.update({f'T_lp1_LV{name}':0.2,f'ramp_enable_LV{name}':1.0})\n",
    "model.run(1.0,{})\n",
    "# model.report_y()\n",
    "model.run(5.0,{'q_s_ppc_LV0101':1.0})\n",
    "model.post();\n",
    "\n",
    "# print(model.get_value('q_s_ppc_LV0101'))\n",
    "\n",
    "# print(model.get_value('q_s_LV0101'))\n",
    "\n",
    "fig, axes = plt.subplots(nrows=2)\n",
    "times = model.Time[::10] \n",
    "\n",
    "axes[0].plot(model.Time, model.get_values('q_s_LV0101'))\n",
    "axes[0].step(times+0.1, np.interp(times,model.Time,model.get_values('q_s_LV0101')))\n"
   ]
  },
  {
   "cell_type": "code",
   "execution_count": 4,
   "metadata": {},
   "outputs": [
    {
     "name": "stdout",
     "output_type": "stream",
     "text": [
      "P_POI_MV = 0.00\n",
      "Q_POI_MV = 0.00\n",
      "P_POI = 0.00\n",
      "Q_POI = 0.00\n",
      "P_GRID = 0.00\n",
      "Q_GRID = 0.00\n",
      "P_LV0101 = 0.00\n",
      "Q_LV0101 = 0.00\n",
      "P_MV0101 = 0.00\n",
      "Q_MV0101 = 0.00\n",
      "P_LV0102 = 0.00\n",
      "Q_LV0102 = 0.00\n",
      "P_MV0102 = 0.00\n",
      "Q_MV0102 = 0.00\n",
      "alpha_GRID = 0.00\n",
      "v_ref_GRID = 1.00\n",
      "omega_ref_GRID = 1.00\n",
      "delta_ref_GRID = 0.00\n",
      "phi_GRID = 0.00\n",
      "rocov_GRID = 0.00\n",
      "irrad_LV0101 =1000.00\n",
      "temp_deg_LV0101 =25.00\n",
      "lvrt_ext_LV0101 = 0.00\n",
      "ramp_enable_LV0101 = 0.00\n",
      "p_s_ppc_LV0101 = 1.50\n",
      "q_s_ppc_LV0101 = 1.00\n",
      "i_sa_ref_LV0101 = 0.00\n",
      "i_sr_ref_LV0101 = 0.00\n",
      "irrad_LV0102 =1000.00\n",
      "temp_deg_LV0102 =25.00\n",
      "lvrt_ext_LV0102 = 0.00\n",
      "ramp_enable_LV0102 = 0.00\n",
      "p_s_ppc_LV0102 = 1.50\n",
      "q_s_ppc_LV0102 = 0.00\n",
      "i_sa_ref_LV0102 = 0.00\n",
      "i_sr_ref_LV0102 = 0.00\n"
     ]
    }
   ],
   "source": [
    "model.report_u()"
   ]
  },
  {
   "cell_type": "code",
   "execution_count": null,
   "metadata": {},
   "outputs": [],
   "source": []
  },
  {
   "cell_type": "code",
   "execution_count": null,
   "metadata": {},
   "outputs": [],
   "source": []
  }
 ],
 "metadata": {
  "kernelspec": {
   "display_name": "base",
   "language": "python",
   "name": "python3"
  },
  "language_info": {
   "codemirror_mode": {
    "name": "ipython",
    "version": 3
   },
   "file_extension": ".py",
   "mimetype": "text/x-python",
   "name": "python",
   "nbconvert_exporter": "python",
   "pygments_lexer": "ipython3",
   "version": "3.10.11"
  },
  "orig_nbformat": 4
 },
 "nbformat": 4,
 "nbformat_minor": 2
}

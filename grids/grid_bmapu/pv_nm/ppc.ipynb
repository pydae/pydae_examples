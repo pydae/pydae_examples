{
 "cells": [
  {
   "cell_type": "code",
   "execution_count": 13,
   "metadata": {},
   "outputs": [
    {
     "data": {
      "text/plain": [
       "<SocketContext(connect='tcp://127.0.0.1:5555')>"
      ]
     },
     "execution_count": 13,
     "metadata": {},
     "output_type": "execute_result"
    }
   ],
   "source": [
    "import zmq\n",
    "\n",
    "context = zmq.Context()\n",
    "sender_socket = context.socket(zmq.PAIR)\n",
    "sender_socket.connect(\"tcp://127.0.0.1:5556\")\n",
    "\n",
    "receiver_socket = context.socket(zmq.PAIR)\n",
    "receiver_socket.connect(\"tcp://127.0.0.1:5555\")"
   ]
  },
  {
   "cell_type": "code",
   "execution_count": 17,
   "metadata": {},
   "outputs": [],
   "source": [
    "sender_socket.send_json({'q_s_ppc':[1.0]*10})"
   ]
  },
  {
   "cell_type": "code",
   "execution_count": 27,
   "metadata": {},
   "outputs": [],
   "source": [
    "sender_socket.send_json({'v_ref_GRID':0.1})"
   ]
  },
  {
   "cell_type": "code",
   "execution_count": 19,
   "metadata": {},
   "outputs": [],
   "source": [
    "sender_socket.send_json({'halt':True})"
   ]
  },
  {
   "cell_type": "code",
   "execution_count": 12,
   "metadata": {},
   "outputs": [
    {
     "data": {
      "text/plain": [
       "{'p_s': [0.8425000000000002,\n",
       "  0.8425000000000001,\n",
       "  0.8425,\n",
       "  0.8425000000000002,\n",
       "  0.8425,\n",
       "  0.8425000000000005,\n",
       "  0.8425000000000006,\n",
       "  0.8425,\n",
       "  0.8425000000000001,\n",
       "  0.8425000000000005]}"
      ]
     },
     "execution_count": 12,
     "metadata": {},
     "output_type": "execute_result"
    }
   ],
   "source": [
    "receiver_socket.recv_json()"
   ]
  },
  {
   "cell_type": "code",
   "execution_count": null,
   "metadata": {},
   "outputs": [],
   "source": []
  }
 ],
 "metadata": {
  "kernelspec": {
   "display_name": "base",
   "language": "python",
   "name": "python3"
  },
  "language_info": {
   "codemirror_mode": {
    "name": "ipython",
    "version": 3
   },
   "file_extension": ".py",
   "mimetype": "text/x-python",
   "name": "python",
   "nbconvert_exporter": "python",
   "pygments_lexer": "ipython3",
   "version": "3.9.16"
  },
  "orig_nbformat": 4
 },
 "nbformat": 4,
 "nbformat_minor": 2
}

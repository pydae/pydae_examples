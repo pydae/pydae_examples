{
 "cells": [
  {
   "cell_type": "code",
   "execution_count": 2,
   "metadata": {},
   "outputs": [],
   "source": [
    "import socket\n",
    "import json\n",
    "import time"
   ]
  },
  {
   "cell_type": "code",
   "execution_count": 3,
   "metadata": {},
   "outputs": [
    {
     "data": {
      "text/plain": [
       "{'PV01': {'q_s': 7.85369968299883e-18,\n",
       "  'p_s': 0.6999257426800517,\n",
       "  'v_dc': 1.5069992574268005,\n",
       "  'v_dc_ref': 1.4,\n",
       "  'q_s_ref': 0.0,\n",
       "  'irrad': 800.0,\n",
       "  'stop': True}}"
      ]
     },
     "execution_count": 3,
     "metadata": {},
     "output_type": "execute_result"
    }
   ],
   "source": [
    "address   = (\"localhost\", 5568)\n",
    "bufferSize          = 1024\n",
    "\n",
    "sock = socket.socket(family=socket.AF_INET, type=socket.SOCK_DGRAM)\n",
    "\n",
    "name = 'PV01'\n",
    "\n",
    "data_gen = {name:{ # measurements\n",
    "                   'v_dc_ref':1.4,'q_s_ref':0.0,   # references\n",
    "                   'stop':True,\n",
    "                   'irrad':800.0\n",
    "                   }}\n",
    "                   \n",
    "sock.sendto(str.encode(json.dumps(data_gen)), address)\n",
    "message, address = sock.recvfrom(bufferSize)\n",
    "data = json.loads(message)\n",
    "data  "
   ]
  },
  {
   "cell_type": "code",
   "execution_count": null,
   "metadata": {},
   "outputs": [],
   "source": []
  }
 ],
 "metadata": {
  "kernelspec": {
   "display_name": "base",
   "language": "python",
   "name": "python3"
  },
  "language_info": {
   "codemirror_mode": {
    "name": "ipython",
    "version": 3
   },
   "file_extension": ".py",
   "mimetype": "text/x-python",
   "name": "python",
   "nbconvert_exporter": "python",
   "pygments_lexer": "ipython3",
   "version": "3.9.13"
  },
  "orig_nbformat": 4
 },
 "nbformat": 4,
 "nbformat_minor": 2
}

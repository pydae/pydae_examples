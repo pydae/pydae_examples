{
 "cells": [
  {
   "cell_type": "code",
   "execution_count": 1,
   "metadata": {},
   "outputs": [],
   "source": [
    "import pydae.build_cffi as db\n",
    "from pydae.bmapu import bmapu_builder\n",
    "from pydae.build_v2 import builder\n"
   ]
  },
  {
   "attachments": {},
   "cell_type": "markdown",
   "metadata": {},
   "source": []
  },
  {
   "attachments": {},
   "cell_type": "markdown",
   "metadata": {},
   "source": [
    "## PV plant\n",
    "\n",
    "![Alt text](pv_nm.svg)\n",
    "\n",
    "A PV with converted connected to an infinite bus through a line.\n",
    "\n",
    "\n",
    "![Alt text](spvib.svg)\n",
    "![Alt text](pv_module.svg)\n",
    "\n"
   ]
  },
  {
   "attachments": {},
   "cell_type": "markdown",
   "metadata": {},
   "source": [
    "### Option 1: using a python dic to define the system"
   ]
  },
  {
   "cell_type": "code",
   "execution_count": 2,
   "metadata": {},
   "outputs": [],
   "source": [
    "M = 1\n",
    "N = 2\n",
    "\n",
    "S_pv_mva = 1.0\n",
    "\n",
    "data = {\n",
    "    \"system\":{\"name\":f\"pv_{M}_{N}\",\"S_base\":100e6,\"K_p_agc\":0.0,\"K_i_agc\":0.0,\"K_xif\":0.01},\n",
    "    \"buses\":[\n",
    "        {\"name\":\"POI_MV\",\"P_W\":0.0,\"Q_var\":0.0,\"U_kV\":20.0},\n",
    "        {\"name\":   \"POI\",\"P_W\":0.0,\"Q_var\":0.0,\"U_kV\":132.0},\n",
    "        {\"name\":  \"GRID\",\"P_W\":0.0,\"Q_var\":0.0,\"U_kV\":132.0}\n",
    "    ],\n",
    "    \"lines\":[\n",
    "        {\"bus_j\":\"POI_MV\",\"bus_k\": \"POI\",\"X_pu\":0.05,\"R_pu\":0.0,\"Bs_pu\":0.0,\"S_mva\":120},\n",
    "        {\"bus_j\":   \"POI\",\"bus_k\":\"GRID\",\"X_pu\":0.02,\"R_pu\":0.0,\"Bs_pu\":0.0,\"S_mva\":120, 'sym':True, 'monitor':True}\n",
    "        ],\n",
    "    \"pvs\":[],\n",
    "    \"genapes\":[{\n",
    "          \"bus\":\"GRID\",\"S_n\":1000e6,\"F_n\":50.0,\"X_v\":0.001,\"R_v\":0.0,\n",
    "          \"K_delta\":0.001,\"K_alpha\":1e-6}]\n",
    "    }\n",
    "\n",
    "for i_m in range(1,M+1):\n",
    "    name_j = \"POI_MV\"\n",
    "    for i_n in range(1,N+1):\n",
    "        name = f\"{i_m}\".zfill(2) + f\"{i_n}\".zfill(2)\n",
    "        name_k = 'MV' + name\n",
    "\n",
    "        data['buses'].append({\"name\":f\"LV{name}\",\"P_W\":0.0,\"Q_var\":0.0,\"U_kV\":0.4})\n",
    "        data['buses'].append({\"name\":f\"MV{name}\",\"P_W\":0.0,\"Q_var\":0.0,\"U_kV\":20.0})\n",
    "\n",
    "        data['lines'].append({\"bus_j\":f\"LV{name}\",\"bus_k\":f\"MV{name}\",\"X_pu\":0.05,\"R_pu\":0.0,\"Bs_pu\":0.0,\"S_mva\":1.2*S_pv_mva,\"monitor\":False})\n",
    "        data['lines'].append({\"bus_j\":f\"{name_k}\",\"bus_k\":f\"{name_j}\",\"X_pu\":0.01,\"R_pu\":0.01,\"Bs_pu\":0.0,\"S_mva\":1.2*S_pv_mva*(N-i_n+1),\"monitor\":False})\n",
    "        name_j = name_k\n",
    "        data['pvs'].append({\"bus\":f\"LV{name}\",\"type\":\"pv_dq\",\"S_n\":S_pv_mva*1e6,\"U_n\":400.0,\"F_n\":50.0,\"X_s\":0.1,\"R_s\":0.01,\"monitor\":False,\n",
    "                            \"I_sc\":8,\"V_oc\":42.1,\"I_mp\":3.56,\"V_mp\":33.7,\"K_vt\":-0.160,\"K_it\":0.065,\"N_pv_s\":25,\"N_pv_p\":250})\n",
    "    \n"
   ]
  },
  {
   "attachments": {},
   "cell_type": "markdown",
   "metadata": {},
   "source": [
    "### Option 2: using a .json file or a .hjson file"
   ]
  },
  {
   "cell_type": "code",
   "execution_count": 3,
   "metadata": {},
   "outputs": [],
   "source": [
    "#grid = bmapu_builder.bmapu('spvib.json')\n",
    "grid = bmapu_builder.bmapu(data)\n",
    "\n",
    "grid.uz_jacs = False\n",
    "grid.verbose = True\n",
    "grid.construct(f'pv_{M}_{N}')"
   ]
  },
  {
   "cell_type": "code",
   "execution_count": 5,
   "metadata": {},
   "outputs": [
    {
     "name": "stderr",
     "output_type": "stream",
     "text": [
      "2023-06-14 13:56:42,371 check_system\n",
      "2023-06-14 13:56:42,384 computing jacobians Fx_run,Fy_run\n",
      "2023-06-14 13:56:42,389 computing jacobians Gx_run,Gy_run\n"
     ]
    },
    {
     "name": "stderr",
     "output_type": "stream",
     "text": [
      "2023-06-14 13:56:42,719 computing jacobians Fu_run,Gu_run\n",
      "2023-06-14 13:56:42,836 computing jacobians Fx_ini,Fy_ini\n",
      "2023-06-14 13:56:42,839 computing jacobians Gy_ini\n",
      "2023-06-14 13:56:42,962 computing jacobians Hx_run,Hy_run,Hu_run\n",
      "2023-06-14 13:56:43,000 end checking and computing jacobians\n",
      "2023-06-14 13:56:43,001 f_ini symbolic to c and xyup\n",
      "2023-06-14 13:56:43,004 end f_ini symbolic to c and xyup\n",
      "2023-06-14 13:56:43,005 f_run symbolic to c and xyup\n",
      "2023-06-14 13:56:43,007 end f symbolic to c and xyup\n",
      "2023-06-14 13:56:43,008 g_ini symbolic to c and xyup\n",
      "2023-06-14 13:56:43,141 end g_ini symbolic to c and xyup\n",
      "2023-06-14 13:56:43,142 g_run symbolic to c and xyup\n",
      "2023-06-14 13:56:43,256 end g_run symbolic to c and xyup\n",
      "2023-06-14 13:56:43,257 h symbolic to c and xyup\n",
      "2023-06-14 13:56:43,268 end h symbolic to c and xyup\n",
      "2023-06-14 13:56:43,268 computing jac_ini\n",
      "2023-06-14 13:56:43,270 computing jac_run\n",
      "2023-06-14 13:56:43,271 computing jac_trap\n",
      "2023-06-14 13:56:43,273 end of large jacobians computation\n",
      "2023-06-14 13:56:43,275 jac_ini symbolic to c\n",
      "2023-06-14 13:56:43,489 end jac_ini symbolic to c\n",
      "2023-06-14 13:56:43,490 jac_ini c to c xyup\n",
      "2023-06-14 13:56:43,497 end jac_ini c to c xyup\n",
      "2023-06-14 13:56:43,498 jac_run symbolic to c\n",
      "2023-06-14 13:56:43,701 end jac_run symbolic to c\n",
      "2023-06-14 13:56:43,702 jac_run c to c xyup\n",
      "2023-06-14 13:56:43,708 end jac_run c to c xyup\n",
      "2023-06-14 13:56:43,709 jac_trap symbolic to c\n",
      "2023-06-14 13:56:43,949 end jac_trap symbolic to c\n",
      "2023-06-14 13:56:43,950 jac_trap c to c xyup\n",
      "2023-06-14 13:56:43,956 end jac_trap c to c xyup\n",
      "2023-06-14 13:56:43,975 start compiling ini module\n",
      "2023-06-14 13:56:46,583 end compiling ini module\n",
      "2023-06-14 13:56:46,583 start compiling run module\n",
      "2023-06-14 13:56:49,218 end compiling run module\n",
      "2023-06-14 13:56:49,218 start compiling trap module\n",
      "2023-06-14 13:56:51,657 end compiling trap module\n"
     ]
    }
   ],
   "source": [
    "b = builder(grid.sys_dict,verbose=True)\n",
    "b.dict2system()\n",
    "b.functions()\n",
    "b.jacobians()\n",
    "b.cwrite()\n",
    "b.template()\n",
    "b.compile()"
   ]
  },
  {
   "cell_type": "code",
   "execution_count": null,
   "metadata": {},
   "outputs": [],
   "source": []
  }
 ],
 "metadata": {
  "kernelspec": {
   "display_name": "base",
   "language": "python",
   "name": "python3"
  },
  "language_info": {
   "codemirror_mode": {
    "name": "ipython",
    "version": 3
   },
   "file_extension": ".py",
   "mimetype": "text/x-python",
   "name": "python",
   "nbconvert_exporter": "python",
   "pygments_lexer": "ipython3",
   "version": "3.10.11"
  },
  "orig_nbformat": 4
 },
 "nbformat": 4,
 "nbformat_minor": 2
}

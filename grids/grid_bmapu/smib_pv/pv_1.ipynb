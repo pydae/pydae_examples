{
 "cells": [
  {
   "cell_type": "code",
   "execution_count": 1,
   "metadata": {},
   "outputs": [],
   "source": [
    "import pydae.build_cffi as db\n",
    "from pydae.bmapu import bmapu_builder"
   ]
  },
  {
   "cell_type": "code",
   "execution_count": 2,
   "metadata": {},
   "outputs": [
    {
     "name": "stdout",
     "output_type": "stream",
     "text": [
      "{'V_1': 1.0, 'theta_1': 0.0, 'V_2': 1.0, 'theta_2': 0.0, 'omega_coi': 1.0, 'omega_2': 1.0, 'i_pv_1': 3.7, 'i_sr_1': 0.1, 'v_dc_1': 1.2}\n"
     ]
    }
   ],
   "source": [
    "data = {\n",
    "\"system\":{\"name\":\"smib\",\"S_base\":100e6, \"K_p_agc\":0.0,\"K_i_agc\":0.0,\"K_xif\":0.01},       \n",
    "\"buses\":[{\"name\":\"1\", \"P_W\":0.0,\"Q_var\":0.0,\"U_kV\":20.0},\n",
    "            {\"name\":\"2\", \"P_W\":0.0,\"Q_var\":0.0,\"U_kV\":20.0}\n",
    "        ],\n",
    "\"lines\":[{\"bus_j\":\"1\", \"bus_k\":\"2\", \"X_pu\":0.05,\"R_pu\":0.01,\"Bs_pu\":1e-6,\"S_mva\":100.0}],\n",
    "\"pvs\":[\n",
    "    {\"type\":\"pv_1\",\"bus\":\"1\",\"S_n\":1e6,\"U_n\":400.0,      \n",
    "     \"R_s\":0.01,\"X_s\":0.05,\n",
    "        \"K_pdc\":100,\"C_dc\":10.5,\n",
    "        \"N_ms\":25,\"N_mp\":250}],\n",
    "\"genapes\":[{\"bus\":\"2\",\"S_n\":100e6,\"F_n\":50.0,\"X_v\":0.001,\"R_v\":0.0,\"K_delta\":0.001,\"K_alpha\":1e-6}]\n",
    "}\n",
    "\n",
    "grid = bmapu_builder.bmapu(data)\n",
    "#grid.checker()\n",
    "grid.uz_jacs = True\n",
    "grid.verbose = False\n",
    "grid.build('pv_1_test')"
   ]
  },
  {
   "cell_type": "code",
   "execution_count": 3,
   "metadata": {},
   "outputs": [],
   "source": [
    "import pv_1_test"
   ]
  },
  {
   "cell_type": "code",
   "execution_count": 4,
   "metadata": {},
   "outputs": [],
   "source": [
    "model = pv_1_test.model()"
   ]
  },
  {
   "cell_type": "code",
   "execution_count": 7,
   "metadata": {},
   "outputs": [
    {
     "name": "stdout",
     "output_type": "stream",
     "text": [
      "P_1   = 0.00\n",
      "Q_1   = 0.00\n",
      "P_2   = 0.00\n",
      "Q_2   = 0.00\n",
      "alpha_2 = 0.00\n",
      "v_ref_2 = 1.00\n",
      "omega_ref_2 = 1.00\n",
      "delta_ref_2 = 0.00\n",
      "phi_2 = 0.00\n",
      "rocov_2 = 0.00\n",
      "irrad_1 =1000.00\n",
      "temp_deg_1 =25.00\n",
      "v_dc_ref_1 = 1.35\n",
      "q_s_ref_1 = 0.00\n",
      "Dp_e_ref_1 = 0.00\n",
      "u_dummy_1 = 0.00\n",
      "delta_2 =  0.00\n",
      "Domega_2 = -0.00\n",
      "Dv_2  =  0.00\n",
      "v_dc_1 =  1.36\n",
      "xi_freq = -0.00\n",
      "V_1   =  1.00\n",
      "theta_1 =  0.00\n",
      "V_2   =  1.00\n",
      "theta_2 =  0.00\n",
      "omega_2 =  1.00\n",
      "i_d_2 =  0.00\n",
      "i_q_2 = -0.01\n",
      "p_s_2 = -0.01\n",
      "q_s_2 =  0.00\n",
      "i_pv_1 =  3.81\n",
      "p_s_ref_1 =  0.73\n",
      "i_sd_ref_1 =  0.00\n",
      "i_sq_ref_1 =  0.73\n",
      "v_td_ref_1 =  0.04\n",
      "v_tq_ref_1 =  1.01\n",
      "i_si_1 =  0.00\n",
      "i_sr_1 =  0.73\n",
      "p_s_1 =  0.73\n",
      "q_s_1 = -0.00\n",
      "omega_coi =  1.00\n",
      "p_agc =  0.00\n",
      "V_1   =  1.00\n",
      "V_2   =  1.00\n",
      "p_line_1_2 =  0.01\n",
      "q_line_1_2 = -0.00\n",
      "p_line_2_1 = -0.01\n",
      "q_line_2_1 =  0.00\n",
      "alpha_2 =  0.00\n",
      "Dv_2  =  0.00\n",
      "v_pv_1 = 30.71\n",
      "p_pv_1 = 117.12\n",
      "p_s_1 =  0.73\n",
      "q_s_1 = -0.00\n",
      "i_si_1 =  0.00\n",
      "i_sr_1 =  0.73\n",
      "i_tdc_1 =  0.54\n",
      "i_pv_pu_1 =  0.54\n",
      "i_pv_total_1 = 953.36\n"
     ]
    }
   ],
   "source": [
    "model.ini({'v_dc_ref_1':1.35,\"K_pdc_1\":100,'irrad_1':1000},'xy_0.json')\n",
    "model.report_u()\n",
    "model.report_x()\n",
    "model.report_y()\n",
    "model.report_z()"
   ]
  },
  {
   "cell_type": "code",
   "execution_count": 26,
   "metadata": {},
   "outputs": [
    {
     "data": {
      "text/plain": [
       "32.05550741379015"
      ]
     },
     "execution_count": 26,
     "metadata": {},
     "output_type": "execute_result"
    }
   ],
   "source": [
    "import numpy as np\n",
    "1.7*400*np.sqrt(2)/30"
   ]
  },
  {
   "cell_type": "code",
   "execution_count": null,
   "metadata": {},
   "outputs": [],
   "source": []
  }
 ],
 "metadata": {
  "kernelspec": {
   "display_name": "base",
   "language": "python",
   "name": "python3"
  },
  "language_info": {
   "codemirror_mode": {
    "name": "ipython",
    "version": 3
   },
   "file_extension": ".py",
   "mimetype": "text/x-python",
   "name": "python",
   "nbconvert_exporter": "python",
   "pygments_lexer": "ipython3",
   "version": "3.9.13"
  },
  "orig_nbformat": 4
 },
 "nbformat": 4,
 "nbformat_minor": 2
}

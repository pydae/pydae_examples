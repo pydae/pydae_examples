{
 "cells": [
  {
   "cell_type": "code",
   "execution_count": 1,
   "metadata": {},
   "outputs": [],
   "source": [
    "import pydae.build_cffi as db\n",
    "from pydae.bmapu import bmapu_builder"
   ]
  },
  {
   "cell_type": "code",
   "execution_count": 2,
   "metadata": {},
   "outputs": [],
   "source": [
    "data = {\n",
    "\"system\":{\"name\":\"pv_1\",\"S_base\":100e6, \"K_p_agc\":0.0,\"K_i_agc\":0.0,\"K_xif\":0.01},       \n",
    "\"buses\":[{\"name\":\"1\", \"P_W\":0.0,\"Q_var\":0.0,\"U_kV\":0.4},\n",
    "            {\"name\":\"2\", \"P_W\":0.0,\"Q_var\":0.0,\"U_kV\":0.4}\n",
    "        ],\n",
    "\"lines\":[{\"bus_j\":\"1\", \"bus_k\":\"2\", \"X_pu\":0.05,\"R_pu\":0.01,\"Bs_pu\":1e-6,\"S_mva\":100.0}],\n",
    "\"pvs\":[\n",
    "    {\"type\":\"pv_1\",\"bus\":\"1\",\"S_n\":1e6,\"U_n\":400.0,      \n",
    "     \"I_sc\":3.87,\"V_oc\":42.1,\"I_mpp\":3.56,\"V_mpp\":33.7,\"N_s\":72,\n",
    "        \"K_vt\":-0.160,\"K_it\":0.065,\"R_pv_s\": 0.5602, \"R_pv_sh\": 1862, \"K_d\": 1.3433,\n",
    "     \"R_s\":0.01,\"X_s\":0.05,\n",
    "        \"K_pdc\":100,\"C_dc\":10.5,\n",
    "        \"N_ms\":25,\"N_mp\":250}],\n",
    "\"genapes\":[{\"bus\":\"2\",\"S_n\":100e6,\"F_n\":50.0,\"X_v\":0.001,\"R_v\":0.0,\"K_delta\":0.001,\"K_alpha\":1e-6}]\n",
    "}\n",
    "\n",
    "grid = bmapu_builder.bmapu(data)\n",
    "#grid.checker()\n",
    "grid.uz_jacs = True\n",
    "grid.verbose = False\n",
    "grid.build('pv_1_test')"
   ]
  },
  {
   "cell_type": "code",
   "execution_count": 3,
   "metadata": {},
   "outputs": [],
   "source": [
    "import pv_1_test"
   ]
  },
  {
   "cell_type": "code",
   "execution_count": 8,
   "metadata": {},
   "outputs": [],
   "source": [
    "model = pv_1_test.model()"
   ]
  },
  {
   "cell_type": "code",
   "execution_count": 9,
   "metadata": {},
   "outputs": [
    {
     "name": "stdout",
     "output_type": "stream",
     "text": [
      "P_1   = 0.00\n",
      "Q_1   = 0.00\n",
      "P_2   = 0.00\n",
      "Q_2   = 0.00\n",
      "alpha_2 = 0.00\n",
      "v_ref_2 = 1.00\n",
      "omega_ref_2 = 1.00\n",
      "delta_ref_2 = 0.00\n",
      "phi_2 = 0.00\n",
      "rocov_2 = 0.00\n",
      "irrad_1 =1000.00\n",
      "temp_deg_1 =25.00\n",
      "v_dc_ref_1 = 1.20\n",
      "q_s_ref_1 = 0.00\n",
      "mode_1 = 2.00\n",
      "i_sd_i_ref_1 = 0.00\n",
      "i_sq_i_ref_1 = 0.00\n",
      "p_ppc_ref_1 = 2.00\n",
      "q_ppc_ref_1 = 0.00\n",
      "Dp_e_ref_1 = 0.00\n",
      "u_dummy_1 = 0.00\n",
      "V_1   =  1.00\n",
      "theta_1 =  0.00\n",
      "V_2   =  1.00\n",
      "theta_2 =  0.00\n",
      "omega_2 =  1.00\n",
      "i_d_2 =  0.00\n",
      "i_q_2 = -0.01\n",
      "p_s_2 = -0.01\n",
      "q_s_2 =  0.00\n",
      "i_pv_1 =  3.83\n",
      "p_s_ref_1 =  0.65\n",
      "i_sd_pq_ref_1 =  0.00\n",
      "i_sq_pq_ref_1 =  0.65\n",
      "v_td_ref_1 =  0.03\n",
      "v_tq_ref_1 =  1.01\n",
      "i_si_1 =  0.00\n",
      "i_sr_1 =  0.65\n",
      "p_s_1 =  0.65\n",
      "q_s_1 =  0.00\n",
      "omega_coi =  1.00\n",
      "p_agc =  0.00\n"
     ]
    }
   ],
   "source": [
    "model.ini({},'xy_0.json')\n",
    "model.report_u()\n",
    "#model.report_x()\n",
    "model.report_y()\n",
    "# model.report_z()"
   ]
  },
  {
   "cell_type": "code",
   "execution_count": 26,
   "metadata": {},
   "outputs": [
    {
     "data": {
      "text/plain": [
       "32.05550741379015"
      ]
     },
     "execution_count": 26,
     "metadata": {},
     "output_type": "execute_result"
    }
   ],
   "source": [
    "import numpy as np\n",
    "1.7*400*np.sqrt(2)/30"
   ]
  },
  {
   "cell_type": "code",
   "execution_count": null,
   "metadata": {},
   "outputs": [],
   "source": [
    "{'v_dc_ref_1':1.35,\"K_pdc_1\":100,'irrad_1':1000}"
   ]
  }
 ],
 "metadata": {
  "kernelspec": {
   "display_name": "base",
   "language": "python",
   "name": "python3"
  },
  "language_info": {
   "codemirror_mode": {
    "name": "ipython",
    "version": 3
   },
   "file_extension": ".py",
   "mimetype": "text/x-python",
   "name": "python",
   "nbconvert_exporter": "python",
   "pygments_lexer": "ipython3",
   "version": "3.9.16"
  },
  "orig_nbformat": 4
 },
 "nbformat": 4,
 "nbformat_minor": 2
}

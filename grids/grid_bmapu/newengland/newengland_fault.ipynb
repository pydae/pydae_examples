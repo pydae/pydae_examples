{
 "cells": [
  {
   "cell_type": "code",
   "execution_count": null,
   "metadata": {},
   "outputs": [],
   "source": [
    "model = newengland.model()\n",
    "\n",
    "\n",
    "model.decimation = 1\n",
    "params.update({'g_shunt_16':0.0, 'b_shunt_16':0.0})\n",
    "model.ini(params,xy_0='xy_0.json')\n",
    "gen_names = [f'G{str(it).zfill(2)}' for it in range(1,11)]\n",
    "params_run = {'RampDown_16':-1000,'RampUp_16':1000}\n",
    "for item in gen_names:\n",
    "    params_run.update({f'V_f_max_{item}': 5})\n",
    "    params_run.update({f'V_f_min_{item}': 0})\n",
    "\n",
    "model.ini(params_run)\n",
    "model.Dt = 0.01\n",
    "model.run(0.1,{})\n",
    "model.Dt = 0.001\n",
    "model.run(0.2,{'fault_g_ref_16':700})\n",
    "model.Dt = 0.01\n",
    "model.run(0.3,{})\n",
    "model.Dt = 0.001\n",
    "model.run(0.4,{'fault_g_ref_16':0})\n",
    "model.Dt = 0.001\n",
    "model.run(0.6,{})\n",
    "\n",
    "\n",
    "model.post();\n",
    "\n",
    "fig,axes = plt.subplots()\n",
    "for item in data['buses']:\n",
    "    name = item['name']\n",
    "    axes.plot(model.Time,model.get_values(f'V_{name}'),label=f'V_{name}')\n"
   ]
  }
 ],
 "metadata": {
  "language_info": {
   "name": "python"
  }
 },
 "nbformat": 4,
 "nbformat_minor": 2
}

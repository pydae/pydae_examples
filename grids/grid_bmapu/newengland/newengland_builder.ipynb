{
 "cells": [
  {
   "cell_type": "code",
   "execution_count": 1,
   "metadata": {},
   "outputs": [],
   "source": [
    "import numpy as np\n",
    "from pydae.bmapu import bmapu_builder\n",
    "from pydae.build_v2 import builder\n",
    "from pydae.utils import read_data\n",
    "import json\n",
    "import hjson"
   ]
  },
  {
   "cell_type": "code",
   "execution_count": 2,
   "metadata": {},
   "outputs": [],
   "source": [
    "grid = bmapu_builder.bmapu('newengland.hjson')\n",
    "\n",
    "grid.uz_jacs = False\n",
    "grid.verbose = True\n",
    "grid.construct(f'newengland')\n",
    "b = builder(grid.sys_dict,verbose=True)\n",
    "b.dict2system()\n",
    "b.functions()\n",
    "b.jacobians()\n",
    "b.cwrite()\n",
    "b.template()\n",
    "b.compile()"
   ]
  },
  {
   "cell_type": "markdown",
   "metadata": {},
   "source": []
  },
  {
   "cell_type": "code",
   "execution_count": 3,
   "metadata": {},
   "outputs": [
    {
     "name": "stdout",
     "output_type": "stream",
     "text": [
      "{\"bus\":\"30\",\"name\":\"G10\",\"S_n\":312.5,\"F_n\":60,\"H\":13.44,\"D\":0,\"R_a\":0.0,\"X1d\":0.0969,\"X1q\":0.025,\"X_d\":0.3125,\"X_q\":0.2156,\"T1d0\":10.2,\"T1q0\":0.1,\"X_l\":0.0391,\"K_sec\":0,\"K_delta\":0,\"avr\":{\"type\":\"ntsst1\",\"T_r\":0.01,\"K_a\":200,\"T_a\":0.015,\"T_b\":10,\"T_c\":1,\"v_ref\":1.0475},\"gov\":{\"type\":\"tgov1\",\"Droop\":0.05,\"T_1\":1,\"T_2\":1,\"T_3\":1,\"D_t\":0,\"p_c\":0,\"K_sec\":0},\"pss\":{\"type\":\"pss_kundur_2\",\"K_stab\":1,\"T_w\":10,\"T_1\":1,\"T_2\":0.05,\"T_3\":3,\"T_4\":0.5,\"V_lim\":0.2}}\n",
      "{\"bus\":\"31\",\"name\":\"G02\",\"S_n\":651.0,\"F_n\":60,\"H\":4.65,\"D\":0,\"R_a\":0.0,\"X1d\":0.4538,\"X1q\":1.1067,\"X_d\":1.9205,\"X_q\":1.8359,\"T1d0\":6.56,\"T1q0\":1.5,\"X_l\":0.2279,\"K_sec\":1,\"K_delta\":0.01,\"avr\":{\"type\":\"ntsst1\",\"T_r\":0.01,\"K_a\":200,\"T_a\":0.015,\"T_b\":10,\"T_c\":1,\"v_ref\":0.982},\"gov\":{\"type\":\"tgov1\",\"Droop\":0.05,\"T_1\":1,\"T_2\":1,\"T_3\":1,\"D_t\":0,\"p_c\":0,\"K_sec\":1},\"pss\":{\"type\":\"pss_kundur_2\",\"K_stab\":1,\"T_w\":10,\"T_1\":5,\"T_2\":0.4,\"T_3\":1,\"T_4\":0.1,\"V_lim\":0.2}}\n",
      "{\"bus\":\"32\",\"name\":\"G03\",\"S_n\":812.5,\"F_n\":60,\"H\":4.41,\"D\":0,\"R_a\":0.0,\"X1d\":0.4314,\"X1q\":0.7118,\"X_d\":2.0272,\"X_q\":1.9256,\"T1d0\":5.7,\"T1q0\":1.5,\"X_l\":0.247,\"K_sec\":0,\"K_delta\":0,\"avr\":{\"type\":\"ntsst1\",\"T_r\":0.01,\"K_a\":200,\"T_a\":0.015,\"T_b\":10,\"T_c\":1,\"v_ref\":0.9831},\"gov\":{\"type\":\"tgov1\",\"Droop\":0.05,\"T_1\":1,\"T_2\":1,\"T_3\":1,\"D_t\":0,\"p_c\":0,\"K_sec\":0},\"pss\":{\"type\":\"pss_kundur_2\",\"K_stab\":1,\"T_w\":10,\"T_1\":3,\"T_2\":0.2,\"T_3\":2,\"T_4\":0.2,\"V_lim\":0.2}}\n",
      "{\"bus\":\"33\",\"name\":\"G04\",\"S_n\":790.0,\"F_n\":60,\"H\":3.62,\"D\":0,\"R_a\":0.0,\"X1d\":0.3444,\"X1q\":1.3114,\"X_d\":2.0698,\"X_q\":2.0382,\"T1d0\":5.69,\"T1q0\":1.5,\"X_l\":0.233,\"K_sec\":0,\"K_delta\":0,\"avr\":{\"type\":\"ntsst1\",\"T_r\":0.01,\"K_a\":200,\"T_a\":0.015,\"T_b\":10,\"T_c\":1,\"v_ref\":0.9972},\"gov\":{\"type\":\"tgov1\",\"Droop\":0.05,\"T_1\":1,\"T_2\":1,\"T_3\":1,\"D_t\":0,\"p_c\":0,\"K_sec\":0},\"pss\":{\"type\":\"pss_kundur_2\",\"K_stab\":1,\"T_w\":10,\"T_1\":1,\"T_2\":0.1,\"T_3\":1,\"T_4\":0.3,\"V_lim\":0.2}}\n",
      "{\"bus\":\"34\",\"name\":\"G05\",\"S_n\":635.0,\"F_n\":60,\"H\":4.09,\"D\":0,\"R_a\":0.0,\"X1d\":0.8382,\"X1q\":1.0541,\"X_d\":4.2545,\"X_q\":3.937,\"T1d0\":5.4,\"T1q0\":0.44,\"X_l\":0.3429,\"K_sec\":0,\"K_delta\":0,\"avr\":{\"type\":\"ntsst1\",\"T_r\":0.01,\"K_a\":200,\"T_a\":0.015,\"T_b\":10,\"T_c\":1,\"v_ref\":1.0123},\"gov\":{\"type\":\"tgov1\",\"Droop\":0.05,\"T_1\":1,\"T_2\":1,\"T_3\":1,\"D_t\":0,\"p_c\":0,\"K_sec\":0},\"pss\":{\"type\":\"pss_kundur_2\",\"K_stab\":1,\"T_w\":10,\"T_1\":1.5,\"T_2\":0.2,\"T_3\":1,\"T_4\":0.1,\"V_lim\":0.2}}\n",
      "{\"bus\":\"35\",\"name\":\"G06\",\"S_n\":812.5,\"F_n\":60,\"H\":4.28,\"D\":0,\"R_a\":0.0,\"X1d\":0.4062,\"X1q\":0.6614,\"X_d\":2.0638,\"X_q\":1.9581,\"T1d0\":7.3,\"T1q0\":0.4,\"X_l\":0.182,\"K_sec\":0,\"K_delta\":0,\"avr\":{\"type\":\"ntsst1\",\"T_r\":0.01,\"K_a\":200,\"T_a\":0.015,\"T_b\":10,\"T_c\":1,\"v_ref\":1.0493},\"gov\":{\"type\":\"tgov1\",\"Droop\":0.05,\"T_1\":1,\"T_2\":1,\"T_3\":1,\"D_t\":0,\"p_c\":0,\"K_sec\":0},\"pss\":{\"type\":\"pss_kundur_2\",\"K_stab\":1,\"T_w\":10,\"T_1\":0.5,\"T_2\":0.1,\"T_3\":0.5,\"T_4\":0.05,\"V_lim\":0.2}}\n",
      "{\"bus\":\"36\",\"name\":\"G07\",\"S_n\":700.0,\"F_n\":60,\"H\":3.77,\"D\":0,\"R_a\":0.0,\"X1d\":0.343,\"X1q\":1.302,\"X_d\":2.065,\"X_q\":2.044,\"T1d0\":5.66,\"T1q0\":1.5,\"X_l\":0.2254,\"K_sec\":0,\"K_delta\":0,\"avr\":{\"type\":\"ntsst1\",\"T_r\":0.01,\"K_a\":200,\"T_a\":0.015,\"T_b\":10,\"T_c\":1,\"v_ref\":1.0635},\"gov\":{\"type\":\"tgov1\",\"Droop\":0.05,\"T_1\":1,\"T_2\":1,\"T_3\":1,\"D_t\":0,\"p_c\":0,\"K_sec\":0},\"pss\":{\"type\":\"pss_kundur_2\",\"K_stab\":1,\"T_w\":10,\"T_1\":0.2,\"T_2\":0.02,\"T_3\":0.5,\"T_4\":0.1,\"V_lim\":0.2}}\n",
      "{\"bus\":\"37\",\"name\":\"G08\",\"S_n\":675.0,\"F_n\":60,\"H\":3.6,\"D\":0,\"R_a\":0.0,\"X1d\":0.3848,\"X1q\":0.6149,\"X_d\":1.9575,\"X_q\":1.89,\"T1d0\":6.7,\"T1q0\":0.41,\"X_l\":0.189,\"K_sec\":0,\"K_delta\":0,\"avr\":{\"type\":\"ntsst1\",\"T_r\":0.01,\"K_a\":200,\"T_a\":0.015,\"T_b\":10,\"T_c\":1,\"v_ref\":1.0278},\"gov\":{\"type\":\"tgov1\",\"Droop\":0.05,\"T_1\":1,\"T_2\":1,\"T_3\":1,\"D_t\":0,\"p_c\":0,\"K_sec\":0},\"pss\":{\"type\":\"pss_kundur_2\",\"K_stab\":1,\"T_w\":10,\"T_1\":1,\"T_2\":0.2,\"T_3\":1,\"T_4\":0.1,\"V_lim\":0.2}}\n",
      "{\"bus\":\"38\",\"name\":\"G09\",\"S_n\":1037.5,\"F_n\":60,\"H\":3.33,\"D\":0,\"R_a\":0.0,\"X1d\":0.5914,\"X1q\":0.609,\"X_d\":2.185,\"X_q\":2.1269,\"T1d0\":4.79,\"T1q0\":1.96,\"X_l\":0.3092,\"K_sec\":0,\"K_delta\":0,\"avr\":{\"type\":\"ntsst1\",\"T_r\":0.01,\"K_a\":200,\"T_a\":0.015,\"T_b\":10,\"T_c\":1,\"v_ref\":1.0265},\"gov\":{\"type\":\"tgov1\",\"Droop\":0.05,\"T_1\":1,\"T_2\":1,\"T_3\":1,\"D_t\":0,\"p_c\":0,\"K_sec\":0},\"pss\":{\"type\":\"pss_kundur_2\",\"K_stab\":1,\"T_w\":10,\"T_1\":1,\"T_2\":0.5,\"T_3\":2,\"T_4\":0.1,\"V_lim\":0.2}}\n",
      "{\"bus\":\"39\",\"name\":\"G01\",\"S_n\":1250.0,\"F_n\":60,\"H\":40.0,\"D\":0,\"R_a\":0.0,\"X1d\":0.075,\"X1q\":0.1,\"X_d\":0.25,\"X_q\":0.2375,\"T1d0\":7,\"T1q0\":0.7,\"X_l\":0.0375,\"K_sec\":0,\"K_delta\":0,\"avr\":{\"type\":\"ntsst1\",\"T_r\":0.01,\"K_a\":200,\"T_a\":0.015,\"T_b\":10,\"T_c\":1,\"v_ref\":1.03},\"gov\":{\"type\":\"tgov1\",\"Droop\":0.05,\"T_1\":1,\"T_2\":1,\"T_3\":1,\"D_t\":0,\"p_c\":0,\"K_sec\":0},\"pss\":{\"type\":\"pss_kundur_2\",\"K_stab\":1,\"T_w\":10,\"T_1\":5,\"T_2\":0.6,\"T_3\":3,\"T_4\":0.5,\"V_lim\":0.2}}\n"
     ]
    }
   ],
   "source": [
    "import hjson\n",
    "params = {\n",
    "'G02':{'p_c_mw': 520.81},\n",
    "'G10':{'p_c_mw':    250},\n",
    "'G03':{'p_c_mw':    650},\n",
    "'G04':{'p_c_mw':    632},\n",
    "'G05':{'p_c_mw':    508},\n",
    "'G06':{'p_c_mw':    650},\n",
    "'G07':{'p_c_mw':    560},\n",
    "'G08':{'p_c_mw':    540},\n",
    "'G09':{'p_c_mw':    830},\n",
    "'G01':{'p_c_mw':   1000},\n",
    "}\n",
    "\n",
    "changes_den = ['H']\n",
    "changes_num = ['R_a','X1d', 'X1q', 'X_d', 'X_q', 'X_l']\n",
    "data = read_data('newengland.hjson')\n",
    "\n",
    "pf = 0.8 # power factor\n",
    "for syn in data['syns']:\n",
    "    S_n_old = syn['S_n']\n",
    "    S_n_new = params[syn['name']]['p_c_mw']*1e6/pf\n",
    "    syn['S_n'] = np.round(S_n_new/1e6,1)\n",
    "    for item in syn:\n",
    "        if item in changes_den:\n",
    "            syn[item] = np.round(syn[item]*S_n_old/S_n_new,2)\n",
    "        if item in changes_num:\n",
    "            syn[item] = np.round(syn[item]*S_n_new/S_n_old,4)\n",
    "    print(json.dumps(dict(syn),separators=(',',':')))"
   ]
  },
  {
   "cell_type": "code",
   "execution_count": 4,
   "metadata": {},
   "outputs": [
    {
     "data": {
      "text/plain": [
       "'{\"bus\":\"39\",\"name\":\"G01\",\"S_n\":1250.0,\"F_n\":60,\"H\":40.0,\"D\":0,\"R_a\":0.0,\"X1d\":0.075,\"X1q\":0.1,\"X_d\":0.25,\"X_q\":0.2375,\"T1d0\":7,\"T1q0\":0.7,\"X_l\":0.0375,\"K_sec\":0,\"K_delta\":0,\"avr\":{\"type\":\"ntsst1\",\"T_r\":0.01,\"K_a\":200,\"T_a\":0.015,\"T_b\":10,\"T_c\":1,\"v_ref\":1.03},\"gov\":{\"type\":\"tgov1\",\"Droop\":0.05,\"T_1\":1,\"T_2\":1,\"T_3\":1,\"D_t\":0,\"p_c\":0,\"K_sec\":0},\"pss\":{\"type\":\"pss_kundur_2\",\"K_stab\":1,\"T_w\":10,\"T_1\":5,\"T_2\":0.6,\"T_3\":3,\"T_4\":0.5,\"V_lim\":0.2}}'"
      ]
     },
     "execution_count": 4,
     "metadata": {},
     "output_type": "execute_result"
    }
   ],
   "source": [
    "json.dumps(dict(syn),separators=(',',':'))"
   ]
  },
  {
   "cell_type": "code",
   "execution_count": 5,
   "metadata": {},
   "outputs": [
    {
     "name": "stdout",
     "output_type": "stream",
     "text": [
      "\u001b[1;31mSignature:\u001b[0m\n",
      "\u001b[0mhjson\u001b[0m\u001b[1;33m.\u001b[0m\u001b[0mdumps\u001b[0m\u001b[1;33m(\u001b[0m\u001b[1;33m\n",
      "\u001b[0m    \u001b[0mobj\u001b[0m\u001b[1;33m,\u001b[0m\u001b[1;33m\n",
      "\u001b[0m    \u001b[0mskipkeys\u001b[0m\u001b[1;33m=\u001b[0m\u001b[1;32mFalse\u001b[0m\u001b[1;33m,\u001b[0m\u001b[1;33m\n",
      "\u001b[0m    \u001b[0mensure_ascii\u001b[0m\u001b[1;33m=\u001b[0m\u001b[1;32mTrue\u001b[0m\u001b[1;33m,\u001b[0m\u001b[1;33m\n",
      "\u001b[0m    \u001b[0mcheck_circular\u001b[0m\u001b[1;33m=\u001b[0m\u001b[1;32mTrue\u001b[0m\u001b[1;33m,\u001b[0m\u001b[1;33m\n",
      "\u001b[0m    \u001b[0mcls\u001b[0m\u001b[1;33m=\u001b[0m\u001b[1;32mNone\u001b[0m\u001b[1;33m,\u001b[0m\u001b[1;33m\n",
      "\u001b[0m    \u001b[0mindent\u001b[0m\u001b[1;33m=\u001b[0m\u001b[1;32mNone\u001b[0m\u001b[1;33m,\u001b[0m\u001b[1;33m\n",
      "\u001b[0m    \u001b[0mencoding\u001b[0m\u001b[1;33m=\u001b[0m\u001b[1;34m'utf-8'\u001b[0m\u001b[1;33m,\u001b[0m\u001b[1;33m\n",
      "\u001b[0m    \u001b[0mdefault\u001b[0m\u001b[1;33m=\u001b[0m\u001b[1;32mNone\u001b[0m\u001b[1;33m,\u001b[0m\u001b[1;33m\n",
      "\u001b[0m    \u001b[0muse_decimal\u001b[0m\u001b[1;33m=\u001b[0m\u001b[1;32mTrue\u001b[0m\u001b[1;33m,\u001b[0m\u001b[1;33m\n",
      "\u001b[0m    \u001b[0mnamedtuple_as_object\u001b[0m\u001b[1;33m=\u001b[0m\u001b[1;32mTrue\u001b[0m\u001b[1;33m,\u001b[0m\u001b[1;33m\n",
      "\u001b[0m    \u001b[0mtuple_as_array\u001b[0m\u001b[1;33m=\u001b[0m\u001b[1;32mTrue\u001b[0m\u001b[1;33m,\u001b[0m\u001b[1;33m\n",
      "\u001b[0m    \u001b[0mbigint_as_string\u001b[0m\u001b[1;33m=\u001b[0m\u001b[1;32mFalse\u001b[0m\u001b[1;33m,\u001b[0m\u001b[1;33m\n",
      "\u001b[0m    \u001b[0msort_keys\u001b[0m\u001b[1;33m=\u001b[0m\u001b[1;32mFalse\u001b[0m\u001b[1;33m,\u001b[0m\u001b[1;33m\n",
      "\u001b[0m    \u001b[0mitem_sort_key\u001b[0m\u001b[1;33m=\u001b[0m\u001b[1;32mNone\u001b[0m\u001b[1;33m,\u001b[0m\u001b[1;33m\n",
      "\u001b[0m    \u001b[0mfor_json\u001b[0m\u001b[1;33m=\u001b[0m\u001b[1;32mFalse\u001b[0m\u001b[1;33m,\u001b[0m\u001b[1;33m\n",
      "\u001b[0m    \u001b[0mint_as_string_bitcount\u001b[0m\u001b[1;33m=\u001b[0m\u001b[1;32mNone\u001b[0m\u001b[1;33m,\u001b[0m\u001b[1;33m\n",
      "\u001b[0m    \u001b[1;33m**\u001b[0m\u001b[0mkw\u001b[0m\u001b[1;33m,\u001b[0m\u001b[1;33m\n",
      "\u001b[0m\u001b[1;33m)\u001b[0m\u001b[1;33m\u001b[0m\u001b[1;33m\u001b[0m\u001b[0m\n",
      "\u001b[1;31mDocstring:\u001b[0m\n",
      "Serialize ``obj`` to a JSON formatted ``str``.\n",
      "\n",
      "If ``skipkeys`` is false then ``dict`` keys that are not basic types\n",
      "(``str``, ``unicode``, ``int``, ``long``, ``float``, ``bool``, ``None``)\n",
      "will be skipped instead of raising a ``TypeError``.\n",
      "\n",
      "If ``ensure_ascii`` is false, then the return value will be a\n",
      "``unicode`` instance subject to normal Python ``str`` to ``unicode``\n",
      "coercion rules instead of being escaped to an ASCII ``str``.\n",
      "\n",
      "If ``check_circular`` is false, then the circular reference check\n",
      "for container types will be skipped and a circular reference will\n",
      "result in an ``OverflowError`` (or worse).\n",
      "\n",
      "*indent* defines the amount of whitespace that the JSON array elements\n",
      "and object members will be indented for each level of nesting.\n",
      "The default is two spaces.\n",
      "\n",
      "``encoding`` is the character encoding for str instances, default is UTF-8.\n",
      "\n",
      "``default(obj)`` is a function that should return a serializable version\n",
      "of obj or raise TypeError. The default simply raises TypeError.\n",
      "\n",
      "If *use_decimal* is true (default: ``True``) then decimal.Decimal\n",
      "will be natively serialized to JSON with full precision.\n",
      "\n",
      "If *namedtuple_as_object* is true (default: ``True``),\n",
      ":class:`tuple` subclasses with ``_asdict()`` methods will be encoded\n",
      "as JSON objects.\n",
      "\n",
      "If *tuple_as_array* is true (default: ``True``),\n",
      ":class:`tuple` (and subclasses) will be encoded as JSON arrays.\n",
      "\n",
      "If *bigint_as_string* is true (not the default), ints 2**53 and higher\n",
      "or lower than -2**53 will be encoded as strings. This is to avoid the\n",
      "rounding that happens in Javascript otherwise.\n",
      "\n",
      "If *int_as_string_bitcount* is a positive number (n), then int of size\n",
      "greater than or equal to 2**n or lower than or equal to -2**n will be\n",
      "encoded as strings.\n",
      "\n",
      "If specified, *item_sort_key* is a callable used to sort the items in\n",
      "each dictionary. This is useful if you want to sort items other than\n",
      "in alphabetical order by key. This option takes precendence over\n",
      "*sort_keys*.\n",
      "\n",
      "If *sort_keys* is true (default: ``False``), the output of dictionaries\n",
      "will be sorted by item.\n",
      "\n",
      "If *for_json* is true (default: ``False``), objects with a ``for_json()``\n",
      "method will use the return value of that method for encoding as JSON\n",
      "instead of the object.\n",
      "\n",
      "To use a custom ``HjsonEncoder`` subclass (e.g. one that overrides the\n",
      "``.default()`` method to serialize additional types), specify it with\n",
      "the ``cls`` kwarg. NOTE: You should use *default* instead of subclassing\n",
      "whenever possible.\n",
      "\u001b[1;31mFile:\u001b[0m      c:\\users\\jmmau\\anaconda3\\lib\\site-packages\\hjson\\__init__.py\n",
      "\u001b[1;31mType:\u001b[0m      function"
     ]
    }
   ],
   "source": [
    "hjson.dumps?"
   ]
  },
  {
   "cell_type": "code",
   "execution_count": null,
   "metadata": {},
   "outputs": [],
   "source": []
  }
 ],
 "metadata": {
  "kernelspec": {
   "display_name": "Python 3 (ipykernel)",
   "language": "python",
   "name": "python3"
  },
  "language_info": {
   "codemirror_mode": {
    "name": "ipython",
    "version": 3
   },
   "file_extension": ".py",
   "mimetype": "text/x-python",
   "name": "python",
   "nbconvert_exporter": "python",
   "pygments_lexer": "ipython3",
   "version": "3.11.5"
  }
 },
 "nbformat": 4,
 "nbformat_minor": 4
}

{
 "cells": [
  {
   "cell_type": "code",
   "execution_count": 3,
   "metadata": {},
   "outputs": [],
   "source": [
    "import numpy as np\n",
    "import sympy as sym\n",
    "import json\n",
    "import sympy as sym\n",
    "import pydae.build_cffi as db\n",
    "from pydae.grid_bpu import bpu"
   ]
  },
  {
   "cell_type": "code",
   "execution_count": 7,
   "metadata": {},
   "outputs": [],
   "source": [
    "file_path = 'k12p6.json'\n",
    "grid = bpu(file_path)"
   ]
  },
  {
   "cell_type": "code",
   "execution_count": 12,
   "metadata": {},
   "outputs": [],
   "source": [
    "g_list = grid.dae['g'] \n",
    "h_dict = grid.dae['h_dict']\n",
    "f_list = grid.dae['f']\n",
    "x_list = grid.dae['x']\n",
    "params_dict = grid.dae['params_dict']\n",
    "\n",
    "sys = {'name':'k12p6',\n",
    "       'params_dict':params_dict,\n",
    "       'f_list':f_list,\n",
    "       'g_list':g_list,\n",
    "       'x_list':x_list,\n",
    "       'y_ini_list':grid.dae['y_ini'],\n",
    "       'y_run_list':grid.dae['y_run'],\n",
    "       'u_run_dict':grid.dae['u_run_dict'],\n",
    "       'u_ini_dict':grid.dae['u_ini_dict'],\n",
    "       'h_dict':h_dict}\n",
    "\n",
    "\n",
    "bldr = db.builder(sys);\n",
    "bldr.build()"
   ]
  },
  {
   "cell_type": "code",
   "execution_count": null,
   "metadata": {},
   "outputs": [],
   "source": []
  }
 ],
 "metadata": {
  "kernelspec": {
   "display_name": "Python 3 (ipykernel)",
   "language": "python",
   "name": "python3"
  },
  "language_info": {
   "codemirror_mode": {
    "name": "ipython",
    "version": 3
   },
   "file_extension": ".py",
   "mimetype": "text/x-python",
   "name": "python",
   "nbconvert_exporter": "python",
   "pygments_lexer": "ipython3",
   "version": "3.9.7"
  }
 },
 "nbformat": 4,
 "nbformat_minor": 4
}

{
 "cells": [
  {
   "cell_type": "code",
   "execution_count": 3,
   "metadata": {},
   "outputs": [],
   "source": [
    "import numpy as np\n",
    "import sympy as sym\n",
    "import json\n",
    "import sympy as sym\n",
    "from pydae.bmapu import bmapu_builder\n"
   ]
  },
  {
   "cell_type": "code",
   "execution_count": 5,
   "metadata": {},
   "outputs": [
    {
     "ename": "VerificationError",
     "evalue": "CompileError: command 'C:\\\\Program Files\\\\Microsoft Visual Studio\\\\2022\\\\Community\\\\VC\\\\Tools\\\\MSVC\\\\14.34.31933\\\\bin\\\\HostX86\\\\x64\\\\cl.exe' failed with exit code 2",
     "output_type": "error",
     "traceback": [
      "\u001b[1;31m---------------------------------------------------------------------------\u001b[0m",
      "\u001b[1;31mDistutilsExecError\u001b[0m                        Traceback (most recent call last)",
      "File \u001b[1;32mc:\\Users\\jmmau\\anaconda3\\lib\\site-packages\\setuptools\\_distutils\\_msvccompiler.py:426\u001b[0m, in \u001b[0;36mMSVCCompiler.compile\u001b[1;34m(self, sources, output_dir, macros, include_dirs, debug, extra_preargs, extra_postargs, depends)\u001b[0m\n\u001b[0;32m    425\u001b[0m \u001b[39mtry\u001b[39;00m:\n\u001b[1;32m--> 426\u001b[0m     \u001b[39mself\u001b[39;49m\u001b[39m.\u001b[39;49mspawn(args)\n\u001b[0;32m    427\u001b[0m \u001b[39mexcept\u001b[39;00m DistutilsExecError \u001b[39mas\u001b[39;00m msg:\n",
      "File \u001b[1;32mc:\\Users\\jmmau\\anaconda3\\lib\\site-packages\\setuptools\\_distutils\\_msvccompiler.py:524\u001b[0m, in \u001b[0;36mMSVCCompiler.spawn\u001b[1;34m(self, cmd)\u001b[0m\n\u001b[0;32m    523\u001b[0m \u001b[39mwith\u001b[39;00m \u001b[39mself\u001b[39m\u001b[39m.\u001b[39m_fallback_spawn(cmd, env) \u001b[39mas\u001b[39;00m fallback:\n\u001b[1;32m--> 524\u001b[0m     \u001b[39mreturn\u001b[39;00m \u001b[39msuper\u001b[39;49m()\u001b[39m.\u001b[39;49mspawn(cmd, env\u001b[39m=\u001b[39;49menv)\n\u001b[0;32m    525\u001b[0m \u001b[39mreturn\u001b[39;00m fallback\u001b[39m.\u001b[39mvalue\n",
      "File \u001b[1;32mc:\\Users\\jmmau\\anaconda3\\lib\\site-packages\\setuptools\\_distutils\\ccompiler.py:1041\u001b[0m, in \u001b[0;36mCCompiler.spawn\u001b[1;34m(self, cmd, **kwargs)\u001b[0m\n\u001b[0;32m   1040\u001b[0m \u001b[39mdef\u001b[39;00m \u001b[39mspawn\u001b[39m(\u001b[39mself\u001b[39m, cmd, \u001b[39m*\u001b[39m\u001b[39m*\u001b[39mkwargs):\n\u001b[1;32m-> 1041\u001b[0m     spawn(cmd, dry_run\u001b[39m=\u001b[39m\u001b[39mself\u001b[39m\u001b[39m.\u001b[39mdry_run, \u001b[39m*\u001b[39m\u001b[39m*\u001b[39mkwargs)\n",
      "File \u001b[1;32mc:\\Users\\jmmau\\anaconda3\\lib\\site-packages\\setuptools\\_distutils\\spawn.py:70\u001b[0m, in \u001b[0;36mspawn\u001b[1;34m(cmd, search_path, verbose, dry_run, env)\u001b[0m\n\u001b[0;32m     69\u001b[0m     cmd \u001b[39m=\u001b[39m cmd[\u001b[39m0\u001b[39m]\n\u001b[1;32m---> 70\u001b[0m \u001b[39mraise\u001b[39;00m DistutilsExecError(\n\u001b[0;32m     71\u001b[0m     \u001b[39m\"\u001b[39m\u001b[39mcommand \u001b[39m\u001b[39m{!r}\u001b[39;00m\u001b[39m failed with exit code \u001b[39m\u001b[39m{}\u001b[39;00m\u001b[39m\"\u001b[39m\u001b[39m.\u001b[39mformat(cmd, exitcode)\n\u001b[0;32m     72\u001b[0m )\n",
      "\u001b[1;31mDistutilsExecError\u001b[0m: command 'C:\\\\Program Files\\\\Microsoft Visual Studio\\\\2022\\\\Community\\\\VC\\\\Tools\\\\MSVC\\\\14.34.31933\\\\bin\\\\HostX86\\\\x64\\\\cl.exe' failed with exit code 2",
      "\nDuring handling of the above exception, another exception occurred:\n",
      "\u001b[1;31mCompileError\u001b[0m                              Traceback (most recent call last)",
      "File \u001b[1;32mc:\\Users\\jmmau\\anaconda3\\lib\\site-packages\\cffi\\ffiplatform.py:51\u001b[0m, in \u001b[0;36m_build\u001b[1;34m(tmpdir, ext, compiler_verbose, debug)\u001b[0m\n\u001b[0;32m     50\u001b[0m distutils\u001b[39m.\u001b[39mlog\u001b[39m.\u001b[39mset_verbosity(compiler_verbose)\n\u001b[1;32m---> 51\u001b[0m dist\u001b[39m.\u001b[39;49mrun_command(\u001b[39m'\u001b[39;49m\u001b[39mbuild_ext\u001b[39;49m\u001b[39m'\u001b[39;49m)\n\u001b[0;32m     52\u001b[0m cmd_obj \u001b[39m=\u001b[39m dist\u001b[39m.\u001b[39mget_command_obj(\u001b[39m'\u001b[39m\u001b[39mbuild_ext\u001b[39m\u001b[39m'\u001b[39m)\n",
      "File \u001b[1;32mc:\\Users\\jmmau\\anaconda3\\lib\\site-packages\\setuptools\\dist.py:1244\u001b[0m, in \u001b[0;36mDistribution.run_command\u001b[1;34m(self, command)\u001b[0m\n\u001b[0;32m   1241\u001b[0m \u001b[39m# Postpone defaults until all explicit configuration is considered\u001b[39;00m\n\u001b[0;32m   1242\u001b[0m \u001b[39m# (setup() args, config files, command line and plugins)\u001b[39;00m\n\u001b[1;32m-> 1244\u001b[0m \u001b[39msuper\u001b[39;49m()\u001b[39m.\u001b[39;49mrun_command(command)\n",
      "File \u001b[1;32mc:\\Users\\jmmau\\anaconda3\\lib\\site-packages\\setuptools\\_distutils\\dist.py:988\u001b[0m, in \u001b[0;36mDistribution.run_command\u001b[1;34m(self, command)\u001b[0m\n\u001b[0;32m    987\u001b[0m cmd_obj\u001b[39m.\u001b[39mensure_finalized()\n\u001b[1;32m--> 988\u001b[0m cmd_obj\u001b[39m.\u001b[39;49mrun()\n\u001b[0;32m    989\u001b[0m \u001b[39mself\u001b[39m\u001b[39m.\u001b[39mhave_run[command] \u001b[39m=\u001b[39m \u001b[39m1\u001b[39m\n",
      "File \u001b[1;32mc:\\Users\\jmmau\\anaconda3\\lib\\site-packages\\setuptools\\command\\build_ext.py:84\u001b[0m, in \u001b[0;36mbuild_ext.run\u001b[1;34m(self)\u001b[0m\n\u001b[0;32m     83\u001b[0m old_inplace, \u001b[39mself\u001b[39m\u001b[39m.\u001b[39minplace \u001b[39m=\u001b[39m \u001b[39mself\u001b[39m\u001b[39m.\u001b[39minplace, \u001b[39m0\u001b[39m\n\u001b[1;32m---> 84\u001b[0m _build_ext\u001b[39m.\u001b[39;49mrun(\u001b[39mself\u001b[39;49m)\n\u001b[0;32m     85\u001b[0m \u001b[39mself\u001b[39m\u001b[39m.\u001b[39minplace \u001b[39m=\u001b[39m old_inplace\n",
      "File \u001b[1;32mc:\\Users\\jmmau\\anaconda3\\lib\\site-packages\\setuptools\\_distutils\\command\\build_ext.py:345\u001b[0m, in \u001b[0;36mbuild_ext.run\u001b[1;34m(self)\u001b[0m\n\u001b[0;32m    344\u001b[0m \u001b[39m# Now actually compile and link everything.\u001b[39;00m\n\u001b[1;32m--> 345\u001b[0m \u001b[39mself\u001b[39;49m\u001b[39m.\u001b[39;49mbuild_extensions()\n",
      "File \u001b[1;32mc:\\Users\\jmmau\\anaconda3\\lib\\site-packages\\setuptools\\_distutils\\command\\build_ext.py:467\u001b[0m, in \u001b[0;36mbuild_ext.build_extensions\u001b[1;34m(self)\u001b[0m\n\u001b[0;32m    466\u001b[0m \u001b[39melse\u001b[39;00m:\n\u001b[1;32m--> 467\u001b[0m     \u001b[39mself\u001b[39;49m\u001b[39m.\u001b[39;49m_build_extensions_serial()\n",
      "File \u001b[1;32mc:\\Users\\jmmau\\anaconda3\\lib\\site-packages\\setuptools\\_distutils\\command\\build_ext.py:493\u001b[0m, in \u001b[0;36mbuild_ext._build_extensions_serial\u001b[1;34m(self)\u001b[0m\n\u001b[0;32m    492\u001b[0m \u001b[39mwith\u001b[39;00m \u001b[39mself\u001b[39m\u001b[39m.\u001b[39m_filter_build_errors(ext):\n\u001b[1;32m--> 493\u001b[0m     \u001b[39mself\u001b[39;49m\u001b[39m.\u001b[39;49mbuild_extension(ext)\n",
      "File \u001b[1;32mc:\\Users\\jmmau\\anaconda3\\lib\\site-packages\\setuptools\\command\\build_ext.py:246\u001b[0m, in \u001b[0;36mbuild_ext.build_extension\u001b[1;34m(self, ext)\u001b[0m\n\u001b[0;32m    245\u001b[0m     \u001b[39mself\u001b[39m\u001b[39m.\u001b[39mcompiler \u001b[39m=\u001b[39m \u001b[39mself\u001b[39m\u001b[39m.\u001b[39mshlib_compiler\n\u001b[1;32m--> 246\u001b[0m _build_ext\u001b[39m.\u001b[39;49mbuild_extension(\u001b[39mself\u001b[39;49m, ext)\n\u001b[0;32m    247\u001b[0m \u001b[39mif\u001b[39;00m ext\u001b[39m.\u001b[39m_needs_stub:\n",
      "File \u001b[1;32mc:\\Users\\jmmau\\anaconda3\\lib\\site-packages\\setuptools\\_distutils\\command\\build_ext.py:548\u001b[0m, in \u001b[0;36mbuild_ext.build_extension\u001b[1;34m(self, ext)\u001b[0m\n\u001b[0;32m    546\u001b[0m     macros\u001b[39m.\u001b[39mappend((undef,))\n\u001b[1;32m--> 548\u001b[0m objects \u001b[39m=\u001b[39m \u001b[39mself\u001b[39;49m\u001b[39m.\u001b[39;49mcompiler\u001b[39m.\u001b[39;49mcompile(\n\u001b[0;32m    549\u001b[0m     sources,\n\u001b[0;32m    550\u001b[0m     output_dir\u001b[39m=\u001b[39;49m\u001b[39mself\u001b[39;49m\u001b[39m.\u001b[39;49mbuild_temp,\n\u001b[0;32m    551\u001b[0m     macros\u001b[39m=\u001b[39;49mmacros,\n\u001b[0;32m    552\u001b[0m     include_dirs\u001b[39m=\u001b[39;49mext\u001b[39m.\u001b[39;49minclude_dirs,\n\u001b[0;32m    553\u001b[0m     debug\u001b[39m=\u001b[39;49m\u001b[39mself\u001b[39;49m\u001b[39m.\u001b[39;49mdebug,\n\u001b[0;32m    554\u001b[0m     extra_postargs\u001b[39m=\u001b[39;49mextra_args,\n\u001b[0;32m    555\u001b[0m     depends\u001b[39m=\u001b[39;49mext\u001b[39m.\u001b[39;49mdepends,\n\u001b[0;32m    556\u001b[0m )\n\u001b[0;32m    558\u001b[0m \u001b[39m# XXX outdated variable, kept here in case third-part code\u001b[39;00m\n\u001b[0;32m    559\u001b[0m \u001b[39m# needs it.\u001b[39;00m\n",
      "File \u001b[1;32mc:\\Users\\jmmau\\anaconda3\\lib\\site-packages\\setuptools\\_distutils\\_msvccompiler.py:428\u001b[0m, in \u001b[0;36mMSVCCompiler.compile\u001b[1;34m(self, sources, output_dir, macros, include_dirs, debug, extra_preargs, extra_postargs, depends)\u001b[0m\n\u001b[0;32m    427\u001b[0m     \u001b[39mexcept\u001b[39;00m DistutilsExecError \u001b[39mas\u001b[39;00m msg:\n\u001b[1;32m--> 428\u001b[0m         \u001b[39mraise\u001b[39;00m CompileError(msg)\n\u001b[0;32m    430\u001b[0m \u001b[39mreturn\u001b[39;00m objects\n",
      "\u001b[1;31mCompileError\u001b[0m: command 'C:\\\\Program Files\\\\Microsoft Visual Studio\\\\2022\\\\Community\\\\VC\\\\Tools\\\\MSVC\\\\14.34.31933\\\\bin\\\\HostX86\\\\x64\\\\cl.exe' failed with exit code 2",
      "\nDuring handling of the above exception, another exception occurred:\n",
      "\u001b[1;31mVerificationError\u001b[0m                         Traceback (most recent call last)",
      "\u001b[1;32mc:\\Users\\jmmau\\workspace\\pydae_examples\\grids\\grid_bmapu\\k12p6\\k12p6_builder.ipynb Cell 2\u001b[0m line \u001b[0;36m4\n\u001b[0;32m      <a href='vscode-notebook-cell:/c%3A/Users/jmmau/workspace/pydae_examples/grids/grid_bmapu/k12p6/k12p6_builder.ipynb#W1sZmlsZQ%3D%3D?line=1'>2</a>\u001b[0m grid\u001b[39m.\u001b[39mchecker()\n\u001b[0;32m      <a href='vscode-notebook-cell:/c%3A/Users/jmmau/workspace/pydae_examples/grids/grid_bmapu/k12p6/k12p6_builder.ipynb#W1sZmlsZQ%3D%3D?line=2'>3</a>\u001b[0m grid\u001b[39m.\u001b[39muz_jacs \u001b[39m=\u001b[39m \u001b[39mTrue\u001b[39;00m\n\u001b[1;32m----> <a href='vscode-notebook-cell:/c%3A/Users/jmmau/workspace/pydae_examples/grids/grid_bmapu/k12p6/k12p6_builder.ipynb#W1sZmlsZQ%3D%3D?line=3'>4</a>\u001b[0m grid\u001b[39m.\u001b[39;49mbuild(\u001b[39m'\u001b[39;49m\u001b[39mk12p6\u001b[39;49m\u001b[39m'\u001b[39;49m)\n",
      "File \u001b[1;32mc:\\Users\\jmmau\\anaconda3\\lib\\site-packages\\pydae\\bmapu\\bmapu_builder.py:501\u001b[0m, in \u001b[0;36mbmapu.build\u001b[1;34m(self, name)\u001b[0m\n\u001b[0;32m    499\u001b[0m     \u001b[39mprint\u001b[39m(\u001b[39m'\u001b[39m\u001b[39mError: name is not provided.\u001b[39m\u001b[39m'\u001b[39m)\n\u001b[0;32m    500\u001b[0m \u001b[39mself\u001b[39m\u001b[39m.\u001b[39mconstruct(name)    \n\u001b[1;32m--> 501\u001b[0m \u001b[39mself\u001b[39;49m\u001b[39m.\u001b[39;49mcompile()\n",
      "File \u001b[1;32mc:\\Users\\jmmau\\anaconda3\\lib\\site-packages\\pydae\\bmapu\\bmapu_builder.py:495\u001b[0m, in \u001b[0;36mbmapu.compile\u001b[1;34m(self)\u001b[0m\n\u001b[0;32m    492\u001b[0m \u001b[39mdef\u001b[39;00m \u001b[39mcompile\u001b[39m(\u001b[39mself\u001b[39m):\n\u001b[0;32m    494\u001b[0m     bldr \u001b[39m=\u001b[39m db\u001b[39m.\u001b[39mbuilder(\u001b[39mself\u001b[39m\u001b[39m.\u001b[39msys_dict,verbose\u001b[39m=\u001b[39m\u001b[39mself\u001b[39m\u001b[39m.\u001b[39mverbose);\n\u001b[1;32m--> 495\u001b[0m     bldr\u001b[39m.\u001b[39;49mbuild()\n",
      "File \u001b[1;32mc:\\Users\\jmmau\\anaconda3\\lib\\site-packages\\pydae\\build_cffi.py:1093\u001b[0m, in \u001b[0;36mbuilder.build\u001b[1;34m(self)\u001b[0m\n\u001b[0;32m   1091\u001b[0m     \u001b[39mwith\u001b[39;00m \u001b[39mopen\u001b[39m(\u001b[39mf\u001b[39m\u001b[39m'\u001b[39m\u001b[39m./build/source_\u001b[39m\u001b[39m{\u001b[39;00mname\u001b[39m}\u001b[39;00m\u001b[39m_cffi.c\u001b[39m\u001b[39m'\u001b[39m, \u001b[39m'\u001b[39m\u001b[39mw\u001b[39m\u001b[39m'\u001b[39m) \u001b[39mas\u001b[39;00m f:\n\u001b[0;32m   1092\u001b[0m         f\u001b[39m.\u001b[39mwrite(source)\n\u001b[1;32m-> 1093\u001b[0m \u001b[39mself\u001b[39;49m\u001b[39m.\u001b[39;49mcompile_module()\n\u001b[0;32m   1094\u001b[0m \u001b[39mself\u001b[39m\u001b[39m.\u001b[39msys2num()\n",
      "File \u001b[1;32mc:\\Users\\jmmau\\anaconda3\\lib\\site-packages\\pydae\\build_cffi.py:1062\u001b[0m, in \u001b[0;36mbuilder.compile_module\u001b[1;34m(self)\u001b[0m\n\u001b[0;32m   1060\u001b[0m ffi\u001b[39m.\u001b[39mset_source(module_name\u001b[39m=\u001b[39mmodule_name,source\u001b[39m=\u001b[39msource)\n\u001b[0;32m   1061\u001b[0m t_0 \u001b[39m=\u001b[39m time\u001b[39m.\u001b[39mtime()\n\u001b[1;32m-> 1062\u001b[0m ffi\u001b[39m.\u001b[39;49mcompile()\n\u001b[0;32m   1063\u001b[0m \u001b[39mif\u001b[39;00m \u001b[39mself\u001b[39m\u001b[39m.\u001b[39mverbose: \u001b[39mprint\u001b[39m(\u001b[39mf\u001b[39m\u001b[39m'\u001b[39m\u001b[39mCompilation time: \u001b[39m\u001b[39m{\u001b[39;00mtime\u001b[39m.\u001b[39mtime()\u001b[39m-\u001b[39mt_0\u001b[39m:\u001b[39;00m\u001b[39m0.2f\u001b[39m\u001b[39m}\u001b[39;00m\u001b[39m s\u001b[39m\u001b[39m'\u001b[39m)\n",
      "File \u001b[1;32mc:\\Users\\jmmau\\anaconda3\\lib\\site-packages\\cffi\\api.py:725\u001b[0m, in \u001b[0;36mFFI.compile\u001b[1;34m(self, tmpdir, verbose, target, debug)\u001b[0m\n\u001b[0;32m    723\u001b[0m     \u001b[39mraise\u001b[39;00m \u001b[39mValueError\u001b[39;00m(\u001b[39m\"\u001b[39m\u001b[39mset_source() must be called before compile()\u001b[39m\u001b[39m\"\u001b[39m)\n\u001b[0;32m    724\u001b[0m module_name, source, source_extension, kwds \u001b[39m=\u001b[39m \u001b[39mself\u001b[39m\u001b[39m.\u001b[39m_assigned_source\n\u001b[1;32m--> 725\u001b[0m \u001b[39mreturn\u001b[39;00m recompile(\u001b[39mself\u001b[39m, module_name, source, tmpdir\u001b[39m=\u001b[39mtmpdir,\n\u001b[0;32m    726\u001b[0m                  target\u001b[39m=\u001b[39mtarget, source_extension\u001b[39m=\u001b[39msource_extension,\n\u001b[0;32m    727\u001b[0m                  compiler_verbose\u001b[39m=\u001b[39mverbose, debug\u001b[39m=\u001b[39mdebug, \u001b[39m*\u001b[39m\u001b[39m*\u001b[39mkwds)\n",
      "File \u001b[1;32mc:\\Users\\jmmau\\anaconda3\\lib\\site-packages\\cffi\\recompiler.py:1564\u001b[0m, in \u001b[0;36mrecompile\u001b[1;34m(ffi, module_name, preamble, tmpdir, call_c_compiler, c_file, source_extension, extradir, compiler_verbose, target, debug, **kwds)\u001b[0m\n\u001b[0;32m   1562\u001b[0m         \u001b[39mprint\u001b[39m(\u001b[39m'\u001b[39m\u001b[39m%s\u001b[39;00m\u001b[39m \u001b[39m\u001b[39m%r\u001b[39;00m\u001b[39m'\u001b[39m \u001b[39m%\u001b[39m (msg, os\u001b[39m.\u001b[39mpath\u001b[39m.\u001b[39mabspath(tmpdir)))\n\u001b[0;32m   1563\u001b[0m     os\u001b[39m.\u001b[39mchdir(tmpdir)\n\u001b[1;32m-> 1564\u001b[0m     outputfilename \u001b[39m=\u001b[39m ffiplatform\u001b[39m.\u001b[39;49mcompile(\u001b[39m'\u001b[39;49m\u001b[39m.\u001b[39;49m\u001b[39m'\u001b[39;49m, ext,\n\u001b[0;32m   1565\u001b[0m                                          compiler_verbose, debug)\n\u001b[0;32m   1566\u001b[0m \u001b[39mfinally\u001b[39;00m:\n\u001b[0;32m   1567\u001b[0m     os\u001b[39m.\u001b[39mchdir(cwd)\n",
      "File \u001b[1;32mc:\\Users\\jmmau\\anaconda3\\lib\\site-packages\\cffi\\ffiplatform.py:22\u001b[0m, in \u001b[0;36mcompile\u001b[1;34m(tmpdir, ext, compiler_verbose, debug)\u001b[0m\n\u001b[0;32m     20\u001b[0m saved_environ \u001b[39m=\u001b[39m os\u001b[39m.\u001b[39menviron\u001b[39m.\u001b[39mcopy()\n\u001b[0;32m     21\u001b[0m \u001b[39mtry\u001b[39;00m:\n\u001b[1;32m---> 22\u001b[0m     outputfilename \u001b[39m=\u001b[39m _build(tmpdir, ext, compiler_verbose, debug)\n\u001b[0;32m     23\u001b[0m     outputfilename \u001b[39m=\u001b[39m os\u001b[39m.\u001b[39mpath\u001b[39m.\u001b[39mabspath(outputfilename)\n\u001b[0;32m     24\u001b[0m \u001b[39mfinally\u001b[39;00m:\n\u001b[0;32m     25\u001b[0m     \u001b[39m# workaround for a distutils bugs where some env vars can\u001b[39;00m\n\u001b[0;32m     26\u001b[0m     \u001b[39m# become longer and longer every time it is used\u001b[39;00m\n",
      "File \u001b[1;32mc:\\Users\\jmmau\\anaconda3\\lib\\site-packages\\cffi\\ffiplatform.py:58\u001b[0m, in \u001b[0;36m_build\u001b[1;34m(tmpdir, ext, compiler_verbose, debug)\u001b[0m\n\u001b[0;32m     55\u001b[0m         distutils\u001b[39m.\u001b[39mlog\u001b[39m.\u001b[39mset_threshold(old_level)\n\u001b[0;32m     56\u001b[0m \u001b[39mexcept\u001b[39;00m (distutils\u001b[39m.\u001b[39merrors\u001b[39m.\u001b[39mCompileError,\n\u001b[0;32m     57\u001b[0m         distutils\u001b[39m.\u001b[39merrors\u001b[39m.\u001b[39mLinkError) \u001b[39mas\u001b[39;00m e:\n\u001b[1;32m---> 58\u001b[0m     \u001b[39mraise\u001b[39;00m VerificationError(\u001b[39m'\u001b[39m\u001b[39m%s\u001b[39;00m\u001b[39m: \u001b[39m\u001b[39m%s\u001b[39;00m\u001b[39m'\u001b[39m \u001b[39m%\u001b[39m (e\u001b[39m.\u001b[39m\u001b[39m__class__\u001b[39m\u001b[39m.\u001b[39m\u001b[39m__name__\u001b[39m, e))\n\u001b[0;32m     59\u001b[0m \u001b[39m#\u001b[39;00m\n\u001b[0;32m     60\u001b[0m \u001b[39mreturn\u001b[39;00m soname\n",
      "\u001b[1;31mVerificationError\u001b[0m: CompileError: command 'C:\\\\Program Files\\\\Microsoft Visual Studio\\\\2022\\\\Community\\\\VC\\\\Tools\\\\MSVC\\\\14.34.31933\\\\bin\\\\HostX86\\\\x64\\\\cl.exe' failed with exit code 2"
     ]
    }
   ],
   "source": [
    "grid = bmapu_builder.bmapu('k12p6.hjson')\n",
    "grid.checker()\n",
    "grid.uz_jacs = True\n",
    "grid.build('k12p6')"
   ]
  },
  {
   "cell_type": "code",
   "execution_count": null,
   "metadata": {},
   "outputs": [],
   "source": []
  },
  {
   "cell_type": "code",
   "execution_count": null,
   "metadata": {},
   "outputs": [],
   "source": []
  }
 ],
 "metadata": {
  "kernelspec": {
   "display_name": "base",
   "language": "python",
   "name": "python3"
  },
  "language_info": {
   "codemirror_mode": {
    "name": "ipython",
    "version": 3
   },
   "file_extension": ".py",
   "mimetype": "text/x-python",
   "name": "python",
   "nbconvert_exporter": "python",
   "pygments_lexer": "ipython3",
   "version": "3.10.11"
  },
  "vscode": {
   "interpreter": {
    "hash": "1b1fd1016f48c91706a48f1be322d44ea1680db2bb213f1ce174a5eccfd1e534"
   }
  }
 },
 "nbformat": 4,
 "nbformat_minor": 4
}

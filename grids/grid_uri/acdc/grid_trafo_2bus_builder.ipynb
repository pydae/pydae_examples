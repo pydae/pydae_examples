{
 "cells": [
  {
   "cell_type": "code",
   "execution_count": 1,
   "id": "3ab2ed6f",
   "metadata": {},
   "outputs": [],
   "source": [
    "\n",
    "import numpy as np\n",
    "import matplotlib.pyplot as plt \n",
    "import sympy as sym \n",
    "import pydae.build_cffi as db \n",
    "from pydae.grid_urisi import unb_ri_si \n",
    "from pydae import svg_tools \n",
    "import json \n",
    "import time"
   ]
  },
  {
   "cell_type": "code",
   "execution_count": 2,
   "id": "1e5c0ffd",
   "metadata": {},
   "outputs": [],
   "source": [
    "grid = unb_ri_si('grid_trafo_2bus.json')"
   ]
  },
  {
   "cell_type": "code",
   "execution_count": 3,
   "id": "0091e5f9",
   "metadata": {},
   "outputs": [],
   "source": [
    "params_dict  = grid.dae['params']\n",
    "f_list = grid.dae['f']\n",
    "x_list = grid.dae['x']\n",
    "g_list = grid.dae['g']\n",
    "y_list = grid.dae['y']\n",
    "u_dict = grid.dae['u']\n",
    "\n",
    "u_dummy,x_dummy,z_dummy = sym.symbols('u_dummy,x_dummy,z_dummy', real=True)\n",
    "u_dict.update({'u_dummy':0})\n",
    "#grid.dae['xy_0_dict'].update(xy_0_dict_vsc)\\n\",\n",
    "f_list = [u_dummy - x_dummy]\n",
    "x_list = [x_dummy]\n",
    "\n",
    "h_dict = grid.dae['h_dict']\n",
    "h_dict.update({'z_dummy':x_dummy})\n",
    "sys_dict = {'name':'grid_trafo_2bus','uz_jacs':True,\n",
    "           'params_dict':params_dict,\n",
    "           'f_list':f_list,\n",
    "           'g_list':g_list,\n",
    "           'x_list':x_list,\n",
    "           'y_ini_list':y_list,\n",
    "           'y_run_list':y_list,\n",
    "           'u_run_dict':u_dict,\n",
    "           'u_ini_dict':u_dict,\n",
    "           'h_dict':h_dict\n",
    "           }\n",
    "\n",
    "bldr = db.builder(sys_dict);\n",
    "bldr.build()\n",
    "data = json.dumps(grid.dae['xy_0_dict'], indent=4) \n",
    "fobj = open(\"xy_0_dict.json\",\"w\")\n",
    "fobj.write(data)\n",
    "fobj.close()"
   ]
  },
  {
   "cell_type": "code",
   "execution_count": null,
   "id": "db3235cf",
   "metadata": {},
   "outputs": [],
   "source": []
  }
 ],
 "metadata": {
  "kernelspec": {
   "display_name": "Python 3 (ipykernel)",
   "language": "python",
   "name": "python3"
  },
  "language_info": {
   "codemirror_mode": {
    "name": "ipython",
    "version": 3
   },
   "file_extension": ".py",
   "mimetype": "text/x-python",
   "name": "python",
   "nbconvert_exporter": "python",
   "pygments_lexer": "ipython3",
   "version": "3.9.7"
  }
 },
 "nbformat": 4,
 "nbformat_minor": 5
}

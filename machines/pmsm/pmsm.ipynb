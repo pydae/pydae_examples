{
 "cells": [
  {
   "cell_type": "code",
   "execution_count": 1,
   "metadata": {},
   "outputs": [],
   "source": [
    "import numpy as np\n",
    "import sympy as sym\n",
    "import pydae.build_cffi as db"
   ]
  },
  {
   "cell_type": "code",
   "execution_count": 2,
   "metadata": {},
   "outputs": [],
   "source": [
    "L_s = 100e-6;\n",
    "R_s = 0.0165;\n",
    "Phi = 0.2844;\n",
    "N_pp = 6;\n",
    "J=20;\n",
    "K_f=6.5;\n",
    "\n",
    "T_deseado = 0.01;\n",
    "\n",
    "K_p = L_s/T_deseado;\n",
    "T_pi = L_s/R_s;\n"
   ]
  },
  {
   "cell_type": "code",
   "execution_count": 3,
   "metadata": {},
   "outputs": [],
   "source": [
    "import numpy as np\n",
    "import sympy as sym\n",
    "import pydae.build_cffi as db"
   ]
  },
  {
   "cell_type": "code",
   "execution_count": 4,
   "metadata": {},
   "outputs": [],
   "source": [
    "L_s,R_s,Phi,N_pp = sym.symbols('L_s,R_s,Phi,N_pp', real=True)\n",
    "K_p,T_pi  = sym.symbols('K_p,T_pi', real=True) \n"
   ]
  },
  {
   "cell_type": "code",
   "execution_count": null,
   "metadata": {},
   "outputs": [],
   "source": [
    "theta_e = N_pp*theta_r;\n",
    "omega_e = N_pp*omega_r;\n",
    "i_dq = abc2dq(i_abc, theta_e);\n",
    "\n",
    "i_d = i_dq(1);\n",
    "i_q = i_dq(2);\n",
    "\n",
    "xi_d = x(1);\n",
    "xi_q = x(2);\n",
    "\n",
    "dx = zeros(3,1).';\n",
    "i_d = x(1);\n",
    "i_q = x(2);\n",
    "omega_r = x(3);\n",
    "\n",
    "tau_e = 3/2*Phi*N_pp*i_q;\n",
    "omega_e = omega_r*N_pp;\n",
    "\n",
    "di_d = 1/L_s*(v_d + L_s*omega_e*i_q - R_s*i_d);\n",
    "di_q = 1/L_s*(v_q - L_s*omega_e*i_d - R_s*i_q - Phi*omega_e);\n",
    "#domega_r = 1.0/J*(tau_e  - tau_l - omega_r*K_f);\n",
    " \n",
    "\n",
    "f_list = [di_d, di_q]\n",
    "\n",
    "\n",
    "epsilon_d = i_d_ref - i_d;\n",
    "epsilon_q = i_q_ref - i_q;\n",
    "\n",
    "u_d = K_p*(epsilon_d + xi_d/T_pi);\n",
    "u_q = K_p*(epsilon_q + xi_q/T_pi);\n",
    "\n",
    "dxi_d = epsilon_d;\n",
    "dxi_q = epsilon_q;\n",
    "\n",
    "\n",
    "f_list += [dxi_d, dxi_q]\n",
    "\n",
    "v_d = u_d - L_s*omega_e*i_q;\n",
    "v_q = u_q + L_s*omega_e*i_d + Phi*omega_e;\n",
    "\n",
    " \n",
    "params_dict = {'L':5.21,'G':9.81,'M':10.0,'K_d':1e-3}  # parameters with default values\n",
    "\n",
    "u_ini_dict = {'theta':np.deg2rad(5.0)}  # input for the initialization problem\n",
    "u_run_dict = {'f_x':0}                  # input for the running problem, its value is updated \n",
    "\n",
    "# v_dq = [v_d;v_q];\n",
    "\n",
    "# v_abc = dq2abc(v_dq,theta_e);\n",
    "# eta_abc = v_abc*2/v_dc;\n",
    "\n",
    "\n",
    "\n",
    "# end\n",
    "\n",
    "# function dq=abc2dq(abc, theta)\n",
    "# dq = zeros(2,1);\n",
    "# a = abc(1);\n",
    "# b = abc(2);\n",
    "# c = abc(3);\n",
    "# dq(1) = 2/3*( a*cos(theta) + b*cos(theta-2/3*pi) + c*cos(theta-4/3*pi));\n",
    "# dq(2) = 2/3*(-a*sin(theta) - b*sin(theta-2/3*pi) - c*sin(theta-4/3*pi));\n",
    "# end\n",
    "\n",
    "# function abc=dq2abc(dq, theta)\n",
    "# abc = zeros(3,1);\n",
    "# d = dq(1);\n",
    "# q = dq(2);\n",
    "# abc(1) = d*cos(theta)        - q*sin(theta);\n",
    "# abc(2) = d*cos(theta-2/3*pi) - q*sin(theta-2/3*pi);\n",
    "# abc(3) = d*cos(theta-4/3*pi) - q*sin(theta-4/3*pi);\n",
    "# end"
   ]
  }
 ],
 "metadata": {
  "kernelspec": {
   "display_name": "base",
   "language": "python",
   "name": "python3"
  },
  "language_info": {
   "codemirror_mode": {
    "name": "ipython",
    "version": 3
   },
   "file_extension": ".py",
   "mimetype": "text/x-python",
   "name": "python",
   "nbconvert_exporter": "python",
   "pygments_lexer": "ipython3",
   "version": "3.11.5"
  }
 },
 "nbformat": 4,
 "nbformat_minor": 2
}

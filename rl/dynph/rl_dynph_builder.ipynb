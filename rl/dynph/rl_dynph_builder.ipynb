{
 "cells": [
  {
   "cell_type": "code",
   "execution_count": 1,
   "id": "fed76750",
   "metadata": {},
   "outputs": [],
   "source": [
    "import numpy as np\n",
    "import sympy as sym\n",
    "import pydae.build_cffi as db"
   ]
  },
  {
   "cell_type": "code",
   "execution_count": 2,
   "id": "e13535ef",
   "metadata": {},
   "outputs": [],
   "source": [
    "# https://ieeexplore.ieee.org/stamp/stamp.jsp?tp=&arnumber=4538460&tag=1\n",
    "params_dict = {'R':0.1,'L':0.01}\n",
    "u_ini_dict = {'v_d':0.0,'v_q':0.0,'omega':2*np.pi*50}   \n",
    "u_run_dict = {'v_d':0.0,'v_q':0.0,'omega':2*np.pi*50}     \n",
    "\n",
    "i_d,i_q,i_d0,i_q0,i_d2,i_q2 = sym.symbols('i_d,i_q,i_d0,i_q0,i_d2,i_q2', real=True)\n",
    "v_d,v_q,v_d0,v_q0,v_d2,v_q2,omega = sym.symbols('v_d,v_q,v_d0,v_q0,v_d2,v_q2,omega', real=True) \n",
    "R,L = sym.symbols('R,L', real=True) \n",
    "\n",
    "di_d = (v_d - R * i_d + L*omega*i_q)/L\n",
    "di_q = (v_q - R * i_q - L*omega*i_d)/L\n",
    "\n",
    "di_d = (v_d - R * i_d - L*omega*i_q)/L\n",
    "di_q = (v_q - R * i_q + L*omega*i_d)/L\n",
    "\n",
    "\n",
    "f_list = [di_d,di_q]\n",
    "x_list = [ i_d, i_q]\n",
    "g_list = []\n",
    "y_list = []\n",
    "\n",
    "h_dict = {'v_d':v_d,'v_q':v_q}"
   ]
  },
  {
   "cell_type": "code",
   "execution_count": 3,
   "id": "0d4ee0f0",
   "metadata": {},
   "outputs": [
    {
     "name": "stdout",
     "output_type": "stream",
     "text": [
      "system without algebraic equations, adding dummy algebraic equation\n",
      "Compilation time: 16.68 s\n"
     ]
    }
   ],
   "source": [
    "sys = {'name':f\"rl_dq\",\n",
    "       'params_dict':params_dict,\n",
    "       'f_list':f_list,\n",
    "       'g_list':g_list,\n",
    "       'x_list':x_list,\n",
    "       'y_ini_list':y_list,\n",
    "       'y_run_list':y_list,\n",
    "       'u_run_dict':u_run_dict,\n",
    "       'u_ini_dict':u_ini_dict,\n",
    "       'h_dict':h_dict\n",
    "      }\n",
    "\n",
    "bldr = db.builder(sys)\n",
    "bldr.build()"
   ]
  },
  {
   "cell_type": "code",
   "execution_count": 30,
   "id": "445cd414",
   "metadata": {},
   "outputs": [],
   "source": [
    "params_dict = {'R':0.1,'L':0.01}\n",
    "u_ini_dict = {'v_d0r':0.0,'v_q0r':0.0,\n",
    "              'v_d2r':0.0,'v_q2r':0.0,\n",
    "              'v_d0i':0.0,'v_q0i':0.0,\n",
    "              'v_d2i':0.0,'v_q2i':0.0,\n",
    "              'omega':2*np.pi*50}   \n",
    "\n",
    "u_run_dict = u_ini_dict\n",
    "\n",
    "i_d0r,i_q0r,i_d2r,i_q2r,i_d0i,i_q0i,i_d2i,i_q2i = sym.symbols('i_d0r,i_q0r,i_d2r,i_q2r,i_d0i,i_q0i,i_d2i,i_q2i', real=True)\n",
    "v_d0r,v_q0r,v_d2r,v_q2r,v_d0i,v_q0i,v_d2i,v_q2i = sym.symbols('v_d0r,v_q0r,v_d2r,v_q2r,v_d0i,v_q0i,v_d2i,v_q2i', real=True)\n",
    "R,L,omega = sym.symbols('R,L,omega', real=True) \n",
    "\n",
    "v_d0 = v_d0r + sym.I*v_d0i\n",
    "v_q0 = v_q0r + sym.I*v_q0i\n",
    "v_d2 = v_d2r + sym.I*v_d2i\n",
    "v_q2 = v_q2r + sym.I*v_q2i\n",
    "\n",
    "i_d0 = i_d0r + sym.I*i_d0i\n",
    "i_q0 = i_q0r + sym.I*i_q0i\n",
    "i_d2 = i_d2r + sym.I*i_d2i\n",
    "i_q2 = i_q2r + sym.I*i_q2i\n",
    "\n",
    "K = 0\n",
    "di_d0 = (v_d0 - R * i_d0 + L*omega*i_q0 - sym.I*K*omega*L*i_d0)/L\n",
    "di_q0 = (v_q0 - R * i_q0 - L*omega*i_d0 - sym.I*K*omega*L*i_q0)/L\n",
    "\n",
    "di_d0r = sym.re(di_d0)\n",
    "di_q0r = sym.re(di_q0)\n",
    "di_d0i = sym.im(di_d0)\n",
    "di_q0i = sym.im(di_q0)\n",
    "\n",
    "i_q2_ = -sym.I*i_d2 \n",
    "i_d2_ =  sym.I*i_q2 \n",
    "\n",
    "\n",
    "K = 2\n",
    "di_d2 = (v_d2 - R * i_d2 + L*omega*i_q2 - sym.I*K*omega*L*i_d2)/L\n",
    "di_q2 = (v_q2 - R * i_q2 - L*omega*i_d2 - sym.I*K*omega*L*i_q2)/L\n",
    "\n",
    "di_d2r = sym.re(di_d2)\n",
    "di_q2r = sym.re(di_q2)\n",
    "di_d2i = sym.im(di_d2)\n",
    "di_q2i = sym.im(di_q2)\n",
    "\n",
    "f_list = [di_d0r,di_q0r,di_d0i,di_q0i,di_d2r,di_q2r,di_d2i,di_q2i]\n",
    "x_list = [ i_d0r, i_q0r, i_d0i, i_q0i, i_d2r, i_q2r, i_d2i, i_q2i]\n",
    "g_list = []\n",
    "y_list = []\n",
    "\n",
    "h_dict = {'v_d0r':v_d0r,'v_q0r':v_q0r}"
   ]
  },
  {
   "cell_type": "code",
   "execution_count": 31,
   "id": "fc50bfc5",
   "metadata": {},
   "outputs": [
    {
     "name": "stdout",
     "output_type": "stream",
     "text": [
      "system without algebraic equations, adding dummy algebraic equation\n",
      "Compilation time: 2.90 s\n"
     ]
    }
   ],
   "source": [
    "sys = {'name':f\"rl_dp\",\n",
    "       'params_dict':params_dict,\n",
    "       'f_list':f_list,\n",
    "       'g_list':g_list,\n",
    "       'x_list':x_list,\n",
    "       'y_ini_list':y_list,\n",
    "       'y_run_list':y_list,\n",
    "       'u_run_dict':u_run_dict,\n",
    "       'u_ini_dict':u_ini_dict,\n",
    "       'h_dict':h_dict\n",
    "      }\n",
    "\n",
    "bldr = db.builder(sys)\n",
    "bldr.build()"
   ]
  },
  {
   "cell_type": "raw",
   "id": "ceab1c83",
   "metadata": {},
   "source": [
    "di_d0 = (v_d0 - R * i_d0 + L*omega*i_q0 - sym.I*K*omega*L*i_d0)/L\n",
    "di_q0 = (v_q0 - R * i_q0 - L*omega*i_d0 - sym.I*K*omega*L*i_q0)/L\n",
    "\n",
    "di_d2 = (v_d2 - R * i_d2 + L*omega*i_q2 - j*K*omega*L*i_d2)/L\n",
    "di_q2 = (v_q2 - R * i_q2 - L*omega*i_d2 - j*K*omega*L*i_q2)/L\n",
    "\n",
    "j*i_d2 = i_q2\n",
    "j*i_q2 =-i_d2\n",
    "\n",
    "di_d2 = (v_d2 - R * i_d2 + L*omega*i_q2 -  2*omega*L*i_q2)/L\n",
    "di_q2 = (v_q2 - R * i_q2 - L*omega*i_d2 +  2*omega*L*i_d2)/L\n",
    "\n",
    "di_d2 = (v_d2 - R * i_d2 - L*omega*i_q2 )/L\n",
    "di_q2 = (v_q2 - R * i_q2 + L*omega*i_d2 )/L\n",
    "\n"
   ]
  },
  {
   "cell_type": "code",
   "execution_count": 34,
   "id": "7857d127",
   "metadata": {},
   "outputs": [
    {
     "data": {
      "text/plain": [
       "[(L*i_q0r*omega - R*i_d0r + v_d0r)/L,\n",
       " (-L*i_d0r*omega - R*i_q0r + v_q0r)/L,\n",
       " (L*i_q0i*omega - R*i_d0i + v_d0i)/L,\n",
       " (-L*i_d0i*omega - R*i_q0i + v_q0i)/L,\n",
       " (2*L*i_d2i*omega + L*i_q2r*omega - R*i_d2r + v_d2r)/L,\n",
       " (-L*i_d2r*omega + 2*L*i_q2i*omega - R*i_q2r + v_q2r)/L,\n",
       " (-2*L*i_d2r*omega + L*i_q2i*omega - R*i_d2i + v_d2i)/L,\n",
       " (-L*i_d2i*omega - 2*L*i_q2r*omega - R*i_q2i + v_q2i)/L]"
      ]
     },
     "execution_count": 34,
     "metadata": {},
     "output_type": "execute_result"
    }
   ],
   "source": [
    "f_list"
   ]
  },
  {
   "cell_type": "code",
   "execution_count": 33,
   "id": "df34289e",
   "metadata": {},
   "outputs": [
    {
     "data": {
      "text/plain": [
       "[i_d0r, i_q0r, i_d0i, i_q0i, i_d2r, i_q2r, i_d2i, i_q2i]"
      ]
     },
     "execution_count": 33,
     "metadata": {},
     "output_type": "execute_result"
    }
   ],
   "source": [
    "x_list"
   ]
  },
  {
   "cell_type": "code",
   "execution_count": null,
   "id": "f9ce7f02",
   "metadata": {},
   "outputs": [],
   "source": []
  }
 ],
 "metadata": {
  "kernelspec": {
   "display_name": "Python 3 (ipykernel)",
   "language": "python",
   "name": "python3"
  },
  "language_info": {
   "codemirror_mode": {
    "name": "ipython",
    "version": 3
   },
   "file_extension": ".py",
   "mimetype": "text/x-python",
   "name": "python",
   "nbconvert_exporter": "python",
   "pygments_lexer": "ipython3",
   "version": "3.9.7"
  }
 },
 "nbformat": 4,
 "nbformat_minor": 5
}

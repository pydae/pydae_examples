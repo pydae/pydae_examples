{
 "cells": [
  {
   "cell_type": "code",
   "execution_count": 1,
   "id": "fed76750",
   "metadata": {},
   "outputs": [],
   "source": [
    "import numpy as np\n",
    "import sympy as sym\n",
    "import pydae.build_cffi as db"
   ]
  },
  {
   "cell_type": "code",
   "execution_count": 5,
   "id": "41ad3f17",
   "metadata": {},
   "outputs": [
    {
     "data": {
      "text/latex": [
       "$\\displaystyle \\left(i xni + xnr\\right) \\left(- i yzi + yzr\\right) + \\left(i xzi + xzr\\right) \\left(- i yni + ynr\\right)$"
      ],
      "text/plain": [
       "(I*xni + xnr)*(-I*yzi + yzr) + (I*xzi + xzr)*(-I*yni + ynr)"
      ]
     },
     "execution_count": 5,
     "metadata": {},
     "output_type": "execute_result"
    }
   ],
   "source": [
    "\n",
    "\n",
    "def dynph_conv(var1,var2,k_dict,k,verb = False):\n",
    "    k_list = list(k_dict.keys())\n",
    "    conv = 0\n",
    "    conj_var2 = False\n",
    "    if 'conj' in var2:\n",
    "        var2 = var2.split('(')[1][:-1]\n",
    "        conj_var2 = True\n",
    "    conv = 0\n",
    "    for l in range(-10,10):\n",
    "        m = k - l\n",
    "        #print(f'm = {m:3d}, l= {l:3d}')\n",
    "\n",
    "        if m in k_list  or -m in k_list:\n",
    "            if l in k_list or -l in k_list:\n",
    "                sym1r,sym1i = sym.symbols(f'{var1}{k_dict[np.abs(m)]}r,{var1}{k_dict[np.abs(m)]}i', real=True)\n",
    "                sym2r,sym2i = sym.symbols(f'{var2}{k_dict[np.abs(l)]}r,{var2}{k_dict[np.abs(l)]}i', real=True)\n",
    "                sym_1 = sym1r + sym.I*sym1i\n",
    "                if conj_var2:\n",
    "                    sym_2 = sym.conjugate(sym2r + sym.I*sym2i)\n",
    "                else:\n",
    "                    sym_2 = (sym2r + sym.I*sym2i)\n",
    "                        \n",
    "                \n",
    "                if m < 0: \n",
    "                    if verb: print(f'conj(x_({-m:2d})) * y_({l:2d})')\n",
    "                    conv += sym.conjugate(sym_1)*sym_2\n",
    "                elif l < 0:\n",
    "                    if verb: print(f'x_({m:2d}) * conj(y_({-l:2d}))')\n",
    "                    conv += sym_1*sym.conjugate(sym_2)\n",
    "                else:\n",
    "                    if verb: print(f'x_({m:2d})) * y_({l:2d})')\n",
    "                    conv += sym_1*sym_2\n",
    "    return conv\n",
    "\n",
    "k = 2\n",
    "k_list = [0,2]\n",
    "k_dict = {0:'z',2:'n'}\n",
    "var1 = 'x'\n",
    "var2 = 'conj(y)'\n",
    "dynph_conv(var1,var2,k_dict,k)"
   ]
  },
  {
   "cell_type": "code",
   "execution_count": null,
   "id": "d4bfafb5",
   "metadata": {},
   "outputs": [],
   "source": []
  },
  {
   "cell_type": "code",
   "execution_count": 12,
   "id": "e13535ef",
   "metadata": {},
   "outputs": [],
   "source": [
    "# https://ieeexplore.ieee.org/stamp/stamp.jsp?tp=&arnumber=4538460&tag=1\n",
    "\n",
    "omega,R,L = sym.symbols('omega,R,L', real=True) \n",
    "\n",
    "v_td0r,v_td0i,v_tq0r,v_tq0i = sym.symbols('v_td0r,v_td0i,v_tq0r,v_tq0i', real=True)\n",
    "v_td2r,v_td2i,v_tq2r,v_tq2i = sym.symbols('v_td2r,v_td2i,v_tq2r,v_tq2i', real=True)\n",
    "\n",
    "i_d0r,i_d0i,i_q0r,i_q0i = sym.symbols('i_d0r,i_d0i,i_q0r,i_q0i', real=True)\n",
    "i_d2r,i_d2i,i_q2r,i_q2i = sym.symbols('i_d2r,i_d2i,i_q2r,i_q2i', real=True)\n",
    "\n",
    "v_sd0r,v_sd0i,v_sq0r,v_sq0i = sym.symbols('v_sd0r,v_sd0i,v_sq0r,v_sq0i', real=True)\n",
    "v_sd2r,v_sd2i,v_sq2r,v_sq2i = sym.symbols('v_sd2r,v_sd2i,v_sq2r,v_sq2i', real=True)\n",
    "\n",
    "\n",
    "j = sym.I\n",
    "\n",
    "v_td0 = v_td0r + j*v_td0i\n",
    "v_tq0 = v_tq0r + j*v_tq0i\n",
    "v_td2 = v_td2r + j*v_td2i\n",
    "v_tq2 = v_tq2r + j*v_tq2i\n",
    "\n",
    "i_d0 = i_d0r + j*i_d0i\n",
    "i_q0 = i_q0r + j*i_q0i\n",
    "i_d2 = i_d2r + j*i_d2i\n",
    "i_q2 = i_q2r + j*i_q2i\n",
    "\n",
    "v_sd0 = v_sd0r + j*v_sd0i\n",
    "v_sq0 = v_sq0r + j*v_sq0i\n",
    "v_sd2 = v_sd2r + j*v_sd2i\n",
    "v_sq2 = v_sq2r + j*v_sq2i\n",
    "\n",
    "# di_d = (v_d - R * i_d)/L\n",
    "# di_q = (v_q - R * i_q)/L\n",
    "\n",
    "#K = 0\n",
    "di_d0 = 1/L*(v_td0 - R * i_d0 + L*omega*i_q0 - v_sd0) - j*( 0)*omega*i_d0\n",
    "di_q0 = 1/L*(v_tq0 - R * i_q0 - L*omega*i_d0 - v_sq0) - j*( 0)*omega*i_q0\n",
    "\n",
    "#K = 2\n",
    "di_d2 = 1/L*(v_td2 - R * i_d2 + L*omega*i_q2 - v_sd2) - j*(+2)*omega*i_d2\n",
    "di_q2 = 1/L*(v_tq2 - R * i_q2 - L*omega*i_d2 - v_sq2) - j*(+2)*omega*i_q2\n",
    "\n",
    "k_dict = {0:'0',2:'2'}\n",
    "s_abc_t0 = 1.5*(dynph_conv('v_td','conj(i_d)',k_dict,0) + dynph_conv('v_tq','conj(i_q)',k_dict,0))\n",
    "s_abc_t2 = 1.5*(dynph_conv('v_td','conj(i_d)',k_dict,2) + dynph_conv('v_tq','conj(i_q)',k_dict,2))\n",
    "s_abc_s0 = 1.5*(dynph_conv('v_sd','conj(i_d)',k_dict,0) + dynph_conv('v_sq','conj(i_q)',k_dict,0))\n",
    "s_abc_s2 = 1.5*(dynph_conv('v_sd','conj(i_d)',k_dict,2) + dynph_conv('v_sq','conj(i_q)',k_dict,2))\n",
    "\n",
    "\n",
    "\n",
    "#s_avg = v_n*conj(i_n) + v_0*conj(i_0) +v_p*conj(i_p) + v_2*conj(i_2)\n",
    "#s_osc_n1 = v_n*conj(i_0) + v_0*conj(i_p) + v_p*conj(i_2)\n",
    "#s_osc_n2 = v_n*conj(i_0) + v_0*conj(i_p) + v_p*conj(i_2)\n",
    "\n",
    "\n",
    "\n",
    "\n",
    "#s_osc_n = v_n*conj(i_0) + v_0*conj(i_p) + v_p*conj(i_2) \n",
    "\n",
    "#s_osc_0 = v_0*conj(i_n) + v_0*conj(i_p) +v_0*conj(i_2) \n",
    "\n",
    "#v_t = v_n*exp(-jwt)\n",
    "\n",
    "#s_abc_sn = 1.5*(dynph_conv('v_sd','i_d',k_dict,'n') + dynph_conv('v_sq','i_q',k_dict,'n'))\n",
    "#s_abc_s0 = 1.5*(dynph_conv('v_sd','i_d',k_dict,'0') + dynph_conv('v_sq','i_q',k_dict,'0'))\n",
    "#s_abc_sp = 1.5*(dynph_conv('v_sd','i_d',k_dict,'p') + dynph_conv('v_sq','i_q',k_dict,'p'))\n",
    "#s_abc_s2 = 1.5*(dynph_conv('v_sd','i_d',k_dict,'2') + dynph_conv('v_sq','i_q',k_dict,'2'))\n",
    "\n",
    "#s_s_abc = s_abc_sn + s_abc_s0 + s_abc_sp + s_abc_s2\n",
    "\n",
    "params_dict = {'R':0.1,'L':0.01}\n",
    "\n",
    "\n",
    "f_list = [sym.re(di_d0),sym.im(di_d0),\n",
    "          sym.re(di_q0),sym.im(di_q0),\n",
    "          sym.re(di_d2),sym.im(di_d2),\n",
    "          sym.re(di_q2),sym.im(di_q2),\n",
    "         ]\n",
    "x_list = [i_d0r,i_d0i,\n",
    "          i_q0r,i_q0i,\n",
    "          i_d2r,i_d2i,\n",
    "          i_q2r,i_q2i,\n",
    "         ]\n",
    "g_list = []\n",
    "y_list = []\n",
    "\n",
    "u_ini_dict = {'omega':2*np.pi*50,\n",
    "'v_td0r':0.0,'v_tq0r':0.0,\n",
    "'v_td2r':0.0,'v_tq2r':0.0,\n",
    "'v_td0i':0.0,'v_tq0i':0.0,\n",
    "'v_td2i':0.0,'v_tq2i':0.0,\n",
    "'v_sd0r':0.0,'v_sq0r':0.0,\n",
    "'v_sd2r':0.0,'v_sq2r':0.0,\n",
    "'v_sd0i':0.0,'v_sq0i':0.0,\n",
    "'v_sd2i':0.0,'v_sq2i':0.0,\n",
    "}\n",
    "u_run_dict = u_ini_dict\n",
    "\n",
    "\n",
    "h_dict = {\n",
    "'v_td0r':v_td0r,'v_tq0r':v_tq0r,\n",
    "'v_td2r':v_td2r,'v_tq2r':v_tq2r,\n",
    "'v_td0i':v_td0i,'v_tq0i':v_tq0i,\n",
    "'v_td2i':v_td2i,'v_tq2i':v_tq2i,\n",
    "'v_sd0r':v_sd0r,'v_sq0r':v_sq0r,\n",
    "'v_sd2r':v_sd2r,'v_sq2r':v_sq2r,\n",
    "'v_sd0i':v_sd0i,'v_sq0i':v_sq0i,\n",
    "'v_sd2i':v_sd2i,'v_sq2i':v_sq2i,\n",
    "'s_abc_t0r':sym.re(s_abc_t0),'s_abc_t0i':sym.im(s_abc_t0),\n",
    "'s_abc_t2r':sym.re(s_abc_t2),'s_abc_t2i':sym.im(s_abc_t2),\n",
    "'s_abc_s0r':sym.re(s_abc_s0),'s_abc_s0i':sym.im(s_abc_s0),\n",
    "'s_abc_s2r':sym.re(s_abc_s2),'s_abc_s2i':sym.im(s_abc_s2),\n",
    "}"
   ]
  },
  {
   "cell_type": "code",
   "execution_count": 13,
   "id": "c6797add",
   "metadata": {},
   "outputs": [
    {
     "data": {
      "text/latex": [
       "$\\displaystyle 1.5 \\left(- i i_{d0i} + i_{d0r}\\right) \\left(i v_{td0i} + v_{td0r}\\right) + 1.5 \\left(- i i_{d2i} + i_{d2r}\\right) \\left(- i v_{td2i} + v_{td2r}\\right) + 1.5 \\left(i i_{d2i} + i_{d2r}\\right) \\left(i v_{td2i} + v_{td2r}\\right) + 1.5 \\left(- i i_{q0i} + i_{q0r}\\right) \\left(i v_{tq0i} + v_{tq0r}\\right) + 1.5 \\left(- i i_{q2i} + i_{q2r}\\right) \\left(- i v_{tq2i} + v_{tq2r}\\right) + 1.5 \\left(i i_{q2i} + i_{q2r}\\right) \\left(i v_{tq2i} + v_{tq2r}\\right)$"
      ],
      "text/plain": [
       "1.5*(-I*i_d0i + i_d0r)*(I*v_td0i + v_td0r) + 1.5*(-I*i_d2i + i_d2r)*(-I*v_td2i + v_td2r) + 1.5*(I*i_d2i + i_d2r)*(I*v_td2i + v_td2r) + 1.5*(-I*i_q0i + i_q0r)*(I*v_tq0i + v_tq0r) + 1.5*(-I*i_q2i + i_q2r)*(-I*v_tq2i + v_tq2r) + 1.5*(I*i_q2i + i_q2r)*(I*v_tq2i + v_tq2r)"
      ]
     },
     "execution_count": 13,
     "metadata": {},
     "output_type": "execute_result"
    }
   ],
   "source": [
    "s_abc_t0"
   ]
  },
  {
   "cell_type": "code",
   "execution_count": 14,
   "id": "f04b9315",
   "metadata": {},
   "outputs": [
    {
     "data": {
      "text/latex": [
       "$\\displaystyle 1.5 \\left(- i i_{d0i} + i_{d0r}\\right) \\left(i v_{sd0i} + v_{sd0r}\\right) + 1.5 \\left(- i i_{d2i} + i_{d2r}\\right) \\left(- i v_{sd2i} + v_{sd2r}\\right) + 1.5 \\left(i i_{d2i} + i_{d2r}\\right) \\left(i v_{sd2i} + v_{sd2r}\\right) + 1.5 \\left(- i i_{q0i} + i_{q0r}\\right) \\left(i v_{sq0i} + v_{sq0r}\\right) + 1.5 \\left(- i i_{q2i} + i_{q2r}\\right) \\left(- i v_{sq2i} + v_{sq2r}\\right) + 1.5 \\left(i i_{q2i} + i_{q2r}\\right) \\left(i v_{sq2i} + v_{sq2r}\\right)$"
      ],
      "text/plain": [
       "1.5*(-I*i_d0i + i_d0r)*(I*v_sd0i + v_sd0r) + 1.5*(-I*i_d2i + i_d2r)*(-I*v_sd2i + v_sd2r) + 1.5*(I*i_d2i + i_d2r)*(I*v_sd2i + v_sd2r) + 1.5*(-I*i_q0i + i_q0r)*(I*v_sq0i + v_sq0r) + 1.5*(-I*i_q2i + i_q2r)*(-I*v_sq2i + v_sq2r) + 1.5*(I*i_q2i + i_q2r)*(I*v_sq2i + v_sq2r)"
      ]
     },
     "execution_count": 14,
     "metadata": {},
     "output_type": "execute_result"
    }
   ],
   "source": [
    "s_abc_s0"
   ]
  },
  {
   "cell_type": "code",
   "execution_count": 15,
   "id": "0d4ee0f0",
   "metadata": {},
   "outputs": [
    {
     "name": "stdout",
     "output_type": "stream",
     "text": [
      "system without algebraic equations, adding dummy algebraic equation\n",
      "Compilation time: 3.15 s\n"
     ]
    }
   ],
   "source": [
    "sys = {'name':f\"rl_dynph3\",\n",
    "       'params_dict':params_dict,\n",
    "       'f_list':f_list,\n",
    "       'g_list':g_list,\n",
    "       'x_list':x_list,\n",
    "       'y_ini_list':y_list,\n",
    "       'y_run_list':y_list,\n",
    "       'u_run_dict':u_run_dict,\n",
    "       'u_ini_dict':u_ini_dict,\n",
    "       'h_dict':h_dict\n",
    "      }\n",
    "\n",
    "bldr = db.builder(sys)\n",
    "bldr.build()"
   ]
  },
  {
   "cell_type": "code",
   "execution_count": 68,
   "id": "98862971",
   "metadata": {},
   "outputs": [
    {
     "data": {
      "text/latex": [
       "$\\displaystyle - 1.5 i_{d0i} v_{dpi} + 1.5 i_{d0r} v_{dpr} - 1.5 i_{dpi} v_{d0i} + 1.5 i_{dpr} v_{d0r} - 1.5 i_{q0i} v_{qpi} + 1.5 i_{q0r} v_{qpr} - 1.5 i_{qpi} v_{q0i} + 1.5 i_{qpr} v_{q0r}$"
      ],
      "text/plain": [
       "-1.5*i_d0i*v_dpi + 1.5*i_d0r*v_dpr - 1.5*i_dpi*v_d0i + 1.5*i_dpr*v_d0r - 1.5*i_q0i*v_qpi + 1.5*i_q0r*v_qpr - 1.5*i_qpi*v_q0i + 1.5*i_qpr*v_q0r"
      ]
     },
     "execution_count": 68,
     "metadata": {},
     "output_type": "execute_result"
    }
   ],
   "source": [
    "sym.simplify(sym.re(s_abc_p))"
   ]
  },
  {
   "cell_type": "code",
   "execution_count": 27,
   "id": "73bda31b",
   "metadata": {},
   "outputs": [
    {
     "data": {
      "text/latex": [
       "$\\displaystyle - 1.0 i_{d0i} v_{tdpi} + 1.0 i_{d0r} v_{tdpr} + 1.0 i_{d2i} v_{tdpi} + 1.0 i_{d2r} v_{tdpr} - 1.0 i_{dpi} v_{td0i} + 1.0 i_{dpi} v_{td2i} + 1.0 i_{dpr} v_{td0r} + 1.0 i_{dpr} v_{td2r} - 1.0 i_{q0i} v_{tqpi} + 1.0 i_{q0r} v_{tqpr} + 1.0 i_{q2i} v_{tqpi} + 1.0 i_{q2r} v_{tqpr} - 1.0 i_{qpi} v_{tq0i} + 1.0 i_{qpi} v_{tq2i} + 1.0 i_{qpr} v_{tq0r} + 1.0 i_{qpr} v_{tq2r}$"
      ],
      "text/plain": [
       "-1.0*i_d0i*v_tdpi + 1.0*i_d0r*v_tdpr + 1.0*i_d2i*v_tdpi + 1.0*i_d2r*v_tdpr - 1.0*i_dpi*v_td0i + 1.0*i_dpi*v_td2i + 1.0*i_dpr*v_td0r + 1.0*i_dpr*v_td2r - 1.0*i_q0i*v_tqpi + 1.0*i_q0r*v_tqpr + 1.0*i_q2i*v_tqpi + 1.0*i_q2r*v_tqpr - 1.0*i_qpi*v_tq0i + 1.0*i_qpi*v_tq2i + 1.0*i_qpr*v_tq0r + 1.0*i_qpr*v_tq2r"
      ]
     },
     "execution_count": 27,
     "metadata": {},
     "output_type": "execute_result"
    }
   ],
   "source": [
    "sym.N(sym.re(s_abc_tp)/1.5)"
   ]
  },
  {
   "cell_type": "code",
   "execution_count": 6,
   "id": "819638f2",
   "metadata": {},
   "outputs": [
    {
     "data": {
      "text/plain": [
       "0.12205128205128206"
      ]
     },
     "execution_count": 6,
     "metadata": {},
     "output_type": "execute_result"
    }
   ],
   "source": [
    "V_abc = np.array([238,195,217])\n",
    "np.max(V_abc)/np.sum(V_abc)/3"
   ]
  },
  {
   "cell_type": "code",
   "execution_count": null,
   "id": "aff6e8a1",
   "metadata": {},
   "outputs": [],
   "source": []
  },
  {
   "cell_type": "code",
   "execution_count": null,
   "id": "e7a45492",
   "metadata": {},
   "outputs": [],
   "source": []
  },
  {
   "cell_type": "code",
   "execution_count": null,
   "id": "8136ef94",
   "metadata": {},
   "outputs": [],
   "source": []
  },
  {
   "cell_type": "code",
   "execution_count": 30,
   "id": "445cd414",
   "metadata": {},
   "outputs": [],
   "source": [
    "params_dict = {'R':0.1,'L':0.01}\n",
    "u_ini_dict = {'v_d0r':0.0,'v_q0r':0.0,\n",
    "              'v_d2r':0.0,'v_q2r':0.0,\n",
    "              'v_d0i':0.0,'v_q0i':0.0,\n",
    "              'v_d2i':0.0,'v_q2i':0.0,\n",
    "              'omega':2*np.pi*50}   \n",
    "\n",
    "u_run_dict = u_ini_dict\n",
    "\n",
    "i_d0r,i_q0r,i_d2r,i_q2r,i_d0i,i_q0i,i_d2i,i_q2i = sym.symbols('i_d0r,i_q0r,i_d2r,i_q2r,i_d0i,i_q0i,i_d2i,i_q2i', real=True)\n",
    "v_d0r,v_q0r,v_d2r,v_q2r,v_d0i,v_q0i,v_d2i,v_q2i = sym.symbols('v_d0r,v_q0r,v_d2r,v_q2r,v_d0i,v_q0i,v_d2i,v_q2i', real=True)\n",
    "R,L,omega = sym.symbols('R,L,omega', real=True) \n",
    "\n",
    "v_d0 = v_d0r + sym.I*v_d0i\n",
    "v_q0 = v_q0r + sym.I*v_q0i\n",
    "v_d2 = v_d2r + sym.I*v_d2i\n",
    "v_q2 = v_q2r + sym.I*v_q2i\n",
    "\n",
    "i_d0 = i_d0r + sym.I*i_d0i\n",
    "i_q0 = i_q0r + sym.I*i_q0i\n",
    "i_d2 = i_d2r + sym.I*i_d2i\n",
    "i_q2 = i_q2r + sym.I*i_q2i\n",
    "\n",
    "K = 0\n",
    "di_d0 = (v_d0 - R * i_d0 + L*omega*i_q0 - sym.I*K*omega*L*i_d0)/L\n",
    "di_q0 = (v_q0 - R * i_q0 - L*omega*i_d0 - sym.I*K*omega*L*i_q0)/L\n",
    "\n",
    "di_d0r = sym.re(di_d0)\n",
    "di_q0r = sym.re(di_q0)\n",
    "di_d0i = sym.im(di_d0)\n",
    "di_q0i = sym.im(di_q0)\n",
    "\n",
    "i_q2_ = -sym.I*i_d2 \n",
    "i_d2_ =  sym.I*i_q2 \n",
    "\n",
    "\n",
    "K = 2\n",
    "di_d2 = (v_d2 - R * i_d2 + L*omega*i_q2 - sym.I*K*omega*L*i_d2)/L\n",
    "di_q2 = (v_q2 - R * i_q2 - L*omega*i_d2 - sym.I*K*omega*L*i_q2)/L\n",
    "\n",
    "di_d2r = sym.re(di_d2)\n",
    "di_q2r = sym.re(di_q2)\n",
    "di_d2i = sym.im(di_d2)\n",
    "di_q2i = sym.im(di_q2)\n",
    "\n",
    "f_list = [di_d0r,di_q0r,di_d0i,di_q0i,di_d2r,di_q2r,di_d2i,di_q2i]\n",
    "x_list = [ i_d0r, i_q0r, i_d0i, i_q0i, i_d2r, i_q2r, i_d2i, i_q2i]\n",
    "g_list = []\n",
    "y_list = []\n",
    "\n",
    "h_dict = {'v_d0r':v_d0r,'v_q0r':v_q0r}"
   ]
  },
  {
   "cell_type": "code",
   "execution_count": 12,
   "id": "c35d4589",
   "metadata": {},
   "outputs": [
    {
     "data": {
      "text/plain": [
       "[-omega*(re(i_dni) + im(i_dnr)) + (-R*(re(i_dnr) - im(i_dni)) + re(v_dnr) - im(v_dni))/L,\n",
       " omega*(re(i_qnr) - im(i_qni)) + (-R*(re(i_qni) + im(i_qnr)) + re(v_qni) + im(v_qnr))/L,\n",
       " (-R*(re(i_d0r) - im(i_d0i)) + re(v_d0r) - im(v_d0i))/L,\n",
       " (-R*(re(i_q0i) + im(i_q0r)) + re(v_q0i) + im(v_q0r))/L,\n",
       " omega*(re(i_dpi) + im(i_dpr)) + (-R*(re(i_dpr) - im(i_dpi)) + re(v_dpr) - im(v_dpi))/L,\n",
       " -omega*(re(i_qpr) - im(i_qpi)) + (-R*(re(i_qpi) + im(i_qpr)) + re(v_qpi) + im(v_qpr))/L]"
      ]
     },
     "execution_count": 12,
     "metadata": {},
     "output_type": "execute_result"
    }
   ],
   "source": [
    "f_list"
   ]
  },
  {
   "cell_type": "code",
   "execution_count": null,
   "id": "8b0e89ca",
   "metadata": {},
   "outputs": [],
   "source": []
  },
  {
   "cell_type": "code",
   "execution_count": null,
   "id": "c135f7cb",
   "metadata": {},
   "outputs": [],
   "source": []
  },
  {
   "cell_type": "code",
   "execution_count": null,
   "id": "f590ae22",
   "metadata": {},
   "outputs": [],
   "source": []
  },
  {
   "cell_type": "code",
   "execution_count": null,
   "id": "cd14795e",
   "metadata": {},
   "outputs": [],
   "source": []
  },
  {
   "cell_type": "code",
   "execution_count": 31,
   "id": "fc50bfc5",
   "metadata": {},
   "outputs": [
    {
     "name": "stdout",
     "output_type": "stream",
     "text": [
      "system without algebraic equations, adding dummy algebraic equation\n",
      "Compilation time: 2.90 s\n"
     ]
    }
   ],
   "source": [
    "sys = {'name':f\"rl_dp\",\n",
    "       'params_dict':params_dict,\n",
    "       'f_list':f_list,\n",
    "       'g_list':g_list,\n",
    "       'x_list':x_list,\n",
    "       'y_ini_list':y_list,\n",
    "       'y_run_list':y_list,\n",
    "       'u_run_dict':u_run_dict,\n",
    "       'u_ini_dict':u_ini_dict,\n",
    "       'h_dict':h_dict\n",
    "      }\n",
    "\n",
    "bldr = db.builder(sys)\n",
    "bldr.build()"
   ]
  },
  {
   "cell_type": "raw",
   "id": "ceab1c83",
   "metadata": {},
   "source": [
    "di_d0 = (v_d0 - R * i_d0 + L*omega*i_q0 - sym.I*K*omega*L*i_d0)/L\n",
    "di_q0 = (v_q0 - R * i_q0 - L*omega*i_d0 - sym.I*K*omega*L*i_q0)/L\n",
    "\n",
    "di_d2 = (v_d2 - R * i_d2 + L*omega*i_q2 - j*K*omega*L*i_d2)/L\n",
    "di_q2 = (v_q2 - R * i_q2 - L*omega*i_d2 - j*K*omega*L*i_q2)/L\n",
    "\n",
    "j*i_d2 = i_q2\n",
    "j*i_q2 =-i_d2\n",
    "\n",
    "di_d2 = (v_d2 - R * i_d2 + L*omega*i_q2 -  2*omega*L*i_q2)/L\n",
    "di_q2 = (v_q2 - R * i_q2 - L*omega*i_d2 +  2*omega*L*i_d2)/L\n",
    "\n",
    "di_d2 = (v_d2 - R * i_d2 - L*omega*i_q2 )/L\n",
    "di_q2 = (v_q2 - R * i_q2 + L*omega*i_d2 )/L\n",
    "\n"
   ]
  },
  {
   "cell_type": "code",
   "execution_count": 34,
   "id": "7857d127",
   "metadata": {},
   "outputs": [
    {
     "data": {
      "text/plain": [
       "[(L*i_q0r*omega - R*i_d0r + v_d0r)/L,\n",
       " (-L*i_d0r*omega - R*i_q0r + v_q0r)/L,\n",
       " (L*i_q0i*omega - R*i_d0i + v_d0i)/L,\n",
       " (-L*i_d0i*omega - R*i_q0i + v_q0i)/L,\n",
       " (2*L*i_d2i*omega + L*i_q2r*omega - R*i_d2r + v_d2r)/L,\n",
       " (-L*i_d2r*omega + 2*L*i_q2i*omega - R*i_q2r + v_q2r)/L,\n",
       " (-2*L*i_d2r*omega + L*i_q2i*omega - R*i_d2i + v_d2i)/L,\n",
       " (-L*i_d2i*omega - 2*L*i_q2r*omega - R*i_q2i + v_q2i)/L]"
      ]
     },
     "execution_count": 34,
     "metadata": {},
     "output_type": "execute_result"
    }
   ],
   "source": [
    "f_list"
   ]
  },
  {
   "cell_type": "code",
   "execution_count": 33,
   "id": "df34289e",
   "metadata": {},
   "outputs": [
    {
     "data": {
      "text/plain": [
       "[i_d0r, i_q0r, i_d0i, i_q0i, i_d2r, i_q2r, i_d2i, i_q2i]"
      ]
     },
     "execution_count": 33,
     "metadata": {},
     "output_type": "execute_result"
    }
   ],
   "source": [
    "x_list"
   ]
  },
  {
   "cell_type": "code",
   "execution_count": null,
   "id": "f9ce7f02",
   "metadata": {},
   "outputs": [],
   "source": []
  }
 ],
 "metadata": {
  "kernelspec": {
   "display_name": "Python 3 (ipykernel)",
   "language": "python",
   "name": "python3"
  },
  "language_info": {
   "codemirror_mode": {
    "name": "ipython",
    "version": 3
   },
   "file_extension": ".py",
   "mimetype": "text/x-python",
   "name": "python",
   "nbconvert_exporter": "python",
   "pygments_lexer": "ipython3",
   "version": "3.9.7"
  }
 },
 "nbformat": 4,
 "nbformat_minor": 5
}

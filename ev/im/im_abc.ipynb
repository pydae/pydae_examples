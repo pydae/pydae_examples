{
 "cells": [
  {
   "cell_type": "code",
   "execution_count": 1,
   "metadata": {},
   "outputs": [],
   "source": [
    "import numpy as np\n",
    "import matplotlib.pyplot as plt\n",
    "import pydae.ssa as ssa\n",
    "from IPython.core.display import HTML,SVG\n",
    "import scipy.optimize as sopt\n",
    "%config InlineBackend.figure_formats = ['svg']\n",
    "colors = plt.rcParams['axes.prop_cycle'].by_key()['color']\n"
   ]
  },
  {
   "cell_type": "code",
   "execution_count": 2,
   "metadata": {},
   "outputs": [],
   "source": [
    "import im_emag_abc \n",
    "import im_emag_dq\n",
    "import im_dp"
   ]
  },
  {
   "cell_type": "code",
   "execution_count": 3,
   "metadata": {},
   "outputs": [],
   "source": [
    "%matplotlib widget"
   ]
  },
  {
   "cell_type": "code",
   "execution_count": 4,
   "metadata": {},
   "outputs": [],
   "source": [
    "alpha = np.exp(1j*2/3*np.pi)\n",
    "\n",
    "Ta0 = np.array([[1,1,1],\n",
    "                [1,alpha**2,alpha],\n",
    "                [1,alpha,alpha**2]])\n",
    "\n",
    "T0a =    np.array([[1,1,1],\n",
    "                [1,alpha,alpha**2],\n",
    "                [1,alpha**2,alpha]])"
   ]
  },
  {
   "cell_type": "code",
   "execution_count": 29,
   "metadata": {},
   "outputs": [
    {
     "name": "stdout",
     "output_type": "stream",
     "text": [
      "True\n",
      "lambda_sd =  0.01\n",
      "lambda_sq = -1.02\n",
      "lambda_rd = -0.16\n",
      "lambda_rq = -0.97\n",
      "omega_r = 154.67\n",
      "tau_r = 580.60\n",
      "lambda_sd =  0.01\n",
      "lambda_sq = -1.02\n",
      "lambda_rd = -0.16\n",
      "lambda_rq = -0.97\n",
      "omega_r = 154.67\n",
      "i_sd  = 190.62\n",
      "i_sq  = -117.03\n",
      "i_rd  = -194.32\n",
      "i_rq  = 33.10\n",
      "i_pk  = 223.68\n",
      "tau_b = 580.60\n",
      "tau_l =  0.00\n",
      "p_s   = 92927.19\n",
      "q_s   = 57052.27\n",
      "v_sd  = 325.00\n",
      "v_sq  =  0.00\n"
     ]
    }
   ],
   "source": [
    "im = im_emag_dq.im_emag_dq_class()\n",
    "\n",
    "#tau_r = B_r*omega_r\n",
    "n_n = 1478\n",
    "omega_r_n = n_n*2*np.pi/60\n",
    "B_r = 581/omega_r_n\n",
    "\n",
    "R1 = 23e-3\n",
    "X1s= 86e-3\n",
    "Xmagnetizing = 3.7\n",
    "#Rfriction+iron [Ohms] 111\n",
    "X2_r_start = 86e-3\n",
    "R2_r_start = 65e-3\n",
    "\n",
    "X2_r = 196e-3\n",
    "R2_r = 24e-3\n",
    "Omega_b = 2*np.pi*50.0\n",
    "\n",
    "L_m = Xmagnetizing/Omega_b \n",
    "L_ls = X1s/Omega_b\n",
    "L_lr = X2_r/Omega_b\n",
    "\n",
    "L_lr_start = X2_r_start/Omega_b\n",
    "R_r_start = R2_r_start\n",
    "\n",
    "R_s = R1\n",
    "R_r = R2_r\n",
    "\n",
    " \n",
    "params = {'L_m':L_m,\n",
    "          'R_s':R_s,'L_ls':L_ls,\n",
    "               'R_r':R_r,'L_lr':L_lr,               \n",
    "               'N_pp':2.0,\n",
    "               'J_r':0.5, 'B_r':B_r,\n",
    "         'tau_l':0.0, 'omega':Omega_b}\n",
    "\n",
    "#params = {'L_m':0.01,\n",
    "#          'R_s':0.05,'L_ls':0.2e-3,\n",
    "#          'R_r':0.05,'L_lr':0.2e-3,               \n",
    "#               'N_pp':2.0,\n",
    "#               'J_r':5, 'B_r':0.001,\n",
    "#         'tau_l':0.0, 'omega':0.0}\n",
    "\n",
    "\n",
    "params.update({'v_sd':325})\n",
    "print(im.ini(params,156))\n",
    "im.report_x()\n",
    "im.report_y()\n",
    "#m.report_u()\n",
    "\n",
    "im.report_x()\n",
    "im.report_z()"
   ]
  },
  {
   "cell_type": "code",
   "execution_count": 30,
   "metadata": {},
   "outputs": [
    {
     "name": "stdout",
     "output_type": "stream",
     "text": [
      "Input or parameter v_sd not found.\n",
      "lambda_sd0r =  0.09\n",
      "lambda_sq0r = -1.02\n",
      "lambda_rd0r = -0.09\n",
      "lambda_rq0r = -0.01\n",
      "omega_r0r = 80.78\n",
      "lambda_sd0i = -0.00\n",
      "lambda_sq0i =  0.01\n",
      "lambda_rd0i = -0.08\n",
      "lambda_rq0i = -0.02\n",
      "omega_r0i = 76.87\n",
      "lambda_sd2r =  0.00\n",
      "lambda_sq2r =  0.02\n",
      "lambda_rd2r = -0.00\n",
      "lambda_rq2r = -0.00\n",
      "omega_r2r = -0.02\n",
      "lambda_sd2i = -0.03\n",
      "lambda_sq2i =  0.00\n",
      "lambda_rd2i =  0.00\n",
      "lambda_rq2i = -0.00\n",
      "omega_r2i = -0.01\n",
      "i_sd0r = 196.54\n",
      "i_sq0r = -1169.01\n",
      "i_rd0r = -193.84\n",
      "i_rq0r = 1109.57\n",
      "i_sd0i = 90.15\n",
      "i_sq0i = 32.24\n",
      "i_rd0i = -92.45\n",
      "i_rq0i = -32.43\n",
      "i_sd2r =  4.58\n",
      "i_sq2r = 19.91\n",
      "i_rd2r = -4.48\n",
      "i_rq2r = -18.94\n",
      "i_sd2i = -39.64\n",
      "i_sq2i =  3.42\n",
      "i_rd2i = 37.66\n",
      "i_rq2i = -3.34\n",
      "tau_r0r = 303.23\n",
      "tau_r0i = 288.57\n",
      "tau_r2r =  3.71\n",
      "tau_r2i = -6.29\n"
     ]
    }
   ],
   "source": [
    "imdp = im_dp.im_dp_class()\n",
    "params.update({'v_sd0r':325.0,'v_sd0i':0.0,'v_sq0r':0.0,'v_sq0i':0.0,\n",
    "               'v_sd2r':0.05*325.0,'v_sd2i':0.0,'v_sq2r':0.0,'v_sq2i':0.0,\n",
    "               'omega':2*np.pi*50,'B_r':B_r})\n",
    "imdp.ini(params,150)\n",
    "imdp.report_x()\n",
    "imdp.report_y()\n",
    "#m.report_u()\n"
   ]
  },
  {
   "cell_type": "code",
   "execution_count": 31,
   "metadata": {},
   "outputs": [
    {
     "name": "stdout",
     "output_type": "stream",
     "text": [
      "tau_b = 303.23\n",
      "tau_r = 306.94\n",
      "i_sd  = 201.12\n",
      "i_sq  = -1149.10\n",
      "v_sd0r = 325.00\n",
      "v_sq0r =  0.00\n",
      "v_sd0i =  0.00\n",
      "v_sq0i =  0.00\n",
      "v_sd2r = 16.25\n",
      "v_sq2r =  0.00\n",
      "v_sd2i =  0.00\n",
      "v_sq2i =  0.00\n"
     ]
    }
   ],
   "source": [
    "imdp.report_z()"
   ]
  },
  {
   "cell_type": "code",
   "execution_count": 32,
   "metadata": {},
   "outputs": [
    {
     "data": {
      "text/plain": [
       "(-0.4999999999999998+0.8660254037844387j)"
      ]
     },
     "execution_count": 32,
     "metadata": {},
     "output_type": "execute_result"
    }
   ],
   "source": [
    "alpha = np.exp(1j*2/3*np.pi)\n",
    "T = np.array([[1,1,1],\n",
    "[1,alpha**2,alpha],\n",
    "[1,alpha,alpha**2]])\n",
    "\n",
    "V_0 =   0*np.sqrt(2/3)\n",
    "V_1 = 400*np.sqrt(2/3)\n",
    "V_2 =   0*np.sqrt(2/3)\n",
    "\n",
    "V_a, V_b, V_c = T@np.array([V_0,V_1,V_2]).T\n",
    "alpha"
   ]
  },
  {
   "cell_type": "code",
   "execution_count": null,
   "metadata": {},
   "outputs": [],
   "source": []
  },
  {
   "cell_type": "code",
   "execution_count": 33,
   "metadata": {},
   "outputs": [
    {
     "data": {
      "text/plain": [
       "(-163.2993161855451+282.842712474619j)"
      ]
     },
     "execution_count": 33,
     "metadata": {},
     "output_type": "execute_result"
    }
   ],
   "source": [
    "V_c"
   ]
  },
  {
   "cell_type": "code",
   "execution_count": 34,
   "metadata": {},
   "outputs": [
    {
     "name": "stdout",
     "output_type": "stream",
     "text": [
      "Input or parameter v_sd not found.\n",
      "Input or parameter v_sd0r not found.\n",
      "Input or parameter v_sd0i not found.\n",
      "Input or parameter v_sq0r not found.\n",
      "Input or parameter v_sq0i not found.\n",
      "Input or parameter v_sd2r not found.\n",
      "Input or parameter v_sd2i not found.\n",
      "Input or parameter v_sq2r not found.\n",
      "Input or parameter v_sq2i not found.\n"
     ]
    }
   ],
   "source": [
    "im = im_emag_abc.im_emag_abc_class()\n",
    "\n",
    "Δt = 100e-6\n",
    "im.Dt = 20e-6\n",
    "im.decimation = 20\n",
    "times = np.arange(0,2,Δt)  \n",
    "params.update({})\n",
    "im.ini(params)\n",
    "for t in times:\n",
    "    \n",
    "    vec = np.exp(-1j*(Omega_b*t))\n",
    "    v_sa = (V_a*vec).real\n",
    "    v_sb = (V_b*vec).real\n",
    "    v_sc = (V_c*vec).real\n",
    "    \n",
    "    tau_l = 0.0\n",
    "    if t > 1.0:\n",
    "        tau_l = 0.0\n",
    "\n",
    "    \n",
    "\n",
    "    im.run(t,{'v_sa':v_sa,'v_sb':v_sb,'v_sc':v_sc, 'omega':0.0, 'tau_l':tau_l})\n",
    "im.post();\n",
    "\n"
   ]
  },
  {
   "cell_type": "code",
   "execution_count": 35,
   "metadata": {},
   "outputs": [
    {
     "data": {
      "application/vnd.jupyter.widget-view+json": {
       "model_id": "413751f2841940138b1808a77ccfe316",
       "version_major": 2,
       "version_minor": 0
      },
      "text/plain": [
       "Canvas(toolbar=Toolbar(toolitems=[('Home', 'Reset original view', 'home', 'home'), ('Back', 'Back to previous …"
      ]
     },
     "metadata": {},
     "output_type": "display_data"
    }
   ],
   "source": [
    "fig, axes = plt.subplots(nrows=3,ncols=1, figsize=(6, 6), dpi=100)\n",
    "axes[0].plot(im.Time, im.get_values('v_sa'), label=f'v_{{sa}}')\n",
    "axes[0].plot(im.Time, im.get_values('v_sb'), label=f'v_{{sb}}')\n",
    "axes[0].plot(im.Time, im.get_values('v_sc'), label=f'v_{{sb}}')\n",
    "\n",
    "#axes[0].plot(im.Time, im.get_values('omega_r'), label=f'v_{{sb}}')\n",
    "\n",
    "axes[1].plot(im.Time, im.get_values('i_sa'), label=f'i_{{sa}}')\n",
    "axes[1].plot(im.Time, im.get_values('i_sb'), label=f'i_{{sb}}')\n",
    "axes[1].plot(im.Time, im.get_values('i_sc'), label=f'i_{{sc}}')\n",
    "\n",
    "#axes[2].plot(im.Time, im.get_values('lambda_sd'), label=f'i_{{sa}}')\n",
    "#axes[2].plot(im.Time, im.get_values('lambda_sq'), label=f'i_{{sb}}')\n",
    "i_rd = im.get_values('i_rd')\n",
    "i_rq = im.get_values('i_rq')\n",
    "lambda_rd = im.get_values('lambda_rd')\n",
    "lambda_rq = im.get_values('lambda_rq')\n",
    "\n",
    "N_pp = 2\n",
    "tau_r_r = 3/2*N_pp*(lambda_rq*i_rd - lambda_rd*i_rq) \n",
    "axes[2].plot(im.Time, tau_r_r, label=f'\\omega_r')\n",
    "\n",
    "axes[0].set_xlabel('Time (s)')\n",
    "for ax in axes:\n",
    "    ax.grid()\n",
    "fig.tight_layout()"
   ]
  },
  {
   "cell_type": "code",
   "execution_count": 36,
   "metadata": {},
   "outputs": [
    {
     "data": {
      "text/plain": [
       "231.23999999999998"
      ]
     },
     "execution_count": 36,
     "metadata": {},
     "output_type": "execute_result"
    }
   ],
   "source": [
    "164*1.41"
   ]
  },
  {
   "cell_type": "code",
   "execution_count": 37,
   "metadata": {},
   "outputs": [
    {
     "name": "stdout",
     "output_type": "stream",
     "text": [
      "Input or parameter v_sd0r not found.\n",
      "Input or parameter v_sd0i not found.\n",
      "Input or parameter v_sq0r not found.\n",
      "Input or parameter v_sq0i not found.\n",
      "Input or parameter v_sd2r not found.\n",
      "Input or parameter v_sd2i not found.\n",
      "Input or parameter v_sq2r not found.\n",
      "Input or parameter v_sq2i not found.\n"
     ]
    }
   ],
   "source": [
    "imdq = im_emag_dq.im_emag_dq_class()\n",
    "#imdq.ini({'v_sq':0.0, 'B_r':B_r*1.0,'J_r':5.0,'L_lr':L_lr_start,'R_r':R_r_start},157)\n",
    "\n",
    "Δt = 0.02e-3\n",
    "imdq.Dt = 0.01e-3\n",
    "imdq.decimation = 100\n",
    "times = np.arange(0,1,Δt) \n",
    "\n",
    "params.update({'v_sd':0,\n",
    "               'v_sq':0,\n",
    "               'omega':2*np.pi*50,'B_r':B_r, 'N_pp':2, 'J_r':0.1})\n",
    "\n",
    "imdq.ini(params,'xy0.json')\n",
    "for t in times:\n",
    "    \n",
    "    v_sd = 325\n",
    "    tau_l = 0\n",
    "    if t>3.0:\n",
    "        tau_l = 0\n",
    "   \n",
    "    \n",
    "    V_1 = 0*np.sqrt(2/3)\n",
    "    V_2 = 0*np.sqrt(2/3)\n",
    "    if t > 0.1:\n",
    "        V_0 =   0*np.sqrt(1/3)\n",
    "        V_1 = 400*np.sqrt(1/3)\n",
    "        V_2 =   0*np.sqrt(1/3)\n",
    "    if t > 0.5:\n",
    "        V_0 =   0*np.sqrt(1/3)\n",
    "        V_1 = 400*np.sqrt(1/3)\n",
    "        V_2 =  40*np.sqrt(1/3)\n",
    "    V_a, V_b, V_c = Ta0@np.array([V_0,V_1,V_2]).T\n",
    "\n",
    "    vec = np.exp(1j*(Omega_b*t))\n",
    "    v_a = np.sqrt(2)*(V_a*vec).real\n",
    "    v_b = np.sqrt(2)*(V_b*vec).real\n",
    "    v_c = np.sqrt(2)*(V_c*vec).real\n",
    "    theta = Omega_b*t\n",
    "    \n",
    "    v_sd = 2/3*(np.cos(theta)*v_a + np.cos(theta-2/3*np.pi)*v_b + np.cos(theta-4/3*np.pi)*v_c) \n",
    "    v_sq =-2/3*(np.sin(theta)*v_a + np.sin(theta-2/3*np.pi)*v_b + np.sin(theta-4/3*np.pi)*v_c) \n",
    "    \n",
    "    imdq.run(t,{'v_sd':v_sd,'v_sq':v_sq,'tau_l':tau_l, 'omega':Omega_b})\n",
    "imdq.post();"
   ]
  },
  {
   "cell_type": "code",
   "execution_count": 38,
   "metadata": {},
   "outputs": [
    {
     "data": {
      "application/vnd.jupyter.widget-view+json": {
       "model_id": "4932e57247a64d85861fe4fef50c1578",
       "version_major": 2,
       "version_minor": 0
      },
      "text/plain": [
       "Canvas(toolbar=Toolbar(toolitems=[('Home', 'Reset original view', 'home', 'home'), ('Back', 'Back to previous …"
      ]
     },
     "metadata": {},
     "output_type": "display_data"
    }
   ],
   "source": [
    "fig, axes = plt.subplots(nrows=3,ncols=1, figsize=(6, 6), dpi=100)\n",
    "axes[0].plot(imdq.Time, imdq.get_values('omega_r'), label=f'v_{{sa}}')\n",
    "#axes[0].plot(imdq.Time, imdq.get_values('v_sq'), label=f'v_{{sb}}')\n",
    "\n",
    "axes[1].plot(imdq.Time, imdq.get_values('i_sd'), label=f'i_{{sa}}')\n",
    "axes[1].plot(imdq.Time, imdq.get_values('i_sq'), label=f'i_{{sb}}')\n",
    "\n",
    "#axes[2].plot(im.Time, im.get_values('lambda_sd'), label=f'i_{{sa}}')\n",
    "#axes[2].plot(im.Time, im.get_values('lambda_sq'), label=f'i_{{sb}}')\n",
    "i_rd = imdq.get_values('i_rd')\n",
    "i_rq = imdq.get_values('i_rq')\n",
    "lambda_rd = imdq.get_values('lambda_rd')\n",
    "lambda_rq = imdq.get_values('lambda_rq')\n",
    "\n",
    "N_pp = 1\n",
    "tau_r_r = 3/2*N_pp*(lambda_rq*i_rd - lambda_rd*i_rq) \n",
    "axes[2].plot(imdq.Time, imdq.get_values('tau_r'), label=f'\\omega_r')\n",
    "\n",
    "axes[0].set_xlabel('Time (s)')\n",
    "for ax in axes:\n",
    "    ax.grid()\n",
    "fig.tight_layout()"
   ]
  },
  {
   "cell_type": "code",
   "execution_count": 56,
   "metadata": {},
   "outputs": [
    {
     "name": "stdout",
     "output_type": "stream",
     "text": [
      "Input or parameter v_sd not found.\n",
      "Input or parameter v_sq not found.\n"
     ]
    }
   ],
   "source": [
    "imdp = im_dp.im_dp_class()\n",
    "#imdq.ini({'v_sq':0.0, 'B_r':B_r*1.0,'J_r':5.0,'L_lr':L_lr_start,'R_r':R_r_start},157)\n",
    "\n",
    "Δt = 1e-3\n",
    "imdp.Dt = 0.01e-3\n",
    "imdp.decimation = 1\n",
    "times = np.arange(0,1,Δt) \n",
    "\n",
    "params.update({'v_sd0r':0,\n",
    "               'v_sd2r':0,\n",
    "               'omega':2*np.pi*50,'B_r':1*B_r,\n",
    "              'N_pp':2, 'J_r':0.1})\n",
    "\n",
    "imdp.ini(params,'xy0.json')\n",
    "for t in times:\n",
    "    \n",
    "    v_sd = 325\n",
    "    tau_l = 0\n",
    "    if t>3.0:\n",
    "        tau_l = 0\n",
    "   \n",
    "    \n",
    "    V_1 = 0*np.sqrt(2/3)\n",
    "    V_2 = 0*np.sqrt(2/3)\n",
    "    v_sd0r = 0.0\n",
    "    v_sd2r = 0.0\n",
    "    if t > 0.1:\n",
    "        V_0 =   0*np.sqrt(1/3)\n",
    "        V_1 = 400*np.sqrt(1/3)\n",
    "        V_2 =   0*np.sqrt(1/3)\n",
    "        v_sd0r = 400.0*np.sqrt(2/3)\n",
    "        v_sd2r =   0.0*np.sqrt(2/3)\n",
    "\n",
    "    if t > 0.5:\n",
    "        V_0 =   0*np.sqrt(1/3)\n",
    "        V_1 =   0*np.sqrt(1/3)\n",
    "        V_2 = 400*np.sqrt(1/3)\n",
    "        v_sd0r =400.0*np.sqrt(2/3)\n",
    "        v_sd2r = 40.0*np.sqrt(2/3)\n",
    "\n",
    "    V_a, V_b, V_c = Ta0@np.array([V_0,V_1,V_2]).T\n",
    "\n",
    "    imdp.run(t,{'v_sd0r':0,'v_sd0i':0,'v_sq0r':0,'v_sq0i':v_sd0r,\n",
    "                'v_sd2r':0,'v_sd2i':0.0,'v_sq2r':0.0,'v_sq2i':0,   \n",
    "                'tau_l':tau_l, 'omega':Omega_b})\n",
    "imdp.post();\n"
   ]
  },
  {
   "cell_type": "code",
   "execution_count": 57,
   "metadata": {},
   "outputs": [],
   "source": [
    "v_sd0r = imdp.get_values('v_sd0r')\n",
    "v_sd0i = imdp.get_values('v_sd0i')\n",
    "v_sq0r = imdp.get_values('v_sq0r')\n",
    "v_sq0i = imdp.get_values('v_sq0i')\n",
    "v_sd2r = imdp.get_values('v_sd2r')\n",
    "v_sd2i = imdp.get_values('v_sd2i')\n",
    "v_sq2r = imdp.get_values('v_sq2r')\n",
    "v_sq2i = imdp.get_values('v_sq2i')\n",
    "\n",
    "v_sd0 = v_sd0r + 1j*v_sd0i\n",
    "v_sq0 = v_sq0r + 1j*v_sq0i\n",
    "v_sd2 = v_sd2r + 1j*v_sd2i\n",
    "v_sq2 = v_sq2r + 1j*v_sq2i\n",
    "\n",
    "imdp.v_sd = (v_sd0 + v_sd2*np.exp(1j*2*Omega_b*imdp.Time)).real\n",
    "imdp.v_sq = (v_sq0 + v_sq2*np.exp(1j*2*Omega_b*imdp.Time)).real\n",
    "\n",
    "lambda_sd0r = imdp.get_values('lambda_sd0r')\n",
    "lambda_sd0i = imdp.get_values('lambda_sd0i')\n",
    "lambda_sq0r = imdp.get_values('lambda_sq0r')\n",
    "lambda_sq0i = imdp.get_values('lambda_sq0i')\n",
    "lambda_sd2r = imdp.get_values('lambda_sd2r')\n",
    "lambda_sd2i = imdp.get_values('lambda_sd2i')\n",
    "lambda_sq2r = imdp.get_values('lambda_sq2r')\n",
    "lambda_sq2i = imdp.get_values('lambda_sq2i')\n",
    "\n",
    "lambda_sd0 = lambda_sd0r + 1j*lambda_sd0i\n",
    "lambda_sq0 = lambda_sq0r + 1j*lambda_sq0i\n",
    "lambda_sd2 = lambda_sd2r + 1j*lambda_sd2i\n",
    "lambda_sq2 = lambda_sq2r + 1j*lambda_sq2i\n",
    "\n",
    "imdp.lambda_sd = (lambda_sd0 + lambda_sd2*np.exp(1j*2*Omega_b*imdp.Time)).real\n",
    "imdp.lambda_sq = (lambda_sq0 + lambda_sq2*np.exp(1j*2*Omega_b*imdp.Time)).real\n",
    "\n",
    "\n",
    "\n",
    "i_sd0r = imdp.get_values('i_sd0r')\n",
    "i_sd0i = imdp.get_values('i_sd0i')\n",
    "i_sq0r = imdp.get_values('i_sq0r')\n",
    "i_sq0i = imdp.get_values('i_sq0i')\n",
    "i_sd2r = imdp.get_values('i_sd2r')\n",
    "i_sd2i = imdp.get_values('i_sd2i')\n",
    "i_sq2r = imdp.get_values('i_sq2r')\n",
    "i_sq2i = imdp.get_values('i_sq2i')\n",
    "\n",
    "i_sd0 = i_sd0r + 1j*i_sd0i\n",
    "i_sq0 = i_sq0r + 1j*i_sq0i\n",
    "i_sd2 = i_sd2r + 1j*i_sd2i\n",
    "i_sq2 = i_sq2r + 1j*i_sq2i\n",
    "\n",
    "imdp.i_sd = (i_sd0 + i_sd2*np.exp(1j*2*Omega_b*imdp.Time)).real\n",
    "imdp.i_sq = (i_sq0 + i_sq2*np.exp(1j*2*Omega_b*imdp.Time)).real\n",
    "\n",
    "omega_r0r = imdp.get_values('omega_r0r')\n",
    "omega_r0i = imdp.get_values('omega_r0i')\n",
    "omega_r2r = imdp.get_values('omega_r2r')\n",
    "omega_r2i = imdp.get_values('omega_r2i')\n",
    "\n",
    "omega_r0 = omega_r0r + 1j*omega_r0i\n",
    "omega_r2 = omega_r2r + 1j*omega_r2i\n",
    "\n",
    "imdp.omega_r = (omega_r0 + omega_r2*np.exp(1j*2*Omega_b*imdp.Time)).real\n",
    "\n",
    "tau_r0r = imdp.get_values('tau_r0r')\n",
    "tau_r0i = imdp.get_values('tau_r0i')\n",
    "tau_r2r = imdp.get_values('tau_r2r')\n",
    "tau_r2i = imdp.get_values('tau_r2i')\n",
    "\n",
    "tau_r0 = tau_r0r + 1j*tau_r0i\n",
    "tau_r2 = tau_r2r + 1j*tau_r2i\n",
    "\n",
    "imdp.tau_r = (tau_r0 + tau_r2*np.exp(1j*2*Omega_b*imdp.Time)).real\n"
   ]
  },
  {
   "cell_type": "code",
   "execution_count": 58,
   "metadata": {
    "scrolled": false
   },
   "outputs": [
    {
     "data": {
      "application/vnd.jupyter.widget-view+json": {
       "model_id": "ffb14fd0b08b4031bc374f363782a4ac",
       "version_major": 2,
       "version_minor": 0
      },
      "text/plain": [
       "Canvas(toolbar=Toolbar(toolitems=[('Home', 'Reset original view', 'home', 'home'), ('Back', 'Back to previous …"
      ]
     },
     "metadata": {},
     "output_type": "display_data"
    }
   ],
   "source": [
    "fig, axes = plt.subplots(nrows=3,ncols=1, figsize=(6, 6), dpi=100)\n",
    "\n",
    "#axes[0].plot(imdp.Time, imdp.omega_r,  color=colors[0])\n",
    "#axes[0].plot(imdq.Time, imdq.get_values('omega_r'), lw=5, alpha=0.2, color=colors[0])\n",
    "\n",
    "axes[0].plot(imdp.Time, imdp.tau_r,  color=colors[0])\n",
    "axes[0].plot(imdq.Time, imdq.get_values('tau_r'), lw=5, alpha=0.2, color=colors[0])\n",
    "#axes[0].plot(imdp.Time, imdp.get_values('tau_r'), lw=5, alpha=0.2, color=colors[3])\n",
    "\n",
    "#axes[0].plot(imdp.Time, imdp.get_values('tau_r0r'), lw=1, alpha=1, color=colors[2])\n",
    "\n",
    "axes[2].plot(imdq.Time, imdq.get_values('lambda_sd'), lw=5, alpha=0.2, color=colors[0])\n",
    "axes[2].plot(imdq.Time, imdq.get_values('lambda_sq'), lw=5, alpha=0.2, color=colors[1])\n",
    "axes[2].plot(imdp.Time, imdp.lambda_sd, label=f'i_{{sa}}',color=colors[0])\n",
    "axes[2].plot(imdp.Time, imdp.lambda_sq, label=f'i_{{sb}}',color=colors[1])\n",
    "\n",
    "axes[1].plot(imdq.Time, imdq.get_values('i_sd'), lw=5, alpha=0.2, color=colors[0])\n",
    "axes[1].plot(imdq.Time, imdq.get_values('i_sq'), lw=5, alpha=0.2, color=colors[1])\n",
    "axes[1].plot(imdp.Time, imdp.i_sd, label=f'i_{{sa}}',color=colors[0])\n",
    "axes[1].plot(imdp.Time, imdp.i_sq, label=f'i_{{sb}}',color=colors[1])\n",
    "axes[1].plot(imdp.Time, (imdp.i_sd**2 + imdp.i_sq**2)**0.5, label=f'i_{{sb}}',color=colors[2])\n",
    "\n",
    "#axes[2].plot(imdq.Time, imdq.get_values('v_sd'), lw=5, alpha=0.2, color=colors[0])\n",
    "#axes[2].plot(imdq.Time, imdq.get_values('v_sq'), lw=5, alpha=0.2, color=colors[1])\n",
    "#axes[2].plot(imdp.Time, imdp.v_sd, label=f'i_{{sa}}',color=colors[0])\n",
    "#axes[2].plot(imdp.Time, imdp.v_sq, label=f'i_{{sb}}',color=colors[1])\n",
    "\n",
    "axes[0].set_xlabel('Time (s)')\n",
    "for ax in axes:\n",
    "    ax.grid()\n",
    "fig.tight_layout()"
   ]
  },
  {
   "cell_type": "code",
   "execution_count": null,
   "metadata": {},
   "outputs": [],
   "source": []
  },
  {
   "cell_type": "code",
   "execution_count": null,
   "metadata": {},
   "outputs": [],
   "source": []
  },
  {
   "cell_type": "code",
   "execution_count": null,
   "metadata": {},
   "outputs": [],
   "source": []
  },
  {
   "cell_type": "code",
   "execution_count": null,
   "metadata": {},
   "outputs": [],
   "source": []
  },
  {
   "cell_type": "code",
   "execution_count": null,
   "metadata": {},
   "outputs": [],
   "source": []
  },
  {
   "cell_type": "code",
   "execution_count": 18,
   "metadata": {},
   "outputs": [
    {
     "name": "stdout",
     "output_type": "stream",
     "text": [
      "Input or parameter v_sd not found.\n",
      "Input or parameter v_sq not found.\n",
      "Input or parameter v_sd0r not found.\n",
      "Input or parameter v_sd0i not found.\n",
      "Input or parameter v_sq0r not found.\n",
      "Input or parameter v_sq0i not found.\n",
      "Input or parameter v_sd2r not found.\n",
      "Input or parameter v_sd2i not found.\n",
      "Input or parameter v_sq2r not found.\n",
      "Input or parameter v_sq2i not found.\n",
      "i_sd  = 190.62\n",
      "i_sq  = -117.03\n",
      "i_rd  = -194.32\n",
      "i_rq  = 33.10\n",
      "i_pk  = 223.68\n",
      "tau_b = 580.60\n",
      "tau_l =  0.00\n",
      "p_s   = 92927.19\n",
      "q_s   = 57052.27\n",
      "v_sd  = 325.00\n",
      "v_sq  =  0.00\n"
     ]
    }
   ],
   "source": [
    "params.update({'v_sd0r':  0,'v_sd0i': 0.0,'v_sq0r': 0.0,'v_sq0i':  0,\n",
    "               'v_sd2r':325,'v_sd2i': 0.0,'v_sq2r': 0.0,'v_sq2i':325,  \n",
    "               'v_sd':325,\n",
    "               'tau_l':0, 'omega':Omega_b, 'B_r':B_r})\n",
    "imdp.ini(params,'xy0.json')\n",
    "imdq.ini(params,'xy0.json')\n",
    "\n",
    "imdq.report_z()"
   ]
  },
  {
   "cell_type": "code",
   "execution_count": 19,
   "metadata": {},
   "outputs": [
    {
     "data": {
      "text/plain": [
       "157.6848122046001"
      ]
     },
     "execution_count": 19,
     "metadata": {},
     "output_type": "execute_result"
    }
   ],
   "source": [
    "223/np.sqrt(2)"
   ]
  },
  {
   "cell_type": "code",
   "execution_count": 20,
   "metadata": {},
   "outputs": [
    {
     "ename": "NameError",
     "evalue": "name 'im_class' is not defined",
     "output_type": "error",
     "traceback": [
      "\u001b[1;31m---------------------------------------------------------------------------\u001b[0m",
      "\u001b[1;31mNameError\u001b[0m                                 Traceback (most recent call last)",
      "\u001b[1;32m~\\AppData\\Local\\Temp/ipykernel_22976/1797494410.py\u001b[0m in \u001b[0;36m<module>\u001b[1;34m\u001b[0m\n\u001b[1;32m----> 1\u001b[1;33m \u001b[0mim\u001b[0m \u001b[1;33m=\u001b[0m \u001b[0mim_class\u001b[0m\u001b[1;33m(\u001b[0m\u001b[1;33m)\u001b[0m\u001b[1;33m\u001b[0m\u001b[1;33m\u001b[0m\u001b[0m\n\u001b[0m\u001b[0;32m      2\u001b[0m \u001b[1;33m\u001b[0m\u001b[0m\n\u001b[0;32m      3\u001b[0m \u001b[0mim\u001b[0m\u001b[1;33m.\u001b[0m\u001b[0mini\u001b[0m\u001b[1;33m(\u001b[0m\u001b[0mparams\u001b[0m\u001b[1;33m,\u001b[0m\u001b[1;36m157\u001b[0m\u001b[1;33m)\u001b[0m\u001b[1;33m\u001b[0m\u001b[1;33m\u001b[0m\u001b[0m\n\u001b[0;32m      4\u001b[0m \u001b[0mim\u001b[0m\u001b[1;33m.\u001b[0m\u001b[0mini\u001b[0m\u001b[1;33m(\u001b[0m\u001b[1;33m{\u001b[0m\u001b[1;34m'v_sq'\u001b[0m\u001b[1;33m:\u001b[0m\u001b[1;36m0.0\u001b[0m\u001b[1;33m,\u001b[0m \u001b[1;34m'B_r'\u001b[0m\u001b[1;33m:\u001b[0m\u001b[0mB_r\u001b[0m\u001b[1;33m*\u001b[0m\u001b[1;36m1.0\u001b[0m\u001b[1;33m,\u001b[0m\u001b[1;34m'J_r'\u001b[0m\u001b[1;33m:\u001b[0m\u001b[1;36m5.0\u001b[0m\u001b[1;33m,\u001b[0m\u001b[1;34m'L_lr'\u001b[0m\u001b[1;33m:\u001b[0m\u001b[0mL_lr_start\u001b[0m\u001b[1;33m,\u001b[0m\u001b[1;34m'R_r'\u001b[0m\u001b[1;33m:\u001b[0m\u001b[0mR_r_start\u001b[0m\u001b[1;33m}\u001b[0m\u001b[1;33m,\u001b[0m\u001b[1;36m157\u001b[0m\u001b[1;33m)\u001b[0m\u001b[1;33m\u001b[0m\u001b[1;33m\u001b[0m\u001b[0m\n\u001b[0;32m      5\u001b[0m \u001b[1;31m#im.ini({'v_sq':0.0, 'B_r':B_r*1.0,'J_r':5.0,'L_lr':L_lr,'R_r':R_r},157)\u001b[0m\u001b[1;33m\u001b[0m\u001b[1;33m\u001b[0m\u001b[0m\n",
      "\u001b[1;31mNameError\u001b[0m: name 'im_class' is not defined"
     ]
    }
   ],
   "source": [
    "im = im_class()\n",
    "\n",
    "im.ini(params,157)\n",
    "im.ini({'v_sq':0.0, 'B_r':B_r*1.0,'J_r':5.0,'L_lr':L_lr_start,'R_r':R_r_start},157)\n",
    "#im.ini({'v_sq':0.0, 'B_r':B_r*1.0,'J_r':5.0,'L_lr':L_lr,'R_r':R_r},157)\n",
    "\n",
    "im.Dt=0.001\n",
    "im.decimation = 1\n",
    "im.run( 1.0,{'v_sq':0.0})\n",
    "im.run( 3.0,{'v_sq':400*np.sqrt(2/3)})\n",
    "im.run( 4.0,{'L_lr':L_lr,'R_r':R_r})\n",
    "im.run( 5.0,{'B_r':0.0})\n",
    "im.post();\n",
    "\n",
    "fig, axes = plt.subplots(nrows=2,ncols=2, figsize=(8, 5), dpi=100)\n",
    "axes[0,0].plot(im.Time, 581*(im.Time*0+1),'--')\n",
    "axes[0,0].plot(im.Time, im.get_values('tau_r'), label=f'$\\\\tau_r$ (Nm)')\n",
    "\n",
    "axes[1,0].plot(im.Time, Omega_b/2*(im.Time*0+1),'--' )\n",
    "axes[1,0].plot(im.Time, omega_r_n*(im.Time*0+1),'--' )\n",
    "axes[1,0].plot(im.Time, im.get_values('omega_r'), label=f'$\\omega_r$ (r/s)')\n",
    "\n",
    "axes[0,1].plot(im.Time,163*(im.Time*0+1),'--' )\n",
    "axes[0,1].plot(im.Time, im.get_values('i_pk')/np.sqrt(2), label=f'I-RMS (A)')\n",
    "\n",
    "axes[1,1].plot(im.Time, im.get_values('p_s')/1e3, label=f'$p_s$ (kW)')\n",
    "axes[1,1].plot(im.Time, im.get_values('q_s')/1e3, label=f'$q_s$ (kvar)')\n",
    "\n",
    "\n",
    "#axes[1].plot(pm.Time, pm.get_values('omega_r'), label=f'\\nu')\n",
    "\n",
    "#axes.plot(m.get_values('nu'), m.get_values('snu'), label=f'\\nu')\n",
    "\n",
    "for ax in axes.flatten():\n",
    "    ax.grid(True)\n",
    "    ax.legend()\n",
    "    ax.set_xlim((0,im.Time[-1]))\n",
    "    \n",
    "axes[1,0].set_xlabel('Time (s)')\n",
    "axes[1,1].set_xlabel('Time (s)')\n",
    "\n",
    "fig.tight_layout()\n"
   ]
  },
  {
   "cell_type": "code",
   "execution_count": null,
   "metadata": {},
   "outputs": [],
   "source": [
    "fig, axes = plt.subplots(nrows=1,ncols=1, figsize=(6, 5), dpi=100)\n",
    "axes.plot(im.get_values('omega_r')*2*np.pi/60, im.get_values('tau_r'), label=f'\\nu')\n",
    "axes.set_xlabel('Speed (rpm)')\n",
    "axes.set_ylabel('Torque (Nm)')\n",
    "axes.grid()\n",
    "fig.tight_layout()"
   ]
  },
  {
   "cell_type": "code",
   "execution_count": null,
   "metadata": {},
   "outputs": [],
   "source": [
    "imd = im_class()\n",
    "ima = ima_class()\n",
    "\n",
    "ims = [imd,ima]\n",
    "\n",
    "for im in ims:\n",
    "    im.ini(params,157)\n",
    "    im.ini({'v_sq':0.0, 'B_r':B_r*1.0,'J_r':5.0,'L_lr':L_lr_start,'R_r':R_r_start},157)\n",
    "    #im.ini({'v_sq':0.0, 'B_r':B_r*1.0,'J_r':5.0,'L_lr':L_lr,'R_r':R_r},157)\n",
    "\n",
    "    im.Dt=0.001\n",
    "    im.decimation = 1\n",
    "    im.run( 1.0,{'v_sq':0.0})\n",
    "    im.run( 3.0,{'v_sq':400*np.sqrt(2/3)})\n",
    "    im.run( 4.0,{'L_lr':L_lr,'R_r':R_r})\n",
    "    im.run( 5.0,{'B_r':0.0})\n",
    "    im.post();\n",
    "\n",
    "fig, axes = plt.subplots(nrows=2,ncols=2, figsize=(8, 5), dpi=100)\n",
    "axes[0,0].plot(imd.Time, 581*(imd.Time*0+1),'--')\n",
    "axes[0,0].plot(imd.Time, imd.get_values('tau_r'), label=f'ode: $\\\\tau_r$ (Nm)')\n",
    "axes[0,0].plot(ima.Time, ima.get_values('tau_r'), label=f'dae: $\\\\tau_r$ (Nm)')\n",
    "\n",
    "axes[1,0].plot(imd.Time, Omega_b/2*(imd.Time*0+1),'--' )\n",
    "axes[1,0].plot(imd.Time, omega_r_n*(imd.Time*0+1),'--' )\n",
    "axes[1,0].plot(imd.Time, imd.get_values('omega_r'), label=f'ode: $\\omega_r$ (r/s)')\n",
    "axes[1,0].plot(ima.Time, ima.get_values('omega_r'), label=f'dae: $\\omega_r$ (r/s)')\n",
    "\n",
    "axes[0,1].plot(imd.Time,163*(imd.Time*0+1),'--' )\n",
    "axes[0,1].plot(imd.Time, imd.get_values('i_pk')/np.sqrt(2), label=f'ode: I-RMS (A)')\n",
    "axes[0,1].plot(ima.Time, ima.get_values('i_pk')/np.sqrt(2), label=f'dae: I-RMS (A)')\n",
    "\n",
    "axes[1,1].plot(imd.Time, imd.get_values('p_s')/1e3, label=f'$p_s$ (kW)')\n",
    "axes[1,1].plot(imd.Time, imd.get_values('q_s')/1e3, label=f'$q_s$ (kvar)')\n",
    "\n",
    "\n",
    "#axes[1].plot(pm.Time, pm.get_values('omega_r'), label=f'\\nu')\n",
    "\n",
    "#axes.plot(m.get_values('nu'), m.get_values('snu'), label=f'\\nu')\n",
    "\n",
    "for ax in axes.flatten():\n",
    "    ax.grid(True)\n",
    "    ax.legend()\n",
    "    ax.set_xlim((0,imd.Time[-1]))\n",
    "    \n",
    "axes[1,0].set_xlabel('Time (s)')\n",
    "axes[1,1].set_xlabel('Time (s)')\n",
    "\n",
    "fig.tight_layout()\n"
   ]
  },
  {
   "cell_type": "code",
   "execution_count": null,
   "metadata": {},
   "outputs": [],
   "source": [
    "fig, axes = plt.subplots(nrows=1,ncols=1, figsize=(6, 5), dpi=100)\n",
    "\n",
    "n_d = imd.get_values('omega_r')*60/(2*np.pi)\n",
    "n_a = ima.get_values('omega_r')*60/(2*np.pi)\n",
    "\n",
    "axes.plot(n_d, (n_d*0+1)*581.0, '--')\n",
    "axes.plot(n_d, (n_d*0+1)*581.0*3.1, '--')\n",
    "axes.plot(n_d, (n_d*0+1)*581.0*3.3, '--')\n",
    "\n",
    "axes.plot(imd.get_values('omega_r')*60/(2*np.pi), imd.get_values('tau_r'), label=f'ode')\n",
    "axes.plot(ima.get_values('omega_r')*60/(2*np.pi), ima.get_values('tau_r'), label=f'dae')\n",
    "\n",
    "axes.set_xlabel('Speed (rpm)')\n",
    "axes.set_ylabel('Torque (Nm)')\n",
    "axes.grid()\n",
    "fig.tight_layout()"
   ]
  },
  {
   "cell_type": "code",
   "execution_count": null,
   "metadata": {},
   "outputs": [],
   "source": [
    "pm = pmsm_ctrl_class()\n",
    "pm.Dt = 0.0001\n",
    "pm.ini({'tau_r_ref':0},1)\n",
    "pm.run(  0.1,{'tau_r_ref':0.0})\n",
    "pm.run(  0.2,{'tau_r_ref':100.0})\n",
    "\n",
    "pm.post();\n",
    "\n",
    "fig, axes = plt.subplots(nrows=2,ncols=1, figsize=(6, 5), dpi=100)\n",
    "axes[0].plot(pm.Time, pm.get_values('tau_r_ref'), label=f'\\nu')\n",
    "axes[0].plot(pm.Time, pm.get_values('tau_r'), label=f'\\nu')\n",
    "#axes[1].plot(pm.Time, pm.get_values('omega_r'), label=f'\\nu')\n",
    "\n",
    "#axes.plot(m.get_values('nu'), m.get_values('snu'), label=f'\\nu')\n",
    "\n",
    "axes[1].set_xlabel('Time (s)')\n",
    "fig.tight_layout()"
   ]
  },
  {
   "cell_type": "code",
   "execution_count": null,
   "metadata": {},
   "outputs": [],
   "source": []
  },
  {
   "cell_type": "code",
   "execution_count": null,
   "metadata": {},
   "outputs": [],
   "source": [
    "Δt = 0.1\n",
    "\n",
    "times = np.arange(0,50,Δt)  \n",
    "\n",
    "x_positions = np.linspace(0,200,10)\n",
    "nu_refs = x_positions*0 + 10\n",
    "nu_refs[0] = 0\n",
    "nu_refs[-1] = 0\n",
    "\n",
    "m = mech_class()\n",
    "m.initialize([{'tau_r':0,'Dt':0.1}],0)\n",
    "K_a = 150\n",
    "x_pos = 0.0\n",
    "for t in times:\n",
    "    \n",
    "    nu = m.get_value('nu')\n",
    "    x_pos = m.get_value('x_pos')\n",
    "    nu_ref = np.interp(x_pos+2,x_positions,nu_refs)\n",
    "    tau_ref = K_a*(nu_ref - nu)\n",
    "    if tau_ref>300:\n",
    "        tau_ref = 300\n",
    "    if tau_ref<-200:\n",
    "        tau_ref = -200\n",
    "    m.run([{'t_end':t,'tau_r':tau_ref}])\n",
    "m.post();\n",
    "\n",
    "fig, axes = plt.subplots(nrows=3,ncols=1, figsize=(6, 6), dpi=100)\n",
    "\n",
    "axes[0].plot(m.T, m.get_values('x_pos'), label=f'x')\n",
    "\n",
    "axes[1].plot(m.T, m.get_values('nu')*3.6, label=f'\\nu')\n",
    "axes[2].plot(m.T, m.get_values('tau_r'), label=f'\\nu')\n",
    "\n",
    "axes[2].set_xlabel('Time (s)')\n",
    "fig.tight_layout()"
   ]
  },
  {
   "cell_type": "code",
   "execution_count": null,
   "metadata": {},
   "outputs": [],
   "source": [
    "Δt = 0.1\n",
    "\n",
    "times = np.arange(0,100,Δt)  \n",
    "\n",
    "x_positions = np.linspace(0,200,10)\n",
    "nu_refs = x_positions*0 + 10\n",
    "nu_refs[0] = 0\n",
    "nu_refs[-1] = 0\n",
    "\n",
    "m = mech_class()\n",
    "m.initialize([{'tau_r':0,'Dt':0.1}],0)\n",
    "\n",
    "Jerk_max =  500.0\n",
    "Jerk_min = -500.0\n",
    "\n",
    "Tau_max =  400.0\n",
    "Tau_min = -400.0\n",
    "\n",
    "tau_ref = 0\n",
    "K_a = 200\n",
    "x_pos = 0.0\n",
    "for t in times:\n",
    "    \n",
    "    nu = m.get_value('nu')\n",
    "    x_pos = m.get_value('x_pos')\n",
    "    nu_ref = np.interp(x_pos+10,x_positions,nu_refs)\n",
    "    \n",
    "    dtau_ref = K_a*(nu_ref - nu)\n",
    "    if dtau_ref>Jerk_max: \n",
    "        dtau_ref = Jerk_max\n",
    "    if dtau_ref<Jerk_min: \n",
    "        dtau_ref = Jerk_min \n",
    "    \n",
    "    tau_ref += Δt*dtau_ref\n",
    "    if tau_ref>Tau_max:\n",
    "        tau_ref = Tau_max\n",
    "        tau_ref -= Δt*dtau_ref\n",
    "    if tau_ref<Tau_min:\n",
    "        tau_ref = Tau_min\n",
    "        tau_ref -= Δt*dtau_ref\n",
    "        \n",
    "    m.run([{'t_end':t,'tau_r':tau_ref}])\n",
    "m.post();\n",
    "\n",
    "fig, axes = plt.subplots(nrows=3,ncols=1, figsize=(6, 6), dpi=100)\n",
    "\n",
    "axes[0].plot(m.T, m.get_values('x_pos'), label=f'x')\n",
    "\n",
    "axes[1].plot(m.T, m.get_values('nu')*3.6, label=f'\\nu')\n",
    "axes[2].plot(m.T, m.get_values('tau_r')/1200, label=f'\\nu')\n",
    "\n",
    "axes[2].set_xlabel('Time (s)')\n",
    "fig.tight_layout()"
   ]
  },
  {
   "cell_type": "code",
   "execution_count": null,
   "metadata": {},
   "outputs": [],
   "source": [
    "Δt = 0.1\n",
    "\n",
    "times = np.arange(0,100,Δt)  \n",
    "\n",
    "x_positions = np.array([0,100,900,1000])\n",
    "nu_refs = np.array([0,30,30,0])\n",
    "\n",
    "m = mech_class()\n",
    "m.initialize([{'tau_r':0,'Dt':0.01}],0)\n",
    "\n",
    "Jerk_max =  500.0\n",
    "Jerk_min = -500.0\n",
    "\n",
    "Tau_max =  600.0\n",
    "Tau_min = -600.0\n",
    "\n",
    "tau_ref = 0\n",
    "xi_nu = 0.0\n",
    "K_a = 200\n",
    "K_p = 100\n",
    "K_i = 0\n",
    "x_pos = 0.0\n",
    "for t in times:\n",
    "    \n",
    "    nu = m.get_value('nu')\n",
    "    x_pos = m.get_value('x_pos')\n",
    "    nu_ref = np.interp(x_pos+0.1,x_positions,nu_refs)\n",
    "    \n",
    "    epsilon = (nu_ref - nu)\n",
    "    xi_nu += epsilon\n",
    "    \n",
    "    tau_ref = K_p*epsilon + K_i*xi_nu\n",
    "   # if tau_ref>Tau_max:\n",
    "   #     tau_ref = Tau_max\n",
    "   #     xi_nu -= epsilon\n",
    "       # tau_ref -= Δt*dtau_ref\n",
    "   # if tau_ref<Tau_min:\n",
    "  #      tau_ref = Tau_min\n",
    "    #    xi_nu -= epsilon\n",
    "      #  tau_ref -= Δt*dtau_ref\n",
    "        \n",
    "    m.run([{'t_end':t,'tau_r':tau_ref}])\n",
    "m.post();\n",
    "\n",
    "fig, axes = plt.subplots(nrows=3,ncols=1, figsize=(6, 6), dpi=100)\n",
    "\n",
    "axes[0].plot(m.T, m.get_values('x_pos'), label=f'x')\n",
    "\n",
    "axes[1].plot(m.T, m.get_values('nu')*3.6, label=f'\\nu')\n",
    "axes[2].plot(m.T, m.get_values('tau_r')/1200, label=f'\\nu')\n",
    "\n",
    "axes[2].set_xlabel('Time (s)')\n",
    "fig.tight_layout()"
   ]
  },
  {
   "cell_type": "code",
   "execution_count": null,
   "metadata": {},
   "outputs": [],
   "source": [
    "Δt = 0.1\n",
    "\n",
    "times = np.arange(0,100,Δt)  \n",
    "Nu_ref = 0*times\n",
    "x_positions = np.linspace(0,200,1000)\n",
    "nu_refs = x_positions*0 + 10\n",
    "nu_refs[0] = 0\n",
    "nu_refs[-1] = 0\n",
    "\n",
    "m = mech_class()\n",
    "m.initialize([{'tau_r':0,'Dt':0.1}],0)\n",
    "\n",
    "Jerk_max =  30000\n",
    "Jerk_min = -30000.0\n",
    "\n",
    "a_max = 1\n",
    "Tau_max =  400.0\n",
    "Tau_min = -400.0\n",
    "\n",
    "tau_ref = 0\n",
    "K_a = 10000\n",
    "x_pos = 0.0\n",
    "it = 0\n",
    "for t in times:\n",
    "    \n",
    "    nu = m.get_value('nu')\n",
    "    x_pos = m.get_value('x_pos')\n",
    "    nu_ref = np.interp(x_pos+nu**2/a_max+1,x_positions,nu_refs)\n",
    "    \n",
    "    epsilon_nu = K_a*(nu_ref - nu)\n",
    "   # if epsilon_nu>Jerk_max: \n",
    "   #     epsilon_nu = Jerk_max\n",
    "   #  if epsilon_nu<Jerk_min: \n",
    "  #      epsilon_nu = Jerk_min \n",
    "    \n",
    "    tau_ref += Δt*epsilon_nu\n",
    "    tau_ref = epsilon_nu\n",
    "    if tau_ref>Tau_max:\n",
    "        tau_ref = Tau_max\n",
    "       # tau_ref -= Δt*dtau_ref\n",
    "    if tau_ref<Tau_min:\n",
    "        tau_ref = Tau_min\n",
    "      #  tau_ref -= Δt*dtau_ref\n",
    "        \n",
    "        \n",
    "    m.run([{'t_end':t,'tau_r':tau_ref}])\n",
    "    \n",
    "    Nu_ref[it] = nu_ref\n",
    "    it+=1\n",
    "m.post();\n",
    "\n",
    "fig, axes = plt.subplots(nrows=3,ncols=1, figsize=(6, 6), dpi=100)\n",
    "\n",
    "axes[0].plot(m.T, m.get_values('x_pos'), label=f'x')\n",
    "\n",
    "axes[1].plot(m.T, m.get_values('nu'), label=f'\\nu')\n",
    "axes[1].plot(times, Nu_ref, label=f'\\nu^\\star')\n",
    "\n",
    "axes[2].plot(m.T, m.get_values('tau_r')/1200, label=f'\\nu')\n",
    "\n",
    "axes[2].set_xlabel('Time (s)')\n",
    "fig.tight_layout()"
   ]
  },
  {
   "cell_type": "code",
   "execution_count": null,
   "metadata": {},
   "outputs": [],
   "source": [
    "m.get_value('x_pos')"
   ]
  },
  {
   "cell_type": "code",
   "execution_count": null,
   "metadata": {},
   "outputs": [],
   "source": [
    "    if tau_ref>Tau_max:\n",
    "        tau_ref = Tau_max\n",
    "        tau_ref -= Δt*dtau_ref\n",
    "    if tau_ref<Tau_min:\n",
    "        tau_ref = Tau_min\n",
    "        tau_ref -= Δt*dtau_ref"
   ]
  }
 ],
 "metadata": {
  "kernelspec": {
   "display_name": "Python 3 (ipykernel)",
   "language": "python",
   "name": "python3"
  },
  "language_info": {
   "codemirror_mode": {
    "name": "ipython",
    "version": 3
   },
   "file_extension": ".py",
   "mimetype": "text/x-python",
   "name": "python",
   "nbconvert_exporter": "python",
   "pygments_lexer": "ipython3",
   "version": "3.9.7"
  }
 },
 "nbformat": 4,
 "nbformat_minor": 4
}

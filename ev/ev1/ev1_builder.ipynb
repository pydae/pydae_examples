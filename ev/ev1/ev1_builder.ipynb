{
 "cells": [
  {
   "cell_type": "code",
   "execution_count": 41,
   "id": "82eeabe5",
   "metadata": {},
   "outputs": [],
   "source": [
    "import numpy as np\n",
    "import sympy as sym\n",
    "import pydae.build_cffi as db"
   ]
  },
  {
   "cell_type": "code",
   "execution_count": 45,
   "id": "3015883f",
   "metadata": {},
   "outputs": [],
   "source": [
    "# mech:\n",
    "R_w,G,M,K_w,C_rr,Rho,S_f,C_x,K_sign = sym.symbols('R_w,G,M,K_w,C_rr,Rho,S_f,C_x,K_sign',real=True)\n",
    "tau_r,beta = sym.symbols('tau_r,beta',real=True)\n",
    "nu,x_pos = sym.symbols('nu,x_pos',real=True)\n",
    "snu,omega_r,tau_r_ref = sym.symbols('snu,omega_r,tau_r_ref',real=True)\n",
    "\n",
    "\n",
    "# motor + dc/dc converter:\n",
    "R_a,L_a,R_f,L_f,L_af,N_pp,K_p_a,K_i_a = sym.symbols('R_a,L_a,R_f,L_f,L_af,N_pp,K_p_a,K_i_a',real=True)\n",
    "i_a,i_f,xi_a = sym.symbols('i_a,i_f,xi_a',real=True)\n",
    "v_a,v_f,eta_a = sym.symbols('v_a,v_f,eta_a',real=True)\n",
    "\n",
    "# battery:\n",
    "e_b,soc,v_b1,v_b2,i_b,v_b,soc_ref,i_ch,xi_b = sym.symbols('e_b,soc,v_b1,v_b2,i_b,v_b,soc_ref,i_ch,xi_b',real=True)\n",
    "C_b,R_b,K_p_b,K_i_b = sym.symbols('C_b,R_b,K_p_b,K_i_b',real=True)\n",
    "E_b0,E_b1 = sym.symbols('E_b0,E_b1',real=True)\n",
    "v_a = eta_a*v_b\n",
    "i_b = eta_a*i_a\n",
    "\n",
    "tau_r = L_af*i_a*i_f\n",
    "tau_w = tau_r/K_w\n",
    "f_w = tau_w/R_w\n",
    "f_b = G*M*sym.sin(beta)\n",
    "f_d = 0.5*Rho*S_f*C_x*nu**2*snu\n",
    "f_r = C_rr*G*M*snu\n",
    "p_r = tau_r*omega_r\n",
    "\n",
    "dnu = 1/M*(f_w - f_d - f_r - f_b)\n",
    "\n",
    "eq_snu = -snu + (1/(1+sym.exp(-nu*K_sign)))*2-1\n",
    "eq_omega_r =-omega_r +  nu/(K_w*R_w)\n",
    "\n",
    "omega_e = N_pp*omega_r\n",
    "di_a = 1/L_a*(v_a - R_a*i_a - omega_e*L_af*i_f)\n",
    "di_f = 1/L_f*(v_f - R_f*i_f)\n",
    "\n",
    "epsilon_a = tau_r_ref - tau_r\n",
    "dxi_a = epsilon_a\n",
    "eq_eta_a = -eta_a + K_p_a * epsilon_a + K_i_a*xi_a\n",
    "\n",
    "e_b = (E_b1 - E_b0)*soc + E_b0\n",
    "epsilon_b = soc_ref - soc\n",
    "dsoc = -(i_b-i_ch)/C_b\n",
    "dxi_b = epsilon_b\n",
    "eq_v_b = -v_b + e_b - R_b*i_b\n",
    "eq_i_ch  = -i_ch + K_p_b * epsilon_b + K_i_b*xi_b\n",
    "\n",
    "\n",
    "u_ini_dict = {'tau_r_ref':0.0,'beta':0.0,'v_f':220.0,'soc_ref':0.5}  # for the initialization problem\n",
    "u_run_dict = {'tau_r_ref':0.0,'beta':0.0,'v_f':220.0,'soc_ref':0.5}  # for the running problem (here initialization and running problem are the same)\n",
    "\n",
    "\n",
    "params_dict = {'R_w':0.316,'G':9.81,'M':1200.0,'K_w':1.0,'C_rr':0.03,'Rho':1.225,'S_f':2.13,'C_x':0.32,'K_sign':100,\n",
    "               'R_a':0.06727,'L_a':0.001882,'R_f':30.72,'L_f':3.166,'L_af':0.2641,'N_pp':1.0, 'K_p_a':1.0,'K_i_a':1.0,\n",
    "              'C_b':1e5,'R_b':0.1,'K_p_b':1e-5,'K_i_b':1e-5,'E_b0':300,'E_b1':320}\n"
   ]
  },
  {
   "cell_type": "code",
   "execution_count": 46,
   "id": "d066840b",
   "metadata": {},
   "outputs": [],
   "source": [
    "x_list = [ nu, i_a, i_f, xi_a, soc, xi_b]\n",
    "f_list = [dnu,di_a,di_f,dxi_a,dsoc,dxi_b]\n",
    "y_list = [   snu,   omega_r,   eta_a,   i_ch,   v_b]\n",
    "g_list = [eq_snu,eq_omega_r,eq_eta_a,eq_i_ch,eq_v_b]\n",
    "h_dict = {'f_w':f_w,'f_d':f_d,'f_r':f_r,'tau_r':tau_r,'p_r':p_r,'nu_kmh':3.6*nu,'v_b':v_b,'i_b':i_b}\n",
    "\n",
    "sys_dict = {'name':f\"ev1\",\n",
    "       'params_dict':params_dict,\n",
    "       'f_list':f_list,\n",
    "       'g_list':g_list,\n",
    "       'x_list':x_list,\n",
    "       'y_ini_list':y_list,\n",
    "       'y_run_list':y_list,\n",
    "       'u_run_dict':u_run_dict,\n",
    "       'u_ini_dict':u_ini_dict,\n",
    "       'h_dict':h_dict\n",
    "      }\n",
    "\n",
    "bldr = db.builder(sys_dict);\n",
    "bldr.build()"
   ]
  },
  {
   "cell_type": "code",
   "execution_count": 1,
   "id": "1956f0b0",
   "metadata": {},
   "outputs": [
    {
     "ename": "NameError",
     "evalue": "name 'bldr' is not defined",
     "output_type": "error",
     "traceback": [
      "\u001b[1;31m---------------------------------------------------------------------------\u001b[0m",
      "\u001b[1;31mNameError\u001b[0m                                 Traceback (most recent call last)",
      "Input \u001b[1;32mIn [1]\u001b[0m, in \u001b[0;36m<cell line: 1>\u001b[1;34m()\u001b[0m\n\u001b[1;32m----> 1\u001b[0m \u001b[38;5;28mprint\u001b[39m(\u001b[43mbldr\u001b[49m\u001b[38;5;241m.\u001b[39msource)\n",
      "\u001b[1;31mNameError\u001b[0m: name 'bldr' is not defined"
     ]
    }
   ],
   "source": [
    "print(bldr.source)"
   ]
  },
  {
   "cell_type": "code",
   "execution_count": null,
   "id": "78efa13f",
   "metadata": {},
   "outputs": [],
   "source": []
  }
 ],
 "metadata": {
  "kernelspec": {
   "display_name": "Python 3 (ipykernel)",
   "language": "python",
   "name": "python3"
  },
  "language_info": {
   "codemirror_mode": {
    "name": "ipython",
    "version": 3
   },
   "file_extension": ".py",
   "mimetype": "text/x-python",
   "name": "python",
   "nbconvert_exporter": "python",
   "pygments_lexer": "ipython3",
   "version": "3.9.12"
  }
 },
 "nbformat": 4,
 "nbformat_minor": 5
}

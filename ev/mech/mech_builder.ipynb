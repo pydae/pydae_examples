{
 "cells": [
  {
   "cell_type": "code",
   "execution_count": 1,
   "metadata": {},
   "outputs": [],
   "source": [
    "import numpy as np\n",
    "import sympy as sym\n",
    "import pydae.build_cffi as db"
   ]
  },
  {
   "cell_type": "code",
   "execution_count": 2,
   "metadata": {},
   "outputs": [],
   "source": [
    "\n",
    "R_w,G,M,K_w,C_rr,Rho,S_f,C_x,K_sign = sym.symbols('R_w,G,M,K_w,C_rr,Rho,S_f,C_x,K_sign',real=True)\n",
    "tau_r,beta = sym.symbols('tau_r,beta',real=True)\n",
    "nu,x_pos = sym.symbols('nu,x_pos',real=True)\n",
    "snu,omega_r = sym.symbols('snu,omega_r',real=True)\n",
    "\n",
    "u_ini_dict = {'tau_r':0.0,'beta':0.0}  # for the initialization problem\n",
    "u_run_dict = {'tau_r':0.0,'beta':0.0}  # for the running problem (here initialization and running problem are the same)\n",
    "\n",
    "\n",
    "params_dict = {'R_w':0.316,'G':9.81,'M':1200.0,'K_w':1.0,'C_rr':0.03,'Rho':1.225,'S_f':2.13,'C_x':0.32,'K_sign':100}\n"
   ]
  },
  {
   "cell_type": "code",
   "execution_count": 3,
   "metadata": {},
   "outputs": [],
   "source": [
    "tau_w = tau_r/K_w\n",
    "f_w = tau_w/R_w\n",
    "f_b = G*M*sym.sin(beta)\n",
    "f_d = 0.5*Rho*S_f*C_x*nu**2*snu\n",
    "f_r = C_rr*G*M*snu\n",
    "p_r = tau_r*omega_r\n",
    "\n",
    "dnu = 1/M*(f_w - f_d - f_r - f_b)\n",
    "\n",
    "eq_snu = -snu + (1/(1+sym.exp(-nu*K_sign)))*2-1\n",
    "eq_omega_r =-omega_r +  nu/(K_w*R_w)"
   ]
  },
  {
   "cell_type": "code",
   "execution_count": 4,
   "metadata": {},
   "outputs": [
    {
     "name": "stderr",
     "output_type": "stream",
     "text": [
      "C:\\Users\\jmmau\\anaconda3\\lib\\site-packages\\sympy\\matrices\\repmatrix.py:98: SymPyDeprecationWarning: \n",
      "\n",
      "non-Expr objects in a Matrix has been deprecated since SymPy 1.9. Use\n",
      "list of lists, TableForm or some other data structure instead. See\n",
      "https://github.com/sympy/sympy/issues/21497 for more info.\n",
      "\n",
      "  SymPyDeprecationWarning(\n"
     ]
    }
   ],
   "source": [
    "x_list = [ nu]\n",
    "f_list = [dnu]\n",
    "y_list = [   snu,   omega_r]\n",
    "g_list = [eq_snu,eq_omega_r]\n",
    "h_dict = {'f_w':f_w,'f_d':f_d,'f_r':f_r,'tau_r':tau_r,'p_r':p_r,'nu_kmh':3.6*nu}\n",
    "\n",
    "sys_dict = {'name':f\"mech\",\n",
    "       'params_dict':params_dict,\n",
    "       'f_list':f_list,\n",
    "       'g_list':g_list,\n",
    "       'x_list':x_list,\n",
    "       'y_ini_list':y_list,\n",
    "       'y_run_list':y_list,\n",
    "       'u_run_dict':u_run_dict,\n",
    "       'u_ini_dict':u_ini_dict,\n",
    "       'h_dict':h_dict\n",
    "      }\n",
    "\n",
    "bldr = db.builder(sys_dict);\n",
    "bldr.build()"
   ]
  },
  {
   "cell_type": "code",
   "execution_count": 12,
   "metadata": {},
   "outputs": [
    {
     "ename": "KeyError",
     "evalue": "'jac_ini'",
     "output_type": "error",
     "traceback": [
      "\u001b[1;31m---------------------------------------------------------------------------\u001b[0m",
      "\u001b[1;31mKeyError\u001b[0m                                  Traceback (most recent call last)",
      "\u001b[1;32m~\\AppData\\Local\\Temp/ipykernel_7228/1731726849.py\u001b[0m in \u001b[0;36m<module>\u001b[1;34m\u001b[0m\n\u001b[1;32m----> 1\u001b[1;33m \u001b[0msys\u001b[0m\u001b[1;33m[\u001b[0m\u001b[1;34m'jac_ini'\u001b[0m\u001b[1;33m]\u001b[0m\u001b[1;33m\u001b[0m\u001b[1;33m\u001b[0m\u001b[0m\n\u001b[0m",
      "\u001b[1;31mKeyError\u001b[0m: 'jac_ini'"
     ]
    }
   ],
   "source": [
    "sys['jac_ini']"
   ]
  },
  {
   "cell_type": "code",
   "execution_count": null,
   "metadata": {},
   "outputs": [],
   "source": []
  }
 ],
 "metadata": {
  "kernelspec": {
   "display_name": "Python 3 (ipykernel)",
   "language": "python",
   "name": "python3"
  },
  "language_info": {
   "codemirror_mode": {
    "name": "ipython",
    "version": 3
   },
   "file_extension": ".py",
   "mimetype": "text/x-python",
   "name": "python",
   "nbconvert_exporter": "python",
   "pygments_lexer": "ipython3",
   "version": "3.9.7"
  }
 },
 "nbformat": 4,
 "nbformat_minor": 4
}

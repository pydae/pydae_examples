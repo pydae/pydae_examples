{
 "cells": [
  {
   "cell_type": "code",
   "execution_count": 4,
   "id": "249c7ba4",
   "metadata": {},
   "outputs": [],
   "source": [
    "import numpy as np\n",
    "import sympy as sym\n",
    "import pydae.build_cffi as db"
   ]
  },
  {
   "cell_type": "code",
   "execution_count": null,
   "id": "503bdcc2",
   "metadata": {},
   "outputs": [],
   "source": []
  },
  {
   "cell_type": "code",
   "execution_count": 5,
   "id": "70504a93",
   "metadata": {},
   "outputs": [],
   "source": [
    "SOC0,Cp,Np,Ns,K_charger = sym.symbols('SOC0,Cp,Np,Ns,K_charger',real=True)\n",
    "Ibat,SOC,V1,V2 = sym.symbols('Ibat,SOC,V1,V2',real=True)\n"
   ]
  },
  {
   "cell_type": "code",
   "execution_count": 6,
   "id": "c9f66ca7",
   "metadata": {},
   "outputs": [],
   "source": [
    "log = sym.log\n",
    "exp = sym.exp\n",
    "\n",
    "OCV_1=3.282-0.009294*log(SOC)-0.003919*log(1-SOC)-0.01518/SOC+0.06958*SOC; \n",
    "Rs_1=-0.6375*exp(-SOC) - 0.06625*SOC**3 + 0.2964*SOC**2 - 0.6335*SOC + 0.6393; \n",
    "R1_1=2.403*exp(-SOC) + 0.2176*SOC**3 - 1.059*SOC**2 + 2.356*SOC - 2.396; \n",
    "R2_1=2.29*exp(-SOC) + 0.1975*SOC**3 - 0.9956*SOC**2 + 2.239*SOC - 2.282;\n",
    "C1_1=-1.405e7*SOC**4 + 2.873e7*SOC**3 - 1.919e7*SOC**2 + 4.442e6*SOC - 1.193e5;\n",
    "C2_1=2.993e5*SOC**4 - 8.008e5*SOC**3 + 7.032e5*SOC**2 - 2.314e5*SOC + 3.088e4;\n",
    "\n",
    "OCV_2=3.472 + 0.1094*log(SOC) - 0.03224*log(1 - SOC) + 0.001911/SOC - 0.2096*SOC;\n",
    "Rs_2=0.5612*exp(-SOC) + 0.05642*SOC**3 - 0.2568*SOC**2 + 0.5546*SOC - 0.5588;\n",
    "R1_2=6.319*exp(-SOC) + 0.6824*SOC**3 - 2.965*SOC**2 + 6.282*SOC - 6.316;\n",
    "R2_2=4.688*exp(-SOC) + 0.5037*SOC**3 - 2.195*SOC**2 + 4.66*SOC - 4.686;\n",
    "C1_2=-9.817e6*SOC**4 + 2.002e7*SOC**3 - 1.316e7*SOC**2 + 3.11e6*SOC - 1.451e5;\n",
    "C2_2=1.864e5*SOC**4 - 3.158e5*SOC**3 + 1.497e5*SOC**2 - 1.201e4*SOC + 3615;\n",
    "    \n",
    "\n",
    "OCV = sym.Piecewise((OCV_1,Ibat>=0),(OCV_2,Ibat<0))\n",
    "Rs  = sym.Piecewise(( Rs_1,Ibat>=0),( Rs_2,Ibat<0))\n",
    "R1  = sym.Piecewise(( R1_1,Ibat>=0),( R1_2,Ibat<0))\n",
    "R2  = sym.Piecewise(( R2_1,Ibat>=0),( R2_2,Ibat<0))\n",
    "C1  = sym.Piecewise(( C1_1,Ibat>=0),( C1_2,Ibat<0))\n",
    "C2  = sym.Piecewise(( C2_1,Ibat>=0),( C2_2,Ibat<0))\n",
    "\n",
    "Icharger = K_charger*(SOC0 - SOC)\n",
    "Iunid=(Ibat+Icharger)/Np;\n",
    "dSOC=-(Ibat+Icharger)/(3600*Cp); \n",
    "dV1=-V1/(R1*C1)+Iunid/C1;\n",
    "dV2=-V2/(R2*C2)+Iunid/C2;\n",
    "\n",
    "Vunid=OCV-Rs*Iunid-V1-V2;\n",
    "Vbat_calc=Vunid*Ns;\n",
    "\n",
    "u_dict = {'Ibat':0.0, 'SOC0':0.5}\n",
    "params_dict = {'Cp':66.2,'Np':2,'Ns':96,'K_charger':1e-6}\n",
    "x_list = [  SOC,  V1,  V2]\n",
    "f_list = [ dSOC, dV1, dV2]\n",
    "y_list = [ ]\n",
    "g_list = []\n",
    "h_dict = {'Vbat_calc':Vbat_calc}"
   ]
  },
  {
   "cell_type": "code",
   "execution_count": 7,
   "id": "28d21853",
   "metadata": {},
   "outputs": [
    {
     "name": "stdout",
     "output_type": "stream",
     "text": [
      "system without algebraic equations, adding dummy algebraic equation\n"
     ]
    }
   ],
   "source": [
    "sys_dict = {'name':f\"bess\",\n",
    "       'params_dict':params_dict,\n",
    "       'f_list':f_list,\n",
    "       'g_list':g_list,\n",
    "       'x_list':x_list,\n",
    "       'y_ini_list':y_list,\n",
    "       'y_run_list':y_list,\n",
    "       'u_run_dict':u_dict,\n",
    "       'u_ini_dict':u_dict,\n",
    "       'h_dict':h_dict\n",
    "      }\n",
    "\n",
    "bldr = db.builder(sys_dict);\n",
    "bldr.build()"
   ]
  },
  {
   "cell_type": "code",
   "execution_count": null,
   "id": "171b979e",
   "metadata": {},
   "outputs": [],
   "source": [
    "function [dSOC,dV1,dV2,Vbat_calc] = fcn_batery(Ibat,SOC,V1,V2)\n",
    "SOC0=1;\n",
    "Cp=66.2;\n",
    "Np=2;\n",
    "Ns=96;\n",
    "\n",
    "dSOC=-Ibat/(3600*Cp); \n",
    "if Ibat>=0 %las formulas de abajo estan expresadas para SOC de 0 a 1\n",
    "    OCV=3.282-0.009294*log(SOC)-0.003919*log(1-SOC)-0.01518/SOC+0.06958*SOC; \n",
    "    Rs=-0.6375*exp(-SOC) - 0.06625*SOC^3 + 0.2964*SOC^2 - 0.6335*SOC + 0.6393; \n",
    "    R1=2.403*exp(-SOC) + 0.2176*SOC^3 - 1.059*SOC^2 + 2.356*SOC - 2.396; \n",
    "    R2=2.29*exp(-SOC) + 0.1975*SOC^3 - 0.9956*SOC^2 + 2.239*SOC - 2.282;\n",
    "    C1=-1.405e7*SOC^4 + 2.873e7*SOC^3 - 1.919e7*SOC^2 + 4.442e6*SOC - 1.193e5;\n",
    "    C2=2.993e5*SOC^4 - 8.008e5*SOC^3 + 7.032e5*SOC^2 - 2.314e5*SOC + 3.088e4;\n",
    "else\n",
    "    OCV=3.472 + 0.1094*log(SOC) - 0.03224*log(1 - SOC) + 0.001911/SOC - 0.2096*SOC;\n",
    "    Rs=0.5612*exp(-SOC) + 0.05642*SOC^3 - 0.2568*SOC^2 + 0.5546*SOC - 0.5588;\n",
    "    R1=6.319*exp(-SOC) + 0.6824*SOC^3 - 2.965*SOC^2 + 6.282*SOC - 6.316;\n",
    "    R2=4.688*exp(-SOC) + 0.5037*SOC^3 - 2.195*SOC^2 + 4.66*SOC - 4.686;\n",
    "    C1=-9.817e6*SOC^4 + 2.002e7*SOC^3 - 1.316e7*SOC^2 + 3.11e6*SOC - 1.451e5;\n",
    "    C2=1.864e5*SOC^4 - 3.158e5*SOC^3 + 1.497e5*SOC^2 - 1.201e4*SOC + 3615;\n",
    "end\n",
    "Iunid=Ibat/Np;\n",
    "dV1=-V1/(R1*C1)+Iunid/C1;\n",
    "dV2=-V2/(R2*C2)+Iunid/C2;\n",
    "\n",
    "Vunid=OCV-Rs*Iunid-V1-V2;\n",
    "Vbat_calc=Vunid*Ns;\n",
    "    \n",
    "end\n"
   ]
  }
 ],
 "metadata": {
  "kernelspec": {
   "display_name": "Python 3 (ipykernel)",
   "language": "python",
   "name": "python3"
  },
  "language_info": {
   "codemirror_mode": {
    "name": "ipython",
    "version": 3
   },
   "file_extension": ".py",
   "mimetype": "text/x-python",
   "name": "python",
   "nbconvert_exporter": "python",
   "pygments_lexer": "ipython3",
   "version": "3.9.7"
  }
 },
 "nbformat": 4,
 "nbformat_minor": 5
}

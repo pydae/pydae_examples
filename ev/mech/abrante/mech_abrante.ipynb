{
 "cells": [
  {
   "cell_type": "code",
   "execution_count": 1,
   "id": "cbeae48b",
   "metadata": {},
   "outputs": [],
   "source": [
    "import numpy as np\n",
    "import matplotlib.pyplot as plt"
   ]
  },
  {
   "cell_type": "code",
   "execution_count": 2,
   "id": "83d8e667",
   "metadata": {},
   "outputs": [],
   "source": [
    "import mech "
   ]
  },
  {
   "cell_type": "code",
   "execution_count": 3,
   "id": "7500a106",
   "metadata": {},
   "outputs": [
    {
     "name": "stdout",
     "output_type": "stream",
     "text": [
      "vel_vh = 63.70\n",
      "y_dummy =  1.00\n",
      "mass_vh =1902.60\n",
      "g     = 9.81\n",
      "Cr    = 0.00\n",
      "dens_air = 1.25\n",
      "Cd    = 0.29\n",
      "Af    = 2.27\n",
      "G     = 3.61\n",
      "R     = 0.22\n",
      "ng    = 0.95\n",
      "w_mot = 1120.71\n",
      "pot   = 112070.98\n",
      "accel = -0.00\n"
     ]
    }
   ],
   "source": [
    "m = mech.model()\n",
    "m.ini({'Torque':100,'mass_vh':1812*1.05,'g':9.81,'Cr':0.0048,'dens_air':1.25,'Cd':0.29,'Af':2.27,'G':3.61,'R':0.216,'ng':0.95},1)\n",
    "m.report_x()\n",
    "m.report_y()\n",
    "#m.report_u()\n",
    "\n",
    "m.report_params()\n",
    "m.report_z()"
   ]
  },
  {
   "cell_type": "code",
   "execution_count": 4,
   "id": "f3c621e3",
   "metadata": {},
   "outputs": [
    {
     "data": {
      "text/plain": [
       "229.32000000000002"
      ]
     },
     "execution_count": 4,
     "metadata": {},
     "output_type": "execute_result"
    }
   ],
   "source": [
    "63.70*3.6"
   ]
  },
  {
   "cell_type": "code",
   "execution_count": null,
   "id": "069cefd9",
   "metadata": {},
   "outputs": [],
   "source": []
  }
 ],
 "metadata": {
  "kernelspec": {
   "display_name": "Python 3 (ipykernel)",
   "language": "python",
   "name": "python3"
  },
  "language_info": {
   "codemirror_mode": {
    "name": "ipython",
    "version": 3
   },
   "file_extension": ".py",
   "mimetype": "text/x-python",
   "name": "python",
   "nbconvert_exporter": "python",
   "pygments_lexer": "ipython3",
   "version": "3.9.7"
  }
 },
 "nbformat": 4,
 "nbformat_minor": 5
}

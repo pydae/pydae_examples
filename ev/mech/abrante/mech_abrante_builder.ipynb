{
 "cells": [
  {
   "cell_type": "code",
   "execution_count": 22,
   "id": "31820abd",
   "metadata": {},
   "outputs": [],
   "source": [
    "import numpy as np\n",
    "import sympy as sym\n",
    "import pydae.build_cffi as db"
   ]
  },
  {
   "cell_type": "code",
   "execution_count": null,
   "id": "65154e55",
   "metadata": {},
   "outputs": [],
   "source": []
  },
  {
   "cell_type": "code",
   "execution_count": 23,
   "id": "34bc2442",
   "metadata": {},
   "outputs": [],
   "source": [
    "Torque,slope = sym.symbols('Torque,slope', real=True)\n",
    "mass_vh,g,Cr,dens_air,Cd,Af,G,R,ng = sym.symbols('mass_vh,g,Cr,dens_air,Cd,Af,G,R,ng', real=True)\n",
    "vel_vh = sym.Symbol('vel_vh', real=True)"
   ]
  },
  {
   "cell_type": "code",
   "execution_count": 24,
   "id": "a28173fc",
   "metadata": {},
   "outputs": [],
   "source": [
    "\n",
    "params_dict = {'mass_vh':1540,'g':9.81,'Cr':0.0048,'dens_air':1.25,'Cd':0.19,'Af':2,'G':6,'R':0.26,'ng':0.95}\n",
    "u_dict = {'Torque':0.0,'slope':0.0}\n",
    "\n",
    "F_Aero = 0.5*dens_air*Af*Cd*vel_vh**2;\n",
    "F_ResRod = Cr*g*mass_vh;\n",
    "F_ResPend = g*mass_vh*sym.sin(slope);\n",
    "F_tracc=(G*Torque)/(ng*R);\n",
    "accel=(F_tracc-F_ResRod-F_ResPend-F_Aero)/(1.05*mass_vh);\n",
    "dvel_vh = accel\n",
    "w_mot=(G/(ng*R))*vel_vh;\n",
    "pot = w_mot*Torque;\n",
    "\n",
    "x_list = [ vel_vh]\n",
    "f_list = [dvel_vh]\n",
    "y_list = [ ]\n",
    "g_list = []\n",
    "h_dict = {'w_mot':w_mot,'pot':pot,'accel':accel}"
   ]
  },
  {
   "cell_type": "code",
   "execution_count": 25,
   "id": "0a9f5359",
   "metadata": {},
   "outputs": [
    {
     "name": "stdout",
     "output_type": "stream",
     "text": [
      "system without algebraic equations, adding dummy algebraic equation\n"
     ]
    }
   ],
   "source": [
    "sys_dict = {'name':f\"mech\",\n",
    "       'params_dict':params_dict,\n",
    "       'f_list':f_list,\n",
    "       'g_list':g_list,\n",
    "       'x_list':x_list,\n",
    "       'y_ini_list':y_list,\n",
    "       'y_run_list':y_list,\n",
    "       'u_run_dict':u_dict,\n",
    "       'u_ini_dict':u_dict,\n",
    "       'h_dict':h_dict\n",
    "      }\n",
    "\n",
    "bldr = db.builder(sys_dict);\n",
    "bldr.build()"
   ]
  },
  {
   "cell_type": "code",
   "execution_count": 21,
   "id": "e23aba70",
   "metadata": {},
   "outputs": [
    {
     "data": {
      "text/plain": [
       "[(-0.5*Af*Cd*dens_air*vel_vh**2 - Cr*g*mass_vh + G*Torque/(R*ng) - g*mass_vh*sin(slope))/mass_vh]"
      ]
     },
     "execution_count": 21,
     "metadata": {},
     "output_type": "execute_result"
    }
   ],
   "source": [
    "f_list"
   ]
  },
  {
   "cell_type": "code",
   "execution_count": null,
   "id": "12f60757",
   "metadata": {},
   "outputs": [],
   "source": []
  },
  {
   "cell_type": "code",
   "execution_count": null,
   "id": "a36d4fc2",
   "metadata": {},
   "outputs": [],
   "source": []
  }
 ],
 "metadata": {
  "kernelspec": {
   "display_name": "Python 3 (ipykernel)",
   "language": "python",
   "name": "python3"
  },
  "language_info": {
   "codemirror_mode": {
    "name": "ipython",
    "version": 3
   },
   "file_extension": ".py",
   "mimetype": "text/x-python",
   "name": "python",
   "nbconvert_exporter": "python",
   "pygments_lexer": "ipython3",
   "version": "3.9.7"
  }
 },
 "nbformat": 4,
 "nbformat_minor": 5
}
